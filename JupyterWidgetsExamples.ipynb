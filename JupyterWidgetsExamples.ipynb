{
 "cells": [
  {
   "cell_type": "code",
   "execution_count": 1,
   "metadata": {
    "ExecuteTime": {
     "end_time": "2019-01-12T15:27:56.266360Z",
     "start_time": "2019-01-12T15:27:56.262385Z"
    }
   },
   "outputs": [],
   "source": [
    "from __future__ import print_function\n",
    "from ipywidgets import interact, interactive, fixed, interact_manual\n",
    "import ipywidgets as widgets"
   ]
  },
  {
   "cell_type": "markdown",
   "metadata": {},
   "source": [
    "# Using Interact"
   ]
  },
  {
   "cell_type": "code",
   "execution_count": 2,
   "metadata": {
    "ExecuteTime": {
     "end_time": "2019-01-12T15:27:56.276334Z",
     "start_time": "2019-01-12T15:27:56.268357Z"
    }
   },
   "outputs": [],
   "source": [
    "def f(x):\n",
    "    return x"
   ]
  },
  {
   "cell_type": "code",
   "execution_count": 3,
   "metadata": {
    "ExecuteTime": {
     "end_time": "2019-01-12T15:27:56.312258Z",
     "start_time": "2019-01-12T15:27:56.278330Z"
    }
   },
   "outputs": [
    {
     "data": {
      "application/vnd.jupyter.widget-view+json": {
       "model_id": "0b204ee126dc4f4d909a97c34dde8703",
       "version_major": 2,
       "version_minor": 0
      },
      "text/plain": [
       "interactive(children=(IntSlider(value=10, description='x', max=30, min=-10), Output()), _dom_classes=('widget-…"
      ]
     },
     "metadata": {},
     "output_type": "display_data"
    }
   ],
   "source": [
    "interact(f, x=10);"
   ]
  },
  {
   "cell_type": "code",
   "execution_count": 4,
   "metadata": {
    "ExecuteTime": {
     "end_time": "2019-01-12T15:27:56.335178Z",
     "start_time": "2019-01-12T15:27:56.314254Z"
    }
   },
   "outputs": [
    {
     "data": {
      "application/vnd.jupyter.widget-view+json": {
       "model_id": "ab1301f090a24d0abc39b6b5c1d5ce7a",
       "version_major": 2,
       "version_minor": 0
      },
      "text/plain": [
       "interactive(children=(Checkbox(value=True, description='x'), Output()), _dom_classes=('widget-interact',))"
      ]
     },
     "metadata": {},
     "output_type": "display_data"
    }
   ],
   "source": [
    "interact(f, x=True);"
   ]
  },
  {
   "cell_type": "code",
   "execution_count": 5,
   "metadata": {
    "ExecuteTime": {
     "end_time": "2019-01-12T15:27:56.363102Z",
     "start_time": "2019-01-12T15:27:56.337173Z"
    }
   },
   "outputs": [
    {
     "data": {
      "application/vnd.jupyter.widget-view+json": {
       "model_id": "06d708d24f1345d2bd9b47d6298e437b",
       "version_major": 2,
       "version_minor": 0
      },
      "text/plain": [
       "interactive(children=(Checkbox(value=True, description='x'), FloatSlider(value=1.0, description='y', max=3.0, …"
      ]
     },
     "metadata": {},
     "output_type": "display_data"
    }
   ],
   "source": [
    "@interact(x=True, y=1.0)\n",
    "def g(x, y):\n",
    "    return (x, y)"
   ]
  },
  {
   "cell_type": "code",
   "execution_count": 6,
   "metadata": {
    "ExecuteTime": {
     "end_time": "2019-01-12T15:27:56.385044Z",
     "start_time": "2019-01-12T15:27:56.365096Z"
    }
   },
   "outputs": [
    {
     "data": {
      "application/vnd.jupyter.widget-view+json": {
       "model_id": "d7e854354c12476b94529d8e9ff02785",
       "version_major": 2,
       "version_minor": 0
      },
      "text/plain": [
       "interactive(children=(IntSlider(value=10, description='x', max=30, min=-10), Output()), _dom_classes=('widget-…"
      ]
     },
     "metadata": {},
     "output_type": "display_data"
    }
   ],
   "source": [
    "aa = interact(f, x=widgets.IntSlider(min=-10,max=30,step=1,value=10));"
   ]
  },
  {
   "cell_type": "code",
   "execution_count": 7,
   "metadata": {
    "ExecuteTime": {
     "end_time": "2019-01-12T15:27:56.407982Z",
     "start_time": "2019-01-12T15:27:56.387038Z"
    }
   },
   "outputs": [
    {
     "data": {
      "application/vnd.jupyter.widget-view+json": {
       "model_id": "2d56b483c23142b3a13c679ba41ccc23",
       "version_major": 2,
       "version_minor": 0
      },
      "text/plain": [
       "interactive(children=(FloatSlider(value=5.5, description='x', max=20.0, step=0.5), Output()), _dom_classes=('w…"
      ]
     },
     "metadata": {},
     "output_type": "display_data"
    }
   ],
   "source": [
    "@interact(x=(0.0,20.0,0.5))\n",
    "def h(x=5.5):\n",
    "    return x"
   ]
  },
  {
   "cell_type": "code",
   "execution_count": 8,
   "metadata": {
    "ExecuteTime": {
     "end_time": "2019-01-12T15:27:56.429923Z",
     "start_time": "2019-01-12T15:27:56.409976Z"
    }
   },
   "outputs": [
    {
     "data": {
      "application/vnd.jupyter.widget-view+json": {
       "model_id": "49623a4f9f59451d979d627a04a919d6",
       "version_major": 2,
       "version_minor": 0
      },
      "text/plain": [
       "interactive(children=(Dropdown(description='x', options=(('one', 10), ('two', 20)), value=10), Output()), _dom…"
      ]
     },
     "metadata": {},
     "output_type": "display_data"
    }
   ],
   "source": [
    "interact(f, x=[('one', 10), ('two', 20)]);"
   ]
  },
  {
   "cell_type": "code",
   "execution_count": 9,
   "metadata": {
    "ExecuteTime": {
     "end_time": "2019-01-12T15:27:56.434910Z",
     "start_time": "2019-01-12T15:27:56.431917Z"
    }
   },
   "outputs": [],
   "source": [
    "from IPython.display import display\n",
    "def f(a, b):\n",
    "    display(a + b)\n",
    "    return a+b"
   ]
  },
  {
   "cell_type": "code",
   "execution_count": 10,
   "metadata": {
    "ExecuteTime": {
     "end_time": "2019-01-12T15:27:56.458845Z",
     "start_time": "2019-01-12T15:27:56.436905Z"
    }
   },
   "outputs": [],
   "source": [
    "w = interactive(f, a=10, b=20)"
   ]
  },
  {
   "cell_type": "code",
   "execution_count": 11,
   "metadata": {
    "ExecuteTime": {
     "end_time": "2019-01-12T15:27:56.474804Z",
     "start_time": "2019-01-12T15:27:56.460841Z"
    }
   },
   "outputs": [
    {
     "data": {
      "application/vnd.jupyter.widget-view+json": {
       "model_id": "ac5ebf4252d84fd4aea953608c602a43",
       "version_major": 2,
       "version_minor": 0
      },
      "text/plain": [
       "interactive(children=(IntSlider(value=10, description='a', max=30, min=-10), IntSlider(value=20, description='…"
      ]
     },
     "metadata": {},
     "output_type": "display_data"
    }
   ],
   "source": [
    "w"
   ]
  },
  {
   "cell_type": "code",
   "execution_count": 12,
   "metadata": {
    "ExecuteTime": {
     "end_time": "2019-01-12T15:27:56.480795Z",
     "start_time": "2019-01-12T15:27:56.476798Z"
    }
   },
   "outputs": [],
   "source": [
    "def slow_function(i):\n",
    "    print(int(i),list(x for x in range(int(i)) if\n",
    "                str(x)==str(x)[::-1] and\n",
    "                str(x**2)==str(x**2)[::-1]))\n",
    "    return"
   ]
  },
  {
   "cell_type": "code",
   "execution_count": 13,
   "metadata": {
    "ExecuteTime": {
     "end_time": "2019-01-12T15:27:56.971475Z",
     "start_time": "2019-01-12T15:27:56.482782Z"
    }
   },
   "outputs": [
    {
     "name": "stdout",
     "output_type": "stream",
     "text": [
      "1000000 [0, 1, 2, 3, 11, 22, 101, 111, 121, 202, 212, 1001, 1111, 2002, 10001, 10101, 10201, 11011, 11111, 11211, 20002, 20102, 100001, 101101, 110011, 111111, 200002]\n",
      "Wall time: 479 ms\n"
     ]
    }
   ],
   "source": [
    "%%time\n",
    "slow_function(1e6)"
   ]
  },
  {
   "cell_type": "code",
   "execution_count": 14,
   "metadata": {
    "ExecuteTime": {
     "end_time": "2019-01-12T15:27:57.043313Z",
     "start_time": "2019-01-12T15:27:56.973471Z"
    }
   },
   "outputs": [
    {
     "data": {
      "application/vnd.jupyter.widget-view+json": {
       "model_id": "2d2ce4e428a14605995bd2e1e32ac6d0",
       "version_major": 2,
       "version_minor": 0
      },
      "text/plain": [
       "interactive(children=(FloatSlider(value=100000.0, description='i', max=10000000.0, min=100000.0, step=100000.0…"
      ]
     },
     "metadata": {},
     "output_type": "display_data"
    }
   ],
   "source": [
    "from ipywidgets import FloatSlider\n",
    "interact(slow_function,i=FloatSlider(min=1e5, max=1e7, step=1e5));"
   ]
  },
  {
   "cell_type": "code",
   "execution_count": 15,
   "metadata": {
    "ExecuteTime": {
     "end_time": "2019-01-12T15:27:57.068217Z",
     "start_time": "2019-01-12T15:27:57.045279Z"
    }
   },
   "outputs": [
    {
     "data": {
      "application/vnd.jupyter.widget-view+json": {
       "model_id": "8789868852884f75b945e9b35336c126",
       "version_major": 2,
       "version_minor": 0
      },
      "text/plain": [
       "interactive(children=(FloatSlider(value=100000.0, description='i', max=10000000.0, min=100000.0, step=100000.0…"
      ]
     },
     "metadata": {},
     "output_type": "display_data"
    }
   ],
   "source": [
    "interact_manual(slow_function,i=FloatSlider(min=1e5, max=1e7, step=1e5));"
   ]
  },
  {
   "cell_type": "code",
   "execution_count": 16,
   "metadata": {
    "ExecuteTime": {
     "end_time": "2019-01-12T15:27:57.138030Z",
     "start_time": "2019-01-12T15:27:57.070212Z"
    }
   },
   "outputs": [
    {
     "data": {
      "application/vnd.jupyter.widget-view+json": {
       "model_id": "2a6d1728d957469b9f9a006efb849715",
       "version_major": 2,
       "version_minor": 0
      },
      "text/plain": [
       "interactive(children=(FloatSlider(value=100000.0, continuous_update=False, description='i', max=10000000.0, mi…"
      ]
     },
     "metadata": {},
     "output_type": "display_data"
    }
   ],
   "source": [
    "interact(slow_function,i=FloatSlider(min=1e5, max=1e7, step=1e5, continuous_update=False));"
   ]
  },
  {
   "cell_type": "code",
   "execution_count": 17,
   "metadata": {
    "ExecuteTime": {
     "end_time": "2019-01-12T15:27:57.172939Z",
     "start_time": "2019-01-12T15:27:57.139028Z"
    }
   },
   "outputs": [
    {
     "data": {
      "application/vnd.jupyter.widget-view+json": {
       "model_id": "99828fbe15224ce6b674d4c6605f77e9",
       "version_major": 2,
       "version_minor": 0
      },
      "text/plain": [
       "HBox(children=(IntSlider(value=0), IntSlider(value=0), IntSlider(value=0)))"
      ]
     },
     "metadata": {},
     "output_type": "display_data"
    },
    {
     "data": {
      "application/vnd.jupyter.widget-view+json": {
       "model_id": "2c075a24686e40e3baa6a5fff6c05387",
       "version_major": 2,
       "version_minor": 0
      },
      "text/plain": [
       "Output()"
      ]
     },
     "metadata": {},
     "output_type": "display_data"
    }
   ],
   "source": [
    "a = widgets.IntSlider()\n",
    "b = widgets.IntSlider()\n",
    "c = widgets.IntSlider()\n",
    "ui = widgets.HBox([a, b, c])\n",
    "def f(a, b, c):\n",
    "    print((a, b, c))\n",
    "\n",
    "out = widgets.interactive_output(f, {'a': a, 'b': b, 'c': c})\n",
    "\n",
    "display(ui, out)"
   ]
  },
  {
   "cell_type": "code",
   "execution_count": 18,
   "metadata": {
    "ExecuteTime": {
     "end_time": "2019-01-12T15:27:57.210835Z",
     "start_time": "2019-01-12T15:27:57.174932Z"
    }
   },
   "outputs": [
    {
     "data": {
      "application/vnd.jupyter.widget-view+json": {
       "model_id": "3354d0f315d14383bdef013902da6afd",
       "version_major": 2,
       "version_minor": 0
      },
      "text/plain": [
       "interactive(children=(FloatSlider(value=0.0, description='x', max=10.0, step=0.05), FloatSlider(value=5.0, des…"
      ]
     },
     "metadata": {},
     "output_type": "display_data"
    }
   ],
   "source": [
    "x_widget = FloatSlider(min=0.0, max=10.0, step=0.05)\n",
    "y_widget = FloatSlider(min=0.5, max=10.0, step=0.05, value=5.0)\n",
    "\n",
    "def update_x_range(*args):\n",
    "    x_widget.max = 2.0 * y_widget.value\n",
    "y_widget.observe(update_x_range, 'value')\n",
    "\n",
    "def printer(x, y):\n",
    "    print(x, y)\n",
    "interact(printer,x=x_widget, y=y_widget);"
   ]
  },
  {
   "cell_type": "code",
   "execution_count": 19,
   "metadata": {
    "ExecuteTime": {
     "end_time": "2019-01-12T15:27:57.602488Z",
     "start_time": "2019-01-12T15:27:57.212832Z"
    }
   },
   "outputs": [
    {
     "data": {
      "application/vnd.jupyter.widget-view+json": {
       "model_id": "fab645ab634a4da39dcfea1800989947",
       "version_major": 2,
       "version_minor": 0
      },
      "text/plain": [
       "interactive(children=(FloatSlider(value=0.0, description='m', max=2.0, min=-2.0), FloatSlider(value=0.0, descr…"
      ]
     },
     "metadata": {},
     "output_type": "display_data"
    }
   ],
   "source": [
    "%matplotlib inline\n",
    "from ipywidgets import interactive\n",
    "import matplotlib.pyplot as plt\n",
    "import numpy as np\n",
    "\n",
    "def f(m, b):\n",
    "    plt.figure(2)\n",
    "    x = np.linspace(-10, 10, num=1000)\n",
    "    plt.plot(x, m * x + b)\n",
    "    plt.ylim(-5, 5)\n",
    "    plt.show()\n",
    "\n",
    "interactive_plot = interactive(f, m=(-2.0, 2.0), b=(-3, 3, 0.5))\n",
    "output = interactive_plot.children[-1]\n",
    "output.layout.height = '350px'\n",
    "interactive_plot"
   ]
  },
  {
   "cell_type": "markdown",
   "metadata": {},
   "source": [
    "# Output widgets: leveraging Jupyter’s display system (Redirect output)"
   ]
  },
  {
   "cell_type": "code",
   "execution_count": 20,
   "metadata": {
    "ExecuteTime": {
     "end_time": "2019-01-12T15:27:57.613427Z",
     "start_time": "2019-01-12T15:27:57.603454Z"
    }
   },
   "outputs": [
    {
     "data": {
      "application/vnd.jupyter.widget-view+json": {
       "model_id": "ced99ba20d594de18ae12826df4d75a8",
       "version_major": 2,
       "version_minor": 0
      },
      "text/plain": [
       "Output(layout=Layout(border='1px solid black'))"
      ]
     },
     "metadata": {},
     "output_type": "display_data"
    }
   ],
   "source": [
    "out = widgets.Output(layout={'border': '1px solid black'})\n",
    "out"
   ]
  },
  {
   "cell_type": "code",
   "execution_count": 21,
   "metadata": {
    "ExecuteTime": {
     "end_time": "2019-01-12T15:27:57.624398Z",
     "start_time": "2019-01-12T15:27:57.614426Z"
    },
    "code_folding": []
   },
   "outputs": [
    {
     "name": "stdout",
     "output_type": "stream",
     "text": [
      "9 Hello world!\n"
     ]
    }
   ],
   "source": [
    "with out:\n",
    "    for i in range(10):\n",
    "        print(i, 'Hello world!')\n",
    "        \n",
    "print(i, 'Hello world!')"
   ]
  },
  {
   "cell_type": "code",
   "execution_count": 22,
   "metadata": {
    "ExecuteTime": {
     "end_time": "2019-01-12T15:27:57.633374Z",
     "start_time": "2019-01-12T15:27:57.626395Z"
    }
   },
   "outputs": [],
   "source": [
    "out.clear_output()"
   ]
  },
  {
   "cell_type": "code",
   "execution_count": 23,
   "metadata": {
    "ExecuteTime": {
     "end_time": "2019-01-12T15:27:57.701193Z",
     "start_time": "2019-01-12T15:27:57.634372Z"
    },
    "code_folding": []
   },
   "outputs": [],
   "source": [
    "@out.capture()\n",
    "def function_with_captured_output():\n",
    "    print('This goes into the output widget')\n",
    "    raise Exception('As does this')\n",
    "\n",
    "function_with_captured_output()"
   ]
  },
  {
   "cell_type": "code",
   "execution_count": 24,
   "metadata": {
    "ExecuteTime": {
     "end_time": "2019-01-12T15:27:57.743081Z",
     "start_time": "2019-01-12T15:27:57.703188Z"
    }
   },
   "outputs": [
    {
     "data": {
      "application/vnd.jupyter.widget-view+json": {
       "model_id": "a4053cce53cc4cc2b3f06fa9131e20d6",
       "version_major": 2,
       "version_minor": 0
      },
      "text/plain": [
       "HBox(children=(VBox(children=(IntSlider(value=0, description='a'), IntSlider(value=0, description='b'), IntSli…"
      ]
     },
     "metadata": {},
     "output_type": "display_data"
    }
   ],
   "source": [
    "a = widgets.IntSlider(description='a')\n",
    "b = widgets.IntSlider(description='b')\n",
    "c = widgets.IntSlider(description='c')\n",
    "\n",
    "def f(a, b, c):\n",
    "    print('{}*{}*{}={}'.format(a, b, c, a*b*c))\n",
    "\n",
    "out = widgets.interactive_output(f, {'a': a, 'b': b, 'c': c})\n",
    "out.layout = {'border': '1px solid black'}\n",
    "\n",
    "widgets.HBox([widgets.VBox([a, b, c]), out])"
   ]
  },
  {
   "cell_type": "code",
   "execution_count": 25,
   "metadata": {
    "ExecuteTime": {
     "end_time": "2019-01-12T15:27:57.755050Z",
     "start_time": "2019-01-12T15:27:57.745078Z"
    }
   },
   "outputs": [],
   "source": [
    "import ipywidgets as widgets\n",
    "import logging\n",
    "\n",
    "class OutputWidgetHandler(logging.Handler):\n",
    "    \"\"\" Custom logging handler sending logs to an output widget \"\"\"\n",
    "\n",
    "    def __init__(self, *args, **kwargs):\n",
    "        super(OutputWidgetHandler, self).__init__(*args, **kwargs)\n",
    "        layout = {\n",
    "            'width': '100%',\n",
    "            'height': '160px',\n",
    "            'border': '1px solid black',\n",
    "            'font-size': '10px'\n",
    "        }\n",
    "        self.out = widgets.Output(layout=layout, style={'border': '1px solid black'})\n",
    "\n",
    "    def emit(self, record):\n",
    "        \"\"\" Overload of logging.Handler method \"\"\"\n",
    "        formatted_record = self.format(record)\n",
    "        new_output = {\n",
    "            'name': 'stdout',\n",
    "            'output_type': 'stream',\n",
    "            'text': formatted_record+'\\n'\n",
    "        }\n",
    "        self.out.outputs = (new_output, ) + self.out.outputs\n",
    "\n",
    "    def show_logs(self):\n",
    "        \"\"\" Show the logs \"\"\"\n",
    "        display(self.out)\n",
    "\n",
    "    def clear_logs(self):\n",
    "        \"\"\" Clear the current logs \"\"\"\n",
    "        self.out.clear_output()\n",
    "\n",
    "\n",
    "logger = logging.getLogger(__name__)\n",
    "handler = OutputWidgetHandler()\n",
    "handler.setFormatter(logging.Formatter('%(asctime)s  - [%(levelname)s] %(message)s'))\n",
    "logger.addHandler(handler)\n",
    "logger.setLevel(logging.INFO)"
   ]
  },
  {
   "cell_type": "code",
   "execution_count": 26,
   "metadata": {
    "ExecuteTime": {
     "end_time": "2019-01-12T15:27:57.766021Z",
     "start_time": "2019-01-12T15:27:57.757043Z"
    }
   },
   "outputs": [
    {
     "data": {
      "application/vnd.jupyter.widget-view+json": {
       "model_id": "4838ab0161c84262bf0d8bc70f305667",
       "version_major": 2,
       "version_minor": 0
      },
      "text/plain": [
       "Output(layout=Layout(border='1px solid black', height='160px', width='100%'))"
      ]
     },
     "metadata": {},
     "output_type": "display_data"
    }
   ],
   "source": [
    "handler.show_logs()"
   ]
  },
  {
   "cell_type": "code",
   "execution_count": 27,
   "metadata": {
    "ExecuteTime": {
     "end_time": "2019-01-12T15:27:57.780980Z",
     "start_time": "2019-01-12T15:27:57.768016Z"
    }
   },
   "outputs": [],
   "source": [
    "handler.clear_logs()\n",
    "logger.info('Starting program')\n",
    "\n",
    "try:\n",
    "    logger.info('About to try something dangerous...')\n",
    "    1.0/0.0\n",
    "except Exception as e:\n",
    "    logger.exception('An error occurred!')"
   ]
  },
  {
   "cell_type": "code",
   "execution_count": 28,
   "metadata": {
    "ExecuteTime": {
     "end_time": "2019-01-12T15:27:57.794943Z",
     "start_time": "2019-01-12T15:27:57.783974Z"
    }
   },
   "outputs": [
    {
     "data": {
      "text/plain": [
       "'Display in main thread'"
      ]
     },
     "metadata": {},
     "output_type": "display_data"
    },
    {
     "data": {
      "application/vnd.jupyter.widget-view+json": {
       "model_id": "fdb40128c71b43c48e393af0aadeaa98",
       "version_major": 2,
       "version_minor": 0
      },
      "text/plain": [
       "Output()"
      ]
     },
     "metadata": {},
     "output_type": "display_data"
    }
   ],
   "source": [
    "import threading\n",
    "from IPython.display import display, HTML\n",
    "import ipywidgets as widgets\n",
    "import time\n",
    "\n",
    "def thread_func(something, out):\n",
    "    for i in range(1, 5):\n",
    "        time.sleep(0.3)\n",
    "        out.append_stdout('{} {} {}\\n'.format(i, '**'*i, something))\n",
    "    out.append_display_data(HTML(\"<em>All done!</em>\"))\n",
    "\n",
    "display('Display in main thread')\n",
    "out = widgets.Output()\n",
    "# Now the key: the container is displayed (while empty) in the main thread\n",
    "display(out)\n",
    "\n",
    "thread = threading.Thread(\n",
    "    target=thread_func,\n",
    "    args=(\"some text\", out))\n",
    "thread.start()"
   ]
  },
  {
   "cell_type": "markdown",
   "metadata": {},
   "source": [
    "# Widgets"
   ]
  },
  {
   "cell_type": "code",
   "execution_count": 29,
   "metadata": {
    "ExecuteTime": {
     "end_time": "2019-01-12T15:27:57.807912Z",
     "start_time": "2019-01-12T15:27:57.796938Z"
    }
   },
   "outputs": [
    {
     "data": {
      "application/vnd.jupyter.widget-view+json": {
       "model_id": "ef9dc4bf09ab49a7b6a8b52e8bc6d512",
       "version_major": 2,
       "version_minor": 0
      },
      "text/plain": [
       "DatePicker(value=None, description='Pick a Date')"
      ]
     },
     "metadata": {},
     "output_type": "display_data"
    }
   ],
   "source": [
    "widgets.DatePicker(\n",
    "    description='Pick a Date',\n",
    "    disabled=False\n",
    ")"
   ]
  },
  {
   "cell_type": "code",
   "execution_count": 30,
   "metadata": {
    "ExecuteTime": {
     "end_time": "2019-01-12T15:27:57.852788Z",
     "start_time": "2019-01-12T15:27:57.809903Z"
    }
   },
   "outputs": [
    {
     "data": {
      "application/vnd.jupyter.widget-view+json": {
       "model_id": "e87e017d32c94617ab5edd75c2a838b3",
       "version_major": 2,
       "version_minor": 0
      },
      "text/plain": [
       "Tab(children=(Text(value='', description='P0'), Text(value='', description='P1'), Text(value='', description='…"
      ]
     },
     "metadata": {},
     "output_type": "display_data"
    }
   ],
   "source": [
    "tab_contents = ['P0', 'P1', 'P2', 'P3', 'P4']\n",
    "children = [widgets.Text(description=name) for name in tab_contents]\n",
    "tab = widgets.Tab()\n",
    "tab.children = children\n",
    "for i in range(len(children)):\n",
    "    tab.set_title(i, str(i))\n",
    "tab"
   ]
  },
  {
   "cell_type": "code",
   "execution_count": 31,
   "metadata": {
    "ExecuteTime": {
     "end_time": "2019-01-12T15:27:57.883706Z",
     "start_time": "2019-01-12T15:27:57.854782Z"
    }
   },
   "outputs": [
    {
     "data": {
      "application/vnd.jupyter.widget-view+json": {
       "model_id": "62bec26453c041f3a76a6d905863834d",
       "version_major": 2,
       "version_minor": 0
      },
      "text/plain": [
       "Tab(children=(Accordion(children=(IntSlider(value=0), Text(value='')), _titles={'0': 'Slider', '1': 'Text'}), …"
      ]
     },
     "metadata": {},
     "output_type": "display_data"
    }
   ],
   "source": [
    "accordion = widgets.Accordion(children=[widgets.IntSlider(), widgets.Text()])\n",
    "accordion.set_title(0, 'Slider')\n",
    "accordion.set_title(1, 'Text')\n",
    "accordion\n",
    "\n",
    "tab_nest = widgets.Tab()\n",
    "tab_nest.children = [accordion, accordion]\n",
    "tab_nest.set_title(0, 'An accordion')\n",
    "tab_nest.set_title(1, 'Copy of the accordion')\n",
    "tab_nest"
   ]
  },
  {
   "cell_type": "markdown",
   "metadata": {},
   "source": [
    "# Widget Events"
   ]
  },
  {
   "cell_type": "code",
   "execution_count": 32,
   "metadata": {
    "ExecuteTime": {
     "end_time": "2019-01-12T15:27:57.888713Z",
     "start_time": "2019-01-12T15:27:57.884704Z"
    }
   },
   "outputs": [
    {
     "name": "stdout",
     "output_type": "stream",
     "text": [
      "Register a callback to execute when the button is clicked.\n",
      "\n",
      "        The callback will be called with one argument, the clicked button\n",
      "        widget instance.\n",
      "\n",
      "        Parameters\n",
      "        ----------\n",
      "        remove: bool (optional)\n",
      "            Set to true to remove the callback from the list of callbacks.\n",
      "        \n"
     ]
    }
   ],
   "source": [
    "import ipywidgets as widgets\n",
    "print(widgets.Button.on_click.__doc__)"
   ]
  },
  {
   "cell_type": "code",
   "execution_count": 33,
   "metadata": {
    "ExecuteTime": {
     "end_time": "2019-01-12T15:27:57.904651Z",
     "start_time": "2019-01-12T15:27:57.889689Z"
    }
   },
   "outputs": [
    {
     "data": {
      "application/vnd.jupyter.widget-view+json": {
       "model_id": "8117f281d7ed49f9b279f3116988f12a",
       "version_major": 2,
       "version_minor": 0
      },
      "text/plain": [
       "Button(description='Click Me!', style=ButtonStyle())"
      ]
     },
     "metadata": {},
     "output_type": "display_data"
    }
   ],
   "source": [
    "from IPython.display import display\n",
    "button = widgets.Button(description=\"Click Me!\")\n",
    "display(button)\n",
    "\n",
    "def on_button_clicked(b):\n",
    "    print(\"Button clicked.\")\n",
    "\n",
    "button.on_click(on_button_clicked)"
   ]
  },
  {
   "cell_type": "code",
   "execution_count": 34,
   "metadata": {
    "ExecuteTime": {
     "end_time": "2019-01-12T15:27:57.932575Z",
     "start_time": "2019-01-12T15:27:57.906645Z"
    }
   },
   "outputs": [
    {
     "data": {
      "application/vnd.jupyter.widget-view+json": {
       "model_id": "90a43993bbfd4303973a521d4b85d8af",
       "version_major": 2,
       "version_minor": 0
      },
      "text/plain": [
       "Label(value='The values of slider1 and slider2 are synchronized')"
      ]
     },
     "metadata": {},
     "output_type": "display_data"
    },
    {
     "data": {
      "application/vnd.jupyter.widget-view+json": {
       "model_id": "b440fb3000844abbb49839c515c6cd9f",
       "version_major": 2,
       "version_minor": 0
      },
      "text/plain": [
       "IntSlider(value=0, description='Slider 1')"
      ]
     },
     "metadata": {},
     "output_type": "display_data"
    },
    {
     "data": {
      "application/vnd.jupyter.widget-view+json": {
       "model_id": "225b665b86ae432c8996c401e8ce3762",
       "version_major": 2,
       "version_minor": 0
      },
      "text/plain": [
       "IntSlider(value=0, description='Slider 2')"
      ]
     },
     "metadata": {},
     "output_type": "display_data"
    }
   ],
   "source": [
    "caption = widgets.Label(value='The values of slider1 and slider2 are synchronized')\n",
    "sliders1, slider2 = widgets.IntSlider(description='Slider 1'),\\\n",
    "                    widgets.IntSlider(description='Slider 2')\n",
    "l = widgets.link((sliders1, 'value'), (slider2, 'value'))\n",
    "display(caption, sliders1, slider2)"
   ]
  },
  {
   "cell_type": "code",
   "execution_count": 35,
   "metadata": {
    "ExecuteTime": {
     "end_time": "2019-01-12T15:27:57.957508Z",
     "start_time": "2019-01-12T15:27:57.933573Z"
    }
   },
   "outputs": [
    {
     "data": {
      "application/vnd.jupyter.widget-view+json": {
       "model_id": "5b647fc36c744215a279a3292b513a27",
       "version_major": 2,
       "version_minor": 0
      },
      "text/plain": [
       "Label(value='Changes in source values are reflected in target1')"
      ]
     },
     "metadata": {},
     "output_type": "display_data"
    },
    {
     "data": {
      "application/vnd.jupyter.widget-view+json": {
       "model_id": "2d5898b35c2e41569ddac7717edfc23b",
       "version_major": 2,
       "version_minor": 0
      },
      "text/plain": [
       "IntSlider(value=0, description='Source')"
      ]
     },
     "metadata": {},
     "output_type": "display_data"
    },
    {
     "data": {
      "application/vnd.jupyter.widget-view+json": {
       "model_id": "4f704c0f12984c1d94fddbf2c906a4fa",
       "version_major": 2,
       "version_minor": 0
      },
      "text/plain": [
       "IntSlider(value=0, description='Target 1')"
      ]
     },
     "metadata": {},
     "output_type": "display_data"
    }
   ],
   "source": [
    "caption = widgets.Label(value='Changes in source values are reflected in target1')\n",
    "source, target1 = widgets.IntSlider(description='Source'),\\\n",
    "                  widgets.IntSlider(description='Target 1')\n",
    "dl = widgets.dlink((source, 'value'), (target1, 'value'))\n",
    "display(caption, source, target1)"
   ]
  },
  {
   "cell_type": "code",
   "execution_count": 36,
   "metadata": {
    "ExecuteTime": {
     "end_time": "2019-01-12T15:27:57.962495Z",
     "start_time": "2019-01-12T15:27:57.959503Z"
    }
   },
   "outputs": [],
   "source": [
    "l.unlink()\n",
    "dl.unlink()"
   ]
  },
  {
   "cell_type": "markdown",
   "metadata": {},
   "source": [
    "# Embedding Jupyter Widgets in Other Contexts"
   ]
  },
  {
   "cell_type": "code",
   "execution_count": 37,
   "metadata": {
    "ExecuteTime": {
     "end_time": "2019-01-12T15:27:58.024328Z",
     "start_time": "2019-01-12T15:27:57.963492Z"
    }
   },
   "outputs": [],
   "source": [
    "from ipywidgets import IntSlider\n",
    "from ipywidgets.embed import embed_minimal_html\n",
    "\n",
    "slider = IntSlider(value=40)\n",
    "embed_minimal_html('export.html', views=[interactive_plot], title='Widgets export')"
   ]
  },
  {
   "cell_type": "markdown",
   "metadata": {},
   "source": [
    "# React Widget"
   ]
  },
  {
   "cell_type": "markdown",
   "metadata": {},
   "source": [
    "1. **ipywidget**\n",
    "  1. **Back-End:** Python Kernel\n",
    "  2. **Front-End:** `Backbone.js` - MVC, `RequireJS` - require\n",
    "1. **React**\n",
    "  1. ReactJS\n",
    "  2. Babel - JSX compiler (support `%%jsx` cell)"
   ]
  },
  {
   "cell_type": "markdown",
   "metadata": {},
   "source": [
    "## Support JSX code in Jupyter Notebook Cell"
   ]
  },
  {
   "cell_type": "code",
   "execution_count": 38,
   "metadata": {
    "ExecuteTime": {
     "end_time": "2019-01-12T15:27:58.032308Z",
     "start_time": "2019-01-12T15:27:58.025326Z"
    }
   },
   "outputs": [
    {
     "data": {
      "application/javascript": [
       "\n",
       "// Load our libraries from a CDN instead of wherever this notebook is hosted.\n",
       "require.config({\n",
       "    paths: {\n",
       "        'babel'     : 'https://unpkg.com/babel-standalone@6/babel.min',\n",
       "        'react'     : 'https://unpkg.com/react@16/umd/react.production.min',\n",
       "        'react-dom' : 'https://unpkg.com/react-dom@16/umd/react-dom.production.min'\n",
       "    }\n",
       "})\n",
       "\n",
       "// Hook to call into Python.\n",
       "// Credit to disarticulate for documenting the usage of iopub: \n",
       "//    https://gist.github.com/disarticulate/d06069ff3e71cf828e5329beab8cb084\n",
       "window.python = code => new Promise((resolve, reject) => {\n",
       "    IPython.notebook.kernel.execute(\n",
       "        code,\n",
       "        {iopub: {output: data => resolve(data.content.text)}},\n",
       "    )   \n",
       "})\n"
      ],
      "text/plain": [
       "<IPython.core.display.Javascript object>"
      ]
     },
     "metadata": {},
     "output_type": "display_data"
    }
   ],
   "source": [
    "import json\n",
    "from string import Template\n",
    "\n",
    "from IPython.display import Javascript, display\n",
    "from IPython.core.magic import register_cell_magic\n",
    "\n",
    "display(Javascript('''\n",
    "// Load our libraries from a CDN instead of wherever this notebook is hosted.\n",
    "require.config({\n",
    "    paths: {\n",
    "        'babel'     : 'https://unpkg.com/babel-standalone@6/babel.min',\n",
    "        'react'     : 'https://unpkg.com/react@16/umd/react.production.min',\n",
    "        'react-dom' : 'https://unpkg.com/react-dom@16/umd/react-dom.production.min'\n",
    "    }\n",
    "})\n",
    "\n",
    "// Hook to call into Python.\n",
    "// Credit to disarticulate for documenting the usage of iopub: \n",
    "//    https://gist.github.com/disarticulate/d06069ff3e71cf828e5329beab8cb084\n",
    "window.python = code => new Promise((resolve, reject) => {\n",
    "    IPython.notebook.kernel.execute(\n",
    "        code,\n",
    "        {iopub: {output: data => resolve(data.content.text)}},\n",
    "    )   \n",
    "})\n",
    "'''))\n",
    "\n",
    "@register_cell_magic\n",
    "def jsx(line, cell):\n",
    "    display(Javascript((Template('''\n",
    "        require(['babel', 'react', 'react-dom'], (Babel, React, ReactDOM) => {\n",
    "            eval(Babel.transform($quoted_script, {presets: ['react']}).code)\n",
    "        })\n",
    "    ''').substitute(quoted_script=json.dumps(cell)))))\n",
    "    \n",
    "@register_cell_magic\n",
    "def css(line, cell):\n",
    "    display(HTML((Template(\"<style>$quoted_script</style>\").substitute(quoted_script=cell))))"
   ]
  },
  {
   "cell_type": "markdown",
   "metadata": {},
   "source": [
    "##  React Widget"
   ]
  },
  {
   "cell_type": "code",
   "execution_count": 39,
   "metadata": {
    "ExecuteTime": {
     "end_time": "2019-01-12T15:27:58.040302Z",
     "start_time": "2019-01-12T15:27:58.034304Z"
    }
   },
   "outputs": [],
   "source": [
    "import ipywidgets as widgets\n",
    "from traitlets import Unicode\n",
    "\n",
    "class HelloWidget(widgets.DOMWidget):\n",
    "    _view_name = Unicode('HelloView').tag(sync=True)\n",
    "    _view_module = Unicode('hello').tag(sync=True)\n",
    "    _view_module_version = Unicode('0.1.0').tag(sync=True)\n",
    "    value = Unicode().tag(sync=True)\n",
    "    def __init__(self, value, **kwargs):\n",
    "        super(HelloWidget, self).__init__(**kwargs)\n",
    "        self.value = value"
   ]
  },
  {
   "cell_type": "code",
   "execution_count": 40,
   "metadata": {
    "ExecuteTime": {
     "end_time": "2019-01-12T15:27:58.050281Z",
     "start_time": "2019-01-12T15:27:58.042283Z"
    }
   },
   "outputs": [
    {
     "data": {
      "application/javascript": [
       "\n",
       "require.config({\n",
       "    paths: {\n",
       "        'react'             : 'https://unpkg.com/react@16/umd/react.production.min',\n",
       "        'react-dom'         : 'https://unpkg.com/react-dom@16/umd/react-dom.production.min',\n",
       "//        'react'             : 'http://127.0.0.1:8888/files/react.production.min.js?token=a71d3a1475f5a8a0b5f88ae041e69bead47fa94f81f6bfac',\n",
       "//        'react-dom'         : 'http://127.0.0.1:8888/files/react-dom.production.min.js?token=a71d3a1475f5a8a0b5f88ae041e69bead47fa94f81f6bfac',\n",
       "        'react-grid-layout' : 'https://cdnjs.cloudflare.com/ajax/libs/react-grid-layout/0.16.6/react-grid-layout.min'\n",
       "    }\n",
       "})"
      ],
      "text/plain": [
       "<IPython.core.display.Javascript object>"
      ]
     },
     "metadata": {},
     "output_type": "display_data"
    }
   ],
   "source": [
    "%%javascript\n",
    "\n",
    "require.config({\n",
    "    paths: {\n",
    "        'react'             : 'https://unpkg.com/react@16/umd/react.production.min',\n",
    "        'react-dom'         : 'https://unpkg.com/react-dom@16/umd/react-dom.production.min',\n",
    "//        'react'             : 'http://127.0.0.1:8888/files/react.production.min.js?token=a71d3a1475f5a8a0b5f88ae041e69bead47fa94f81f6bfac',\n",
    "//        'react-dom'         : 'http://127.0.0.1:8888/files/react-dom.production.min.js?token=a71d3a1475f5a8a0b5f88ae041e69bead47fa94f81f6bfac',\n",
    "        'react-grid-layout' : 'https://cdnjs.cloudflare.com/ajax/libs/react-grid-layout/0.16.6/react-grid-layout.min'\n",
    "    }\n",
    "})"
   ]
  },
  {
   "cell_type": "code",
   "execution_count": 41,
   "metadata": {
    "ExecuteTime": {
     "end_time": "2019-01-12T15:27:58.059245Z",
     "start_time": "2019-01-12T15:27:58.052254Z"
    }
   },
   "outputs": [
    {
     "data": {
      "text/html": [
       "<style>\n",
       ".react-grid-layout {\n",
       "  position: relative;\n",
       "  transition: height 200ms ease;\n",
       "}\n",
       ".react-grid-item {\n",
       "  transition: all 200ms ease;\n",
       "  transition-property: left, top;\n",
       "  background: #EEE;\n",
       "}\n",
       ".react-grid-item.cssTransforms {\n",
       "  transition-property: transform;\n",
       "}\n",
       ".react-grid-item.resizing {\n",
       "  z-index: 1;\n",
       "  will-change: width, height;\n",
       "}\n",
       "\n",
       ".react-grid-item.react-draggable-dragging {\n",
       "  transition: none;\n",
       "  z-index: 3;\n",
       "  will-change: transform;\n",
       "}\n",
       "\n",
       ".react-grid-item.react-grid-placeholder {\n",
       "  background: red;\n",
       "  opacity: 0.2;\n",
       "  transition-duration: 100ms;\n",
       "  z-index: 2;\n",
       "  -webkit-user-select: none;\n",
       "  -moz-user-select: none;\n",
       "  -ms-user-select: none;\n",
       "  -o-user-select: none;\n",
       "  user-select: none;\n",
       "}\n",
       "\n",
       ".react-grid-item > .react-resizable-handle {\n",
       "  position: absolute;\n",
       "  width: 20px;\n",
       "  height: 20px;\n",
       "  bottom: 0;\n",
       "  right: 0;\n",
       "  cursor: se-resize;\n",
       "}\n",
       "\n",
       ".react-grid-item > .react-resizable-handle::after {\n",
       "  content: \"\";\n",
       "  position: absolute;\n",
       "  right: 3px;\n",
       "  bottom: 3px;\n",
       "  width: 5px;\n",
       "  height: 5px;\n",
       "  border-right: 2px solid rgba(0, 0, 0, 0.4);\n",
       "  border-bottom: 2px solid rgba(0, 0, 0, 0.4);\n",
       "}</style>"
      ],
      "text/plain": [
       "<IPython.core.display.HTML object>"
      ]
     },
     "metadata": {},
     "output_type": "display_data"
    }
   ],
   "source": [
    "%%css\n",
    "\n",
    ".react-grid-layout {\n",
    "  position: relative;\n",
    "  transition: height 200ms ease;\n",
    "}\n",
    ".react-grid-item {\n",
    "  transition: all 200ms ease;\n",
    "  transition-property: left, top;\n",
    "  background: #EEE;\n",
    "}\n",
    ".react-grid-item.cssTransforms {\n",
    "  transition-property: transform;\n",
    "}\n",
    ".react-grid-item.resizing {\n",
    "  z-index: 1;\n",
    "  will-change: width, height;\n",
    "}\n",
    "\n",
    ".react-grid-item.react-draggable-dragging {\n",
    "  transition: none;\n",
    "  z-index: 3;\n",
    "  will-change: transform;\n",
    "}\n",
    "\n",
    ".react-grid-item.react-grid-placeholder {\n",
    "  background: red;\n",
    "  opacity: 0.2;\n",
    "  transition-duration: 100ms;\n",
    "  z-index: 2;\n",
    "  -webkit-user-select: none;\n",
    "  -moz-user-select: none;\n",
    "  -ms-user-select: none;\n",
    "  -o-user-select: none;\n",
    "  user-select: none;\n",
    "}\n",
    "\n",
    ".react-grid-item > .react-resizable-handle {\n",
    "  position: absolute;\n",
    "  width: 20px;\n",
    "  height: 20px;\n",
    "  bottom: 0;\n",
    "  right: 0;\n",
    "  cursor: se-resize;\n",
    "}\n",
    "\n",
    ".react-grid-item > .react-resizable-handle::after {\n",
    "  content: \"\";\n",
    "  position: absolute;\n",
    "  right: 3px;\n",
    "  bottom: 3px;\n",
    "  width: 5px;\n",
    "  height: 5px;\n",
    "  border-right: 2px solid rgba(0, 0, 0, 0.4);\n",
    "  border-bottom: 2px solid rgba(0, 0, 0, 0.4);\n",
    "}"
   ]
  },
  {
   "cell_type": "code",
   "execution_count": 42,
   "metadata": {
    "ExecuteTime": {
     "end_time": "2019-01-12T15:27:58.070206Z",
     "start_time": "2019-01-12T15:27:58.061231Z"
    }
   },
   "outputs": [
    {
     "data": {
      "application/javascript": [
       "\n",
       "        require(['babel', 'react', 'react-dom'], (Babel, React, ReactDOM) => {\n",
       "            eval(Babel.transform(\"\\nrequire.undef('hello')\\ndefine(\\\"hello\\\", [\\n    \\\"@jupyter-widgets/base\\\", \\n    \\\"react\\\", \\n    \\\"react-dom\\\", \\n    \\\"react-grid-layout\\\"\\n], function(widgets, React, ReactDOM, GridLayout) {\\n  // React helper\\n  const e = React.createElement;\\n\\n  // Backbone wrapper\\n  const HelloView = widgets.DOMWidgetView.extend({\\n    initialize() {\\n      const backbone = this;\\n\\n      class Hello extends React.Component {\\n        constructor(props) {\\n          super(props);\\n          this.state = {\\n            value: backbone.model.get(\\\"value\\\")\\n          };\\n        }\\n\\n        onChange(model) {\\n          this.setState(model.changed);\\n        }\\n\\n        componentDidMount() {\\n          backbone.listenTo(backbone.model, \\\"change\\\", this.onChange.bind(this));\\n        }\\n\\n        render() {\\n          return e(\\\"h1\\\", {}, `Hello ${this.state.value}`);\\n        }\\n      }\\n        \\n      class MyFirstGrid extends React.Component {\\n        \\n        constructor(props) {\\n          super(props);\\n          this.state = {\\n            value: backbone.model.get(\\\"value\\\")\\n          };\\n        }\\n\\n        onChange(model) {\\n          this.setState(model.changed);\\n        }\\n\\n        componentDidMount() {\\n          backbone.listenTo(backbone.model, \\\"change\\\", this.onChange.bind(this));\\n        }\\n          \\n        render() {\\n          // layout is an array of objects, see the demo for more complete usage\\n          var layout = [\\n            {i: 'a', x: 0, y: 0, w: 1, h: 2},\\n            {i: 'b', x: 1, y: 0, w: 3, h: 2},\\n            {i: 'c', x: 4, y: 0, w: 1, h: 2}\\n          ];\\n          \\n          // JSX version\\n          return (\\n            <GridLayout className=\\\"layout\\\" layout={layout} cols={12} rowHeight={30} width={1200}>\\n              <div key=\\\"a\\\">{this.state.value}</div>\\n              <div key=\\\"b\\\">b</div>\\n              <div key=\\\"c\\\">c</div>\\n            </GridLayout>\\n          )\\n          \\n          // Pure Javascript version\\n          /*\\n          var a = e(\\\"div\\\", {key: \\\"a\\\"}, `Hello ${this.state.value}`);\\n          var b = e(\\\"div\\\", {key: \\\"b\\\"}, \\\"b\\\");\\n          var c = e(\\\"div\\\", {key: \\\"c\\\"}, \\\"c\\\");\\n          return e(GridLayout, {className: \\\"layout\\\", layout: layout, cols:12, rowHeight:30, width:1200}, [a,b,c]);\\n          */\\n        }\\n      }  \\n        \\n      const $app = document.createElement(\\\"div\\\");\\n      const App = e(MyFirstGrid);\\n      ReactDOM.render(App, $app);\\n\\n      backbone.el.append($app);\\n    }\\n  });\\n\\n  return {\\n    HelloView\\n  };\\n});\", {presets: ['react']}).code)\n",
       "        })\n",
       "    "
      ],
      "text/plain": [
       "<IPython.core.display.Javascript object>"
      ]
     },
     "metadata": {},
     "output_type": "display_data"
    }
   ],
   "source": [
    "%%jsx\n",
    "\n",
    "require.undef('hello')\n",
    "define(\"hello\", [\n",
    "    \"@jupyter-widgets/base\", \n",
    "    \"react\", \n",
    "    \"react-dom\", \n",
    "    \"react-grid-layout\"\n",
    "], function(widgets, React, ReactDOM, GridLayout) {\n",
    "  // React helper\n",
    "  const e = React.createElement;\n",
    "\n",
    "  // Backbone wrapper\n",
    "  const HelloView = widgets.DOMWidgetView.extend({\n",
    "    initialize() {\n",
    "      const backbone = this;\n",
    "\n",
    "      class Hello extends React.Component {\n",
    "        constructor(props) {\n",
    "          super(props);\n",
    "          this.state = {\n",
    "            value: backbone.model.get(\"value\")\n",
    "          };\n",
    "        }\n",
    "\n",
    "        onChange(model) {\n",
    "          this.setState(model.changed);\n",
    "        }\n",
    "\n",
    "        componentDidMount() {\n",
    "          backbone.listenTo(backbone.model, \"change\", this.onChange.bind(this));\n",
    "        }\n",
    "\n",
    "        render() {\n",
    "          return e(\"h1\", {}, `Hello ${this.state.value}`);\n",
    "        }\n",
    "      }\n",
    "        \n",
    "      class MyFirstGrid extends React.Component {\n",
    "        \n",
    "        constructor(props) {\n",
    "          super(props);\n",
    "          this.state = {\n",
    "            value: backbone.model.get(\"value\")\n",
    "          };\n",
    "        }\n",
    "\n",
    "        onChange(model) {\n",
    "          this.setState(model.changed);\n",
    "        }\n",
    "\n",
    "        componentDidMount() {\n",
    "          backbone.listenTo(backbone.model, \"change\", this.onChange.bind(this));\n",
    "        }\n",
    "          \n",
    "        render() {\n",
    "          // layout is an array of objects, see the demo for more complete usage\n",
    "          var layout = [\n",
    "            {i: 'a', x: 0, y: 0, w: 1, h: 2},\n",
    "            {i: 'b', x: 1, y: 0, w: 3, h: 2},\n",
    "            {i: 'c', x: 4, y: 0, w: 1, h: 2}\n",
    "          ];\n",
    "          \n",
    "          // JSX version\n",
    "          return (\n",
    "            <GridLayout className=\"layout\" layout={layout} cols={12} rowHeight={30} width={1200}>\n",
    "              <div key=\"a\">{this.state.value}</div>\n",
    "              <div key=\"b\">b</div>\n",
    "              <div key=\"c\">c</div>\n",
    "            </GridLayout>\n",
    "          )\n",
    "          \n",
    "          // Pure Javascript version\n",
    "          /*\n",
    "          var a = e(\"div\", {key: \"a\"}, `Hello ${this.state.value}`);\n",
    "          var b = e(\"div\", {key: \"b\"}, \"b\");\n",
    "          var c = e(\"div\", {key: \"c\"}, \"c\");\n",
    "          return e(GridLayout, {className: \"layout\", layout: layout, cols:12, rowHeight:30, width:1200}, [a,b,c]);\n",
    "          */\n",
    "        }\n",
    "      }  \n",
    "        \n",
    "      const $app = document.createElement(\"div\");\n",
    "      const App = e(MyFirstGrid);\n",
    "      ReactDOM.render(App, $app);\n",
    "\n",
    "      backbone.el.append($app);\n",
    "    }\n",
    "  });\n",
    "\n",
    "  return {\n",
    "    HelloView\n",
    "  };\n",
    "});"
   ]
  },
  {
   "cell_type": "code",
   "execution_count": 43,
   "metadata": {
    "ExecuteTime": {
     "end_time": "2019-01-12T15:27:58.084169Z",
     "start_time": "2019-01-12T15:27:58.071204Z"
    }
   },
   "outputs": [
    {
     "data": {
      "application/vnd.jupyter.widget-view+json": {
       "model_id": "bc694925a3dd44babb2835f44db90943",
       "version_major": 2,
       "version_minor": 0
      },
      "text/plain": [
       "HelloWidget(value='Test')"
      ]
     },
     "metadata": {},
     "output_type": "display_data"
    }
   ],
   "source": [
    "w = HelloWidget(value=\"Test\")\n",
    "w"
   ]
  },
  {
   "cell_type": "code",
   "execution_count": 44,
   "metadata": {
    "ExecuteTime": {
     "end_time": "2019-01-12T15:27:58.092147Z",
     "start_time": "2019-01-12T15:27:58.086164Z"
    }
   },
   "outputs": [],
   "source": [
    "w.value = 'CCC'"
   ]
  },
  {
   "cell_type": "markdown",
   "metadata": {},
   "source": [
    "# Debug"
   ]
  },
  {
   "cell_type": "code",
   "execution_count": 45,
   "metadata": {
    "ExecuteTime": {
     "end_time": "2019-01-12T15:27:58.103147Z",
     "start_time": "2019-01-12T15:27:58.096137Z"
    }
   },
   "outputs": [
    {
     "data": {
      "application/json": {
       "cell": {
        "!": "OSMagics",
        "HTML": "Other",
        "SVG": "Other",
        "bash": "Other",
        "capture": "ExecutionMagics",
        "cmd": "Other",
        "css": "Other",
        "debug": "ExecutionMagics",
        "file": "Other",
        "html": "DisplayMagics",
        "javascript": "DisplayMagics",
        "js": "DisplayMagics",
        "jsx": "Other",
        "latex": "DisplayMagics",
        "markdown": "DisplayMagics",
        "perl": "Other",
        "prun": "ExecutionMagics",
        "pypy": "Other",
        "python": "Other",
        "python2": "Other",
        "python3": "Other",
        "ruby": "Other",
        "script": "ScriptMagics",
        "sh": "Other",
        "svg": "DisplayMagics",
        "sx": "OSMagics",
        "system": "OSMagics",
        "time": "ExecutionMagics",
        "timeit": "ExecutionMagics",
        "writefile": "OSMagics"
       },
       "line": {
        "alias": "OSMagics",
        "alias_magic": "BasicMagics",
        "autocall": "AutoMagics",
        "automagic": "AutoMagics",
        "autosave": "KernelMagics",
        "bookmark": "OSMagics",
        "cd": "OSMagics",
        "clear": "KernelMagics",
        "cls": "KernelMagics",
        "colors": "BasicMagics",
        "config": "ConfigMagics",
        "connect_info": "KernelMagics",
        "copy": "Other",
        "ddir": "Other",
        "debug": "ExecutionMagics",
        "dhist": "OSMagics",
        "dirs": "OSMagics",
        "doctest_mode": "BasicMagics",
        "echo": "Other",
        "ed": "Other",
        "edit": "KernelMagics",
        "env": "OSMagics",
        "gui": "BasicMagics",
        "hist": "Other",
        "history": "HistoryMagics",
        "killbgscripts": "ScriptMagics",
        "ldir": "Other",
        "less": "KernelMagics",
        "load": "CodeMagics",
        "load_ext": "ExtensionMagics",
        "loadpy": "CodeMagics",
        "logoff": "LoggingMagics",
        "logon": "LoggingMagics",
        "logstart": "LoggingMagics",
        "logstate": "LoggingMagics",
        "logstop": "LoggingMagics",
        "ls": "Other",
        "lsmagic": "BasicMagics",
        "macro": "ExecutionMagics",
        "magic": "BasicMagics",
        "matplotlib": "PylabMagics",
        "mkdir": "Other",
        "more": "KernelMagics",
        "notebook": "BasicMagics",
        "page": "BasicMagics",
        "pastebin": "CodeMagics",
        "pdb": "ExecutionMagics",
        "pdef": "NamespaceMagics",
        "pdoc": "NamespaceMagics",
        "pfile": "NamespaceMagics",
        "pinfo": "NamespaceMagics",
        "pinfo2": "NamespaceMagics",
        "pip": "BasicMagics",
        "popd": "OSMagics",
        "pprint": "BasicMagics",
        "precision": "BasicMagics",
        "profile": "BasicMagics",
        "prun": "ExecutionMagics",
        "psearch": "NamespaceMagics",
        "psource": "NamespaceMagics",
        "pushd": "OSMagics",
        "pwd": "OSMagics",
        "pycat": "OSMagics",
        "pylab": "PylabMagics",
        "qtconsole": "KernelMagics",
        "quickref": "BasicMagics",
        "recall": "HistoryMagics",
        "rehashx": "OSMagics",
        "reload_ext": "ExtensionMagics",
        "ren": "Other",
        "rep": "Other",
        "rerun": "HistoryMagics",
        "reset": "NamespaceMagics",
        "reset_selective": "NamespaceMagics",
        "rmdir": "Other",
        "run": "ExecutionMagics",
        "save": "CodeMagics",
        "sc": "OSMagics",
        "set_env": "OSMagics",
        "store": "StoreMagics",
        "sx": "OSMagics",
        "system": "OSMagics",
        "tb": "ExecutionMagics",
        "time": "ExecutionMagics",
        "timeit": "ExecutionMagics",
        "unalias": "OSMagics",
        "unload_ext": "ExtensionMagics",
        "who": "NamespaceMagics",
        "who_ls": "NamespaceMagics",
        "whos": "NamespaceMagics",
        "xdel": "NamespaceMagics",
        "xmode": "BasicMagics"
       }
      },
      "text/plain": [
       "Available line magics:\n",
       "%alias  %alias_magic  %autocall  %automagic  %autosave  %bookmark  %cd  %clear  %cls  %colors  %config  %connect_info  %copy  %ddir  %debug  %dhist  %dirs  %doctest_mode  %echo  %ed  %edit  %env  %gui  %hist  %history  %killbgscripts  %ldir  %less  %load  %load_ext  %loadpy  %logoff  %logon  %logstart  %logstate  %logstop  %ls  %lsmagic  %macro  %magic  %matplotlib  %mkdir  %more  %notebook  %page  %pastebin  %pdb  %pdef  %pdoc  %pfile  %pinfo  %pinfo2  %popd  %pprint  %precision  %profile  %prun  %psearch  %psource  %pushd  %pwd  %pycat  %pylab  %qtconsole  %quickref  %recall  %rehashx  %reload_ext  %ren  %rep  %rerun  %reset  %reset_selective  %rmdir  %run  %save  %sc  %set_env  %store  %sx  %system  %tb  %time  %timeit  %unalias  %unload_ext  %who  %who_ls  %whos  %xdel  %xmode\n",
       "\n",
       "Available cell magics:\n",
       "%%!  %%HTML  %%SVG  %%bash  %%capture  %%cmd  %%css  %%debug  %%file  %%html  %%javascript  %%js  %%jsx  %%latex  %%markdown  %%perl  %%prun  %%pypy  %%python  %%python2  %%python3  %%ruby  %%script  %%sh  %%svg  %%sx  %%system  %%time  %%timeit  %%writefile\n",
       "\n",
       "Automagic is ON, % prefix IS NOT needed for line magics."
      ]
     },
     "execution_count": 45,
     "metadata": {},
     "output_type": "execute_result"
    }
   ],
   "source": [
    "%lsmagic"
   ]
  }
 ],
 "metadata": {
  "kernelspec": {
   "display_name": "Python 3",
   "language": "python",
   "name": "python3"
  },
  "language_info": {
   "codemirror_mode": {
    "name": "ipython",
    "version": 3
   },
   "file_extension": ".py",
   "mimetype": "text/x-python",
   "name": "python",
   "nbconvert_exporter": "python",
   "pygments_lexer": "ipython3",
   "version": "3.6.5"
  },
  "toc": {
   "base_numbering": 1,
   "nav_menu": {
    "height": "63px",
    "width": "362px"
   },
   "number_sections": true,
   "sideBar": true,
   "skip_h1_title": false,
   "title_cell": "Table of Contents",
   "title_sidebar": "Contents",
   "toc_cell": false,
   "toc_position": {
    "height": "calc(100% - 180px)",
    "left": "10px",
    "top": "150px",
    "width": "307px"
   },
   "toc_section_display": true,
   "toc_window_display": false
  },
  "varInspector": {
   "cols": {
    "lenName": 16,
    "lenType": 16,
    "lenVar": 40
   },
   "kernels_config": {
    "python": {
     "delete_cmd_postfix": "",
     "delete_cmd_prefix": "del ",
     "library": "var_list.py",
     "varRefreshCmd": "print(var_dic_list())"
    },
    "r": {
     "delete_cmd_postfix": ") ",
     "delete_cmd_prefix": "rm(",
     "library": "var_list.r",
     "varRefreshCmd": "cat(var_dic_list()) "
    }
   },
   "types_to_exclude": [
    "module",
    "function",
    "builtin_function_or_method",
    "instance",
    "_Feature"
   ],
   "window_display": false
  },
  "widgets": {
   "application/vnd.jupyter.widget-state+json": {
    "state": {
     "0026bbd5144547649948a8d1ff208dfa": {
      "model_module": "@jupyter-widgets/base",
      "model_module_version": "1.1.0",
      "model_name": "LayoutModel",
      "state": {
       "border": "1px solid black"
      }
     },
     "00770c0a76704ff6ba4779044864db19": {
      "model_module": "@jupyter-widgets/base",
      "model_module_version": "1.1.0",
      "model_name": "LayoutModel",
      "state": {}
     },
     "021bf89c053244a588a06f9dfcebb846": {
      "model_module": "@jupyter-widgets/controls",
      "model_module_version": "1.4.0",
      "model_name": "VBoxModel",
      "state": {
       "_dom_classes": [
        "widget-interact"
       ],
       "children": [
        "IPY_MODEL_ba2a86ff74694e14b68ada60809a84bf",
        "IPY_MODEL_67013cec998345c3acb5d8b4fd5d2a22",
        "IPY_MODEL_48980c32ffa84a49bfdd9543413abf9b"
       ],
       "layout": "IPY_MODEL_50cbfe7e77ca4bc1b93f46e429e2346e"
      }
     },
     "0278d34f1c514e9db1940b23b3ebcc9e": {
      "model_module": "@jupyter-widgets/base",
      "model_module_version": "1.1.0",
      "model_name": "LayoutModel",
      "state": {}
     },
     "02aaa48da0c844f3a77ce6660ee12eb2": {
      "model_module": "@jupyter-widgets/controls",
      "model_module_version": "1.4.0",
      "model_name": "SliderStyleModel",
      "state": {
       "description_width": ""
      }
     },
     "02cce579bb0f4772adb059af4b63bc75": {
      "model_module": "@jupyter-widgets/base",
      "model_module_version": "1.1.0",
      "model_name": "LayoutModel",
      "state": {}
     },
     "039bb2cac5c048f3b6f7c21badb5a3bd": {
      "model_module": "@jupyter-widgets/controls",
      "model_module_version": "1.4.0",
      "model_name": "IntSliderModel",
      "state": {
       "description": "a",
       "layout": "IPY_MODEL_eb7ded4be3d84de89bd5418ce4a7018a",
       "style": "IPY_MODEL_210e29a9dedf4cd19039d05a2b33c712",
       "value": 45
      }
     },
     "03e6eb6348fe45ff93e044d8c512cbbb": {
      "model_module": "@jupyter-widgets/output",
      "model_module_version": "1.0.0",
      "model_name": "OutputModel",
      "state": {
       "layout": "IPY_MODEL_c3576430b5ea43408e5d5d99399dd90e",
       "outputs": [
        {
         "name": "stdout",
         "output_type": "stream",
         "text": "0*0*0=0\n"
        }
       ]
      }
     },
     "04018f04c920426790948fdcaa713c48": {
      "model_module": "@jupyter-widgets/base",
      "model_module_version": "1.1.0",
      "model_name": "LayoutModel",
      "state": {}
     },
     "0440b7ec19a045b0ba82801f8db08086": {
      "model_module": "@jupyter-widgets/controls",
      "model_module_version": "1.4.0",
      "model_name": "IntSliderModel",
      "state": {
       "description": "c",
       "layout": "IPY_MODEL_32e9562ed4e04e89bd575b847db9f167",
       "style": "IPY_MODEL_19dc8437b179469b8cd16ea733ee0cb7"
      }
     },
     "049e42af2bba45f7988abd94c9f8930f": {
      "model_module": "@jupyter-widgets/controls",
      "model_module_version": "1.4.0",
      "model_name": "IntSliderModel",
      "state": {
       "layout": "IPY_MODEL_23c6ad478afe43a4955b15dc0f1e40b6",
       "style": "IPY_MODEL_273659389b1d44749090154b53b0ad86",
       "value": 40
      }
     },
     "04bc7f7670a54693b908ab2369df7bcb": {
      "model_module": "@jupyter-widgets/controls",
      "model_module_version": "1.4.0",
      "model_name": "VBoxModel",
      "state": {
       "children": [
        "IPY_MODEL_275d6967cdce4c1f99263f14e69b31ec",
        "IPY_MODEL_5042150d81c342c7932fda100b0f81c8",
        "IPY_MODEL_c66d4251be5448b9acb5fd3b521ac211"
       ],
       "layout": "IPY_MODEL_6bac09420db8445984192a8836767660"
      }
     },
     "04de11a721da408790d174a11554252f": {
      "model_module": "@jupyter-widgets/base",
      "model_module_version": "1.1.0",
      "model_name": "LayoutModel",
      "state": {}
     },
     "054501482f7e40b5a5618d82df2db668": {
      "model_module": "@jupyter-widgets/controls",
      "model_module_version": "1.4.0",
      "model_name": "IntSliderModel",
      "state": {
       "description": "a",
       "layout": "IPY_MODEL_e732cd9299684e429bb928372aa0128d",
       "style": "IPY_MODEL_02aaa48da0c844f3a77ce6660ee12eb2",
       "value": 100
      }
     },
     "05eb15104b28449a9c69e9e76967d5d9": {
      "model_module": "@jupyter-widgets/base",
      "model_module_version": "1.1.0",
      "model_name": "LayoutModel",
      "state": {}
     },
     "061d505146174f0082d6236248f41e54": {
      "model_module": "@jupyter-widgets/base",
      "model_module_version": "1.1.0",
      "model_name": "LayoutModel",
      "state": {}
     },
     "067f2999bdb0447b997a5692f1287ff2": {
      "model_module": "@jupyter-widgets/controls",
      "model_module_version": "1.4.0",
      "model_name": "SliderStyleModel",
      "state": {
       "description_width": ""
      }
     },
     "071b404210e7422592060e70b8bed67a": {
      "model_module": "@jupyter-widgets/controls",
      "model_module_version": "1.4.0",
      "model_name": "IntSliderModel",
      "state": {
       "description": "c",
       "layout": "IPY_MODEL_460d4144e3c641839c1a20942b255b2d",
       "style": "IPY_MODEL_fb957493fc01426ab108a7010f953789"
      }
     },
     "098b97e5872d43a59a2f706ff1e22584": {
      "model_module": "@jupyter-widgets/base",
      "model_module_version": "1.1.0",
      "model_name": "LayoutModel",
      "state": {}
     },
     "0a85c7ca7d9f4eb0a9ed2d28a6df49e5": {
      "model_module": "@jupyter-widgets/controls",
      "model_module_version": "1.4.0",
      "model_name": "DescriptionStyleModel",
      "state": {
       "description_width": ""
      }
     },
     "0acd51cf9ff34bb38ade66672cd88003": {
      "model_module": "@jupyter-widgets/controls",
      "model_module_version": "1.4.0",
      "model_name": "SliderStyleModel",
      "state": {
       "description_width": ""
      }
     },
     "0b7b0d4d13be4e228dca31df2651dc4e": {
      "model_module": "@jupyter-widgets/controls",
      "model_module_version": "1.4.0",
      "model_name": "SliderStyleModel",
      "state": {
       "description_width": ""
      }
     },
     "0d79af436855497d9c0d7fa8e4701833": {
      "model_module": "@jupyter-widgets/base",
      "model_module_version": "1.1.0",
      "model_name": "LayoutModel",
      "state": {}
     },
     "0dd10a1f6bde4e87a9d90bd412c2401e": {
      "model_module": "@jupyter-widgets/controls",
      "model_module_version": "1.4.0",
      "model_name": "IntSliderModel",
      "state": {
       "layout": "IPY_MODEL_9adecaaf215546ada0728741131e0ad0",
       "style": "IPY_MODEL_9627a38375364ebbbfa57b3eb1da06b9",
       "value": 24
      }
     },
     "0ddf1ec6ff504c12adab6f2b6f784e10": {
      "model_module": "@jupyter-widgets/controls",
      "model_module_version": "1.4.0",
      "model_name": "FloatSliderModel",
      "state": {
       "continuous_update": false,
       "description": "i",
       "layout": "IPY_MODEL_9f98d332dced47c2b3d85407ccb3bec8",
       "max": 10000000,
       "min": 100000,
       "step": 100000,
       "style": "IPY_MODEL_5f5ffbd2413e4d27a03ad85ca87f3644",
       "value": 1500000
      }
     },
     "100f93f6df124c6dac0b5c77c558d839": {
      "model_module": "@jupyter-widgets/base",
      "model_module_version": "1.1.0",
      "model_name": "LayoutModel",
      "state": {}
     },
     "1012c5d4f5284b2d89729b5c75f4ebfe": {
      "model_module": "@jupyter-widgets/controls",
      "model_module_version": "1.4.0",
      "model_name": "FloatSliderModel",
      "state": {
       "description": "y",
       "layout": "IPY_MODEL_9ab6050cca354c899cb167e0cf6362f8",
       "max": 10,
       "min": 0.5,
       "step": 0.05,
       "style": "IPY_MODEL_42812a7d397546f9bf46b2dd3feae9bb",
       "value": 0.9
      }
     },
     "1013fd74b7914f42a7a6aa30ed812931": {
      "model_module": "@jupyter-widgets/output",
      "model_module_version": "1.0.0",
      "model_name": "OutputModel",
      "state": {
       "layout": "IPY_MODEL_51089fe1110e42e9a1d99d9ec388a082"
      }
     },
     "11147ef2f9d04514b0da0bce6ecf69ab": {
      "model_module": "@jupyter-widgets/controls",
      "model_module_version": "1.4.0",
      "model_name": "SliderStyleModel",
      "state": {
       "description_width": ""
      }
     },
     "1144620dde734ce89a2791d5d08a2bec": {
      "model_module": "@jupyter-widgets/controls",
      "model_module_version": "1.4.0",
      "model_name": "FloatSliderModel",
      "state": {
       "description": "i",
       "layout": "IPY_MODEL_2f3debeb11d14a26899cf35a0a48e1a2",
       "max": 10000000,
       "min": 100000,
       "step": 100000,
       "style": "IPY_MODEL_1660487584ec4e1a84ab6a1c11363783",
       "value": 100000
      }
     },
     "118ed3e1412b4fb7b42908ca7b34b32f": {
      "model_module": "@jupyter-widgets/controls",
      "model_module_version": "1.4.0",
      "model_name": "SliderStyleModel",
      "state": {
       "description_width": ""
      }
     },
     "1255438d65ee44fab74c818618e5d0e1": {
      "model_module": "@jupyter-widgets/base",
      "model_module_version": "1.1.0",
      "model_name": "LayoutModel",
      "state": {}
     },
     "12761a1e5269485b905a001ae9894e7f": {
      "model_module": "@jupyter-widgets/base",
      "model_module_version": "1.1.0",
      "model_name": "LayoutModel",
      "state": {
       "border": "1px solid black",
       "height": "160px",
       "width": "100%"
      }
     },
     "12935fca21d24207a6d5db5a6522620f": {
      "model_module": "@jupyter-widgets/controls",
      "model_module_version": "1.4.0",
      "model_name": "HBoxModel",
      "state": {
       "children": [
        "IPY_MODEL_315b9f8c7c514082a58bd63ed7cfc677",
        "IPY_MODEL_ac41e18681864a359e073020cde91280"
       ],
       "layout": "IPY_MODEL_60cfbc5f4daa414cbfe448e1416df333"
      }
     },
     "15cc17a448fd47818fd34beee93e4141": {
      "model_module": "@jupyter-widgets/controls",
      "model_module_version": "1.4.0",
      "model_name": "IntSliderModel",
      "state": {
       "description": "b",
       "layout": "IPY_MODEL_0278d34f1c514e9db1940b23b3ebcc9e",
       "style": "IPY_MODEL_bfa585fabfcd44a8a96712723fdba134"
      }
     },
     "1660487584ec4e1a84ab6a1c11363783": {
      "model_module": "@jupyter-widgets/controls",
      "model_module_version": "1.4.0",
      "model_name": "SliderStyleModel",
      "state": {
       "description_width": ""
      }
     },
     "16913f16cfb04a16816b6d6dbcd43d70": {
      "model_module": "@jupyter-widgets/base",
      "model_module_version": "1.1.0",
      "model_name": "LayoutModel",
      "state": {}
     },
     "16d5eed4c1bc416c82f5748f27afd43b": {
      "model_module": "@jupyter-widgets/controls",
      "model_module_version": "1.4.0",
      "model_name": "IntSliderModel",
      "state": {
       "description": "c",
       "layout": "IPY_MODEL_a9b908fb87f84306ae8c3cc5c21473e9",
       "style": "IPY_MODEL_9b869dd76d364b278271b13704cf0bd7"
      }
     },
     "1757ed84b5884c148983fc81899898df": {
      "model_module": "@jupyter-widgets/controls",
      "model_module_version": "1.4.0",
      "model_name": "IntSliderModel",
      "state": {
       "description": "b",
       "layout": "IPY_MODEL_eaa4350479424834bbfc869312d4f753",
       "max": 60,
       "min": -20,
       "style": "IPY_MODEL_29d17de383214d64a846c0d0553c66ae",
       "value": 20
      }
     },
     "17f8781b085040af81721d998d627f94": {
      "model_module": "@jupyter-widgets/base",
      "model_module_version": "1.1.0",
      "model_name": "LayoutModel",
      "state": {}
     },
     "18cf7f7905704e14a65e4491f0d34a3c": {
      "model_module": "@jupyter-widgets/base",
      "model_module_version": "1.1.0",
      "model_name": "LayoutModel",
      "state": {
       "height": "350px"
      }
     },
     "18f2c847af5c440bb4e104263cbe0d2b": {
      "model_module": "@jupyter-widgets/controls",
      "model_module_version": "1.4.0",
      "model_name": "SliderStyleModel",
      "state": {
       "description_width": ""
      }
     },
     "18f5697157484663a0971544b7887f75": {
      "model_module": "@jupyter-widgets/controls",
      "model_module_version": "1.4.0",
      "model_name": "SliderStyleModel",
      "state": {
       "description_width": ""
      }
     },
     "1997d5632042439793eec5af7290c055": {
      "model_module": "@jupyter-widgets/controls",
      "model_module_version": "1.4.0",
      "model_name": "VBoxModel",
      "state": {
       "children": [
        "IPY_MODEL_2376e805ad19411cb7ada3bbc49ea208",
        "IPY_MODEL_30d2e0d81d5d4b4399a51521a06e47d9",
        "IPY_MODEL_cc26280956474454ac59b20443068de0"
       ],
       "layout": "IPY_MODEL_588f57aac8aa41298b006883ad428c6d"
      }
     },
     "19c305549f5e477697b33491e5a3066e": {
      "model_module": "@jupyter-widgets/base",
      "model_module_version": "1.1.0",
      "model_name": "LayoutModel",
      "state": {}
     },
     "19dc8437b179469b8cd16ea733ee0cb7": {
      "model_module": "@jupyter-widgets/controls",
      "model_module_version": "1.4.0",
      "model_name": "SliderStyleModel",
      "state": {
       "description_width": ""
      }
     },
     "1a36b13015ae43d3818dc9f31ee0571e": {
      "model_module": "@jupyter-widgets/base",
      "model_module_version": "1.1.0",
      "model_name": "LayoutModel",
      "state": {}
     },
     "1a5f6e5b658f4404a408a385bc3d6c34": {
      "model_module": "@jupyter-widgets/base",
      "model_module_version": "1.1.0",
      "model_name": "LayoutModel",
      "state": {}
     },
     "1aba683e2a4f47179d6db246df7a73a0": {
      "model_module": "@jupyter-widgets/controls",
      "model_module_version": "1.4.0",
      "model_name": "SliderStyleModel",
      "state": {
       "description_width": ""
      }
     },
     "1b86c56fee82483e947989efecbc7d30": {
      "model_module": "@jupyter-widgets/controls",
      "model_module_version": "1.4.0",
      "model_name": "FloatSliderModel",
      "state": {
       "description": "i",
       "layout": "IPY_MODEL_53a78694ce334c589d78bb96f75e3ebb",
       "max": 10000000,
       "min": 100000,
       "step": 100000,
       "style": "IPY_MODEL_e945ad55d5d74fd687ef672db3801867",
       "value": 100000
      }
     },
     "1b8f275dfb084be8b49f020c5d307956": {
      "model_module": "@jupyter-widgets/output",
      "model_module_version": "1.0.0",
      "model_name": "OutputModel",
      "state": {
       "layout": "IPY_MODEL_9aca52966b2b4e78891fb06299759f12",
       "outputs": [
        {
         "name": "stdout",
         "output_type": "stream",
         "text": "72*57*64=262656\n"
        }
       ]
      }
     },
     "1bec509006ae40e881c7705a7cdacf7c": {
      "model_module": "@jupyter-widgets/base",
      "model_module_version": "1.1.0",
      "model_name": "LayoutModel",
      "state": {
       "border": "1px solid black"
      }
     },
     "1c048561829c49088bf776208ca7d8e0": {
      "model_module": "@jupyter-widgets/output",
      "model_module_version": "1.0.0",
      "model_name": "OutputModel",
      "state": {
       "layout": "IPY_MODEL_26315e9427bf4807bc2a5b9f16375bd3"
      }
     },
     "1c25a9ef94594833947569f1494225ed": {
      "model_module": "@jupyter-widgets/base",
      "model_module_version": "1.1.0",
      "model_name": "LayoutModel",
      "state": {}
     },
     "1d0a31fa0fb2427e9fa25d63f1254036": {
      "model_module": "@jupyter-widgets/output",
      "model_module_version": "1.0.0",
      "model_name": "OutputModel",
      "state": {
       "layout": "IPY_MODEL_76a2601f10604141875797e55d27a310",
       "outputs": [
        {
         "data": {
          "text/plain": "7"
         },
         "metadata": {},
         "output_type": "display_data"
        }
       ]
      }
     },
     "1d16273a2f3745f28c18d3fe719b97ed": {
      "model_module": "@jupyter-widgets/base",
      "model_module_version": "1.1.0",
      "model_name": "LayoutModel",
      "state": {}
     },
     "1eaaf75d1281453b8092830f7428b86d": {
      "model_module": "@jupyter-widgets/base",
      "model_module_version": "1.1.0",
      "model_name": "LayoutModel",
      "state": {}
     },
     "1f2879cff3154a7ea9fba2cec5305d86": {
      "model_module": "@jupyter-widgets/base",
      "model_module_version": "1.1.0",
      "model_name": "LayoutModel",
      "state": {}
     },
     "1ffc8a5431df4dac836286b9f3106e31": {
      "model_module": "@jupyter-widgets/controls",
      "model_module_version": "1.4.0",
      "model_name": "IntSliderModel",
      "state": {
       "description": "c",
       "layout": "IPY_MODEL_dc2742b7cb07423194b23f91c82e9cf4",
       "style": "IPY_MODEL_43fc57e5581845d0a64da7f5ce7dcfe2",
       "value": 100
      }
     },
     "210e29a9dedf4cd19039d05a2b33c712": {
      "model_module": "@jupyter-widgets/controls",
      "model_module_version": "1.4.0",
      "model_name": "SliderStyleModel",
      "state": {
       "description_width": ""
      }
     },
     "2177410f0daa450588b5533bd0c0bb36": {
      "model_module": "@jupyter-widgets/controls",
      "model_module_version": "1.4.0",
      "model_name": "VBoxModel",
      "state": {
       "_dom_classes": [
        "widget-interact"
       ],
       "children": [
        "IPY_MODEL_f44ca3321b0749bb849adca9c3868164",
        "IPY_MODEL_1757ed84b5884c148983fc81899898df",
        "IPY_MODEL_9d9d170ed068496f83ad02166ecef790"
       ],
       "layout": "IPY_MODEL_9c07f87d410c435eabbc7bd8fab3475a"
      }
     },
     "218a28a6488a4a64976e70c10df23a86": {
      "model_module": "@jupyter-widgets/controls",
      "model_module_version": "1.4.0",
      "model_name": "CheckboxModel",
      "state": {
       "description": "x",
       "disabled": false,
       "layout": "IPY_MODEL_7f8c0c5323274616a5f924040fbea0e8",
       "style": "IPY_MODEL_0a85c7ca7d9f4eb0a9ed2d28a6df49e5",
       "value": true
      }
     },
     "21d485e9507f40fc8e7c40eccd2671a3": {
      "model_module": "@jupyter-widgets/base",
      "model_module_version": "1.1.0",
      "model_name": "LayoutModel",
      "state": {}
     },
     "22773c6e11ce41359d141cb796efb631": {
      "model_module": "@jupyter-widgets/output",
      "model_module_version": "1.0.0",
      "model_name": "OutputModel",
      "state": {
       "layout": "IPY_MODEL_a2b39c6e1a5d4606844ee972d9408f16",
       "outputs": [
        {
         "name": "stdout",
         "output_type": "stream",
         "text": "1.0 0.9\n"
        }
       ]
      }
     },
     "22ead6c5d2d249bcaf25759158e6306b": {
      "model_module": "@jupyter-widgets/controls",
      "model_module_version": "1.4.0",
      "model_name": "VBoxModel",
      "state": {
       "_dom_classes": [
        "widget-interact"
       ],
       "children": [
        "IPY_MODEL_93c8de5478a84744a40fe426ed822841",
        "IPY_MODEL_db9cc277f7984896a79650f60b514c30"
       ],
       "layout": "IPY_MODEL_81ef6be4fe1345f8ba10c5ae4d4db645"
      }
     },
     "230f9b7231a14706b098dcba4cdf6215": {
      "model_module": "@jupyter-widgets/output",
      "model_module_version": "1.0.0",
      "model_name": "OutputModel",
      "state": {
       "layout": "IPY_MODEL_3e641216a9434e71aea92cbcf45979c3",
       "outputs": [
        {
         "name": "stdout",
         "output_type": "stream",
         "text": "0*0*0=0\n"
        }
       ]
      }
     },
     "2376e805ad19411cb7ada3bbc49ea208": {
      "model_module": "@jupyter-widgets/controls",
      "model_module_version": "1.4.0",
      "model_name": "IntSliderModel",
      "state": {
       "description": "a",
       "layout": "IPY_MODEL_99c6d31fcb024e56894eac45ba4789eb",
       "style": "IPY_MODEL_eefc2dea7ec94ef387711b1e0bc4a253",
       "value": 72
      }
     },
     "23c6ad478afe43a4955b15dc0f1e40b6": {
      "model_module": "@jupyter-widgets/base",
      "model_module_version": "1.1.0",
      "model_name": "LayoutModel",
      "state": {}
     },
     "241c412d618e442fa7f988807c5d23cb": {
      "model_module": "@jupyter-widgets/controls",
      "model_module_version": "1.4.0",
      "model_name": "SliderStyleModel",
      "state": {
       "description_width": ""
      }
     },
     "24e973d67a7e4dd0a89251d85f08114d": {
      "model_module": "@jupyter-widgets/controls",
      "model_module_version": "1.4.0",
      "model_name": "SliderStyleModel",
      "state": {
       "description_width": ""
      }
     },
     "253c6733fd6c456eb64f92f1e15995cd": {
      "model_module": "@jupyter-widgets/output",
      "model_module_version": "1.0.0",
      "model_name": "OutputModel",
      "state": {
       "layout": "IPY_MODEL_1bec509006ae40e881c7705a7cdacf7c",
       "outputs": [
        {
         "name": "stdout",
         "output_type": "stream",
         "text": "0 Hello world!\n1 Hello world!\n2 Hello world!\n3 Hello world!\n4 Hello world!\n5 Hello world!\n6 Hello world!\n7 Hello world!\n8 Hello world!\n9 Hello world!\n10 Hello world!\n11 Hello world!\n12 Hello world!\n13 Hello world!\n14 Hello world!\n15 Hello world!\n16 Hello world!\n17 Hello world!\n18 Hello world!\n19 Hello world!\n20 Hello world!\n21 Hello world!\n22 Hello world!\n23 Hello world!\n24 Hello world!\n25 Hello world!\n26 Hello world!\n27 Hello world!\n28 Hello world!\n29 Hello world!\n30 Hello world!\n31 Hello world!\n32 Hello world!\n33 Hello world!\n34 Hello world!\n35 Hello world!\n36 Hello world!\n37 Hello world!\n38 Hello world!\n39 Hello world!\n40 Hello world!\n41 Hello world!\n42 Hello world!\n43 Hello world!\n44 Hello world!\n45 Hello world!\n46 Hello world!\n47 Hello world!\n48 Hello world!\n49 Hello world!\n50 Hello world!\n51 Hello world!\n52 Hello world!\n53 Hello world!\n54 Hello world!\n55 Hello world!\n56 Hello world!\n57 Hello world!\n58 Hello world!\n59 Hello world!\n60 Hello world!\n61 Hello world!\n62 Hello world!\n63 Hello world!\n64 Hello world!\n65 Hello world!\n66 Hello world!\n67 Hello world!\n68 Hello world!\n69 Hello world!\n70 Hello world!\n71 Hello world!\n72 Hello world!\n73 Hello world!\n74 Hello world!\n75 Hello world!\n76 Hello world!\n77 Hello world!\n78 Hello world!\n79 Hello world!\n80 Hello world!\n81 Hello world!\n82 Hello world!\n83 Hello world!\n84 Hello world!\n85 Hello world!\n86 Hello world!\n87 Hello world!\n88 Hello world!\n89 Hello world!\n90 Hello world!\n91 Hello world!\n92 Hello world!\n93 Hello world!\n94 Hello world!\n95 Hello world!\n96 Hello world!\n97 Hello world!\n98 Hello world!\n99 Hello world!\n"
        }
       ]
      }
     },
     "26315e9427bf4807bc2a5b9f16375bd3": {
      "model_module": "@jupyter-widgets/base",
      "model_module_version": "1.1.0",
      "model_name": "LayoutModel",
      "state": {
       "border": "1px solid black"
      }
     },
     "273659389b1d44749090154b53b0ad86": {
      "model_module": "@jupyter-widgets/controls",
      "model_module_version": "1.4.0",
      "model_name": "SliderStyleModel",
      "state": {
       "description_width": ""
      }
     },
     "27477e4a1f3f402c8ac1c5d5b668b9c8": {
      "model_module": "@jupyter-widgets/base",
      "model_module_version": "1.1.0",
      "model_name": "LayoutModel",
      "state": {}
     },
     "2749b9a0fab442bfb7bfceea7b4ed4c6": {
      "model_module": "@jupyter-widgets/controls",
      "model_module_version": "1.4.0",
      "model_name": "IntSliderModel",
      "state": {
       "description": "a",
       "layout": "IPY_MODEL_eebd63be69ef42d2a1e6fa943f5638c6",
       "style": "IPY_MODEL_e313ab098c1a492d933310b6f2bbdeb0"
      }
     },
     "275d6967cdce4c1f99263f14e69b31ec": {
      "model_module": "@jupyter-widgets/controls",
      "model_module_version": "1.4.0",
      "model_name": "IntSliderModel",
      "state": {
       "description": "a",
       "layout": "IPY_MODEL_0d79af436855497d9c0d7fa8e4701833",
       "style": "IPY_MODEL_90b07558afb046cda82ae6ceb9d20ee9",
       "value": 45
      }
     },
     "28ba2efceb55478eb75f62d980dc16c9": {
      "model_module": "@jupyter-widgets/base",
      "model_module_version": "1.1.0",
      "model_name": "LayoutModel",
      "state": {}
     },
     "28fc82881b0844948d43203a9bbcd42e": {
      "model_module": "@jupyter-widgets/controls",
      "model_module_version": "1.4.0",
      "model_name": "LabelModel",
      "state": {
       "layout": "IPY_MODEL_dc4f4bc3b0ab4c09aa76411b49648a5e",
       "style": "IPY_MODEL_7fc6a0cc0eb24ff3b6f98767874f488e",
       "value": "The values of slider1 and slider2 are synchronized"
      }
     },
     "2914ab3938b84083b3ac2d9df6d8808d": {
      "model_module": "@jupyter-widgets/base",
      "model_module_version": "1.1.0",
      "model_name": "LayoutModel",
      "state": {}
     },
     "29d16ec031a7453aa441ebbb3ca37ef0": {
      "model_module": "@jupyter-widgets/controls",
      "model_module_version": "1.4.0",
      "model_name": "VBoxModel",
      "state": {
       "_dom_classes": [
        "widget-interact"
       ],
       "children": [
        "IPY_MODEL_d5e46e1b58594d8aa7e1dd455ff8e72d",
        "IPY_MODEL_6f831b9c8f3e491a9fe2054c5bfba4ff",
        "IPY_MODEL_eb04c138d7824b9dbd5df01b4877b334"
       ],
       "layout": "IPY_MODEL_1255438d65ee44fab74c818618e5d0e1"
      }
     },
     "29d17de383214d64a846c0d0553c66ae": {
      "model_module": "@jupyter-widgets/controls",
      "model_module_version": "1.4.0",
      "model_name": "SliderStyleModel",
      "state": {
       "description_width": ""
      }
     },
     "2b91728616984060acdc3ca1bf197764": {
      "model_module": "@jupyter-widgets/controls",
      "model_module_version": "1.4.0",
      "model_name": "HBoxModel",
      "state": {
       "children": [
        "IPY_MODEL_1997d5632042439793eec5af7290c055",
        "IPY_MODEL_1b8f275dfb084be8b49f020c5d307956"
       ],
       "layout": "IPY_MODEL_1a5f6e5b658f4404a408a385bc3d6c34"
      }
     },
     "2cfacc30d3434d57a973eb65b1a37643": {
      "model_module": "@jupyter-widgets/controls",
      "model_module_version": "1.4.0",
      "model_name": "IntSliderModel",
      "state": {
       "description": "a",
       "layout": "IPY_MODEL_afeca492aabf42ec9569700ce8311083",
       "style": "IPY_MODEL_24e973d67a7e4dd0a89251d85f08114d",
       "value": 44
      }
     },
     "2df451c23ece42e5ac94f05c3ed4b8f9": {
      "model_module": "@jupyter-widgets/base",
      "model_module_version": "1.1.0",
      "model_name": "LayoutModel",
      "state": {}
     },
     "2e529e2578244887917e9fba0978bb6d": {
      "model_module": "@jupyter-widgets/controls",
      "model_module_version": "1.4.0",
      "model_name": "IntSliderModel",
      "state": {
       "description": "b",
       "layout": "IPY_MODEL_33f6c063c27441da9003717d06609c7b",
       "style": "IPY_MODEL_18f2c847af5c440bb4e104263cbe0d2b"
      }
     },
     "2e7c3721b5fd4eb8b0c4bdcd4598f984": {
      "model_module": "@jupyter-widgets/base",
      "model_module_version": "1.1.0",
      "model_name": "LayoutModel",
      "state": {}
     },
     "2ec7b178a5c14521bff867bfb5b638ca": {
      "model_module": "@jupyter-widgets/controls",
      "model_module_version": "1.4.0",
      "model_name": "IntSliderModel",
      "state": {
       "description": "a",
       "layout": "IPY_MODEL_d24f8d1cab6042d2a4232799228abb94",
       "style": "IPY_MODEL_bd7b7b608b2e4ef49142efada9bebdba"
      }
     },
     "2f3debeb11d14a26899cf35a0a48e1a2": {
      "model_module": "@jupyter-widgets/base",
      "model_module_version": "1.1.0",
      "model_name": "LayoutModel",
      "state": {}
     },
     "304cd890dd85485da77e7fd9bd2d5aae": {
      "model_module": "@jupyter-widgets/output",
      "model_module_version": "1.0.0",
      "model_name": "OutputModel",
      "state": {
       "layout": "IPY_MODEL_4123810527c7434a961f37aa32640663",
       "outputs": [
        {
         "name": "stdout",
         "output_type": "stream",
         "text": "100*100*100=1000000\n"
        }
       ]
      }
     },
     "3054e08f46db439eac03028c09722ce4": {
      "model_module": "@jupyter-widgets/controls",
      "model_module_version": "1.4.0",
      "model_name": "VBoxModel",
      "state": {
       "_dom_classes": [
        "widget-interact"
       ],
       "children": [
        "IPY_MODEL_218a28a6488a4a64976e70c10df23a86",
        "IPY_MODEL_3229fad30baf45e880266613559911fe",
        "IPY_MODEL_9581f638373f4826b246dc5891e8da59"
       ],
       "layout": "IPY_MODEL_f76d411f5f0e4db7ba14630424313fb4"
      }
     },
     "30cb0ff7882d4b4b99f4161bd2fa5831": {
      "model_module": "@jupyter-widgets/base",
      "model_module_version": "1.1.0",
      "model_name": "LayoutModel",
      "state": {}
     },
     "30d2e0d81d5d4b4399a51521a06e47d9": {
      "model_module": "@jupyter-widgets/controls",
      "model_module_version": "1.4.0",
      "model_name": "IntSliderModel",
      "state": {
       "description": "b",
       "layout": "IPY_MODEL_5cb1c9ba16ea4947a3b5523b4e4f3790",
       "style": "IPY_MODEL_1aba683e2a4f47179d6db246df7a73a0",
       "value": 57
      }
     },
     "310c83cd9eeb4e839568b6a16e1d0412": {
      "model_module": "@jupyter-widgets/output",
      "model_module_version": "1.0.0",
      "model_name": "OutputModel",
      "state": {
       "layout": "IPY_MODEL_86bb8b012b6f4198917f826353488a90",
       "outputs": [
        {
         "name": "stdout",
         "output_type": "stream",
         "text": "This goes into the output widget\n"
        },
        {
         "ename": "Exception",
         "evalue": "As does this",
         "output_type": "error",
         "traceback": [
          "\u001b[1;31m---------------------------------------------------------------------------\u001b[0m",
          "\u001b[1;31mException\u001b[0m                                 Traceback (most recent call last)",
          "\u001b[1;32mD:\\Anaconda3\\lib\\site-packages\\ipywidgets\\widgets\\widget_output.py\u001b[0m in \u001b[0;36minner\u001b[1;34m(*args, **kwargs)\u001b[0m\n\u001b[0;32m     99\u001b[0m                     \u001b[0mself\u001b[0m\u001b[1;33m.\u001b[0m\u001b[0mclear_output\u001b[0m\u001b[1;33m(\u001b[0m\u001b[1;33m*\u001b[0m\u001b[0mclear_args\u001b[0m\u001b[1;33m,\u001b[0m \u001b[1;33m**\u001b[0m\u001b[0mclear_kwargs\u001b[0m\u001b[1;33m)\u001b[0m\u001b[1;33m\u001b[0m\u001b[0m\n\u001b[0;32m    100\u001b[0m                 \u001b[1;32mwith\u001b[0m \u001b[0mself\u001b[0m\u001b[1;33m:\u001b[0m\u001b[1;33m\u001b[0m\u001b[0m\n\u001b[1;32m--> 101\u001b[1;33m                     \u001b[1;32mreturn\u001b[0m \u001b[0mfunc\u001b[0m\u001b[1;33m(\u001b[0m\u001b[1;33m*\u001b[0m\u001b[0margs\u001b[0m\u001b[1;33m,\u001b[0m \u001b[1;33m**\u001b[0m\u001b[0mkwargs\u001b[0m\u001b[1;33m)\u001b[0m\u001b[1;33m\u001b[0m\u001b[0m\n\u001b[0m\u001b[0;32m    102\u001b[0m             \u001b[1;32mreturn\u001b[0m \u001b[0minner\u001b[0m\u001b[1;33m\u001b[0m\u001b[0m\n\u001b[0;32m    103\u001b[0m         \u001b[1;32mreturn\u001b[0m \u001b[0mcapture_decorator\u001b[0m\u001b[1;33m\u001b[0m\u001b[0m\n",
          "\u001b[1;32m<ipython-input-46-45c35ecf63e4>\u001b[0m in \u001b[0;36mfunction_with_captured_output\u001b[1;34m()\u001b[0m\n\u001b[0;32m      2\u001b[0m \u001b[1;32mdef\u001b[0m \u001b[0mfunction_with_captured_output\u001b[0m\u001b[1;33m(\u001b[0m\u001b[1;33m)\u001b[0m\u001b[1;33m:\u001b[0m\u001b[1;33m\u001b[0m\u001b[0m\n\u001b[0;32m      3\u001b[0m     \u001b[0mprint\u001b[0m\u001b[1;33m(\u001b[0m\u001b[1;34m'This goes into the output widget'\u001b[0m\u001b[1;33m)\u001b[0m\u001b[1;33m\u001b[0m\u001b[0m\n\u001b[1;32m----> 4\u001b[1;33m     \u001b[1;32mraise\u001b[0m \u001b[0mException\u001b[0m\u001b[1;33m(\u001b[0m\u001b[1;34m'As does this'\u001b[0m\u001b[1;33m)\u001b[0m\u001b[1;33m\u001b[0m\u001b[0m\n\u001b[0m\u001b[0;32m      5\u001b[0m \u001b[1;33m\u001b[0m\u001b[0m\n\u001b[0;32m      6\u001b[0m \u001b[0mfunction_with_captured_output\u001b[0m\u001b[1;33m(\u001b[0m\u001b[1;33m)\u001b[0m\u001b[1;33m\u001b[0m\u001b[0m\n",
          "\u001b[1;31mException\u001b[0m: As does this"
         ]
        }
       ]
      }
     },
     "315b9f8c7c514082a58bd63ed7cfc677": {
      "model_module": "@jupyter-widgets/controls",
      "model_module_version": "1.4.0",
      "model_name": "VBoxModel",
      "state": {
       "children": [
        "IPY_MODEL_2cfacc30d3434d57a973eb65b1a37643",
        "IPY_MODEL_813bc877b5214e289bc6d23e81a9a727",
        "IPY_MODEL_9d0e135fae70456ca426fc5d3168a0d9"
       ],
       "layout": "IPY_MODEL_72446f9940cd46bbaf6c2624929dcf56"
      }
     },
     "321bc63b8f20403bacff95e33ee4d7d6": {
      "model_module": "@jupyter-widgets/controls",
      "model_module_version": "1.4.0",
      "model_name": "IntSliderModel",
      "state": {
       "description": "a",
       "layout": "IPY_MODEL_d709dd413e5c4485a9d5222db5799924",
       "style": "IPY_MODEL_0b7b0d4d13be4e228dca31df2651dc4e"
      }
     },
     "3229fad30baf45e880266613559911fe": {
      "model_module": "@jupyter-widgets/controls",
      "model_module_version": "1.4.0",
      "model_name": "FloatSliderModel",
      "state": {
       "description": "y",
       "layout": "IPY_MODEL_1d16273a2f3745f28c18d3fe719b97ed",
       "max": 3,
       "min": -1,
       "step": 0.1,
       "style": "IPY_MODEL_18f5697157484663a0971544b7887f75",
       "value": 1.3
      }
     },
     "32e9562ed4e04e89bd575b847db9f167": {
      "model_module": "@jupyter-widgets/base",
      "model_module_version": "1.1.0",
      "model_name": "LayoutModel",
      "state": {}
     },
     "330378f0f84043dfaf372bb964edb531": {
      "model_module": "@jupyter-widgets/base",
      "model_module_version": "1.1.0",
      "model_name": "LayoutModel",
      "state": {}
     },
     "33772de057d14fa6be6fc019513b7211": {
      "model_module": "@jupyter-widgets/controls",
      "model_module_version": "1.4.0",
      "model_name": "SliderStyleModel",
      "state": {
       "description_width": ""
      }
     },
     "33b8ddea93414f799a91e64793c2779c": {
      "model_module": "@jupyter-widgets/controls",
      "model_module_version": "1.4.0",
      "model_name": "VBoxModel",
      "state": {
       "_dom_classes": [
        "widget-interact"
       ],
       "children": [
        "IPY_MODEL_736443185f6146c7b6f1dc57c38340c8",
        "IPY_MODEL_f922c2c7960041dcbbcf088d68e758bf",
        "IPY_MODEL_65a44b69784d416c822cdd718bc80953"
       ],
       "layout": "IPY_MODEL_d60aa75e2d5e4d40b50dc4fdac986c10"
      }
     },
     "33d5a94b342647b2ba98cc7bebd60bdd": {
      "model_module": "@jupyter-widgets/base",
      "model_module_version": "1.1.0",
      "model_name": "LayoutModel",
      "state": {}
     },
     "33f6c063c27441da9003717d06609c7b": {
      "model_module": "@jupyter-widgets/base",
      "model_module_version": "1.1.0",
      "model_name": "LayoutModel",
      "state": {}
     },
     "34f8aca862ab4b1c9f0b1b8492affdf2": {
      "model_module": "@jupyter-widgets/controls",
      "model_module_version": "1.4.0",
      "model_name": "VBoxModel",
      "state": {
       "_dom_classes": [
        "widget-interact"
       ],
       "children": [
        "IPY_MODEL_8fb2e033a98e4a83b5ab4916448baa65",
        "IPY_MODEL_8f758ff8fae44ee6b64c0c9d86af5696",
        "IPY_MODEL_e547a76538254ff29f5be9b3137ccdfc"
       ],
       "layout": "IPY_MODEL_6d9d881752aa468faf847078ce981fc8"
      }
     },
     "35906094a4874cf8b7d0aedd805650fa": {
      "model_module": "@jupyter-widgets/base",
      "model_module_version": "1.1.0",
      "model_name": "LayoutModel",
      "state": {}
     },
     "35bc647505e54a7baaa1afaf5db48c93": {
      "model_module": "@jupyter-widgets/base",
      "model_module_version": "1.1.0",
      "model_name": "LayoutModel",
      "state": {}
     },
     "36aa6e5bf1944c7a8b5e3f8586a8984e": {
      "model_module": "@jupyter-widgets/controls",
      "model_module_version": "1.4.0",
      "model_name": "IntSliderModel",
      "state": {
       "description": "c",
       "layout": "IPY_MODEL_00770c0a76704ff6ba4779044864db19",
       "style": "IPY_MODEL_3943a06cc5a243ba84295b57df2fd125"
      }
     },
     "37b0a211e3434d47a157d189ab9573a8": {
      "model_module": "@jupyter-widgets/base",
      "model_module_version": "1.1.0",
      "model_name": "LayoutModel",
      "state": {}
     },
     "3943a06cc5a243ba84295b57df2fd125": {
      "model_module": "@jupyter-widgets/controls",
      "model_module_version": "1.4.0",
      "model_name": "SliderStyleModel",
      "state": {
       "description_width": ""
      }
     },
     "3bf1207947254345baf813e07bc7aeb5": {
      "model_module": "@jupyter-widgets/controls",
      "model_module_version": "1.4.0",
      "model_name": "IntSliderModel",
      "state": {
       "description": "Slider 2",
       "layout": "IPY_MODEL_28ba2efceb55478eb75f62d980dc16c9",
       "style": "IPY_MODEL_a22043ff0f864302b874379906209720",
       "value": 68
      }
     },
     "3bf2dc231bd5434fa90ccc0b655e2adc": {
      "model_module": "@jupyter-widgets/controls",
      "model_module_version": "1.4.0",
      "model_name": "IntSliderModel",
      "state": {
       "description": "b",
       "layout": "IPY_MODEL_05eb15104b28449a9c69e9e76967d5d9",
       "style": "IPY_MODEL_cfaeb31c53254af199d7154a52395a6f",
       "value": 45
      }
     },
     "3c1fe3fc7f3a468695033ceaea9bb8f9": {
      "model_module": "@jupyter-widgets/controls",
      "model_module_version": "1.4.0",
      "model_name": "VBoxModel",
      "state": {
       "children": [
        "IPY_MODEL_e0eb9a2fee574e93849a644cdf5efd78",
        "IPY_MODEL_3c87832dcc784a59b888773fee6c7dea",
        "IPY_MODEL_799903cd90f04d68ad75be37056c4ab1"
       ],
       "layout": "IPY_MODEL_8cc3b63dd265490eacef30f082e84a06"
      }
     },
     "3c2f78ff675c4dd5ba4d6cb105395a79": {
      "model_module": "@jupyter-widgets/base",
      "model_module_version": "1.1.0",
      "model_name": "LayoutModel",
      "state": {}
     },
     "3c87832dcc784a59b888773fee6c7dea": {
      "model_module": "@jupyter-widgets/controls",
      "model_module_version": "1.4.0",
      "model_name": "IntSliderModel",
      "state": {
       "description": "b",
       "layout": "IPY_MODEL_7adcd66a91244571a8b1885314ef3468",
       "style": "IPY_MODEL_9196f586119a4439aa11a47ac0b0b82b",
       "value": 50
      }
     },
     "3da119702a0247538757d07bd3eff129": {
      "model_module": "@jupyter-widgets/base",
      "model_module_version": "1.1.0",
      "model_name": "LayoutModel",
      "state": {}
     },
     "3e641216a9434e71aea92cbcf45979c3": {
      "model_module": "@jupyter-widgets/base",
      "model_module_version": "1.1.0",
      "model_name": "LayoutModel",
      "state": {}
     },
     "3f6dc88644714e34a8f3e7b33d12daf3": {
      "model_module": "@jupyter-widgets/controls",
      "model_module_version": "1.4.0",
      "model_name": "VBoxModel",
      "state": {
       "_dom_classes": [
        "widget-interact"
       ],
       "children": [
        "IPY_MODEL_96bb983f649749c4843340007ff036c6",
        "IPY_MODEL_8d6b0c0951fa46189e095760dce65f6e"
       ],
       "layout": "IPY_MODEL_8d318a8cdce44fb493df12033973c611"
      }
     },
     "3fe6d8f15256495ba7c628d20bc4cdb5": {
      "model_module": "@jupyter-widgets/controls",
      "model_module_version": "1.4.0",
      "model_name": "CheckboxModel",
      "state": {
       "description": "x",
       "disabled": false,
       "layout": "IPY_MODEL_f840d3e7d9f641a8b2ea850b00cc08ac",
       "style": "IPY_MODEL_4eaafdbc9f7a481c879f003ab631ee74",
       "value": true
      }
     },
     "3fecbc4c1c9a401bb0ccb1180b8cd4c9": {
      "model_module": "@jupyter-widgets/base",
      "model_module_version": "1.1.0",
      "model_name": "LayoutModel",
      "state": {}
     },
     "40bee3f68f9742d38ff3f0627ddcc641": {
      "model_module": "@jupyter-widgets/base",
      "model_module_version": "1.1.0",
      "model_name": "LayoutModel",
      "state": {}
     },
     "4123810527c7434a961f37aa32640663": {
      "model_module": "@jupyter-widgets/base",
      "model_module_version": "1.1.0",
      "model_name": "LayoutModel",
      "state": {}
     },
     "4183625756344af2b1f9b459cb2a2520": {
      "model_module": "@jupyter-widgets/base",
      "model_module_version": "1.1.0",
      "model_name": "LayoutModel",
      "state": {}
     },
     "41b6a92c87f449bbb26067be7c055f53": {
      "model_module": "@jupyter-widgets/controls",
      "model_module_version": "1.4.0",
      "model_name": "IntSliderModel",
      "state": {
       "description": "b",
       "layout": "IPY_MODEL_30cb0ff7882d4b4b99f4161bd2fa5831",
       "style": "IPY_MODEL_7e34a5a5dbec4e03bf410dbb70962230"
      }
     },
     "420ac2c2f6744335ae86d260c0a7ce57": {
      "model_module": "@jupyter-widgets/output",
      "model_module_version": "1.0.0",
      "model_name": "OutputModel",
      "state": {
       "layout": "IPY_MODEL_b807b5395ec64a9383ef7b276f0d4e6b",
       "outputs": [
        {
         "name": "stdout",
         "output_type": "stream",
         "text": "2019-01-11 23:48:02,914  - [ERROR] An error occurred!\nTraceback (most recent call last):\n  File \"<ipython-input-81-43aa6f6a7e65>\", line 6, in <module>\n    1.0/0.0\nZeroDivisionError: float division by zero\n"
        },
        {
         "name": "stdout",
         "output_type": "stream",
         "text": "2019-01-11 23:48:02,910  - [INFO] About to try something dangerous...\n"
        },
        {
         "name": "stdout",
         "output_type": "stream",
         "text": "2019-01-11 23:48:02,907  - [INFO] Starting program\n"
        },
        {
         "name": "stdout",
         "output_type": "stream",
         "text": "2019-01-11 23:45:21,870  - [ERROR] An error occurred!\nTraceback (most recent call last):\n  File \"<ipython-input-78-43aa6f6a7e65>\", line 6, in <module>\n    1.0/0.0\nZeroDivisionError: float division by zero\n"
        },
        {
         "name": "stdout",
         "output_type": "stream",
         "text": "2019-01-11 23:45:21,868  - [INFO] About to try something dangerous...\n"
        },
        {
         "name": "stdout",
         "output_type": "stream",
         "text": "2019-01-11 23:45:21,866  - [INFO] Starting program\n"
        },
        {
         "name": "stdout",
         "output_type": "stream",
         "text": "2019-01-11 23:44:57,214  - [ERROR] An error occurred!\nTraceback (most recent call last):\n  File \"<ipython-input-75-43aa6f6a7e65>\", line 6, in <module>\n    1.0/0.0\nZeroDivisionError: float division by zero\n"
        },
        {
         "name": "stdout",
         "output_type": "stream",
         "text": "2019-01-11 23:44:57,212  - [INFO] About to try something dangerous...\n"
        },
        {
         "name": "stdout",
         "output_type": "stream",
         "text": "2019-01-11 23:44:57,211  - [INFO] Starting program\n"
        },
        {
         "name": "stdout",
         "output_type": "stream",
         "text": "2019-01-11 23:43:11,116  - [ERROR] An error occurred!\nTraceback (most recent call last):\n  File \"<ipython-input-72-43aa6f6a7e65>\", line 6, in <module>\n    1.0/0.0\nZeroDivisionError: float division by zero\n"
        },
        {
         "name": "stdout",
         "output_type": "stream",
         "text": "2019-01-11 23:43:11,115  - [INFO] About to try something dangerous...\n"
        },
        {
         "name": "stdout",
         "output_type": "stream",
         "text": "2019-01-11 23:43:11,114  - [INFO] Starting program\n"
        }
       ]
      }
     },
     "420bb362b28349ca92be9767376c2293": {
      "model_module": "@jupyter-widgets/controls",
      "model_module_version": "1.4.0",
      "model_name": "SliderStyleModel",
      "state": {
       "description_width": ""
      }
     },
     "420db1228a2d4609bc80451dd48c2073": {
      "model_module": "@jupyter-widgets/output",
      "model_module_version": "1.0.0",
      "model_name": "OutputModel",
      "state": {
       "layout": "IPY_MODEL_4c3e72ff477447eabef897f9058086a2",
       "outputs": [
        {
         "name": "stdout",
         "output_type": "stream",
         "text": "0 Hello world!\n1 Hello world!\n2 Hello world!\n3 Hello world!\n4 Hello world!\n5 Hello world!\n6 Hello world!\n7 Hello world!\n8 Hello world!\n9 Hello world!\n10 Hello world!\n11 Hello world!\n12 Hello world!\n13 Hello world!\n14 Hello world!\n15 Hello world!\n16 Hello world!\n17 Hello world!\n18 Hello world!\n19 Hello world!\n20 Hello world!\n21 Hello world!\n22 Hello world!\n23 Hello world!\n24 Hello world!\n25 Hello world!\n26 Hello world!\n27 Hello world!\n28 Hello world!\n29 Hello world!\n30 Hello world!\n31 Hello world!\n32 Hello world!\n33 Hello world!\n34 Hello world!\n35 Hello world!\n36 Hello world!\n37 Hello world!\n38 Hello world!\n39 Hello world!\n40 Hello world!\n41 Hello world!\n42 Hello world!\n43 Hello world!\n44 Hello world!\n45 Hello world!\n46 Hello world!\n47 Hello world!\n48 Hello world!\n49 Hello world!\n50 Hello world!\n51 Hello world!\n52 Hello world!\n53 Hello world!\n54 Hello world!\n55 Hello world!\n56 Hello world!\n57 Hello world!\n58 Hello world!\n59 Hello world!\n60 Hello world!\n61 Hello world!\n62 Hello world!\n63 Hello world!\n64 Hello world!\n65 Hello world!\n66 Hello world!\n67 Hello world!\n68 Hello world!\n69 Hello world!\n70 Hello world!\n71 Hello world!\n72 Hello world!\n73 Hello world!\n74 Hello world!\n75 Hello world!\n76 Hello world!\n77 Hello world!\n78 Hello world!\n79 Hello world!\n80 Hello world!\n81 Hello world!\n82 Hello world!\n83 Hello world!\n84 Hello world!\n85 Hello world!\n86 Hello world!\n87 Hello world!\n88 Hello world!\n89 Hello world!\n90 Hello world!\n91 Hello world!\n92 Hello world!\n93 Hello world!\n94 Hello world!\n95 Hello world!\n96 Hello world!\n97 Hello world!\n98 Hello world!\n99 Hello world!\n0 Hello world!\n1 Hello world!\n2 Hello world!\n3 Hello world!\n4 Hello world!\n5 Hello world!\n6 Hello world!\n7 Hello world!\n8 Hello world!\n9 Hello world!\n10 Hello world!\n11 Hello world!\n12 Hello world!\n13 Hello world!\n14 Hello world!\n15 Hello world!\n16 Hello world!\n17 Hello world!\n18 Hello world!\n19 Hello world!\n20 Hello world!\n21 Hello world!\n22 Hello world!\n23 Hello world!\n24 Hello world!\n25 Hello world!\n26 Hello world!\n27 Hello world!\n28 Hello world!\n29 Hello world!\n30 Hello world!\n31 Hello world!\n32 Hello world!\n33 Hello world!\n34 Hello world!\n35 Hello world!\n36 Hello world!\n37 Hello world!\n38 Hello world!\n39 Hello world!\n40 Hello world!\n41 Hello world!\n42 Hello world!\n43 Hello world!\n44 Hello world!\n45 Hello world!\n46 Hello world!\n47 Hello world!\n48 Hello world!\n49 Hello world!\n50 Hello world!\n51 Hello world!\n52 Hello world!\n53 Hello world!\n54 Hello world!\n55 Hello world!\n56 Hello world!\n57 Hello world!\n58 Hello world!\n59 Hello world!\n60 Hello world!\n61 Hello world!\n62 Hello world!\n63 Hello world!\n64 Hello world!\n65 Hello world!\n66 Hello world!\n67 Hello world!\n68 Hello world!\n69 Hello world!\n70 Hello world!\n71 Hello world!\n72 Hello world!\n73 Hello world!\n74 Hello world!\n75 Hello world!\n76 Hello world!\n77 Hello world!\n78 Hello world!\n79 Hello world!\n80 Hello world!\n81 Hello world!\n82 Hello world!\n83 Hello world!\n84 Hello world!\n85 Hello world!\n86 Hello world!\n87 Hello world!\n88 Hello world!\n89 Hello world!\n90 Hello world!\n91 Hello world!\n92 Hello world!\n93 Hello world!\n94 Hello world!\n95 Hello world!\n96 Hello world!\n97 Hello world!\n98 Hello world!\n99 Hello world!\n"
        },
        {
         "data": {
          "image/jpeg": "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\n",
          "text/html": "\n        <iframe\n            width=\"400\"\n            height=\"300\"\n            src=\"https://www.youtube.com/embed/eWzY2nGfkXk\"\n            frameborder=\"0\"\n            allowfullscreen\n        ></iframe>\n        ",
          "text/plain": "<IPython.lib.display.YouTubeVideo at 0x1d559bc2fd0>"
         },
         "metadata": {},
         "output_type": "display_data"
        }
       ]
      }
     },
     "420f9652fee54e3a8ae3674a2adeb2be": {
      "model_module": "@jupyter-widgets/controls",
      "model_module_version": "1.4.0",
      "model_name": "HBoxModel",
      "state": {
       "children": [
        "IPY_MODEL_ca065e16ee6444d1a33f53f235894043",
        "IPY_MODEL_d6c489018cbc4b4984ae01eadb59d5b5"
       ],
       "layout": "IPY_MODEL_e2da27c5704748d392c51ceea58808b0"
      }
     },
     "42812a7d397546f9bf46b2dd3feae9bb": {
      "model_module": "@jupyter-widgets/controls",
      "model_module_version": "1.4.0",
      "model_name": "SliderStyleModel",
      "state": {
       "description_width": ""
      }
     },
     "428fd9b3d89648ee9b28683d7a22119c": {
      "model_module": "@jupyter-widgets/controls",
      "model_module_version": "1.4.0",
      "model_name": "HBoxModel",
      "state": {
       "children": [
        "IPY_MODEL_a93203ae5ecc46bda021b89a5146cedc",
        "IPY_MODEL_0dd10a1f6bde4e87a9d90bd412c2401e",
        "IPY_MODEL_c992f45f5429465985d1d6aa24d69e14"
       ],
       "layout": "IPY_MODEL_330378f0f84043dfaf372bb964edb531"
      }
     },
     "4329a442c0d34be4bfafb3fb435ac2b4": {
      "model_module": "@jupyter-widgets/controls",
      "model_module_version": "1.4.0",
      "model_name": "IntSliderModel",
      "state": {
       "description": "c",
       "layout": "IPY_MODEL_6d9c8a9d4c574db18a04cb4985d87489",
       "style": "IPY_MODEL_9484976c996a4ec3bd44f85b6b102fbf"
      }
     },
     "43fc57e5581845d0a64da7f5ce7dcfe2": {
      "model_module": "@jupyter-widgets/controls",
      "model_module_version": "1.4.0",
      "model_name": "SliderStyleModel",
      "state": {
       "description_width": ""
      }
     },
     "450b4bded9b445e79016f88f74a421e3": {
      "model_module": "@jupyter-widgets/output",
      "model_module_version": "1.0.0",
      "model_name": "OutputModel",
      "state": {
       "layout": "IPY_MODEL_27477e4a1f3f402c8ac1c5d5b668b9c8",
       "outputs": [
        {
         "data": {
          "text/plain": "22"
         },
         "metadata": {},
         "output_type": "display_data"
        }
       ]
      }
     },
     "4590503b663c4548915d21fcc9f295a0": {
      "model_module": "@jupyter-widgets/controls",
      "model_module_version": "1.4.0",
      "model_name": "SliderStyleModel",
      "state": {
       "description_width": ""
      }
     },
     "460d4144e3c641839c1a20942b255b2d": {
      "model_module": "@jupyter-widgets/base",
      "model_module_version": "1.1.0",
      "model_name": "LayoutModel",
      "state": {}
     },
     "472acb5d6d9c4de5864ae7ac647f1b02": {
      "model_module": "@jupyter-widgets/controls",
      "model_module_version": "1.4.0",
      "model_name": "SliderStyleModel",
      "state": {
       "description_width": ""
      }
     },
     "48980c32ffa84a49bfdd9543413abf9b": {
      "model_module": "@jupyter-widgets/output",
      "model_module_version": "1.0.0",
      "model_name": "OutputModel",
      "state": {
       "layout": "IPY_MODEL_18cf7f7905704e14a65e4491f0d34a3c",
       "outputs": [
        {
         "data": {
          "image/png": "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\n",
          "text/plain": "<Figure size 432x288 with 1 Axes>"
         },
         "metadata": {},
         "output_type": "display_data"
        }
       ]
      }
     },
     "4951dc5b03104ae49418f01393bb3677": {
      "model_module": "@jupyter-widgets/controls",
      "model_module_version": "1.4.0",
      "model_name": "VBoxModel",
      "state": {
       "_dom_classes": [
        "widget-interact"
       ],
       "children": [
        "IPY_MODEL_1144620dde734ce89a2791d5d08a2bec",
        "IPY_MODEL_fc450315f99c421498f6531f13792a61",
        "IPY_MODEL_6fd6736b66cc4bd4806716cea48fd866"
       ],
       "layout": "IPY_MODEL_50d95d878b094f7aaaba6210ed69101b"
      }
     },
     "4ab499dcc7624e618e3e51c8dda23bf4": {
      "model_module": "@jupyter-widgets/base",
      "model_module_version": "1.1.0",
      "model_name": "LayoutModel",
      "state": {}
     },
     "4afc6dc7882d43e29e04d4335c7d5ba8": {
      "model_module": "@jupyter-widgets/base",
      "model_module_version": "1.1.0",
      "model_name": "LayoutModel",
      "state": {}
     },
     "4c3e72ff477447eabef897f9058086a2": {
      "model_module": "@jupyter-widgets/base",
      "model_module_version": "1.1.0",
      "model_name": "LayoutModel",
      "state": {
       "border": "1px solid black"
      }
     },
     "4c51b17057e44f82b544fc318ca02095": {
      "model_module": "@jupyter-widgets/controls",
      "model_module_version": "1.4.0",
      "model_name": "SliderStyleModel",
      "state": {
       "description_width": ""
      }
     },
     "4d612d81c51445d68f712c85ff966c9d": {
      "model_module": "@jupyter-widgets/base",
      "model_module_version": "1.1.0",
      "model_name": "LayoutModel",
      "state": {}
     },
     "4d7f97c732f5439eacccc91c3bbe883d": {
      "model_module": "@jupyter-widgets/controls",
      "model_module_version": "1.4.0",
      "model_name": "ButtonStyleModel",
      "state": {}
     },
     "4e15591475ad4729a3fdf008fd7e16ac": {
      "model_module": "@jupyter-widgets/controls",
      "model_module_version": "1.4.0",
      "model_name": "HBoxModel",
      "state": {
       "children": [
        "IPY_MODEL_04bc7f7670a54693b908ab2369df7bcb",
        "IPY_MODEL_d6c489018cbc4b4984ae01eadb59d5b5"
       ],
       "layout": "IPY_MODEL_bad28552ad9549038e70a2f08eb8b927"
      }
     },
     "4e85d3a2566b452baa4f97a6a80f112c": {
      "model_module": "@jupyter-widgets/base",
      "model_module_version": "1.1.0",
      "model_name": "LayoutModel",
      "state": {}
     },
     "4eaafdbc9f7a481c879f003ab631ee74": {
      "model_module": "@jupyter-widgets/controls",
      "model_module_version": "1.4.0",
      "model_name": "DescriptionStyleModel",
      "state": {
       "description_width": ""
      }
     },
     "5042150d81c342c7932fda100b0f81c8": {
      "model_module": "@jupyter-widgets/controls",
      "model_module_version": "1.4.0",
      "model_name": "IntSliderModel",
      "state": {
       "description": "b",
       "layout": "IPY_MODEL_56664a35da4e413aabe32efa0207f203",
       "style": "IPY_MODEL_e3b28473dfda4c2d9ae1a8244b431f9e",
       "value": 40
      }
     },
     "50a36231df3d4454a0e1033ec99224ee": {
      "model_module": "@jupyter-widgets/controls",
      "model_module_version": "1.4.0",
      "model_name": "SliderStyleModel",
      "state": {
       "description_width": ""
      }
     },
     "50cbfe7e77ca4bc1b93f46e429e2346e": {
      "model_module": "@jupyter-widgets/base",
      "model_module_version": "1.1.0",
      "model_name": "LayoutModel",
      "state": {}
     },
     "50d95d878b094f7aaaba6210ed69101b": {
      "model_module": "@jupyter-widgets/base",
      "model_module_version": "1.1.0",
      "model_name": "LayoutModel",
      "state": {}
     },
     "51049eb82e0c4846b195904e0c3b75a7": {
      "model_module": "@jupyter-widgets/controls",
      "model_module_version": "1.4.0",
      "model_name": "SliderStyleModel",
      "state": {
       "description_width": ""
      }
     },
     "51089fe1110e42e9a1d99d9ec388a082": {
      "model_module": "@jupyter-widgets/base",
      "model_module_version": "1.1.0",
      "model_name": "LayoutModel",
      "state": {}
     },
     "53a78694ce334c589d78bb96f75e3ebb": {
      "model_module": "@jupyter-widgets/base",
      "model_module_version": "1.1.0",
      "model_name": "LayoutModel",
      "state": {}
     },
     "5450051c0bc44cadab1137ff8577fc2c": {
      "model_module": "@jupyter-widgets/output",
      "model_module_version": "1.0.0",
      "model_name": "OutputModel",
      "state": {
       "layout": "IPY_MODEL_ac8740de7ff5459487ea220a519370ed",
       "outputs": [
        {
         "name": "stdout",
         "output_type": "stream",
         "text": "0*0*0=0\n\n\n\n\n\n"
        }
       ]
      }
     },
     "5652b442fdd54434b496f8ddafe56762": {
      "model_module": "@jupyter-widgets/base",
      "model_module_version": "1.1.0",
      "model_name": "LayoutModel",
      "state": {}
     },
     "56664a35da4e413aabe32efa0207f203": {
      "model_module": "@jupyter-widgets/base",
      "model_module_version": "1.1.0",
      "model_name": "LayoutModel",
      "state": {}
     },
     "575854e53fe24158a13650b3986a5f95": {
      "model_module": "@jupyter-widgets/base",
      "model_module_version": "1.1.0",
      "model_name": "LayoutModel",
      "state": {}
     },
     "588658a0b1fc4eb78d6ed4029af084bd": {
      "model_module": "@jupyter-widgets/controls",
      "model_module_version": "1.4.0",
      "model_name": "VBoxModel",
      "state": {
       "_dom_classes": [
        "widget-interact"
       ],
       "children": [
        "IPY_MODEL_664d1456210842d2a4df9672897fc84a",
        "IPY_MODEL_cd6bca0896df4145b04645cca4b7e344"
       ],
       "layout": "IPY_MODEL_cd9499cf35b048cdbbdb55918960ef17"
      }
     },
     "588f57aac8aa41298b006883ad428c6d": {
      "model_module": "@jupyter-widgets/base",
      "model_module_version": "1.1.0",
      "model_name": "LayoutModel",
      "state": {}
     },
     "596b82826d39403098fadd23cdcad48c": {
      "model_module": "@jupyter-widgets/controls",
      "model_module_version": "1.4.0",
      "model_name": "FloatSliderModel",
      "state": {
       "description": "x",
       "layout": "IPY_MODEL_2df451c23ece42e5ac94f05c3ed4b8f9",
       "max": 1.8,
       "step": 0.05,
       "style": "IPY_MODEL_e9ba4b25e7da4bb1bab19fd1e78a9f31",
       "value": 1
      }
     },
     "5acb68e98b8b43b5a7f53363c1297fe5": {
      "model_module": "@jupyter-widgets/controls",
      "model_module_version": "1.4.0",
      "model_name": "IntSliderModel",
      "state": {
       "description": "x",
       "layout": "IPY_MODEL_04018f04c920426790948fdcaa713c48",
       "max": 30,
       "min": -10,
       "style": "IPY_MODEL_472acb5d6d9c4de5864ae7ac647f1b02",
       "value": 22
      }
     },
     "5cb1c9ba16ea4947a3b5523b4e4f3790": {
      "model_module": "@jupyter-widgets/base",
      "model_module_version": "1.1.0",
      "model_name": "LayoutModel",
      "state": {}
     },
     "5cbc98d8af7f440d871c4524c0f5094c": {
      "model_module": "@jupyter-widgets/controls",
      "model_module_version": "1.4.0",
      "model_name": "IntSliderModel",
      "state": {
       "description": "c",
       "layout": "IPY_MODEL_98864a8c6fda419f9d75b5a1bd89ed90",
       "style": "IPY_MODEL_ded95a8a14d04fa18858e0d0f010bf28"
      }
     },
     "5cf3ac697ea34fa48a79997e121fc74b": {
      "model_module": "@jupyter-widgets/base",
      "model_module_version": "1.1.0",
      "model_name": "LayoutModel",
      "state": {}
     },
     "5d70a04b7e9e4abc9d2ad5532afe61b4": {
      "model_module": "@jupyter-widgets/base",
      "model_module_version": "1.1.0",
      "model_name": "LayoutModel",
      "state": {}
     },
     "5f5ffbd2413e4d27a03ad85ca87f3644": {
      "model_module": "@jupyter-widgets/controls",
      "model_module_version": "1.4.0",
      "model_name": "SliderStyleModel",
      "state": {
       "description_width": ""
      }
     },
     "5f7f77a9e68b436facc8d9be6ffc5021": {
      "model_module": "@jupyter-widgets/controls",
      "model_module_version": "1.4.0",
      "model_name": "VBoxModel",
      "state": {
       "children": [
        "IPY_MODEL_321bc63b8f20403bacff95e33ee4d7d6",
        "IPY_MODEL_15cc17a448fd47818fd34beee93e4141",
        "IPY_MODEL_36aa6e5bf1944c7a8b5e3f8586a8984e"
       ],
       "layout": "IPY_MODEL_908b4cade7764c138f9085ba1a29b97e"
      }
     },
     "60cfbc5f4daa414cbfe448e1416df333": {
      "model_module": "@jupyter-widgets/base",
      "model_module_version": "1.1.0",
      "model_name": "LayoutModel",
      "state": {}
     },
     "61123ac66950410db0e48ddee320d58a": {
      "model_module": "@jupyter-widgets/base",
      "model_module_version": "1.1.0",
      "model_name": "LayoutModel",
      "state": {}
     },
     "61f792625562400f8bbd1cff0df42d99": {
      "model_module": "@jupyter-widgets/base",
      "model_module_version": "1.1.0",
      "model_name": "LayoutModel",
      "state": {}
     },
     "6215040e75e748948b3fc6bbcaa38228": {
      "model_module": "@jupyter-widgets/controls",
      "model_module_version": "1.4.0",
      "model_name": "HBoxModel",
      "state": {
       "children": [
        "IPY_MODEL_3c1fe3fc7f3a468695033ceaea9bb8f9",
        "IPY_MODEL_1c048561829c49088bf776208ca7d8e0"
       ],
       "layout": "IPY_MODEL_100f93f6df124c6dac0b5c77c558d839"
      }
     },
     "62c253cf14644aadb3035619b14dc424": {
      "model_module": "@jupyter-widgets/controls",
      "model_module_version": "1.4.0",
      "model_name": "IntSliderModel",
      "state": {
       "description": "Slider 1",
       "layout": "IPY_MODEL_e52a005b5a11411e85fcdfe032282f74",
       "style": "IPY_MODEL_0acd51cf9ff34bb38ade66672cd88003",
       "value": 73
      }
     },
     "62d4c0747d7743cab5bdb867af48d397": {
      "model_module": "@jupyter-widgets/base",
      "model_module_version": "1.1.0",
      "model_name": "LayoutModel",
      "state": {}
     },
     "6342c8cf01df450fa7509014ca2980ab": {
      "model_module": "@jupyter-widgets/base",
      "model_module_version": "1.1.0",
      "model_name": "LayoutModel",
      "state": {}
     },
     "63ca6673b7504f87a93854855e1ec168": {
      "model_module": "@jupyter-widgets/controls",
      "model_module_version": "1.4.0",
      "model_name": "ButtonStyleModel",
      "state": {}
     },
     "63d99f3f8fac4f37873a2f588f745144": {
      "model_module": "@jupyter-widgets/controls",
      "model_module_version": "1.4.0",
      "model_name": "IntSliderModel",
      "state": {
       "description": "b",
       "layout": "IPY_MODEL_f0475090f0f54377b183bd0b041342b7",
       "style": "IPY_MODEL_33772de057d14fa6be6fc019513b7211"
      }
     },
     "64fe4f6faad249abb152d41a0eb0e3ec": {
      "model_module": "@jupyter-widgets/output",
      "model_module_version": "1.0.0",
      "model_name": "OutputModel",
      "state": {
       "layout": "IPY_MODEL_f4faa425a6c04f58bfb52cf9c97d5626",
       "outputs": [
        {
         "name": "stdout",
         "output_type": "stream",
         "text": "2019-01-11 23:48:02,914  - [ERROR] An error occurred!\nTraceback (most recent call last):\n  File \"<ipython-input-81-43aa6f6a7e65>\", line 6, in <module>\n    1.0/0.0\nZeroDivisionError: float division by zero\n"
        },
        {
         "name": "stdout",
         "output_type": "stream",
         "text": "2019-01-11 23:48:02,910  - [INFO] About to try something dangerous...\n"
        },
        {
         "name": "stdout",
         "output_type": "stream",
         "text": "2019-01-11 23:48:02,907  - [INFO] Starting program\n"
        },
        {
         "name": "stdout",
         "output_type": "stream",
         "text": "2019-01-11 23:45:21,870  - [ERROR] An error occurred!\nTraceback (most recent call last):\n  File \"<ipython-input-78-43aa6f6a7e65>\", line 6, in <module>\n    1.0/0.0\nZeroDivisionError: float division by zero\n"
        },
        {
         "name": "stdout",
         "output_type": "stream",
         "text": "2019-01-11 23:45:21,868  - [INFO] About to try something dangerous...\n"
        },
        {
         "name": "stdout",
         "output_type": "stream",
         "text": "2019-01-11 23:45:21,866  - [INFO] Starting program\n"
        },
        {
         "name": "stdout",
         "output_type": "stream",
         "text": "2019-01-11 23:44:57,214  - [ERROR] An error occurred!\nTraceback (most recent call last):\n  File \"<ipython-input-75-43aa6f6a7e65>\", line 6, in <module>\n    1.0/0.0\nZeroDivisionError: float division by zero\n"
        },
        {
         "name": "stdout",
         "output_type": "stream",
         "text": "2019-01-11 23:44:57,212  - [INFO] About to try something dangerous...\n"
        },
        {
         "name": "stdout",
         "output_type": "stream",
         "text": "2019-01-11 23:44:57,211  - [INFO] Starting program\n"
        }
       ]
      }
     },
     "6557977452ba409799762fe1113c7bda": {
      "model_module": "@jupyter-widgets/base",
      "model_module_version": "1.1.0",
      "model_name": "LayoutModel",
      "state": {}
     },
     "65a44b69784d416c822cdd718bc80953": {
      "model_module": "@jupyter-widgets/output",
      "model_module_version": "1.0.0",
      "model_name": "OutputModel",
      "state": {
       "layout": "IPY_MODEL_edf4d26ce999411bbefa4d63814c12c0",
       "outputs": [
        {
         "name": "stdout",
         "output_type": "stream",
         "text": "1500000 [0, 1, 2, 3, 11, 22, 101, 111, 121, 202, 212, 1001, 1111, 2002, 10001, 10101, 10201, 11011, 11111, 11211, 20002, 20102, 100001, 101101, 110011, 111111, 200002, 1000001, 1001001, 1002001, 1010101, 1011101, 1012101, 1100011, 1101011, 1102011, 1110111, 1111111]\n"
        }
       ]
      }
     },
     "662b6168dc97404eb69b4263d44ac07a": {
      "model_module": "@jupyter-widgets/controls",
      "model_module_version": "1.4.0",
      "model_name": "HBoxModel",
      "state": {
       "children": [
        "IPY_MODEL_a6015581aa334d8cb29f046cd7f78b8b",
        "IPY_MODEL_230f9b7231a14706b098dcba4cdf6215"
       ],
       "layout": "IPY_MODEL_77d2b107c5c24dac94e2708b1c3a3edd"
      }
     },
     "664d1456210842d2a4df9672897fc84a": {
      "model_module": "@jupyter-widgets/controls",
      "model_module_version": "1.4.0",
      "model_name": "FloatSliderModel",
      "state": {
       "description": "x",
       "layout": "IPY_MODEL_3fecbc4c1c9a401bb0ccb1180b8cd4c9",
       "max": 20,
       "step": 0.5,
       "style": "IPY_MODEL_e7d024c636114b2fa9fd1f2dffb3b68c",
       "value": 7.5
      }
     },
     "66da99f2e5ee4ab5a0d32db8e7d7cb72": {
      "model_module": "@jupyter-widgets/controls",
      "model_module_version": "1.4.0",
      "model_name": "IntSliderModel",
      "state": {
       "description": "a",
       "layout": "IPY_MODEL_4d612d81c51445d68f712c85ff966c9d",
       "style": "IPY_MODEL_51049eb82e0c4846b195904e0c3b75a7"
      }
     },
     "67013cec998345c3acb5d8b4fd5d2a22": {
      "model_module": "@jupyter-widgets/controls",
      "model_module_version": "1.4.0",
      "model_name": "FloatSliderModel",
      "state": {
       "description": "b",
       "layout": "IPY_MODEL_6342c8cf01df450fa7509014ca2980ab",
       "max": 3,
       "min": -3,
       "step": 0.5,
       "style": "IPY_MODEL_50a36231df3d4454a0e1033ec99224ee"
      }
     },
     "6716596c728d4f8aad4add6d6ae8c03b": {
      "model_module": "@jupyter-widgets/base",
      "model_module_version": "1.1.0",
      "model_name": "LayoutModel",
      "state": {}
     },
     "6771d88b50ff4ce6868eb7e2f3871fdf": {
      "model_module": "@jupyter-widgets/base",
      "model_module_version": "1.1.0",
      "model_name": "LayoutModel",
      "state": {
       "border": "1px solid black"
      }
     },
     "6883a1cc989444faa3153f604f906c7b": {
      "model_module": "@jupyter-widgets/base",
      "model_module_version": "1.1.0",
      "model_name": "LayoutModel",
      "state": {}
     },
     "6aab5704fc4d4a02bc573f7cb59025fa": {
      "model_module": "@jupyter-widgets/controls",
      "model_module_version": "1.4.0",
      "model_name": "HBoxModel",
      "state": {
       "children": [
        "IPY_MODEL_9c09b5f3807f4dd0a766511a2097a02e",
        "IPY_MODEL_304cd890dd85485da77e7fd9bd2d5aae"
       ],
       "layout": "IPY_MODEL_1a36b13015ae43d3818dc9f31ee0571e"
      }
     },
     "6af463a06fde46a0a0d2e4cfea17351c": {
      "model_module": "@jupyter-widgets/controls",
      "model_module_version": "1.4.0",
      "model_name": "SliderStyleModel",
      "state": {
       "description_width": ""
      }
     },
     "6b7e0e88af024e2b8f5be8706923c103": {
      "model_module": "@jupyter-widgets/controls",
      "model_module_version": "1.4.0",
      "model_name": "DescriptionStyleModel",
      "state": {
       "description_width": ""
      }
     },
     "6bac09420db8445984192a8836767660": {
      "model_module": "@jupyter-widgets/base",
      "model_module_version": "1.1.0",
      "model_name": "LayoutModel",
      "state": {}
     },
     "6c37607f9fe54d898693121b35633c8b": {
      "model_module": "@jupyter-widgets/output",
      "model_module_version": "1.0.0",
      "model_name": "OutputModel",
      "state": {
       "layout": "IPY_MODEL_4e85d3a2566b452baa4f97a6a80f112c",
       "outputs": [
        {
         "data": {
          "text/plain": "12"
         },
         "metadata": {},
         "output_type": "display_data"
        }
       ]
      }
     },
     "6c5878ea8e964f1696b54e831103078a": {
      "model_module": "@jupyter-widgets/base",
      "model_module_version": "1.1.0",
      "model_name": "LayoutModel",
      "state": {}
     },
     "6d40c81c759a421ab96eb54c59fd9505": {
      "model_module": "@jupyter-widgets/controls",
      "model_module_version": "1.4.0",
      "model_name": "SliderStyleModel",
      "state": {
       "description_width": ""
      }
     },
     "6d9c8a9d4c574db18a04cb4985d87489": {
      "model_module": "@jupyter-widgets/base",
      "model_module_version": "1.1.0",
      "model_name": "LayoutModel",
      "state": {}
     },
     "6d9d881752aa468faf847078ce981fc8": {
      "model_module": "@jupyter-widgets/base",
      "model_module_version": "1.1.0",
      "model_name": "LayoutModel",
      "state": {}
     },
     "6f831b9c8f3e491a9fe2054c5bfba4ff": {
      "model_module": "@jupyter-widgets/controls",
      "model_module_version": "1.4.0",
      "model_name": "FloatSliderModel",
      "state": {
       "description": "b",
       "layout": "IPY_MODEL_70572f8476e64990b36ee835394c8bd8",
       "max": 3,
       "min": -3,
       "step": 0.5,
       "style": "IPY_MODEL_8c76b1a53a1f4756bcf7c4694071513f"
      }
     },
     "6fd6736b66cc4bd4806716cea48fd866": {
      "model_module": "@jupyter-widgets/output",
      "model_module_version": "1.0.0",
      "model_name": "OutputModel",
      "state": {
       "layout": "IPY_MODEL_4ab499dcc7624e618e3e51c8dda23bf4"
      }
     },
     "70375e988dff420e9cb8a738545f90cc": {
      "model_module": "@jupyter-widgets/controls",
      "model_module_version": "1.4.0",
      "model_name": "SliderStyleModel",
      "state": {
       "description_width": ""
      }
     },
     "70572f8476e64990b36ee835394c8bd8": {
      "model_module": "@jupyter-widgets/base",
      "model_module_version": "1.1.0",
      "model_name": "LayoutModel",
      "state": {}
     },
     "70d893d6703446cdb5831fd5f2c859e6": {
      "model_module": "@jupyter-widgets/output",
      "model_module_version": "1.0.0",
      "model_name": "OutputModel",
      "state": {
       "layout": "IPY_MODEL_12761a1e5269485b905a001ae9894e7f",
       "outputs": [
        {
         "name": "stdout",
         "output_type": "stream",
         "text": "2019-01-11 23:48:02,914  - [ERROR] An error occurred!\nTraceback (most recent call last):\n  File \"<ipython-input-81-43aa6f6a7e65>\", line 6, in <module>\n    1.0/0.0\nZeroDivisionError: float division by zero\n"
        },
        {
         "name": "stdout",
         "output_type": "stream",
         "text": "2019-01-11 23:48:02,910  - [INFO] About to try something dangerous...\n"
        },
        {
         "name": "stdout",
         "output_type": "stream",
         "text": "2019-01-11 23:48:02,907  - [INFO] Starting program\n"
        },
        {
         "name": "stdout",
         "output_type": "stream",
         "text": "2019-01-11 23:45:21,870  - [ERROR] An error occurred!\nTraceback (most recent call last):\n  File \"<ipython-input-78-43aa6f6a7e65>\", line 6, in <module>\n    1.0/0.0\nZeroDivisionError: float division by zero\n"
        },
        {
         "name": "stdout",
         "output_type": "stream",
         "text": "2019-01-11 23:45:21,868  - [INFO] About to try something dangerous...\n"
        },
        {
         "name": "stdout",
         "output_type": "stream",
         "text": "2019-01-11 23:45:21,866  - [INFO] Starting program\n"
        },
        {
         "name": "stdout",
         "output_type": "stream",
         "text": "2019-01-11 23:44:57,214  - [ERROR] An error occurred!\nTraceback (most recent call last):\n  File \"<ipython-input-75-43aa6f6a7e65>\", line 6, in <module>\n    1.0/0.0\nZeroDivisionError: float division by zero\n"
        },
        {
         "name": "stdout",
         "output_type": "stream",
         "text": "2019-01-11 23:44:57,212  - [INFO] About to try something dangerous...\n"
        },
        {
         "name": "stdout",
         "output_type": "stream",
         "text": "2019-01-11 23:44:57,211  - [INFO] Starting program\n"
        },
        {
         "name": "stdout",
         "output_type": "stream",
         "text": "2019-01-11 23:43:11,116  - [ERROR] An error occurred!\nTraceback (most recent call last):\n  File \"<ipython-input-72-43aa6f6a7e65>\", line 6, in <module>\n    1.0/0.0\nZeroDivisionError: float division by zero\n"
        },
        {
         "name": "stdout",
         "output_type": "stream",
         "text": "2019-01-11 23:43:11,115  - [INFO] About to try something dangerous...\n"
        },
        {
         "name": "stdout",
         "output_type": "stream",
         "text": "2019-01-11 23:43:11,114  - [INFO] Starting program\n"
        }
       ]
      }
     },
     "719b0a11674440ddbf0b1a2b69b19961": {
      "model_module": "@jupyter-widgets/base",
      "model_module_version": "1.1.0",
      "model_name": "LayoutModel",
      "state": {}
     },
     "72446f9940cd46bbaf6c2624929dcf56": {
      "model_module": "@jupyter-widgets/base",
      "model_module_version": "1.1.0",
      "model_name": "LayoutModel",
      "state": {}
     },
     "736443185f6146c7b6f1dc57c38340c8": {
      "model_module": "@jupyter-widgets/controls",
      "model_module_version": "1.4.0",
      "model_name": "FloatSliderModel",
      "state": {
       "description": "i",
       "layout": "IPY_MODEL_061d505146174f0082d6236248f41e54",
       "max": 10000000,
       "min": 100000,
       "step": 100000,
       "style": "IPY_MODEL_f65794fc40dc4faca386076165d04196",
       "value": 1500000
      }
     },
     "73887887675847cabc2127ab35828578": {
      "model_module": "@jupyter-widgets/base",
      "model_module_version": "1.1.0",
      "model_name": "LayoutModel",
      "state": {}
     },
     "758ab86214854819b6c616c98ff6fae1": {
      "model_module": "@jupyter-widgets/controls",
      "model_module_version": "1.4.0",
      "model_name": "SliderStyleModel",
      "state": {
       "description_width": ""
      }
     },
     "75e6b58db3f4478fa2ce11e661874c53": {
      "model_module": "@jupyter-widgets/controls",
      "model_module_version": "1.4.0",
      "model_name": "HBoxModel",
      "state": {
       "children": [
        "IPY_MODEL_786fb2d1d0f840c3ac39bff729a6ae9a",
        "IPY_MODEL_86307f9663ec4dffbf775851b097b05e"
       ],
       "layout": "IPY_MODEL_098b97e5872d43a59a2f706ff1e22584"
      }
     },
     "7611614d56c54810b957ec2277d63200": {
      "model_module": "@jupyter-widgets/controls",
      "model_module_version": "1.4.0",
      "model_name": "IntSliderModel",
      "state": {
       "description": "b",
       "layout": "IPY_MODEL_801ff449091c40ad9ac7c384d950547c",
       "style": "IPY_MODEL_b4510f4992794cf5b1c9341344f41080",
       "value": 100
      }
     },
     "7670fcd590a54b6ab6bb3b55fe87f1d0": {
      "model_module": "@jupyter-widgets/base",
      "model_module_version": "1.1.0",
      "model_name": "LayoutModel",
      "state": {}
     },
     "767830bfc8644a51b6ebe9f21f215115": {
      "model_module": "@jupyter-widgets/base",
      "model_module_version": "1.1.0",
      "model_name": "LayoutModel",
      "state": {}
     },
     "76a2601f10604141875797e55d27a310": {
      "model_module": "@jupyter-widgets/base",
      "model_module_version": "1.1.0",
      "model_name": "LayoutModel",
      "state": {}
     },
     "77d2b107c5c24dac94e2708b1c3a3edd": {
      "model_module": "@jupyter-widgets/base",
      "model_module_version": "1.1.0",
      "model_name": "LayoutModel",
      "state": {}
     },
     "786fb2d1d0f840c3ac39bff729a6ae9a": {
      "model_module": "@jupyter-widgets/controls",
      "model_module_version": "1.4.0",
      "model_name": "VBoxModel",
      "state": {
       "children": [
        "IPY_MODEL_8433d89c7a264e08843f22bb1b66f7f7",
        "IPY_MODEL_63d99f3f8fac4f37873a2f588f745144",
        "IPY_MODEL_0440b7ec19a045b0ba82801f8db08086"
       ],
       "layout": "IPY_MODEL_40bee3f68f9742d38ff3f0627ddcc641"
      }
     },
     "799903cd90f04d68ad75be37056c4ab1": {
      "model_module": "@jupyter-widgets/controls",
      "model_module_version": "1.4.0",
      "model_name": "IntSliderModel",
      "state": {
       "description": "c",
       "layout": "IPY_MODEL_7b0619ae44c44ca0b1e7e81ad687c7fa",
       "style": "IPY_MODEL_9fee730e822b4bdd99e55b547a99b8ef",
       "value": 47
      }
     },
     "7adcd66a91244571a8b1885314ef3468": {
      "model_module": "@jupyter-widgets/base",
      "model_module_version": "1.1.0",
      "model_name": "LayoutModel",
      "state": {}
     },
     "7b0619ae44c44ca0b1e7e81ad687c7fa": {
      "model_module": "@jupyter-widgets/base",
      "model_module_version": "1.1.0",
      "model_name": "LayoutModel",
      "state": {}
     },
     "7cef987306bb484d8011f51d5f7fd3e5": {
      "model_module": "@jupyter-widgets/base",
      "model_module_version": "1.1.0",
      "model_name": "LayoutModel",
      "state": {}
     },
     "7d0bf26c90134fbdb3a4307ce8138c04": {
      "model_module": "@jupyter-widgets/controls",
      "model_module_version": "1.4.0",
      "model_name": "IntSliderModel",
      "state": {
       "description": "x",
       "layout": "IPY_MODEL_fdb87d011b1e44c6af5a243a7429c4ea",
       "max": 30,
       "min": -10,
       "style": "IPY_MODEL_420bb362b28349ca92be9767376c2293",
       "value": 12
      }
     },
     "7e34a5a5dbec4e03bf410dbb70962230": {
      "model_module": "@jupyter-widgets/controls",
      "model_module_version": "1.4.0",
      "model_name": "SliderStyleModel",
      "state": {
       "description_width": ""
      }
     },
     "7e4b395c120f4a29895a0c4657bde273": {
      "model_module": "@jupyter-widgets/controls",
      "model_module_version": "1.4.0",
      "model_name": "SliderStyleModel",
      "state": {
       "description_width": ""
      }
     },
     "7f8c0c5323274616a5f924040fbea0e8": {
      "model_module": "@jupyter-widgets/base",
      "model_module_version": "1.1.0",
      "model_name": "LayoutModel",
      "state": {}
     },
     "7fc6a0cc0eb24ff3b6f98767874f488e": {
      "model_module": "@jupyter-widgets/controls",
      "model_module_version": "1.4.0",
      "model_name": "DescriptionStyleModel",
      "state": {
       "description_width": ""
      }
     },
     "7fda423974fe48aa87d1586d3d2deaf1": {
      "model_module": "@jupyter-widgets/controls",
      "model_module_version": "1.4.0",
      "model_name": "ButtonStyleModel",
      "state": {}
     },
     "801ff449091c40ad9ac7c384d950547c": {
      "model_module": "@jupyter-widgets/base",
      "model_module_version": "1.1.0",
      "model_name": "LayoutModel",
      "state": {}
     },
     "813bc877b5214e289bc6d23e81a9a727": {
      "model_module": "@jupyter-widgets/controls",
      "model_module_version": "1.4.0",
      "model_name": "IntSliderModel",
      "state": {
       "description": "b",
       "layout": "IPY_MODEL_d6ffcab87e914f02886aad4320d05f4e",
       "style": "IPY_MODEL_11147ef2f9d04514b0da0bce6ecf69ab",
       "value": 97
      }
     },
     "81ef6be4fe1345f8ba10c5ae4d4db645": {
      "model_module": "@jupyter-widgets/base",
      "model_module_version": "1.1.0",
      "model_name": "LayoutModel",
      "state": {}
     },
     "827f1fd9f6634965848689c5863eebda": {
      "model_module": "@jupyter-widgets/base",
      "model_module_version": "1.1.0",
      "model_name": "LayoutModel",
      "state": {}
     },
     "8433d89c7a264e08843f22bb1b66f7f7": {
      "model_module": "@jupyter-widgets/controls",
      "model_module_version": "1.4.0",
      "model_name": "IntSliderModel",
      "state": {
       "description": "a",
       "layout": "IPY_MODEL_61f792625562400f8bbd1cff0df42d99",
       "style": "IPY_MODEL_a79b23cc7dfa4eb8aefcc6ccde8c7cfe"
      }
     },
     "858bd9c99fe24ca086d020fb90e6f809": {
      "model_module": "@jupyter-widgets/base",
      "model_module_version": "1.1.0",
      "model_name": "LayoutModel",
      "state": {}
     },
     "86307f9663ec4dffbf775851b097b05e": {
      "model_module": "@jupyter-widgets/output",
      "model_module_version": "1.0.0",
      "model_name": "OutputModel",
      "state": {
       "layout": "IPY_MODEL_eba694b4b3824f16a0e3de0337904021",
       "outputs": [
        {
         "name": "stdout",
         "output_type": "stream",
         "text": "0*0*0=0\n"
        }
       ]
      }
     },
     "868e7978724c4eb583b62ca1a77837dc": {
      "model_module": "@jupyter-widgets/base",
      "model_module_version": "1.1.0",
      "model_name": "LayoutModel",
      "state": {}
     },
     "86bb8b012b6f4198917f826353488a90": {
      "model_module": "@jupyter-widgets/base",
      "model_module_version": "1.1.0",
      "model_name": "LayoutModel",
      "state": {
       "border": "1px solid black"
      }
     },
     "86fa889f70844b0cb1fb91dbd9c65f19": {
      "model_module": "@jupyter-widgets/base",
      "model_module_version": "1.1.0",
      "model_name": "LayoutModel",
      "state": {}
     },
     "87e8bf94f62b49df81ba6519114aab95": {
      "model_module": "@jupyter-widgets/base",
      "model_module_version": "1.1.0",
      "model_name": "LayoutModel",
      "state": {}
     },
     "88d4d76373404a1e81475533f52df5c4": {
      "model_module": "@jupyter-widgets/output",
      "model_module_version": "1.0.0",
      "model_name": "OutputModel",
      "state": {
       "layout": "IPY_MODEL_2914ab3938b84083b3ac2d9df6d8808d",
       "outputs": [
        {
         "name": "stdout",
         "output_type": "stream",
         "text": "1 ** some text\n"
        },
        {
         "name": "stdout",
         "output_type": "stream",
         "text": "2 **** some text\n"
        },
        {
         "name": "stdout",
         "output_type": "stream",
         "text": "3 ****** some text\n"
        },
        {
         "name": "stdout",
         "output_type": "stream",
         "text": "4 ******** some text\n"
        },
        {
         "data": {
          "text/html": "<em>All done!</em>",
          "text/plain": "<IPython.core.display.HTML object>"
         },
         "metadata": {},
         "output_type": "display_data"
        }
       ]
      }
     },
     "8b3820ffaaa04e548707a29d55132166": {
      "model_module": "@jupyter-widgets/controls",
      "model_module_version": "1.4.0",
      "model_name": "IntSliderModel",
      "state": {
       "description": "b",
       "layout": "IPY_MODEL_1c25a9ef94594833947569f1494225ed",
       "style": "IPY_MODEL_6af463a06fde46a0a0d2e4cfea17351c"
      }
     },
     "8c76b1a53a1f4756bcf7c4694071513f": {
      "model_module": "@jupyter-widgets/controls",
      "model_module_version": "1.4.0",
      "model_name": "SliderStyleModel",
      "state": {
       "description_width": ""
      }
     },
     "8cc3b63dd265490eacef30f082e84a06": {
      "model_module": "@jupyter-widgets/base",
      "model_module_version": "1.1.0",
      "model_name": "LayoutModel",
      "state": {}
     },
     "8d318a8cdce44fb493df12033973c611": {
      "model_module": "@jupyter-widgets/base",
      "model_module_version": "1.1.0",
      "model_name": "LayoutModel",
      "state": {}
     },
     "8d6b0c0951fa46189e095760dce65f6e": {
      "model_module": "@jupyter-widgets/output",
      "model_module_version": "1.0.0",
      "model_name": "OutputModel",
      "state": {
       "layout": "IPY_MODEL_16913f16cfb04a16816b6d6dbcd43d70",
       "outputs": [
        {
         "data": {
          "text/plain": "-2"
         },
         "metadata": {},
         "output_type": "display_data"
        }
       ]
      }
     },
     "8d8f2ca91a1e4956ac31a6af915fa60b": {
      "model_module": "@jupyter-widgets/controls",
      "model_module_version": "1.4.0",
      "model_name": "FloatSliderModel",
      "state": {
       "description": "i",
       "layout": "IPY_MODEL_a7d329989f2a477daa521f4d70a8d4b5",
       "max": 10000000,
       "min": 100000,
       "step": 100000,
       "style": "IPY_MODEL_f4b42306290e43d1afa705e40277c0d2",
       "value": 3600000
      }
     },
     "8dd7291ff37f41cb8a522fcd78c690c8": {
      "model_module": "@jupyter-widgets/controls",
      "model_module_version": "1.4.0",
      "model_name": "IntSliderModel",
      "state": {
       "description": "a",
       "layout": "IPY_MODEL_62d4c0747d7743cab5bdb867af48d397",
       "max": 30,
       "min": -10,
       "style": "IPY_MODEL_9311ff0a0bd3479eb1081ff377cd9729",
       "value": -10
      }
     },
     "8f0822e5d8874ba38351ff654671bec5": {
      "model_module": "@jupyter-widgets/base",
      "model_module_version": "1.1.0",
      "model_name": "LayoutModel",
      "state": {}
     },
     "8f758ff8fae44ee6b64c0c9d86af5696": {
      "model_module": "@jupyter-widgets/controls",
      "model_module_version": "1.4.0",
      "model_name": "IntSliderModel",
      "state": {
       "description": "b",
       "layout": "IPY_MODEL_827f1fd9f6634965848689c5863eebda",
       "max": 60,
       "min": -20,
       "style": "IPY_MODEL_ce1bbf2822da437494fd2ad61b5e2f13",
       "value": 14
      }
     },
     "8fb2e033a98e4a83b5ab4916448baa65": {
      "model_module": "@jupyter-widgets/controls",
      "model_module_version": "1.4.0",
      "model_name": "IntSliderModel",
      "state": {
       "description": "a",
       "layout": "IPY_MODEL_6557977452ba409799762fe1113c7bda",
       "max": 30,
       "min": -10,
       "style": "IPY_MODEL_cad405711aa0415cb3a8ee411881dc12",
       "value": 10
      }
     },
     "8fc0b2e422934fcc83a0ba11cfc035db": {
      "model_module": "@jupyter-widgets/controls",
      "model_module_version": "1.4.0",
      "model_name": "IntSliderModel",
      "state": {
       "description": "Source",
       "layout": "IPY_MODEL_73887887675847cabc2127ab35828578",
       "style": "IPY_MODEL_4c51b17057e44f82b544fc318ca02095",
       "value": 51
      }
     },
     "8fd0617db39645b4ab72dc4deefde89a": {
      "model_module": "@jupyter-widgets/controls",
      "model_module_version": "1.4.0",
      "model_name": "ButtonModel",
      "state": {
       "description": "Click Me!",
       "layout": "IPY_MODEL_37b0a211e3434d47a157d189ab9573a8",
       "style": "IPY_MODEL_a1a7461bc24c4c3494d4dca454ac5090"
      }
     },
     "908b4cade7764c138f9085ba1a29b97e": {
      "model_module": "@jupyter-widgets/base",
      "model_module_version": "1.1.0",
      "model_name": "LayoutModel",
      "state": {}
     },
     "90b07558afb046cda82ae6ceb9d20ee9": {
      "model_module": "@jupyter-widgets/controls",
      "model_module_version": "1.4.0",
      "model_name": "SliderStyleModel",
      "state": {
       "description_width": ""
      }
     },
     "9195d9b7a20a44f5848f0e00652a220d": {
      "model_module": "@jupyter-widgets/base",
      "model_module_version": "1.1.0",
      "model_name": "LayoutModel",
      "state": {}
     },
     "9196f586119a4439aa11a47ac0b0b82b": {
      "model_module": "@jupyter-widgets/controls",
      "model_module_version": "1.4.0",
      "model_name": "SliderStyleModel",
      "state": {
       "description_width": ""
      }
     },
     "9248dd58fd894983884f45f93d1e5940": {
      "model_module": "@jupyter-widgets/output",
      "model_module_version": "1.0.0",
      "model_name": "OutputModel",
      "state": {
       "layout": "IPY_MODEL_d8a43889172c4e7ebbecb47457483a10",
       "outputs": [
        {
         "data": {
          "text/plain": "24"
         },
         "metadata": {},
         "output_type": "display_data"
        }
       ]
      }
     },
     "9311ff0a0bd3479eb1081ff377cd9729": {
      "model_module": "@jupyter-widgets/controls",
      "model_module_version": "1.4.0",
      "model_name": "SliderStyleModel",
      "state": {
       "description_width": ""
      }
     },
     "937b78dc67054c0ba42eb31a315269d1": {
      "model_module": "@jupyter-widgets/base",
      "model_module_version": "1.1.0",
      "model_name": "LayoutModel",
      "state": {}
     },
     "93c8de5478a84744a40fe426ed822841": {
      "model_module": "@jupyter-widgets/controls",
      "model_module_version": "1.4.0",
      "model_name": "DropdownModel",
      "state": {
       "_options_labels": [
        "one",
        "two"
       ],
       "description": "x",
       "index": 0,
       "layout": "IPY_MODEL_767830bfc8644a51b6ebe9f21f215115",
       "style": "IPY_MODEL_6b7e0e88af024e2b8f5be8706923c103"
      }
     },
     "9484976c996a4ec3bd44f85b6b102fbf": {
      "model_module": "@jupyter-widgets/controls",
      "model_module_version": "1.4.0",
      "model_name": "SliderStyleModel",
      "state": {
       "description_width": ""
      }
     },
     "9581f638373f4826b246dc5891e8da59": {
      "model_module": "@jupyter-widgets/output",
      "model_module_version": "1.0.0",
      "model_name": "OutputModel",
      "state": {
       "layout": "IPY_MODEL_6883a1cc989444faa3153f604f906c7b",
       "outputs": [
        {
         "data": {
          "text/plain": "(True, 1.3)"
         },
         "metadata": {},
         "output_type": "display_data"
        }
       ]
      }
     },
     "95fc2f0b7a6c46759e3e8d8d3ef43f2c": {
      "model_module": "@jupyter-widgets/controls",
      "model_module_version": "1.4.0",
      "model_name": "VBoxModel",
      "state": {
       "_dom_classes": [
        "widget-interact"
       ],
       "children": [
        "IPY_MODEL_0ddf1ec6ff504c12adab6f2b6f784e10",
        "IPY_MODEL_f993b02a9c3f439f8ecf618ebb07c220"
       ],
       "layout": "IPY_MODEL_4183625756344af2b1f9b459cb2a2520"
      }
     },
     "9627a38375364ebbbfa57b3eb1da06b9": {
      "model_module": "@jupyter-widgets/controls",
      "model_module_version": "1.4.0",
      "model_name": "SliderStyleModel",
      "state": {
       "description_width": ""
      }
     },
     "96bb983f649749c4843340007ff036c6": {
      "model_module": "@jupyter-widgets/controls",
      "model_module_version": "1.4.0",
      "model_name": "IntSliderModel",
      "state": {
       "description": "x",
       "layout": "IPY_MODEL_87e8bf94f62b49df81ba6519114aab95",
       "max": 30,
       "min": -10,
       "style": "IPY_MODEL_e44eb9dead074a8780c2e9d40e6e405e",
       "value": -2
      }
     },
     "98864a8c6fda419f9d75b5a1bd89ed90": {
      "model_module": "@jupyter-widgets/base",
      "model_module_version": "1.1.0",
      "model_name": "LayoutModel",
      "state": {}
     },
     "99c6d31fcb024e56894eac45ba4789eb": {
      "model_module": "@jupyter-widgets/base",
      "model_module_version": "1.1.0",
      "model_name": "LayoutModel",
      "state": {}
     },
     "9ab6050cca354c899cb167e0cf6362f8": {
      "model_module": "@jupyter-widgets/base",
      "model_module_version": "1.1.0",
      "model_name": "LayoutModel",
      "state": {}
     },
     "9aca52966b2b4e78891fb06299759f12": {
      "model_module": "@jupyter-widgets/base",
      "model_module_version": "1.1.0",
      "model_name": "LayoutModel",
      "state": {
       "border": "1px solid black"
      }
     },
     "9adecaaf215546ada0728741131e0ad0": {
      "model_module": "@jupyter-widgets/base",
      "model_module_version": "1.1.0",
      "model_name": "LayoutModel",
      "state": {}
     },
     "9b426756bda9477cb45bf447ba627152": {
      "model_module": "@jupyter-widgets/base",
      "model_module_version": "1.1.0",
      "model_name": "LayoutModel",
      "state": {}
     },
     "9b869dd76d364b278271b13704cf0bd7": {
      "model_module": "@jupyter-widgets/controls",
      "model_module_version": "1.4.0",
      "model_name": "SliderStyleModel",
      "state": {
       "description_width": ""
      }
     },
     "9c07f87d410c435eabbc7bd8fab3475a": {
      "model_module": "@jupyter-widgets/base",
      "model_module_version": "1.1.0",
      "model_name": "LayoutModel",
      "state": {}
     },
     "9c09b5f3807f4dd0a766511a2097a02e": {
      "model_module": "@jupyter-widgets/controls",
      "model_module_version": "1.4.0",
      "model_name": "VBoxModel",
      "state": {
       "children": [
        "IPY_MODEL_054501482f7e40b5a5618d82df2db668",
        "IPY_MODEL_7611614d56c54810b957ec2277d63200",
        "IPY_MODEL_1ffc8a5431df4dac836286b9f3106e31"
       ],
       "layout": "IPY_MODEL_3da119702a0247538757d07bd3eff129"
      }
     },
     "9d0e135fae70456ca426fc5d3168a0d9": {
      "model_module": "@jupyter-widgets/controls",
      "model_module_version": "1.4.0",
      "model_name": "IntSliderModel",
      "state": {
       "description": "c",
       "layout": "IPY_MODEL_8f0822e5d8874ba38351ff654671bec5",
       "style": "IPY_MODEL_e835d6463aa941d39a2c6336f35b568d"
      }
     },
     "9d9d170ed068496f83ad02166ecef790": {
      "model_module": "@jupyter-widgets/output",
      "model_module_version": "1.0.0",
      "model_name": "OutputModel",
      "state": {
       "layout": "IPY_MODEL_35bc647505e54a7baaa1afaf5db48c93",
       "outputs": [
        {
         "data": {
          "text/plain": "40"
         },
         "metadata": {},
         "output_type": "display_data"
        }
       ]
      }
     },
     "9e61e5b21fc84fc08a31280fa85ad464": {
      "model_module": "@jupyter-widgets/base",
      "model_module_version": "1.1.0",
      "model_name": "LayoutModel",
      "state": {}
     },
     "9e8eb66d4a4c48a7adb4c257c3ba182a": {
      "model_module": "@jupyter-widgets/base",
      "model_module_version": "1.1.0",
      "model_name": "LayoutModel",
      "state": {}
     },
     "9f98d332dced47c2b3d85407ccb3bec8": {
      "model_module": "@jupyter-widgets/base",
      "model_module_version": "1.1.0",
      "model_name": "LayoutModel",
      "state": {}
     },
     "9fee730e822b4bdd99e55b547a99b8ef": {
      "model_module": "@jupyter-widgets/controls",
      "model_module_version": "1.4.0",
      "model_name": "SliderStyleModel",
      "state": {
       "description_width": ""
      }
     },
     "a0d9e1fbc6d844c59d606956fc9cf155": {
      "model_module": "@jupyter-widgets/output",
      "model_module_version": "1.0.0",
      "model_name": "OutputModel",
      "state": {
       "layout": "IPY_MODEL_be84d06ba22c46739f7c608a85962631",
       "outputs": [
        {
         "name": "stdout",
         "output_type": "stream",
         "text": "0 Hello world!\n1 Hello world!\n2 Hello world!\n3 Hello world!\n4 Hello world!\n5 Hello world!\n6 Hello world!\n7 Hello world!\n8 Hello world!\n9 Hello world!\n0 Hello world!\n1 Hello world!\n2 Hello world!\n3 Hello world!\n4 Hello world!\n5 Hello world!\n6 Hello world!\n7 Hello world!\n8 Hello world!\n9 Hello world!\n"
        }
       ]
      }
     },
     "a1a7461bc24c4c3494d4dca454ac5090": {
      "model_module": "@jupyter-widgets/controls",
      "model_module_version": "1.4.0",
      "model_name": "ButtonStyleModel",
      "state": {}
     },
     "a22043ff0f864302b874379906209720": {
      "model_module": "@jupyter-widgets/controls",
      "model_module_version": "1.4.0",
      "model_name": "SliderStyleModel",
      "state": {
       "description_width": ""
      }
     },
     "a2b39c6e1a5d4606844ee972d9408f16": {
      "model_module": "@jupyter-widgets/base",
      "model_module_version": "1.1.0",
      "model_name": "LayoutModel",
      "state": {}
     },
     "a3d53eb829e04533b105f685677f2d90": {
      "model_module": "@jupyter-widgets/controls",
      "model_module_version": "1.4.0",
      "model_name": "VBoxModel",
      "state": {
       "_dom_classes": [
        "widget-interact"
       ],
       "children": [
        "IPY_MODEL_7d0bf26c90134fbdb3a4307ce8138c04",
        "IPY_MODEL_6c37607f9fe54d898693121b35633c8b"
       ],
       "layout": "IPY_MODEL_35906094a4874cf8b7d0aedd805650fa"
      }
     },
     "a3eb50bd1152409fbb0b0eb3be559487": {
      "model_module": "@jupyter-widgets/controls",
      "model_module_version": "1.4.0",
      "model_name": "VBoxModel",
      "state": {
       "children": [
        "IPY_MODEL_66da99f2e5ee4ab5a0d32db8e7d7cb72",
        "IPY_MODEL_2e529e2578244887917e9fba0978bb6d",
        "IPY_MODEL_4329a442c0d34be4bfafb3fb435ac2b4"
       ],
       "layout": "IPY_MODEL_9195d9b7a20a44f5848f0e00652a220d"
      }
     },
     "a417e20dcc5046b0aa6a304fd3bf458d": {
      "model_module": "@jupyter-widgets/controls",
      "model_module_version": "1.4.0",
      "model_name": "SliderStyleModel",
      "state": {
       "description_width": ""
      }
     },
     "a6015581aa334d8cb29f046cd7f78b8b": {
      "model_module": "@jupyter-widgets/controls",
      "model_module_version": "1.4.0",
      "model_name": "VBoxModel",
      "state": {
       "children": [
        "IPY_MODEL_d44e8564994e4e93bce7e44fd8c02fdd",
        "IPY_MODEL_41b6a92c87f449bbb26067be7c055f53",
        "IPY_MODEL_5cbc98d8af7f440d871c4524c0f5094c"
       ],
       "layout": "IPY_MODEL_ca6ab3ea859a417c84dfab1992af3404"
      }
     },
     "a79b23cc7dfa4eb8aefcc6ccde8c7cfe": {
      "model_module": "@jupyter-widgets/controls",
      "model_module_version": "1.4.0",
      "model_name": "SliderStyleModel",
      "state": {
       "description_width": ""
      }
     },
     "a7d329989f2a477daa521f4d70a8d4b5": {
      "model_module": "@jupyter-widgets/base",
      "model_module_version": "1.1.0",
      "model_name": "LayoutModel",
      "state": {}
     },
     "a93203ae5ecc46bda021b89a5146cedc": {
      "model_module": "@jupyter-widgets/controls",
      "model_module_version": "1.4.0",
      "model_name": "IntSliderModel",
      "state": {
       "layout": "IPY_MODEL_e004966da9a54e7d8b3064195ae6ff16",
       "style": "IPY_MODEL_7e4b395c120f4a29895a0c4657bde273",
       "value": 53
      }
     },
     "a9b908fb87f84306ae8c3cc5c21473e9": {
      "model_module": "@jupyter-widgets/base",
      "model_module_version": "1.1.0",
      "model_name": "LayoutModel",
      "state": {}
     },
     "aa4c4954615f4a78b10b73e47f4b1908": {
      "model_module": "@jupyter-widgets/controls",
      "model_module_version": "1.4.0",
      "model_name": "IntSliderModel",
      "state": {
       "description": "b",
       "layout": "IPY_MODEL_f3a0ca0624be4ba98f54ce71e56dd794",
       "max": 60,
       "min": -20,
       "style": "IPY_MODEL_b68650524d674ec494697bc7816640f5",
       "value": 34
      }
     },
     "ac41e18681864a359e073020cde91280": {
      "model_module": "@jupyter-widgets/output",
      "model_module_version": "1.0.0",
      "model_name": "OutputModel",
      "state": {
       "layout": "IPY_MODEL_0026bbd5144547649948a8d1ff208dfa",
       "outputs": [
        {
         "name": "stdout",
         "output_type": "stream",
         "text": "44*97*0=0\n"
        }
       ]
      }
     },
     "ac83e006721a47b5a35bc88ddef0ed71": {
      "model_module": "@jupyter-widgets/base",
      "model_module_version": "1.1.0",
      "model_name": "LayoutModel",
      "state": {}
     },
     "ac8740de7ff5459487ea220a519370ed": {
      "model_module": "@jupyter-widgets/base",
      "model_module_version": "1.1.0",
      "model_name": "LayoutModel",
      "state": {
       "border": "1px solid black"
      }
     },
     "ae5580bc7cda4622b0e93cde9aa8983c": {
      "model_module": "@jupyter-widgets/controls",
      "model_module_version": "1.4.0",
      "model_name": "IntSliderModel",
      "state": {
       "description": "c",
       "layout": "IPY_MODEL_61123ac66950410db0e48ddee320d58a",
       "style": "IPY_MODEL_4590503b663c4548915d21fcc9f295a0",
       "value": 34
      }
     },
     "afeca492aabf42ec9569700ce8311083": {
      "model_module": "@jupyter-widgets/base",
      "model_module_version": "1.1.0",
      "model_name": "LayoutModel",
      "state": {}
     },
     "b4510f4992794cf5b1c9341344f41080": {
      "model_module": "@jupyter-widgets/controls",
      "model_module_version": "1.4.0",
      "model_name": "SliderStyleModel",
      "state": {
       "description_width": ""
      }
     },
     "b4b99058eb77408083cca3db630b3dc0": {
      "model_module": "@jupyter-widgets/controls",
      "model_module_version": "1.4.0",
      "model_name": "VBoxModel",
      "state": {
       "_dom_classes": [
        "widget-interact"
       ],
       "children": [
        "IPY_MODEL_8d8f2ca91a1e4956ac31a6af915fa60b",
        "IPY_MODEL_def9eb2994b94b389792e55baaa84934"
       ],
       "layout": "IPY_MODEL_4afc6dc7882d43e29e04d4335c7d5ba8"
      }
     },
     "b68650524d674ec494697bc7816640f5": {
      "model_module": "@jupyter-widgets/controls",
      "model_module_version": "1.4.0",
      "model_name": "SliderStyleModel",
      "state": {
       "description_width": ""
      }
     },
     "b7d5bc58ab834104916e8c53f6cb20ba": {
      "model_module": "@jupyter-widgets/controls",
      "model_module_version": "1.4.0",
      "model_name": "VBoxModel",
      "state": {
       "_dom_classes": [
        "widget-interact"
       ],
       "children": [
        "IPY_MODEL_1b86c56fee82483e947989efecbc7d30",
        "IPY_MODEL_d308b6ef0a3d43cfb2ebf40a34faba45",
        "IPY_MODEL_1013fd74b7914f42a7a6aa30ed812931"
       ],
       "layout": "IPY_MODEL_21d485e9507f40fc8e7c40eccd2671a3"
      }
     },
     "b807b5395ec64a9383ef7b276f0d4e6b": {
      "model_module": "@jupyter-widgets/base",
      "model_module_version": "1.1.0",
      "model_name": "LayoutModel",
      "state": {
       "border": "1px solid black",
       "height": "160px",
       "width": "100%"
      }
     },
     "b98db200a42f41e2a6d085edfae23d9d": {
      "model_module": "@jupyter-widgets/controls",
      "model_module_version": "1.4.0",
      "model_name": "DescriptionStyleModel",
      "state": {
       "description_width": ""
      }
     },
     "b98f9d0313cb4683976e7d5c900f057d": {
      "model_module": "@jupyter-widgets/base",
      "model_module_version": "1.1.0",
      "model_name": "LayoutModel",
      "state": {}
     },
     "ba2a86ff74694e14b68ada60809a84bf": {
      "model_module": "@jupyter-widgets/controls",
      "model_module_version": "1.4.0",
      "model_name": "FloatSliderModel",
      "state": {
       "description": "m",
       "layout": "IPY_MODEL_6c5878ea8e964f1696b54e831103078a",
       "max": 2,
       "min": -2,
       "step": 0.1,
       "style": "IPY_MODEL_bdb6a27d6c634c02817ec8370ac07ca6"
      }
     },
     "ba487e42ec5e485f934ad759d34d1ced": {
      "model_module": "@jupyter-widgets/controls",
      "model_module_version": "1.4.0",
      "model_name": "HBoxModel",
      "state": {
       "children": [
        "IPY_MODEL_a3eb50bd1152409fbb0b0eb3be559487",
        "IPY_MODEL_5450051c0bc44cadab1137ff8577fc2c"
       ],
       "layout": "IPY_MODEL_86fa889f70844b0cb1fb91dbd9c65f19"
      }
     },
     "ba93c7b1484f4d2daa394911207c878b": {
      "model_module": "@jupyter-widgets/base",
      "model_module_version": "1.1.0",
      "model_name": "LayoutModel",
      "state": {}
     },
     "bad28552ad9549038e70a2f08eb8b927": {
      "model_module": "@jupyter-widgets/base",
      "model_module_version": "1.1.0",
      "model_name": "LayoutModel",
      "state": {}
     },
     "bc4c937b63c542eba0fdbabc20d19f84": {
      "model_module": "@jupyter-widgets/base",
      "model_module_version": "1.1.0",
      "model_name": "LayoutModel",
      "state": {}
     },
     "bd7b7b608b2e4ef49142efada9bebdba": {
      "model_module": "@jupyter-widgets/controls",
      "model_module_version": "1.4.0",
      "model_name": "SliderStyleModel",
      "state": {
       "description_width": ""
      }
     },
     "bdb6a27d6c634c02817ec8370ac07ca6": {
      "model_module": "@jupyter-widgets/controls",
      "model_module_version": "1.4.0",
      "model_name": "SliderStyleModel",
      "state": {
       "description_width": ""
      }
     },
     "bdcb29a1e5f74b02827fa9ef02887792": {
      "model_module": "@jupyter-widgets/output",
      "model_module_version": "1.0.0",
      "model_name": "OutputModel",
      "state": {
       "layout": "IPY_MODEL_e7e5285e8cd14170a1f182dd954493eb",
       "outputs": [
        {
         "name": "stdout",
         "output_type": "stream",
         "text": "(53, 24, 26)\n"
        }
       ]
      }
     },
     "be84d06ba22c46739f7c608a85962631": {
      "model_module": "@jupyter-widgets/base",
      "model_module_version": "1.1.0",
      "model_name": "LayoutModel",
      "state": {
       "border": "1px solid black"
      }
     },
     "bfa585fabfcd44a8a96712723fdba134": {
      "model_module": "@jupyter-widgets/controls",
      "model_module_version": "1.4.0",
      "model_name": "SliderStyleModel",
      "state": {
       "description_width": ""
      }
     },
     "c11e7b80d85e4eba8ca6b4db0736a8aa": {
      "model_module": "@jupyter-widgets/controls",
      "model_module_version": "1.4.0",
      "model_name": "VBoxModel",
      "state": {
       "_dom_classes": [
        "widget-interact"
       ],
       "children": [
        "IPY_MODEL_c9a8234164964d92b556e14402b77d26",
        "IPY_MODEL_1d0a31fa0fb2427e9fa25d63f1254036"
       ],
       "layout": "IPY_MODEL_575854e53fe24158a13650b3986a5f95"
      }
     },
     "c3576430b5ea43408e5d5d99399dd90e": {
      "model_module": "@jupyter-widgets/base",
      "model_module_version": "1.1.0",
      "model_name": "LayoutModel",
      "state": {
       "border": "1px solid black"
      }
     },
     "c3c2e0ba52384c1584868e3b72db7c95": {
      "model_module": "@jupyter-widgets/base",
      "model_module_version": "1.1.0",
      "model_name": "LayoutModel",
      "state": {
       "border": "1px solid black",
       "height": "160px",
       "width": "100%"
      }
     },
     "c46d39eb995f4e9c8f40cb8a0dcf52b6": {
      "model_module": "@jupyter-widgets/controls",
      "model_module_version": "1.4.0",
      "model_name": "VBoxModel",
      "state": {
       "children": [
        "IPY_MODEL_2749b9a0fab442bfb7bfceea7b4ed4c6",
        "IPY_MODEL_8b3820ffaaa04e548707a29d55132166",
        "IPY_MODEL_16d5eed4c1bc416c82f5748f27afd43b"
       ],
       "layout": "IPY_MODEL_b98f9d0313cb4683976e7d5c900f057d"
      }
     },
     "c66d4251be5448b9acb5fd3b521ac211": {
      "model_module": "@jupyter-widgets/controls",
      "model_module_version": "1.4.0",
      "model_name": "IntSliderModel",
      "state": {
       "description": "c",
       "layout": "IPY_MODEL_e0b54c2112c545e9865e81de9aff9f4a",
       "style": "IPY_MODEL_e09340a5c1734e78ad222f0c9ba995f4",
       "value": 40
      }
     },
     "c8cee1dd48944116a3cb01b199ba2089": {
      "model_module": "@jupyter-widgets/base",
      "model_module_version": "1.1.0",
      "model_name": "LayoutModel",
      "state": {}
     },
     "c932a053e09149c38c3416701029183c": {
      "model_module": "@jupyter-widgets/controls",
      "model_module_version": "1.4.0",
      "model_name": "VBoxModel",
      "state": {
       "_dom_classes": [
        "widget-interact"
       ],
       "children": [
        "IPY_MODEL_596b82826d39403098fadd23cdcad48c",
        "IPY_MODEL_1012c5d4f5284b2d89729b5c75f4ebfe",
        "IPY_MODEL_22773c6e11ce41359d141cb796efb631"
       ],
       "layout": "IPY_MODEL_33d5a94b342647b2ba98cc7bebd60bdd"
      }
     },
     "c992f45f5429465985d1d6aa24d69e14": {
      "model_module": "@jupyter-widgets/controls",
      "model_module_version": "1.4.0",
      "model_name": "IntSliderModel",
      "state": {
       "layout": "IPY_MODEL_6716596c728d4f8aad4add6d6ae8c03b",
       "style": "IPY_MODEL_241c412d618e442fa7f988807c5d23cb",
       "value": 26
      }
     },
     "c9a8234164964d92b556e14402b77d26": {
      "model_module": "@jupyter-widgets/controls",
      "model_module_version": "1.4.0",
      "model_name": "IntSliderModel",
      "state": {
       "description": "x",
       "layout": "IPY_MODEL_5cf3ac697ea34fa48a79997e121fc74b",
       "max": 30,
       "min": -10,
       "style": "IPY_MODEL_ed3aef914b2748818685bd9c9fef8268",
       "value": 7
      }
     },
     "ca065e16ee6444d1a33f53f235894043": {
      "model_module": "@jupyter-widgets/controls",
      "model_module_version": "1.4.0",
      "model_name": "VBoxModel",
      "state": {
       "children": [
        "IPY_MODEL_039bb2cac5c048f3b6f7c21badb5a3bd",
        "IPY_MODEL_3bf2dc231bd5434fa90ccc0b655e2adc",
        "IPY_MODEL_ae5580bc7cda4622b0e93cde9aa8983c"
       ],
       "layout": "IPY_MODEL_2e7c3721b5fd4eb8b0c4bdcd4598f984"
      }
     },
     "ca6ab3ea859a417c84dfab1992af3404": {
      "model_module": "@jupyter-widgets/base",
      "model_module_version": "1.1.0",
      "model_name": "LayoutModel",
      "state": {}
     },
     "cab6bf1ac5c2422bb91ad6d0d7eefcde": {
      "model_module": "@jupyter-widgets/output",
      "model_module_version": "1.0.0",
      "model_name": "OutputModel",
      "state": {
       "layout": "IPY_MODEL_cfd42e0b47534b3b966c7f06bc72d48b",
       "outputs": [
        {
         "name": "stdout",
         "output_type": "stream",
         "text": "2019-01-11 23:48:02,914  - [ERROR] An error occurred!\nTraceback (most recent call last):\n  File \"<ipython-input-81-43aa6f6a7e65>\", line 6, in <module>\n    1.0/0.0\nZeroDivisionError: float division by zero\n"
        },
        {
         "name": "stdout",
         "output_type": "stream",
         "text": "2019-01-11 23:48:02,910  - [INFO] About to try something dangerous...\n"
        },
        {
         "name": "stdout",
         "output_type": "stream",
         "text": "2019-01-11 23:48:02,907  - [INFO] Starting program\n"
        },
        {
         "name": "stdout",
         "output_type": "stream",
         "text": "2019-01-11 23:45:21,870  - [ERROR] An error occurred!\nTraceback (most recent call last):\n  File \"<ipython-input-78-43aa6f6a7e65>\", line 6, in <module>\n    1.0/0.0\nZeroDivisionError: float division by zero\n"
        },
        {
         "name": "stdout",
         "output_type": "stream",
         "text": "2019-01-11 23:45:21,868  - [INFO] About to try something dangerous...\n"
        },
        {
         "name": "stdout",
         "output_type": "stream",
         "text": "2019-01-11 23:45:21,866  - [INFO] Starting program\n"
        }
       ]
      }
     },
     "cad405711aa0415cb3a8ee411881dc12": {
      "model_module": "@jupyter-widgets/controls",
      "model_module_version": "1.4.0",
      "model_name": "SliderStyleModel",
      "state": {
       "description_width": ""
      }
     },
     "cad704e20a2b4431a401ef89bff21862": {
      "model_module": "@jupyter-widgets/base",
      "model_module_version": "1.1.0",
      "model_name": "LayoutModel",
      "state": {}
     },
     "cb33c9d7b23147f497a8d2bdc40feef0": {
      "model_module": "@jupyter-widgets/controls",
      "model_module_version": "1.4.0",
      "model_name": "SliderStyleModel",
      "state": {
       "description_width": ""
      }
     },
     "cc26280956474454ac59b20443068de0": {
      "model_module": "@jupyter-widgets/controls",
      "model_module_version": "1.4.0",
      "model_name": "IntSliderModel",
      "state": {
       "description": "c",
       "layout": "IPY_MODEL_1f2879cff3154a7ea9fba2cec5305d86",
       "style": "IPY_MODEL_6d40c81c759a421ab96eb54c59fd9505",
       "value": 64
      }
     },
     "cc4588c9f9c44269bae0bfd5d9333790": {
      "model_module": "@jupyter-widgets/output",
      "model_module_version": "1.0.0",
      "model_name": "OutputModel",
      "state": {
       "layout": "IPY_MODEL_d578819104574b3f86d5c40ab15b52b4",
       "outputs": [
        {
         "data": {
          "image/jpeg": "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\n",
          "text/html": "\n        <iframe\n            width=\"400\"\n            height=\"300\"\n            src=\"https://www.youtube.com/embed/eWzY2nGfkXk\"\n            frameborder=\"0\"\n            allowfullscreen\n        ></iframe>\n        ",
          "text/plain": "<IPython.lib.display.YouTubeVideo at 0x1d559c8de10>"
         },
         "metadata": {},
         "output_type": "display_data"
        }
       ]
      }
     },
     "cd13fb6b61594aae8c3f9956175432f7": {
      "model_module": "@jupyter-widgets/controls",
      "model_module_version": "1.4.0",
      "model_name": "IntSliderModel",
      "state": {
       "layout": "IPY_MODEL_868e7978724c4eb583b62ca1a77837dc",
       "style": "IPY_MODEL_a417e20dcc5046b0aa6a304fd3bf458d",
       "value": 40
      }
     },
     "cd6bca0896df4145b04645cca4b7e344": {
      "model_module": "@jupyter-widgets/output",
      "model_module_version": "1.0.0",
      "model_name": "OutputModel",
      "state": {
       "layout": "IPY_MODEL_04de11a721da408790d174a11554252f",
       "outputs": [
        {
         "data": {
          "text/plain": "7.5"
         },
         "metadata": {},
         "output_type": "display_data"
        }
       ]
      }
     },
     "cd9499cf35b048cdbbdb55918960ef17": {
      "model_module": "@jupyter-widgets/base",
      "model_module_version": "1.1.0",
      "model_name": "LayoutModel",
      "state": {}
     },
     "cdbab9110c054e2193255f2afab91ac5": {
      "model_module": "@jupyter-widgets/output",
      "model_module_version": "1.0.0",
      "model_name": "OutputModel",
      "state": {
       "layout": "IPY_MODEL_c8cee1dd48944116a3cb01b199ba2089",
       "outputs": [
        {
         "name": "stdout",
         "output_type": "stream",
         "text": "0*0*0=0\n"
        }
       ]
      }
     },
     "ce1bbf2822da437494fd2ad61b5e2f13": {
      "model_module": "@jupyter-widgets/controls",
      "model_module_version": "1.4.0",
      "model_name": "SliderStyleModel",
      "state": {
       "description_width": ""
      }
     },
     "cfaeb31c53254af199d7154a52395a6f": {
      "model_module": "@jupyter-widgets/controls",
      "model_module_version": "1.4.0",
      "model_name": "SliderStyleModel",
      "state": {
       "description_width": ""
      }
     },
     "cfd42e0b47534b3b966c7f06bc72d48b": {
      "model_module": "@jupyter-widgets/base",
      "model_module_version": "1.1.0",
      "model_name": "LayoutModel",
      "state": {
       "border": "1px solid black",
       "height": "160px",
       "width": "100%"
      }
     },
     "d1e197072e1f473688b6ea32e30f6271": {
      "model_module": "@jupyter-widgets/controls",
      "model_module_version": "1.4.0",
      "model_name": "VBoxModel",
      "state": {
       "_dom_classes": [
        "widget-interact"
       ],
       "children": [
        "IPY_MODEL_5acb68e98b8b43b5a7f53363c1297fe5",
        "IPY_MODEL_450b4bded9b445e79016f88f74a421e3"
       ],
       "layout": "IPY_MODEL_1eaaf75d1281453b8092830f7428b86d"
      }
     },
     "d223a0d2f70049f698072c733a6edbf6": {
      "model_module": "@jupyter-widgets/base",
      "model_module_version": "1.1.0",
      "model_name": "LayoutModel",
      "state": {}
     },
     "d24f8d1cab6042d2a4232799228abb94": {
      "model_module": "@jupyter-widgets/base",
      "model_module_version": "1.1.0",
      "model_name": "LayoutModel",
      "state": {}
     },
     "d308b6ef0a3d43cfb2ebf40a34faba45": {
      "model_module": "@jupyter-widgets/controls",
      "model_module_version": "1.4.0",
      "model_name": "ButtonModel",
      "state": {
       "description": "Run Interact",
       "layout": "IPY_MODEL_e41ca26711144b6bafb97fc04f9e19d0",
       "style": "IPY_MODEL_63ca6673b7504f87a93854855e1ec168"
      }
     },
     "d44e8564994e4e93bce7e44fd8c02fdd": {
      "model_module": "@jupyter-widgets/controls",
      "model_module_version": "1.4.0",
      "model_name": "IntSliderModel",
      "state": {
       "description": "a",
       "layout": "IPY_MODEL_7670fcd590a54b6ab6bb3b55fe87f1d0",
       "style": "IPY_MODEL_067f2999bdb0447b997a5692f1287ff2"
      }
     },
     "d578819104574b3f86d5c40ab15b52b4": {
      "model_module": "@jupyter-widgets/base",
      "model_module_version": "1.1.0",
      "model_name": "LayoutModel",
      "state": {
       "border": "1px solid black"
      }
     },
     "d5e46e1b58594d8aa7e1dd455ff8e72d": {
      "model_module": "@jupyter-widgets/controls",
      "model_module_version": "1.4.0",
      "model_name": "FloatSliderModel",
      "state": {
       "description": "m",
       "layout": "IPY_MODEL_ac83e006721a47b5a35bc88ddef0ed71",
       "max": 2,
       "min": -2,
       "step": 0.1,
       "style": "IPY_MODEL_f9377a6fb44842ebbe47843c70593b83",
       "value": 0.1
      }
     },
     "d60aa75e2d5e4d40b50dc4fdac986c10": {
      "model_module": "@jupyter-widgets/base",
      "model_module_version": "1.1.0",
      "model_name": "LayoutModel",
      "state": {}
     },
     "d69b82837d494dcbbab0cc21d54bf18d": {
      "model_module": "@jupyter-widgets/output",
      "model_module_version": "1.0.0",
      "model_name": "OutputModel",
      "state": {
       "layout": "IPY_MODEL_c3c2e0ba52384c1584868e3b72db7c95",
       "outputs": [
        {
         "name": "stdout",
         "output_type": "stream",
         "text": "2019-01-11 23:48:02,914  - [ERROR] An error occurred!\nTraceback (most recent call last):\n  File \"<ipython-input-81-43aa6f6a7e65>\", line 6, in <module>\n    1.0/0.0\nZeroDivisionError: float division by zero\n"
        },
        {
         "name": "stdout",
         "output_type": "stream",
         "text": "2019-01-11 23:48:02,910  - [INFO] About to try something dangerous...\n"
        },
        {
         "name": "stdout",
         "output_type": "stream",
         "text": "2019-01-11 23:48:02,907  - [INFO] Starting program\n"
        }
       ]
      }
     },
     "d6c489018cbc4b4984ae01eadb59d5b5": {
      "model_module": "@jupyter-widgets/output",
      "model_module_version": "1.0.0",
      "model_name": "OutputModel",
      "state": {
       "layout": "IPY_MODEL_ddaeeef8f2824301a7e50144f43f79c2",
       "outputs": [
        {
         "name": "stdout",
         "output_type": "stream",
         "text": "45*45*34=68850\n"
        }
       ]
      }
     },
     "d6ffcab87e914f02886aad4320d05f4e": {
      "model_module": "@jupyter-widgets/base",
      "model_module_version": "1.1.0",
      "model_name": "LayoutModel",
      "state": {}
     },
     "d709dd413e5c4485a9d5222db5799924": {
      "model_module": "@jupyter-widgets/base",
      "model_module_version": "1.1.0",
      "model_name": "LayoutModel",
      "state": {}
     },
     "d8a43889172c4e7ebbecb47457483a10": {
      "model_module": "@jupyter-widgets/base",
      "model_module_version": "1.1.0",
      "model_name": "LayoutModel",
      "state": {}
     },
     "d918041c6c9447c997755e863cab8a49": {
      "model_module": "@jupyter-widgets/controls",
      "model_module_version": "1.4.0",
      "model_name": "VBoxModel",
      "state": {
       "_dom_classes": [
        "widget-interact"
       ],
       "children": [
        "IPY_MODEL_3fe6d8f15256495ba7c628d20bc4cdb5",
        "IPY_MODEL_f2e966284b3c48b194d8734b55505d63"
       ],
       "layout": "IPY_MODEL_d223a0d2f70049f698072c733a6edbf6"
      }
     },
     "db4d5171855845139547a49fd4ddbd57": {
      "model_module": "@jupyter-widgets/controls",
      "model_module_version": "1.4.0",
      "model_name": "IntSliderModel",
      "state": {
       "description": "Target 1",
       "layout": "IPY_MODEL_cad704e20a2b4431a401ef89bff21862",
       "style": "IPY_MODEL_70375e988dff420e9cb8a738545f90cc",
       "value": 58
      }
     },
     "db9cc277f7984896a79650f60b514c30": {
      "model_module": "@jupyter-widgets/output",
      "model_module_version": "1.0.0",
      "model_name": "OutputModel",
      "state": {
       "layout": "IPY_MODEL_3c2f78ff675c4dd5ba4d6cb105395a79",
       "outputs": [
        {
         "data": {
          "text/plain": "10"
         },
         "metadata": {},
         "output_type": "display_data"
        }
       ]
      }
     },
     "dc2742b7cb07423194b23f91c82e9cf4": {
      "model_module": "@jupyter-widgets/base",
      "model_module_version": "1.1.0",
      "model_name": "LayoutModel",
      "state": {}
     },
     "dc4f4bc3b0ab4c09aa76411b49648a5e": {
      "model_module": "@jupyter-widgets/base",
      "model_module_version": "1.1.0",
      "model_name": "LayoutModel",
      "state": {}
     },
     "ddaeeef8f2824301a7e50144f43f79c2": {
      "model_module": "@jupyter-widgets/base",
      "model_module_version": "1.1.0",
      "model_name": "LayoutModel",
      "state": {}
     },
     "ded95a8a14d04fa18858e0d0f010bf28": {
      "model_module": "@jupyter-widgets/controls",
      "model_module_version": "1.4.0",
      "model_name": "SliderStyleModel",
      "state": {
       "description_width": ""
      }
     },
     "def9eb2994b94b389792e55baaa84934": {
      "model_module": "@jupyter-widgets/output",
      "model_module_version": "1.0.0",
      "model_name": "OutputModel",
      "state": {
       "layout": "IPY_MODEL_719b0a11674440ddbf0b1a2b69b19961",
       "outputs": [
        {
         "name": "stdout",
         "output_type": "stream",
         "text": "3600000 [0, 1, 2, 3, 11, 22, 101, 111, 121, 202, 212, 1001, 1111, 2002, 10001, 10101, 10201, 11011, 11111, 11211, 20002, 20102, 100001, 101101, 110011, 111111, 200002, 1000001, 1001001, 1002001, 1010101, 1011101, 1012101, 1100011, 1101011, 1102011, 1110111, 1111111, 2000002, 2001002]\n"
        }
       ]
      }
     },
     "e004966da9a54e7d8b3064195ae6ff16": {
      "model_module": "@jupyter-widgets/base",
      "model_module_version": "1.1.0",
      "model_name": "LayoutModel",
      "state": {}
     },
     "e09340a5c1734e78ad222f0c9ba995f4": {
      "model_module": "@jupyter-widgets/controls",
      "model_module_version": "1.4.0",
      "model_name": "SliderStyleModel",
      "state": {
       "description_width": ""
      }
     },
     "e0b54c2112c545e9865e81de9aff9f4a": {
      "model_module": "@jupyter-widgets/base",
      "model_module_version": "1.1.0",
      "model_name": "LayoutModel",
      "state": {}
     },
     "e0eb9a2fee574e93849a644cdf5efd78": {
      "model_module": "@jupyter-widgets/controls",
      "model_module_version": "1.4.0",
      "model_name": "IntSliderModel",
      "state": {
       "description": "a",
       "layout": "IPY_MODEL_5652b442fdd54434b496f8ddafe56762",
       "style": "IPY_MODEL_758ab86214854819b6c616c98ff6fae1",
       "value": 45
      }
     },
     "e0f0d2c119b04c6ba1088b28483acb9b": {
      "model_module": "@jupyter-widgets/output",
      "model_module_version": "1.0.0",
      "model_name": "OutputModel",
      "state": {
       "layout": "IPY_MODEL_6771d88b50ff4ce6868eb7e2f3871fdf",
       "outputs": [
        {
         "name": "stdout",
         "output_type": "stream",
         "text": "0 Hello world!\n1 Hello world!\n2 Hello world!\n3 Hello world!\n4 Hello world!\n5 Hello world!\n6 Hello world!\n7 Hello world!\n8 Hello world!\n9 Hello world!\n0 Hello world!\n1 Hello world!\n2 Hello world!\n3 Hello world!\n4 Hello world!\n5 Hello world!\n6 Hello world!\n7 Hello world!\n8 Hello world!\n9 Hello world!\n10 Hello world!\n11 Hello world!\n12 Hello world!\n13 Hello world!\n14 Hello world!\n15 Hello world!\n16 Hello world!\n17 Hello world!\n18 Hello world!\n19 Hello world!\n20 Hello world!\n21 Hello world!\n22 Hello world!\n23 Hello world!\n24 Hello world!\n25 Hello world!\n26 Hello world!\n27 Hello world!\n28 Hello world!\n29 Hello world!\n30 Hello world!\n31 Hello world!\n32 Hello world!\n33 Hello world!\n34 Hello world!\n35 Hello world!\n36 Hello world!\n37 Hello world!\n38 Hello world!\n39 Hello world!\n40 Hello world!\n41 Hello world!\n42 Hello world!\n43 Hello world!\n44 Hello world!\n45 Hello world!\n46 Hello world!\n47 Hello world!\n48 Hello world!\n49 Hello world!\n50 Hello world!\n51 Hello world!\n52 Hello world!\n53 Hello world!\n54 Hello world!\n55 Hello world!\n56 Hello world!\n57 Hello world!\n58 Hello world!\n59 Hello world!\n60 Hello world!\n61 Hello world!\n62 Hello world!\n63 Hello world!\n64 Hello world!\n65 Hello world!\n66 Hello world!\n67 Hello world!\n68 Hello world!\n69 Hello world!\n70 Hello world!\n71 Hello world!\n72 Hello world!\n73 Hello world!\n74 Hello world!\n75 Hello world!\n76 Hello world!\n77 Hello world!\n78 Hello world!\n79 Hello world!\n80 Hello world!\n81 Hello world!\n82 Hello world!\n83 Hello world!\n84 Hello world!\n85 Hello world!\n86 Hello world!\n87 Hello world!\n88 Hello world!\n89 Hello world!\n90 Hello world!\n91 Hello world!\n92 Hello world!\n93 Hello world!\n94 Hello world!\n95 Hello world!\n96 Hello world!\n97 Hello world!\n98 Hello world!\n99 Hello world!\n"
        }
       ]
      }
     },
     "e1729c433a4f47409ca431976164aef7": {
      "model_module": "@jupyter-widgets/controls",
      "model_module_version": "1.4.0",
      "model_name": "VBoxModel",
      "state": {
       "_dom_classes": [
        "widget-interact"
       ],
       "children": [
        "IPY_MODEL_8dd7291ff37f41cb8a522fcd78c690c8",
        "IPY_MODEL_aa4c4954615f4a78b10b73e47f4b1908",
        "IPY_MODEL_9248dd58fd894983884f45f93d1e5940"
       ],
       "layout": "IPY_MODEL_5d70a04b7e9e4abc9d2ad5532afe61b4"
      }
     },
     "e2da27c5704748d392c51ceea58808b0": {
      "model_module": "@jupyter-widgets/base",
      "model_module_version": "1.1.0",
      "model_name": "LayoutModel",
      "state": {}
     },
     "e313ab098c1a492d933310b6f2bbdeb0": {
      "model_module": "@jupyter-widgets/controls",
      "model_module_version": "1.4.0",
      "model_name": "SliderStyleModel",
      "state": {
       "description_width": ""
      }
     },
     "e3b28473dfda4c2d9ae1a8244b431f9e": {
      "model_module": "@jupyter-widgets/controls",
      "model_module_version": "1.4.0",
      "model_name": "SliderStyleModel",
      "state": {
       "description_width": ""
      }
     },
     "e41ca26711144b6bafb97fc04f9e19d0": {
      "model_module": "@jupyter-widgets/base",
      "model_module_version": "1.1.0",
      "model_name": "LayoutModel",
      "state": {}
     },
     "e44eb9dead074a8780c2e9d40e6e405e": {
      "model_module": "@jupyter-widgets/controls",
      "model_module_version": "1.4.0",
      "model_name": "SliderStyleModel",
      "state": {
       "description_width": ""
      }
     },
     "e52a005b5a11411e85fcdfe032282f74": {
      "model_module": "@jupyter-widgets/base",
      "model_module_version": "1.1.0",
      "model_name": "LayoutModel",
      "state": {}
     },
     "e547a76538254ff29f5be9b3137ccdfc": {
      "model_module": "@jupyter-widgets/output",
      "model_module_version": "1.0.0",
      "model_name": "OutputModel",
      "state": {
       "layout": "IPY_MODEL_9e8eb66d4a4c48a7adb4c257c3ba182a"
      }
     },
     "e5bf8b359a59461c979be87f884099bd": {
      "model_module": "@jupyter-widgets/base",
      "model_module_version": "1.1.0",
      "model_name": "LayoutModel",
      "state": {
       "border": "1px solid black"
      }
     },
     "e72b34cfc00b4f7e8a756bdc9cd05713": {
      "model_module": "@jupyter-widgets/base",
      "model_module_version": "1.1.0",
      "model_name": "LayoutModel",
      "state": {}
     },
     "e732cd9299684e429bb928372aa0128d": {
      "model_module": "@jupyter-widgets/base",
      "model_module_version": "1.1.0",
      "model_name": "LayoutModel",
      "state": {}
     },
     "e742f06e92b243b68fd29cfa988f3a41": {
      "model_module": "@jupyter-widgets/controls",
      "model_module_version": "1.4.0",
      "model_name": "LabelModel",
      "state": {
       "layout": "IPY_MODEL_e72b34cfc00b4f7e8a756bdc9cd05713",
       "style": "IPY_MODEL_b98db200a42f41e2a6d085edfae23d9d",
       "value": "Changes in source values are reflected in target1"
      }
     },
     "e7d024c636114b2fa9fd1f2dffb3b68c": {
      "model_module": "@jupyter-widgets/controls",
      "model_module_version": "1.4.0",
      "model_name": "SliderStyleModel",
      "state": {
       "description_width": ""
      }
     },
     "e7e5285e8cd14170a1f182dd954493eb": {
      "model_module": "@jupyter-widgets/base",
      "model_module_version": "1.1.0",
      "model_name": "LayoutModel",
      "state": {}
     },
     "e835d6463aa941d39a2c6336f35b568d": {
      "model_module": "@jupyter-widgets/controls",
      "model_module_version": "1.4.0",
      "model_name": "SliderStyleModel",
      "state": {
       "description_width": ""
      }
     },
     "e945ad55d5d74fd687ef672db3801867": {
      "model_module": "@jupyter-widgets/controls",
      "model_module_version": "1.4.0",
      "model_name": "SliderStyleModel",
      "state": {
       "description_width": ""
      }
     },
     "e9ba4b25e7da4bb1bab19fd1e78a9f31": {
      "model_module": "@jupyter-widgets/controls",
      "model_module_version": "1.4.0",
      "model_name": "SliderStyleModel",
      "state": {
       "description_width": ""
      }
     },
     "eaa4350479424834bbfc869312d4f753": {
      "model_module": "@jupyter-widgets/base",
      "model_module_version": "1.1.0",
      "model_name": "LayoutModel",
      "state": {}
     },
     "eb04c138d7824b9dbd5df01b4877b334": {
      "model_module": "@jupyter-widgets/output",
      "model_module_version": "1.0.0",
      "model_name": "OutputModel",
      "state": {
       "layout": "IPY_MODEL_f98e5d3cb3e54c6a84c6e96e2da2d5ec",
       "outputs": [
        {
         "data": {
          "image/png": "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\n",
          "text/plain": "<Figure size 432x288 with 1 Axes>"
         },
         "metadata": {},
         "output_type": "display_data"
        }
       ]
      }
     },
     "eb7ded4be3d84de89bd5418ce4a7018a": {
      "model_module": "@jupyter-widgets/base",
      "model_module_version": "1.1.0",
      "model_name": "LayoutModel",
      "state": {}
     },
     "eba694b4b3824f16a0e3de0337904021": {
      "model_module": "@jupyter-widgets/base",
      "model_module_version": "1.1.0",
      "model_name": "LayoutModel",
      "state": {}
     },
     "ed3aef914b2748818685bd9c9fef8268": {
      "model_module": "@jupyter-widgets/controls",
      "model_module_version": "1.4.0",
      "model_name": "SliderStyleModel",
      "state": {
       "description_width": ""
      }
     },
     "edf4d26ce999411bbefa4d63814c12c0": {
      "model_module": "@jupyter-widgets/base",
      "model_module_version": "1.1.0",
      "model_name": "LayoutModel",
      "state": {}
     },
     "eebd63be69ef42d2a1e6fa943f5638c6": {
      "model_module": "@jupyter-widgets/base",
      "model_module_version": "1.1.0",
      "model_name": "LayoutModel",
      "state": {}
     },
     "eefc2dea7ec94ef387711b1e0bc4a253": {
      "model_module": "@jupyter-widgets/controls",
      "model_module_version": "1.4.0",
      "model_name": "SliderStyleModel",
      "state": {
       "description_width": ""
      }
     },
     "f0475090f0f54377b183bd0b041342b7": {
      "model_module": "@jupyter-widgets/base",
      "model_module_version": "1.1.0",
      "model_name": "LayoutModel",
      "state": {}
     },
     "f1b106696f054f40b5140942e7d0eda0": {
      "model_module": "@jupyter-widgets/controls",
      "model_module_version": "1.4.0",
      "model_name": "IntSliderModel",
      "state": {
       "description": "b",
       "layout": "IPY_MODEL_f7fa8d13e2fe45ccb3148c358710d34e",
       "style": "IPY_MODEL_cb33c9d7b23147f497a8d2bdc40feef0"
      }
     },
     "f2e966284b3c48b194d8734b55505d63": {
      "model_module": "@jupyter-widgets/output",
      "model_module_version": "1.0.0",
      "model_name": "OutputModel",
      "state": {
       "layout": "IPY_MODEL_02cce579bb0f4772adb059af4b63bc75",
       "outputs": [
        {
         "data": {
          "text/plain": "True"
         },
         "metadata": {},
         "output_type": "display_data"
        }
       ]
      }
     },
     "f32169a869c74e328acde34c0424f660": {
      "model_module": "@jupyter-widgets/controls",
      "model_module_version": "1.4.0",
      "model_name": "HBoxModel",
      "state": {
       "children": [
        "IPY_MODEL_5f7f77a9e68b436facc8d9be6ffc5021",
        "IPY_MODEL_cdbab9110c054e2193255f2afab91ac5"
       ],
       "layout": "IPY_MODEL_9e61e5b21fc84fc08a31280fa85ad464"
      }
     },
     "f3a0ca0624be4ba98f54ce71e56dd794": {
      "model_module": "@jupyter-widgets/base",
      "model_module_version": "1.1.0",
      "model_name": "LayoutModel",
      "state": {}
     },
     "f44ca3321b0749bb849adca9c3868164": {
      "model_module": "@jupyter-widgets/controls",
      "model_module_version": "1.4.0",
      "model_name": "IntSliderModel",
      "state": {
       "description": "a",
       "layout": "IPY_MODEL_19c305549f5e477697b33491e5a3066e",
       "max": 30,
       "min": -10,
       "style": "IPY_MODEL_118ed3e1412b4fb7b42908ca7b34b32f",
       "value": 20
      }
     },
     "f4b42306290e43d1afa705e40277c0d2": {
      "model_module": "@jupyter-widgets/controls",
      "model_module_version": "1.4.0",
      "model_name": "SliderStyleModel",
      "state": {
       "description_width": ""
      }
     },
     "f4faa425a6c04f58bfb52cf9c97d5626": {
      "model_module": "@jupyter-widgets/base",
      "model_module_version": "1.1.0",
      "model_name": "LayoutModel",
      "state": {
       "border": "1px solid black",
       "height": "160px",
       "width": "100%"
      }
     },
     "f65794fc40dc4faca386076165d04196": {
      "model_module": "@jupyter-widgets/controls",
      "model_module_version": "1.4.0",
      "model_name": "SliderStyleModel",
      "state": {
       "description_width": ""
      }
     },
     "f76d411f5f0e4db7ba14630424313fb4": {
      "model_module": "@jupyter-widgets/base",
      "model_module_version": "1.1.0",
      "model_name": "LayoutModel",
      "state": {}
     },
     "f7fa8d13e2fe45ccb3148c358710d34e": {
      "model_module": "@jupyter-widgets/base",
      "model_module_version": "1.1.0",
      "model_name": "LayoutModel",
      "state": {}
     },
     "f840d3e7d9f641a8b2ea850b00cc08ac": {
      "model_module": "@jupyter-widgets/base",
      "model_module_version": "1.1.0",
      "model_name": "LayoutModel",
      "state": {}
     },
     "f8989d3b38b84638a58c0bca7b2a5747": {
      "model_module": "@jupyter-widgets/controls",
      "model_module_version": "1.4.0",
      "model_name": "HBoxModel",
      "state": {
       "children": [
        "IPY_MODEL_c46d39eb995f4e9c8f40cb8a0dcf52b6",
        "IPY_MODEL_03e6eb6348fe45ff93e044d8c512cbbb"
       ],
       "layout": "IPY_MODEL_fc43d9373159406c883ceb1165ea2d5c"
      }
     },
     "f922c2c7960041dcbbcf088d68e758bf": {
      "model_module": "@jupyter-widgets/controls",
      "model_module_version": "1.4.0",
      "model_name": "ButtonModel",
      "state": {
       "description": "Run Interact",
       "layout": "IPY_MODEL_937b78dc67054c0ba42eb31a315269d1",
       "style": "IPY_MODEL_7fda423974fe48aa87d1586d3d2deaf1"
      }
     },
     "f9377a6fb44842ebbe47843c70593b83": {
      "model_module": "@jupyter-widgets/controls",
      "model_module_version": "1.4.0",
      "model_name": "SliderStyleModel",
      "state": {
       "description_width": ""
      }
     },
     "f98e5d3cb3e54c6a84c6e96e2da2d5ec": {
      "model_module": "@jupyter-widgets/base",
      "model_module_version": "1.1.0",
      "model_name": "LayoutModel",
      "state": {
       "height": "350px"
      }
     },
     "f993b02a9c3f439f8ecf618ebb07c220": {
      "model_module": "@jupyter-widgets/output",
      "model_module_version": "1.0.0",
      "model_name": "OutputModel",
      "state": {
       "layout": "IPY_MODEL_9b426756bda9477cb45bf447ba627152",
       "outputs": [
        {
         "name": "stdout",
         "output_type": "stream",
         "text": "1500000 [0, 1, 2, 3, 11, 22, 101, 111, 121, 202, 212, 1001, 1111, 2002, 10001, 10101, 10201, 11011, 11111, 11211, 20002, 20102, 100001, 101101, 110011, 111111, 200002, 1000001, 1001001, 1002001, 1010101, 1011101, 1012101, 1100011, 1101011, 1102011, 1110111, 1111111]\n"
        }
       ]
      }
     },
     "fb957493fc01426ab108a7010f953789": {
      "model_module": "@jupyter-widgets/controls",
      "model_module_version": "1.4.0",
      "model_name": "SliderStyleModel",
      "state": {
       "description_width": ""
      }
     },
     "fc43d9373159406c883ceb1165ea2d5c": {
      "model_module": "@jupyter-widgets/base",
      "model_module_version": "1.1.0",
      "model_name": "LayoutModel",
      "state": {}
     },
     "fc450315f99c421498f6531f13792a61": {
      "model_module": "@jupyter-widgets/controls",
      "model_module_version": "1.4.0",
      "model_name": "ButtonModel",
      "state": {
       "description": "Run Interact",
       "layout": "IPY_MODEL_7cef987306bb484d8011f51d5f7fd3e5",
       "style": "IPY_MODEL_4d7f97c732f5439eacccc91c3bbe883d"
      }
     },
     "fdb87d011b1e44c6af5a243a7429c4ea": {
      "model_module": "@jupyter-widgets/base",
      "model_module_version": "1.1.0",
      "model_name": "LayoutModel",
      "state": {}
     },
     "ff7f5691300341f4b0a2b8d42fba71f7": {
      "model_module": "@jupyter-widgets/output",
      "model_module_version": "1.0.0",
      "model_name": "OutputModel",
      "state": {
       "layout": "IPY_MODEL_e5bf8b359a59461c979be87f884099bd"
      }
     }
    },
    "version_major": 2,
    "version_minor": 0
   }
  }
 },
 "nbformat": 4,
 "nbformat_minor": 2
}
