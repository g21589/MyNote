{
 "cells": [
  {
   "cell_type": "code",
   "execution_count": 106,
   "metadata": {
    "ExecuteTime": {
     "end_time": "2020-10-01T18:04:50.889522Z",
     "start_time": "2020-10-01T18:04:50.743525Z"
    }
   },
   "outputs": [
    {
     "data": {
      "application/vnd.plotly.v1+json": {
       "config": {
        "plotlyServerURL": "https://plot.ly"
       },
       "data": [
        {
         "boxpoints": "all",
         "fillcolor": "rgba(93, 164, 214, 0.5)",
         "jitter": 1,
         "line": {
          "color": "rgba(93, 164, 214, 0.5)",
          "width": 1
         },
         "lowerfence": [
          0
         ],
         "marker": {
          "size": 2
         },
         "median": [
          0.7946967239713891
         ],
         "name": "A",
         "offsetgroup": "1",
         "opacity": 1,
         "q1": [
          0.41524300954431026
         ],
         "q3": [
          1.004793046263342
         ],
         "type": "box",
         "upperfence": [
          3.780129965026167
         ],
         "whiskerwidth": 0.2,
         "x": [
          "AAAA00@PM1<br>20201002<sub>111</sub>"
         ]
        },
        {
         "boxpoints": "all",
         "fillcolor": "rgba(93, 164, 214, 0.5)",
         "jitter": 1,
         "line": {
          "color": "rgba(93, 164, 214, 0.5)",
          "width": 1
         },
         "lowerfence": [
          0
         ],
         "marker": {
          "size": 2
         },
         "median": [
          1.6460072298805783
         ],
         "name": "A",
         "offsetgroup": "1",
         "opacity": 1,
         "q1": [
          0.3734640658310392
         ],
         "q3": [
          2.1103936963156107
         ],
         "type": "box",
         "upperfence": [
          1.896028404001326
         ],
         "whiskerwidth": 0.2,
         "x": [
          "AAAA01@PM1<br>20201002<sub>111</sub>"
         ]
        },
        {
         "boxpoints": "all",
         "fillcolor": "rgba(93, 164, 214, 0.5)",
         "jitter": 1,
         "line": {
          "color": "rgba(93, 164, 214, 0.5)",
          "width": 1
         },
         "lowerfence": [
          0
         ],
         "marker": {
          "size": 2
         },
         "median": [
          0.0502085391364091
         ],
         "name": "A",
         "offsetgroup": "1",
         "opacity": 1,
         "q1": [
          0.6532162151367018
         ],
         "q3": [
          0.8948244056002091
         ],
         "type": "box",
         "upperfence": [
          3.50860093773668
         ],
         "whiskerwidth": 0.2,
         "x": [
          "AAAA02@PM1<br>20201002<sub>111</sub>"
         ]
        },
        {
         "boxpoints": "all",
         "fillcolor": "rgba(93, 164, 214, 0.5)",
         "jitter": 1,
         "line": {
          "color": "rgba(93, 164, 214, 0.5)",
          "width": 1
         },
         "lowerfence": [
          0
         ],
         "marker": {
          "size": 2
         },
         "median": [
          0.1418357336752325
         ],
         "name": "A",
         "offsetgroup": "1",
         "opacity": 1,
         "q1": [
          0.15232324967544641
         ],
         "q3": [
          2.03405232445935
         ],
         "type": "box",
         "upperfence": [
          1.2041906212443845
         ],
         "whiskerwidth": 0.2,
         "x": [
          "AAAA03@PM1<br>20201002<sub>111</sub>"
         ]
        },
        {
         "boxpoints": "all",
         "fillcolor": "rgba(93, 164, 214, 0.5)",
         "jitter": 1,
         "line": {
          "color": "rgba(93, 164, 214, 0.5)",
          "width": 1
         },
         "lowerfence": [
          0
         ],
         "marker": {
          "size": 2
         },
         "median": [
          0.6652534443241191
         ],
         "name": "A",
         "offsetgroup": "1",
         "opacity": 1,
         "q1": [
          0.7657579959632608
         ],
         "q3": [
          1.2290117984087114
         ],
         "type": "box",
         "upperfence": [
          1.7881501074521249
         ],
         "whiskerwidth": 0.2,
         "x": [
          "AAAA04@PM1<br>20201002<sub>111</sub>"
         ]
        },
        {
         "boxpoints": "all",
         "fillcolor": "rgba(93, 164, 214, 0.5)",
         "jitter": 1,
         "line": {
          "color": "rgba(93, 164, 214, 0.5)",
          "width": 1
         },
         "lowerfence": [
          0
         ],
         "marker": {
          "size": 2
         },
         "median": [
          1.7334306733804155
         ],
         "name": "A",
         "offsetgroup": "1",
         "opacity": 1,
         "q1": [
          0.6379102237699105
         ],
         "q3": [
          2.509198227205726
         ],
         "type": "box",
         "upperfence": [
          2.128377370898886
         ],
         "whiskerwidth": 0.2,
         "x": [
          "AAAA05@PM1<br>20201002<sub>111</sub>"
         ]
        },
        {
         "boxpoints": "all",
         "fillcolor": "rgba(93, 164, 214, 0.5)",
         "jitter": 1,
         "line": {
          "color": "rgba(93, 164, 214, 0.5)",
          "width": 1
         },
         "lowerfence": [
          0
         ],
         "marker": {
          "size": 2
         },
         "median": [
          0.5541352274833966
         ],
         "name": "A",
         "offsetgroup": "1",
         "opacity": 1,
         "q1": [
          0.9873611135338484
         ],
         "q3": [
          0.8618035484624132
         ],
         "type": "box",
         "upperfence": [
          0.1670913285615434
         ],
         "whiskerwidth": 0.2,
         "x": [
          "AAAA06@PM1<br>20201002<sub>111</sub>"
         ]
        },
        {
         "boxpoints": "all",
         "fillcolor": "rgba(93, 164, 214, 0.5)",
         "jitter": 1,
         "line": {
          "color": "rgba(93, 164, 214, 0.5)",
          "width": 1
         },
         "lowerfence": [
          0
         ],
         "marker": {
          "size": 2
         },
         "median": [
          1.3402214064536029
         ],
         "name": "A",
         "offsetgroup": "1",
         "opacity": 1,
         "q1": [
          0.06797537386652508
         ],
         "q3": [
          1.2516426018488125
         ],
         "type": "box",
         "upperfence": [
          2.8470216472395546
         ],
         "whiskerwidth": 0.2,
         "x": [
          "AAAA07@PM1<br>20201002<sub>111</sub>"
         ]
        },
        {
         "boxpoints": "all",
         "fillcolor": "rgba(93, 164, 214, 0.5)",
         "jitter": 1,
         "line": {
          "color": "rgba(93, 164, 214, 0.5)",
          "width": 1
         },
         "lowerfence": [
          0
         ],
         "marker": {
          "size": 2
         },
         "median": [
          0.882505034013191
         ],
         "name": "A",
         "offsetgroup": "1",
         "opacity": 1,
         "q1": [
          0.972581149650164
         ],
         "q3": [
          1.2413077725594261
         ],
         "type": "box",
         "upperfence": [
          3.5151461034184615
         ],
         "whiskerwidth": 0.2,
         "x": [
          "AAAA08@PM1<br>20201002<sub>111</sub>"
         ]
        },
        {
         "boxpoints": "all",
         "fillcolor": "rgba(93, 164, 214, 0.5)",
         "jitter": 1,
         "line": {
          "color": "rgba(93, 164, 214, 0.5)",
          "width": 1
         },
         "lowerfence": [
          0
         ],
         "marker": {
          "size": 2
         },
         "median": [
          0.8088660162341295
         ],
         "name": "A",
         "offsetgroup": "1",
         "opacity": 1,
         "q1": [
          0.3661009369748752
         ],
         "q3": [
          2.04064122532965
         ],
         "type": "box",
         "upperfence": [
          3.9534407930185775
         ],
         "whiskerwidth": 0.2,
         "x": [
          "AAAA09@PM1<br>20201002<sub>111</sub>"
         ]
        },
        {
         "boxpoints": "all",
         "fillcolor": "rgba(255, 144, 14, 0.5)",
         "jitter": 1,
         "line": {
          "color": "rgba(255, 144, 14, 0.5)",
          "width": 1
         },
         "lowerfence": [
          0
         ],
         "marker": {
          "size": 2
         },
         "median": [
          0.44417266281930634
         ],
         "name": "A",
         "offsetgroup": "1",
         "opacity": 1,
         "q1": [
          0.6705708052224687
         ],
         "q3": [
          0.16218171437554652
         ],
         "type": "box",
         "upperfence": [
          0.12104217622032154
         ],
         "whiskerwidth": 0.2,
         "x": [
          "AAAA10@PM1<br>20201002<sub>111</sub>"
         ]
        },
        {
         "boxpoints": "all",
         "fillcolor": "rgba(255, 144, 14, 0.5)",
         "jitter": 1,
         "line": {
          "color": "rgba(255, 144, 14, 0.5)",
          "width": 1
         },
         "lowerfence": [
          0
         ],
         "marker": {
          "size": 2
         },
         "median": [
          1.5871324567154494
         ],
         "name": "A",
         "offsetgroup": "1",
         "opacity": 1,
         "q1": [
          0.9181775434779798
         ],
         "q3": [
          1.089899965754119
         ],
         "type": "box",
         "upperfence": [
          2.939679843578274
         ],
         "whiskerwidth": 0.2,
         "x": [
          "AAAA11@PM1<br>20201002<sub>111</sub>"
         ]
        },
        {
         "boxpoints": "all",
         "fillcolor": "rgba(255, 144, 14, 0.5)",
         "jitter": 1,
         "line": {
          "color": "rgba(255, 144, 14, 0.5)",
          "width": 1
         },
         "lowerfence": [
          0
         ],
         "marker": {
          "size": 2
         },
         "median": [
          1.8614081933473106
         ],
         "name": "A",
         "offsetgroup": "1",
         "opacity": 1,
         "q1": [
          0.26295074997032963
         ],
         "q3": [
          1.1674058381150756
         ],
         "type": "box",
         "upperfence": [
          2.9336345120881027
         ],
         "whiskerwidth": 0.2,
         "x": [
          "AAAA12@PM1<br>20201002<sub>111</sub>"
         ]
        },
        {
         "boxpoints": "all",
         "fillcolor": "rgba(255, 144, 14, 0.5)",
         "jitter": 1,
         "line": {
          "color": "rgba(255, 144, 14, 0.5)",
          "width": 1
         },
         "lowerfence": [
          0
         ],
         "marker": {
          "size": 2
         },
         "median": [
          0.7766281581396683
         ],
         "name": "A",
         "offsetgroup": "1",
         "opacity": 1,
         "q1": [
          0.03604814954634594
         ],
         "q3": [
          1.6272239908141644
         ],
         "type": "box",
         "upperfence": [
          3.218492602783016
         ],
         "whiskerwidth": 0.2,
         "x": [
          "AAAA13@PM1<br>20201002<sub>111</sub>"
         ]
        },
        {
         "boxpoints": "all",
         "fillcolor": "rgba(255, 144, 14, 0.5)",
         "jitter": 1,
         "line": {
          "color": "rgba(255, 144, 14, 0.5)",
          "width": 1
         },
         "lowerfence": [
          0
         ],
         "marker": {
          "size": 2
         },
         "median": [
          1.1953191175001443
         ],
         "name": "A",
         "offsetgroup": "1",
         "opacity": 1,
         "q1": [
          0.2277084696324515
         ],
         "q3": [
          0.2087623637073419
         ],
         "type": "box",
         "upperfence": [
          1.4996527352917814
         ],
         "whiskerwidth": 0.2,
         "x": [
          "AAAA14@PM1<br>20201002<sub>111</sub>"
         ]
        },
        {
         "boxpoints": "all",
         "fillcolor": "rgba(255, 144, 14, 0.5)",
         "jitter": 1,
         "line": {
          "color": "rgba(255, 144, 14, 0.5)",
          "width": 1
         },
         "lowerfence": [
          0
         ],
         "marker": {
          "size": 2
         },
         "median": [
          1.4558359113201733
         ],
         "name": "A",
         "offsetgroup": "1",
         "opacity": 1,
         "q1": [
          0.7370426515582389
         ],
         "q3": [
          0.045420452536656275
         ],
         "type": "box",
         "upperfence": [
          1.6150663607651161
         ],
         "whiskerwidth": 0.2,
         "x": [
          "AAAA15@PM1<br>20201002<sub>111</sub>"
         ]
        },
        {
         "boxpoints": "all",
         "fillcolor": "rgba(255, 144, 14, 0.5)",
         "jitter": 1,
         "line": {
          "color": "rgba(255, 144, 14, 0.5)",
          "width": 1
         },
         "lowerfence": [
          0
         ],
         "marker": {
          "size": 2
         },
         "median": [
          0.1742571565840978
         ],
         "name": "A",
         "offsetgroup": "1",
         "opacity": 1,
         "q1": [
          0.5387056538398602
         ],
         "q3": [
          2.8681201997479056
         ],
         "type": "box",
         "upperfence": [
          1.7420047694481915
         ],
         "whiskerwidth": 0.2,
         "x": [
          "AAAA16@PM1<br>20201002<sub>111</sub>"
         ]
        },
        {
         "boxpoints": "all",
         "fillcolor": "rgba(255, 144, 14, 0.5)",
         "jitter": 1,
         "line": {
          "color": "rgba(255, 144, 14, 0.5)",
          "width": 1
         },
         "lowerfence": [
          0
         ],
         "marker": {
          "size": 2
         },
         "median": [
          1.8602263165670774
         ],
         "name": "A",
         "offsetgroup": "1",
         "opacity": 1,
         "q1": [
          0.45103727462586884
         ],
         "q3": [
          2.6595359273019215
         ],
         "type": "box",
         "upperfence": [
          3.0685840507113826
         ],
         "whiskerwidth": 0.2,
         "x": [
          "AAAA17@PM1<br>20201002<sub>111</sub>"
         ]
        },
        {
         "boxpoints": "all",
         "fillcolor": "rgba(255, 144, 14, 0.5)",
         "jitter": 1,
         "line": {
          "color": "rgba(255, 144, 14, 0.5)",
          "width": 1
         },
         "lowerfence": [
          0
         ],
         "marker": {
          "size": 2
         },
         "median": [
          1.5687597764358165
         ],
         "name": "A",
         "offsetgroup": "1",
         "opacity": 1,
         "q1": [
          0.1302354866901112
         ],
         "q3": [
          1.7873510729532551
         ],
         "type": "box",
         "upperfence": [
          2.4857595780316086
         ],
         "whiskerwidth": 0.2,
         "x": [
          "AAAA18@PM1<br>20201002<sub>111</sub>"
         ]
        },
        {
         "boxpoints": "all",
         "fillcolor": "rgba(255, 144, 14, 0.5)",
         "jitter": 1,
         "line": {
          "color": "rgba(255, 144, 14, 0.5)",
          "width": 1
         },
         "lowerfence": [
          0
         ],
         "marker": {
          "size": 2
         },
         "median": [
          1.1152105473336444
         ],
         "name": "A",
         "offsetgroup": "1",
         "opacity": 1,
         "q1": [
          0.9737587295713099
         ],
         "q3": [
          2.195490000251556
         ],
         "type": "box",
         "upperfence": [
          3.2302991319371013
         ],
         "whiskerwidth": 0.2,
         "x": [
          "AAAA19@PM1<br>20201002<sub>111</sub>"
         ]
        },
        {
         "boxpoints": "all",
         "fillcolor": "rgba(44, 160, 101, 0.5)",
         "jitter": 1,
         "line": {
          "color": "rgba(44, 160, 101, 0.5)",
          "width": 1
         },
         "lowerfence": [
          0
         ],
         "marker": {
          "size": 2
         },
         "median": [
          0.5215807194224651
         ],
         "name": "A",
         "offsetgroup": "1",
         "opacity": 1,
         "q1": [
          0.036243020206899956
         ],
         "q3": [
          2.7823743294475296
         ],
         "type": "box",
         "upperfence": [
          3.999015601309496
         ],
         "whiskerwidth": 0.2,
         "x": [
          "AAAA20@PM1<br>20201002<sub>111</sub>"
         ]
        },
        {
         "boxpoints": "all",
         "fillcolor": "rgba(44, 160, 101, 0.5)",
         "jitter": 1,
         "line": {
          "color": "rgba(44, 160, 101, 0.5)",
          "width": 1
         },
         "lowerfence": [
          0
         ],
         "marker": {
          "size": 2
         },
         "median": [
          1.9608727457797857
         ],
         "name": "A",
         "offsetgroup": "1",
         "opacity": 1,
         "q1": [
          0.744191759797664
         ],
         "q3": [
          0.20894981966426662
         ],
         "type": "box",
         "upperfence": [
          0.5510104011444361
         ],
         "whiskerwidth": 0.2,
         "x": [
          "AAAA21@PM1<br>20201002<sub>111</sub>"
         ]
        },
        {
         "boxpoints": "all",
         "fillcolor": "rgba(44, 160, 101, 0.5)",
         "jitter": 1,
         "line": {
          "color": "rgba(44, 160, 101, 0.5)",
          "width": 1
         },
         "lowerfence": [
          0
         ],
         "marker": {
          "size": 2
         },
         "median": [
          1.2608019552463228
         ],
         "name": "A",
         "offsetgroup": "1",
         "opacity": 1,
         "q1": [
          0.9491170936864445
         ],
         "q3": [
          2.313292988779328
         ],
         "type": "box",
         "upperfence": [
          3.3130756715913257
         ],
         "whiskerwidth": 0.2,
         "x": [
          "AAAA22@PM1<br>20201002<sub>111</sub>"
         ]
        },
        {
         "boxpoints": "all",
         "fillcolor": "rgba(44, 160, 101, 0.5)",
         "jitter": 1,
         "line": {
          "color": "rgba(44, 160, 101, 0.5)",
          "width": 1
         },
         "lowerfence": [
          0
         ],
         "marker": {
          "size": 2
         },
         "median": [
          1.6220222866024732
         ],
         "name": "A",
         "offsetgroup": "1",
         "opacity": 1,
         "q1": [
          0.6430269758928184
         ],
         "q3": [
          1.6376175412894205
         ],
         "type": "box",
         "upperfence": [
          1.7370062100845285
         ],
         "whiskerwidth": 0.2,
         "x": [
          "AAAA23@PM1<br>20201002<sub>111</sub>"
         ]
        },
        {
         "boxpoints": "all",
         "fillcolor": "rgba(44, 160, 101, 0.5)",
         "jitter": 1,
         "line": {
          "color": "rgba(44, 160, 101, 0.5)",
          "width": 1
         },
         "lowerfence": [
          0
         ],
         "marker": {
          "size": 2
         },
         "median": [
          0.6618673580061574
         ],
         "name": "A",
         "offsetgroup": "1",
         "opacity": 1,
         "q1": [
          0.9957601116094821
         ],
         "q3": [
          2.915832919306236
         ],
         "type": "box",
         "upperfence": [
          1.4221691401728629
         ],
         "whiskerwidth": 0.2,
         "x": [
          "AAAA24@PM1<br>20201002<sub>111</sub>"
         ]
        },
        {
         "boxpoints": "all",
         "fillcolor": "rgba(44, 160, 101, 0.5)",
         "jitter": 1,
         "line": {
          "color": "rgba(44, 160, 101, 0.5)",
          "width": 1
         },
         "lowerfence": [
          0
         ],
         "marker": {
          "size": 2
         },
         "median": [
          0.5820877686828057
         ],
         "name": "A",
         "offsetgroup": "1",
         "opacity": 1,
         "q1": [
          0.6868090996539206
         ],
         "q3": [
          0.31688917539066486
         ],
         "type": "box",
         "upperfence": [
          0.3358238690463149
         ],
         "whiskerwidth": 0.2,
         "x": [
          "AAAA25@PM1<br>20201002<sub>111</sub>"
         ]
        },
        {
         "boxpoints": "all",
         "fillcolor": "rgba(44, 160, 101, 0.5)",
         "jitter": 1,
         "line": {
          "color": "rgba(44, 160, 101, 0.5)",
          "width": 1
         },
         "lowerfence": [
          0
         ],
         "marker": {
          "size": 2
         },
         "median": [
          1.2115320004604442
         ],
         "name": "A",
         "offsetgroup": "1",
         "opacity": 1,
         "q1": [
          0.19744350315722803
         ],
         "q3": [
          1.307418506076623
         ],
         "type": "box",
         "upperfence": [
          3.4968070310257175
         ],
         "whiskerwidth": 0.2,
         "x": [
          "AAAA26@PM1<br>20201002<sub>111</sub>"
         ]
        },
        {
         "boxpoints": "all",
         "fillcolor": "rgba(44, 160, 101, 0.5)",
         "jitter": 1,
         "line": {
          "color": "rgba(44, 160, 101, 0.5)",
          "width": 1
         },
         "lowerfence": [
          0
         ],
         "marker": {
          "size": 2
         },
         "median": [
          0.499947688764115
         ],
         "name": "A",
         "offsetgroup": "1",
         "opacity": 1,
         "q1": [
          0.8864839730006744
         ],
         "q3": [
          1.3047786025205272
         ],
         "type": "box",
         "upperfence": [
          2.619665243729447
         ],
         "whiskerwidth": 0.2,
         "x": [
          "AAAA27@PM1<br>20201002<sub>111</sub>"
         ]
        },
        {
         "boxpoints": "all",
         "fillcolor": "rgba(44, 160, 101, 0.5)",
         "jitter": 1,
         "line": {
          "color": "rgba(44, 160, 101, 0.5)",
          "width": 1
         },
         "lowerfence": [
          0
         ],
         "marker": {
          "size": 2
         },
         "median": [
          1.1317980491435489
         ],
         "name": "A",
         "offsetgroup": "1",
         "opacity": 1,
         "q1": [
          0.4261391729188866
         ],
         "q3": [
          2.90583718568565
         ],
         "type": "box",
         "upperfence": [
          1.8176444172821187
         ],
         "whiskerwidth": 0.2,
         "x": [
          "AAAA28@PM1<br>20201002<sub>111</sub>"
         ]
        },
        {
         "boxpoints": "all",
         "fillcolor": "rgba(44, 160, 101, 0.5)",
         "jitter": 1,
         "line": {
          "color": "rgba(44, 160, 101, 0.5)",
          "width": 1
         },
         "lowerfence": [
          0
         ],
         "marker": {
          "size": 2
         },
         "median": [
          1.476596615436848
         ],
         "name": "A",
         "offsetgroup": "1",
         "opacity": 1,
         "q1": [
          0.653850037181855
         ],
         "q3": [
          0.7699268751115507
         ],
         "type": "box",
         "upperfence": [
          1.539138514587394
         ],
         "whiskerwidth": 0.2,
         "x": [
          "AAAA29@PM1<br>20201002<sub>111</sub>"
         ]
        },
        {
         "boxpoints": "all",
         "fillcolor": "rgba(255, 65, 54, 0.5)",
         "jitter": 1,
         "line": {
          "color": "rgba(255, 65, 54, 0.5)",
          "width": 1
         },
         "lowerfence": [
          0
         ],
         "marker": {
          "size": 2
         },
         "median": [
          1.0145033261863765
         ],
         "name": "A",
         "offsetgroup": "1",
         "opacity": 1,
         "q1": [
          0.28080275546513644
         ],
         "q3": [
          0.5509352945895852
         ],
         "type": "box",
         "upperfence": [
          3.3256570136595935
         ],
         "whiskerwidth": 0.2,
         "x": [
          "AAAA30@PM1<br>20201002<sub>111</sub>"
         ]
        },
        {
         "boxpoints": "all",
         "fillcolor": "rgba(255, 65, 54, 0.5)",
         "jitter": 1,
         "line": {
          "color": "rgba(255, 65, 54, 0.5)",
          "width": 1
         },
         "lowerfence": [
          0
         ],
         "marker": {
          "size": 2
         },
         "median": [
          1.4560808306175017
         ],
         "name": "A",
         "offsetgroup": "1",
         "opacity": 1,
         "q1": [
          0.612619797002112
         ],
         "q3": [
          2.9986123377577476
         ],
         "type": "box",
         "upperfence": [
          1.2455673041686053
         ],
         "whiskerwidth": 0.2,
         "x": [
          "AAAA31@PM1<br>20201002<sub>111</sub>"
         ]
        },
        {
         "boxpoints": "all",
         "fillcolor": "rgba(255, 65, 54, 0.5)",
         "jitter": 1,
         "line": {
          "color": "rgba(255, 65, 54, 0.5)",
          "width": 1
         },
         "lowerfence": [
          0
         ],
         "marker": {
          "size": 2
         },
         "median": [
          1.3163073476740152
         ],
         "name": "A",
         "offsetgroup": "1",
         "opacity": 1,
         "q1": [
          0.18610986626367554
         ],
         "q3": [
          1.0457103182262095
         ],
         "type": "box",
         "upperfence": [
          1.6644833437891648
         ],
         "whiskerwidth": 0.2,
         "x": [
          "AAAA32@PM1<br>20201002<sub>111</sub>"
         ]
        },
        {
         "boxpoints": "all",
         "fillcolor": "rgba(255, 65, 54, 0.5)",
         "jitter": 1,
         "line": {
          "color": "rgba(255, 65, 54, 0.5)",
          "width": 1
         },
         "lowerfence": [
          0
         ],
         "marker": {
          "size": 2
         },
         "median": [
          0.8701925755745488
         ],
         "name": "A",
         "offsetgroup": "1",
         "opacity": 1,
         "q1": [
          0.12304781850641144
         ],
         "q3": [
          0.6475282709748065
         ],
         "type": "box",
         "upperfence": [
          3.8760088174810643
         ],
         "whiskerwidth": 0.2,
         "x": [
          "AAAA33@PM1<br>20201002<sub>111</sub>"
         ]
        },
        {
         "boxpoints": "all",
         "fillcolor": "rgba(255, 65, 54, 0.5)",
         "jitter": 1,
         "line": {
          "color": "rgba(255, 65, 54, 0.5)",
          "width": 1
         },
         "lowerfence": [
          0
         ],
         "marker": {
          "size": 2
         },
         "median": [
          1.4796245940960595
         ],
         "name": "A",
         "offsetgroup": "1",
         "opacity": 1,
         "q1": [
          0.8121880930255817
         ],
         "q3": [
          1.9369392702223165
         ],
         "type": "box",
         "upperfence": [
          3.5294205628083013
         ],
         "whiskerwidth": 0.2,
         "x": [
          "AAAA34@PM1<br>20201002<sub>111</sub>"
         ]
        },
        {
         "boxpoints": "all",
         "fillcolor": "rgba(255, 65, 54, 0.5)",
         "jitter": 1,
         "line": {
          "color": "rgba(255, 65, 54, 0.5)",
          "width": 1
         },
         "lowerfence": [
          0
         ],
         "marker": {
          "size": 2
         },
         "median": [
          1.240948266659348
         ],
         "name": "A",
         "offsetgroup": "1",
         "opacity": 1,
         "q1": [
          0.01935681824991564
         ],
         "q3": [
          1.0448919614342134
         ],
         "type": "box",
         "upperfence": [
          1.928448538191042
         ],
         "whiskerwidth": 0.2,
         "x": [
          "AAAA35@PM1<br>20201002<sub>111</sub>"
         ]
        },
        {
         "boxpoints": "all",
         "fillcolor": "rgba(255, 65, 54, 0.5)",
         "jitter": 1,
         "line": {
          "color": "rgba(255, 65, 54, 0.5)",
          "width": 1
         },
         "lowerfence": [
          0
         ],
         "marker": {
          "size": 2
         },
         "median": [
          0.07713453083483213
         ],
         "name": "A",
         "offsetgroup": "1",
         "opacity": 1,
         "q1": [
          0.23920157390747165
         ],
         "q3": [
          1.7613442898650107
         ],
         "type": "box",
         "upperfence": [
          0.10914413792872635
         ],
         "whiskerwidth": 0.2,
         "x": [
          "AAAA36@PM1<br>20201002<sub>111</sub>"
         ]
        },
        {
         "boxpoints": "all",
         "fillcolor": "rgba(255, 65, 54, 0.5)",
         "jitter": 1,
         "line": {
          "color": "rgba(255, 65, 54, 0.5)",
          "width": 1
         },
         "lowerfence": [
          0
         ],
         "marker": {
          "size": 2
         },
         "median": [
          0.6753900635292474
         ],
         "name": "A",
         "offsetgroup": "1",
         "opacity": 1,
         "q1": [
          0.3068794958865766
         ],
         "q3": [
          1.3866741134436351
         ],
         "type": "box",
         "upperfence": [
          2.691800540382199
         ],
         "whiskerwidth": 0.2,
         "x": [
          "AAAA37@PM1<br>20201002<sub>111</sub>"
         ]
        },
        {
         "boxpoints": "all",
         "fillcolor": "rgba(255, 65, 54, 0.5)",
         "jitter": 1,
         "line": {
          "color": "rgba(255, 65, 54, 0.5)",
          "width": 1
         },
         "lowerfence": [
          0
         ],
         "marker": {
          "size": 2
         },
         "median": [
          0.46627637663049115
         ],
         "name": "A",
         "offsetgroup": "1",
         "opacity": 1,
         "q1": [
          0.9348471624761409
         ],
         "q3": [
          0.14638684069985164
         ],
         "type": "box",
         "upperfence": [
          3.6988685661853804
         ],
         "whiskerwidth": 0.2,
         "x": [
          "AAAA38@PM1<br>20201002<sub>111</sub>"
         ]
        },
        {
         "boxpoints": "all",
         "fillcolor": "rgba(255, 65, 54, 0.5)",
         "jitter": 1,
         "line": {
          "color": "rgba(255, 65, 54, 0.5)",
          "width": 1
         },
         "lowerfence": [
          0
         ],
         "marker": {
          "size": 2
         },
         "median": [
          0.5356253501163457
         ],
         "name": "A",
         "offsetgroup": "1",
         "opacity": 1,
         "q1": [
          0.188909564756212
         ],
         "q3": [
          1.231846362395074
         ],
         "type": "box",
         "upperfence": [
          0.9433532406397895
         ],
         "whiskerwidth": 0.2,
         "x": [
          "AAAA39@PM1<br>20201002<sub>111</sub>"
         ]
        },
        {
         "boxpoints": "all",
         "fillcolor": "rgba(207, 114, 255, 0.5)",
         "jitter": 1,
         "line": {
          "color": "rgba(207, 114, 255, 0.5)",
          "width": 1
         },
         "lowerfence": [
          0
         ],
         "marker": {
          "size": 2
         },
         "median": [
          0.2586848606923653
         ],
         "name": "A",
         "offsetgroup": "1",
         "opacity": 1,
         "q1": [
          0.9712935490056311
         ],
         "q3": [
          0.2253199427214867
         ],
         "type": "box",
         "upperfence": [
          0.8562013489924394
         ],
         "whiskerwidth": 0.2,
         "x": [
          "AAAA40@PM1<br>20201002<sub>111</sub>"
         ]
        },
        {
         "boxpoints": "all",
         "fillcolor": "rgba(207, 114, 255, 0.5)",
         "jitter": 1,
         "line": {
          "color": "rgba(207, 114, 255, 0.5)",
          "width": 1
         },
         "lowerfence": [
          0
         ],
         "marker": {
          "size": 2
         },
         "median": [
          0.1958405516831263
         ],
         "name": "A",
         "offsetgroup": "1",
         "opacity": 1,
         "q1": [
          0.4998954217485506
         ],
         "q3": [
          1.2081315839904847
         ],
         "type": "box",
         "upperfence": [
          0.5928418093457735
         ],
         "whiskerwidth": 0.2,
         "x": [
          "AAAA41@PM1<br>20201002<sub>111</sub>"
         ]
        },
        {
         "boxpoints": "all",
         "fillcolor": "rgba(207, 114, 255, 0.5)",
         "jitter": 1,
         "line": {
          "color": "rgba(207, 114, 255, 0.5)",
          "width": 1
         },
         "lowerfence": [
          0
         ],
         "marker": {
          "size": 2
         },
         "median": [
          1.0314889439719024
         ],
         "name": "A",
         "offsetgroup": "1",
         "opacity": 1,
         "q1": [
          0.8146990006551009
         ],
         "q3": [
          0.5903261337625633
         ],
         "type": "box",
         "upperfence": [
          2.7084303525495423
         ],
         "whiskerwidth": 0.2,
         "x": [
          "AAAA42@PM1<br>20201002<sub>111</sub>"
         ]
        },
        {
         "boxpoints": "all",
         "fillcolor": "rgba(207, 114, 255, 0.5)",
         "jitter": 1,
         "line": {
          "color": "rgba(207, 114, 255, 0.5)",
          "width": 1
         },
         "lowerfence": [
          0
         ],
         "marker": {
          "size": 2
         },
         "median": [
          1.3422973082197127
         ],
         "name": "A",
         "offsetgroup": "1",
         "opacity": 1,
         "q1": [
          0.7296464542458381
         ],
         "q3": [
          2.6010115278215498
         ],
         "type": "box",
         "upperfence": [
          3.4266791737771625
         ],
         "whiskerwidth": 0.2,
         "x": [
          "AAAA43@PM1<br>20201002<sub>111</sub>"
         ]
        },
        {
         "boxpoints": "all",
         "fillcolor": "rgba(207, 114, 255, 0.5)",
         "jitter": 1,
         "line": {
          "color": "rgba(207, 114, 255, 0.5)",
          "width": 1
         },
         "lowerfence": [
          0
         ],
         "marker": {
          "size": 2
         },
         "median": [
          0.3208252527406832
         ],
         "name": "A",
         "offsetgroup": "1",
         "opacity": 1,
         "q1": [
          0.02176524067660357
         ],
         "q3": [
          0.937108305254737
         ],
         "type": "box",
         "upperfence": [
          3.5576851155750817
         ],
         "whiskerwidth": 0.2,
         "x": [
          "AAAA44@PM1<br>20201002<sub>111</sub>"
         ]
        },
        {
         "boxpoints": "all",
         "fillcolor": "rgba(207, 114, 255, 0.5)",
         "jitter": 1,
         "line": {
          "color": "rgba(207, 114, 255, 0.5)",
          "width": 1
         },
         "lowerfence": [
          0
         ],
         "marker": {
          "size": 2
         },
         "median": [
          0.36839117066920934
         ],
         "name": "A",
         "offsetgroup": "1",
         "opacity": 1,
         "q1": [
          0.9729854255069584
         ],
         "q3": [
          2.197519113434172
         ],
         "type": "box",
         "upperfence": [
          0.2951614565992937
         ],
         "whiskerwidth": 0.2,
         "x": [
          "AAAA45@PM1<br>20201002<sub>111</sub>"
         ]
        },
        {
         "boxpoints": "all",
         "fillcolor": "rgba(207, 114, 255, 0.5)",
         "jitter": 1,
         "line": {
          "color": "rgba(207, 114, 255, 0.5)",
          "width": 1
         },
         "lowerfence": [
          0
         ],
         "marker": {
          "size": 2
         },
         "median": [
          0.9266857463381353
         ],
         "name": "A",
         "offsetgroup": "1",
         "opacity": 1,
         "q1": [
          0.10536953358791268
         ],
         "q3": [
          1.0478305200147089
         ],
         "type": "box",
         "upperfence": [
          2.871727743642368
         ],
         "whiskerwidth": 0.2,
         "x": [
          "AAAA46@PM1<br>20201002<sub>111</sub>"
         ]
        },
        {
         "boxpoints": "all",
         "fillcolor": "rgba(207, 114, 255, 0.5)",
         "jitter": 1,
         "line": {
          "color": "rgba(207, 114, 255, 0.5)",
          "width": 1
         },
         "lowerfence": [
          0
         ],
         "marker": {
          "size": 2
         },
         "median": [
          0.6510305137223371
         ],
         "name": "A",
         "offsetgroup": "1",
         "opacity": 1,
         "q1": [
          0.6258976650160457
         ],
         "q3": [
          1.5815929409210596
         ],
         "type": "box",
         "upperfence": [
          1.5783415369023843
         ],
         "whiskerwidth": 0.2,
         "x": [
          "AAAA47@PM1<br>20201002<sub>111</sub>"
         ]
        },
        {
         "boxpoints": "all",
         "fillcolor": "rgba(207, 114, 255, 0.5)",
         "jitter": 1,
         "line": {
          "color": "rgba(207, 114, 255, 0.5)",
          "width": 1
         },
         "lowerfence": [
          0
         ],
         "marker": {
          "size": 2
         },
         "median": [
          0.3993993705667833
         ],
         "name": "A",
         "offsetgroup": "1",
         "opacity": 1,
         "q1": [
          0.9015827892117336
         ],
         "q3": [
          0.7256947416475306
         ],
         "type": "box",
         "upperfence": [
          0.43226394576618077
         ],
         "whiskerwidth": 0.2,
         "x": [
          "AAAA48@PM1<br>20201002<sub>111</sub>"
         ]
        },
        {
         "boxpoints": "all",
         "fillcolor": "rgba(207, 114, 255, 0.5)",
         "jitter": 1,
         "line": {
          "color": "rgba(207, 114, 255, 0.5)",
          "width": 1
         },
         "lowerfence": [
          0
         ],
         "marker": {
          "size": 2
         },
         "median": [
          1.1449651860753414
         ],
         "name": "A",
         "offsetgroup": "1",
         "opacity": 1,
         "q1": [
          0.7625644656343185
         ],
         "q3": [
          1.3599094093780835
         ],
         "type": "box",
         "upperfence": [
          2.0898756387047155
         ],
         "whiskerwidth": 0.2,
         "x": [
          "AAAA49@PM1<br>20201002<sub>111</sub>"
         ]
        },
        {
         "boxpoints": "all",
         "fillcolor": "rgba(127, 96, 0, 0.5)",
         "jitter": 1,
         "line": {
          "color": "rgba(127, 96, 0, 0.5)",
          "width": 1
         },
         "lowerfence": [
          0
         ],
         "marker": {
          "size": 2
         },
         "median": [
          1.0503761291367701
         ],
         "name": "A",
         "offsetgroup": "1",
         "opacity": 1,
         "q1": [
          0.546464436380667
         ],
         "q3": [
          0.21352655841195478
         ],
         "type": "box",
         "upperfence": [
          3.018968425326826
         ],
         "whiskerwidth": 0.2,
         "x": [
          "AAAA50@PM1<br>20201002<sub>111</sub>"
         ]
        },
        {
         "boxpoints": "all",
         "fillcolor": "rgba(127, 96, 0, 0.5)",
         "jitter": 1,
         "line": {
          "color": "rgba(127, 96, 0, 0.5)",
          "width": 1
         },
         "lowerfence": [
          0
         ],
         "marker": {
          "size": 2
         },
         "median": [
          1.656920983375916
         ],
         "name": "A",
         "offsetgroup": "1",
         "opacity": 1,
         "q1": [
          0.659707307867808
         ],
         "q3": [
          0.2841855222192474
         ],
         "type": "box",
         "upperfence": [
          0.407384868263176
         ],
         "whiskerwidth": 0.2,
         "x": [
          "AAAA51@PM1<br>20201002<sub>111</sub>"
         ]
        },
        {
         "boxpoints": "all",
         "fillcolor": "rgba(127, 96, 0, 0.5)",
         "jitter": 1,
         "line": {
          "color": "rgba(127, 96, 0, 0.5)",
          "width": 1
         },
         "lowerfence": [
          0
         ],
         "marker": {
          "size": 2
         },
         "median": [
          1.7987552625873542
         ],
         "name": "A",
         "offsetgroup": "1",
         "opacity": 1,
         "q1": [
          0.36580738727369533
         ],
         "q3": [
          0.9997264806953656
         ],
         "type": "box",
         "upperfence": [
          2.34256280557291
         ],
         "whiskerwidth": 0.2,
         "x": [
          "AAAA52@PM1<br>20201002<sub>111</sub>"
         ]
        },
        {
         "boxpoints": "all",
         "fillcolor": "rgba(127, 96, 0, 0.5)",
         "jitter": 1,
         "line": {
          "color": "rgba(127, 96, 0, 0.5)",
          "width": 1
         },
         "lowerfence": [
          0
         ],
         "marker": {
          "size": 2
         },
         "median": [
          1.8939043188658773
         ],
         "name": "A",
         "offsetgroup": "1",
         "opacity": 1,
         "q1": [
          0.6597253983727749
         ],
         "q3": [
          2.9712077164600177
         ],
         "type": "box",
         "upperfence": [
          2.861617506722314
         ],
         "whiskerwidth": 0.2,
         "x": [
          "AAAA53@PM1<br>20201002<sub>111</sub>"
         ]
        },
        {
         "boxpoints": "all",
         "fillcolor": "rgba(127, 96, 0, 0.5)",
         "jitter": 1,
         "line": {
          "color": "rgba(127, 96, 0, 0.5)",
          "width": 1
         },
         "lowerfence": [
          0
         ],
         "marker": {
          "size": 2
         },
         "median": [
          1.763077554112984
         ],
         "name": "A",
         "offsetgroup": "1",
         "opacity": 1,
         "q1": [
          0.09425438801465724
         ],
         "q3": [
          2.75101365439878
         ],
         "type": "box",
         "upperfence": [
          3.701928628930809
         ],
         "whiskerwidth": 0.2,
         "x": [
          "AAAA54@PM1<br>20201002<sub>111</sub>"
         ]
        },
        {
         "boxpoints": "all",
         "fillcolor": "rgba(127, 96, 0, 0.5)",
         "jitter": 1,
         "line": {
          "color": "rgba(127, 96, 0, 0.5)",
          "width": 1
         },
         "lowerfence": [
          0
         ],
         "marker": {
          "size": 2
         },
         "median": [
          0.3029334244319948
         ],
         "name": "A",
         "offsetgroup": "1",
         "opacity": 1,
         "q1": [
          0.09364787191568802
         ],
         "q3": [
          2.552797953800167
         ],
         "type": "box",
         "upperfence": [
          2.755157175555334
         ],
         "whiskerwidth": 0.2,
         "x": [
          "AAAA55@PM1<br>20201002<sub>111</sub>"
         ]
        },
        {
         "boxpoints": "all",
         "fillcolor": "rgba(127, 96, 0, 0.5)",
         "jitter": 1,
         "line": {
          "color": "rgba(127, 96, 0, 0.5)",
          "width": 1
         },
         "lowerfence": [
          0
         ],
         "marker": {
          "size": 2
         },
         "median": [
          1.4963526156066187
         ],
         "name": "A",
         "offsetgroup": "1",
         "opacity": 1,
         "q1": [
          0.6634952302281545
         ],
         "q3": [
          0.44183496188242377
         ],
         "type": "box",
         "upperfence": [
          0.6832929875868357
         ],
         "whiskerwidth": 0.2,
         "x": [
          "AAAA56@PM1<br>20201002<sub>111</sub>"
         ]
        },
        {
         "boxpoints": "all",
         "fillcolor": "rgba(127, 96, 0, 0.5)",
         "jitter": 1,
         "line": {
          "color": "rgba(127, 96, 0, 0.5)",
          "width": 1
         },
         "lowerfence": [
          0
         ],
         "marker": {
          "size": 2
         },
         "median": [
          1.3091772706141316
         ],
         "name": "A",
         "offsetgroup": "1",
         "opacity": 1,
         "q1": [
          0.46263319655553725
         ],
         "q3": [
          2.686109673664209
         ],
         "type": "box",
         "upperfence": [
          0.9967998402835803
         ],
         "whiskerwidth": 0.2,
         "x": [
          "AAAA57@PM1<br>20201002<sub>111</sub>"
         ]
        },
        {
         "boxpoints": "all",
         "fillcolor": "rgba(127, 96, 0, 0.5)",
         "jitter": 1,
         "line": {
          "color": "rgba(127, 96, 0, 0.5)",
          "width": 1
         },
         "lowerfence": [
          0
         ],
         "marker": {
          "size": 2
         },
         "median": [
          0.1299952888117557
         ],
         "name": "A",
         "offsetgroup": "1",
         "opacity": 1,
         "q1": [
          0.4939589764657877
         ],
         "q3": [
          0.6260330066206083
         ],
         "type": "box",
         "upperfence": [
          2.194125380116288
         ],
         "whiskerwidth": 0.2,
         "x": [
          "AAAA58@PM1<br>20201002<sub>111</sub>"
         ]
        },
        {
         "boxpoints": "all",
         "fillcolor": "rgba(127, 96, 0, 0.5)",
         "jitter": 1,
         "line": {
          "color": "rgba(127, 96, 0, 0.5)",
          "width": 1
         },
         "lowerfence": [
          0
         ],
         "marker": {
          "size": 2
         },
         "median": [
          1.0400333684054401
         ],
         "name": "A",
         "offsetgroup": "1",
         "opacity": 1,
         "q1": [
          0.023779511855476887
         ],
         "q3": [
          2.2335253945543156
         ],
         "type": "box",
         "upperfence": [
          0.7519996245890632
         ],
         "whiskerwidth": 0.2,
         "x": [
          "AAAA59@PM1<br>20201002<sub>111</sub>"
         ]
        },
        {
         "boxpoints": "all",
         "fillcolor": "rgba(93, 164, 214, 0.5)",
         "jitter": 1,
         "line": {
          "color": "rgba(93, 164, 214, 0.5)",
          "width": 1
         },
         "lowerfence": [
          0
         ],
         "marker": {
          "size": 2
         },
         "median": [
          0.08306523275191102
         ],
         "name": "A",
         "offsetgroup": "1",
         "opacity": 1,
         "q1": [
          0.7484407836467545
         ],
         "q3": [
          1.5185267724894085
         ],
         "type": "box",
         "upperfence": [
          0.5816662014890865
         ],
         "whiskerwidth": 0.2,
         "x": [
          "AAAA60@PM1<br>20201002<sub>111</sub>"
         ]
        },
        {
         "boxpoints": "all",
         "fillcolor": "rgba(93, 164, 214, 0.5)",
         "jitter": 1,
         "line": {
          "color": "rgba(93, 164, 214, 0.5)",
          "width": 1
         },
         "lowerfence": [
          0
         ],
         "marker": {
          "size": 2
         },
         "median": [
          0.9013971376198484
         ],
         "name": "A",
         "offsetgroup": "1",
         "opacity": 1,
         "q1": [
          0.7390243940809315
         ],
         "q3": [
          1.6070099402786584
         ],
         "type": "box",
         "upperfence": [
          0.5499054418305649
         ],
         "whiskerwidth": 0.2,
         "x": [
          "AAAA61@PM1<br>20201002<sub>111</sub>"
         ]
        },
        {
         "boxpoints": "all",
         "fillcolor": "rgba(93, 164, 214, 0.5)",
         "jitter": 1,
         "line": {
          "color": "rgba(93, 164, 214, 0.5)",
          "width": 1
         },
         "lowerfence": [
          0
         ],
         "marker": {
          "size": 2
         },
         "median": [
          1.543225745408071
         ],
         "name": "A",
         "offsetgroup": "1",
         "opacity": 1,
         "q1": [
          0.9165504001311552
         ],
         "q3": [
          0.9911152955069711
         ],
         "type": "box",
         "upperfence": [
          3.7672883378935227
         ],
         "whiskerwidth": 0.2,
         "x": [
          "AAAA62@PM1<br>20201002<sub>111</sub>"
         ]
        },
        {
         "boxpoints": "all",
         "fillcolor": "rgba(93, 164, 214, 0.5)",
         "jitter": 1,
         "line": {
          "color": "rgba(93, 164, 214, 0.5)",
          "width": 1
         },
         "lowerfence": [
          0
         ],
         "marker": {
          "size": 2
         },
         "median": [
          1.7122259994641291
         ],
         "name": "A",
         "offsetgroup": "1",
         "opacity": 1,
         "q1": [
          0.4318515021494659
         ],
         "q3": [
          2.495073476912882
         ],
         "type": "box",
         "upperfence": [
          1.4397218873125612
         ],
         "whiskerwidth": 0.2,
         "x": [
          "AAAA63@PM1<br>20201002<sub>111</sub>"
         ]
        },
        {
         "boxpoints": "all",
         "fillcolor": "rgba(93, 164, 214, 0.5)",
         "jitter": 1,
         "line": {
          "color": "rgba(93, 164, 214, 0.5)",
          "width": 1
         },
         "lowerfence": [
          0
         ],
         "marker": {
          "size": 2
         },
         "median": [
          0.5686844268841911
         ],
         "name": "A",
         "offsetgroup": "1",
         "opacity": 1,
         "q1": [
          0.5005603696770178
         ],
         "q3": [
          0.29630644150688923
         ],
         "type": "box",
         "upperfence": [
          1.7159627234680248
         ],
         "whiskerwidth": 0.2,
         "x": [
          "AAAA64@PM1<br>20201002<sub>111</sub>"
         ]
        },
        {
         "boxpoints": "all",
         "fillcolor": "rgba(93, 164, 214, 0.5)",
         "jitter": 1,
         "line": {
          "color": "rgba(93, 164, 214, 0.5)",
          "width": 1
         },
         "lowerfence": [
          0
         ],
         "marker": {
          "size": 2
         },
         "median": [
          0.38539678979190484
         ],
         "name": "A",
         "offsetgroup": "1",
         "opacity": 1,
         "q1": [
          0.4189199063414045
         ],
         "q3": [
          2.277321192108813
         ],
         "type": "box",
         "upperfence": [
          1.4043957514649996
         ],
         "whiskerwidth": 0.2,
         "x": [
          "AAAA65@PM1<br>20201002<sub>111</sub>"
         ]
        },
        {
         "boxpoints": "all",
         "fillcolor": "rgba(93, 164, 214, 0.5)",
         "jitter": 1,
         "line": {
          "color": "rgba(93, 164, 214, 0.5)",
          "width": 1
         },
         "lowerfence": [
          0
         ],
         "marker": {
          "size": 2
         },
         "median": [
          1.6053179305784329
         ],
         "name": "A",
         "offsetgroup": "1",
         "opacity": 1,
         "q1": [
          0.9927589556322672
         ],
         "q3": [
          2.9919272925652756
         ],
         "type": "box",
         "upperfence": [
          0.3244323414551826
         ],
         "whiskerwidth": 0.2,
         "x": [
          "AAAA66@PM1<br>20201002<sub>111</sub>"
         ]
        },
        {
         "boxpoints": "all",
         "fillcolor": "rgba(93, 164, 214, 0.5)",
         "jitter": 1,
         "line": {
          "color": "rgba(93, 164, 214, 0.5)",
          "width": 1
         },
         "lowerfence": [
          0
         ],
         "marker": {
          "size": 2
         },
         "median": [
          1.5815383155329792
         ],
         "name": "A",
         "offsetgroup": "1",
         "opacity": 1,
         "q1": [
          0.7992792414074412
         ],
         "q3": [
          1.5513948228263743
         ],
         "type": "box",
         "upperfence": [
          1.422309799395085
         ],
         "whiskerwidth": 0.2,
         "x": [
          "AAAA67@PM1<br>20201002<sub>111</sub>"
         ]
        },
        {
         "boxpoints": "all",
         "fillcolor": "rgba(93, 164, 214, 0.5)",
         "jitter": 1,
         "line": {
          "color": "rgba(93, 164, 214, 0.5)",
          "width": 1
         },
         "lowerfence": [
          0
         ],
         "marker": {
          "size": 2
         },
         "median": [
          1.9302144984548013
         ],
         "name": "A",
         "offsetgroup": "1",
         "opacity": 1,
         "q1": [
          0.11066148294439593
         ],
         "q3": [
          0.16114619188337154
         ],
         "type": "box",
         "upperfence": [
          0.5272506074345951
         ],
         "whiskerwidth": 0.2,
         "x": [
          "AAAA68@PM1<br>20201002<sub>111</sub>"
         ]
        },
        {
         "boxpoints": "all",
         "fillcolor": "rgba(93, 164, 214, 0.5)",
         "jitter": 1,
         "line": {
          "color": "rgba(93, 164, 214, 0.5)",
          "width": 1
         },
         "lowerfence": [
          0
         ],
         "marker": {
          "size": 2
         },
         "median": [
          0.09809339788161497
         ],
         "name": "A",
         "offsetgroup": "1",
         "opacity": 1,
         "q1": [
          0.38115700362805005
         ],
         "q3": [
          1.3649838919455508
         ],
         "type": "box",
         "upperfence": [
          0.518824807266959
         ],
         "whiskerwidth": 0.2,
         "x": [
          "AAAA69@PM1<br>20201002<sub>111</sub>"
         ]
        },
        {
         "boxpoints": "all",
         "fillcolor": "rgba(255, 144, 14, 0.5)",
         "jitter": 1,
         "line": {
          "color": "rgba(255, 144, 14, 0.5)",
          "width": 1
         },
         "lowerfence": [
          0
         ],
         "marker": {
          "size": 2
         },
         "median": [
          1.4126179359227993
         ],
         "name": "A",
         "offsetgroup": "1",
         "opacity": 1,
         "q1": [
          0.74769746444974
         ],
         "q3": [
          0.9397111896900959
         ],
         "type": "box",
         "upperfence": [
          1.2854047039997845
         ],
         "whiskerwidth": 0.2,
         "x": [
          "AAAA70@PM1<br>20201002<sub>111</sub>"
         ]
        },
        {
         "boxpoints": "all",
         "fillcolor": "rgba(255, 144, 14, 0.5)",
         "jitter": 1,
         "line": {
          "color": "rgba(255, 144, 14, 0.5)",
          "width": 1
         },
         "lowerfence": [
          0
         ],
         "marker": {
          "size": 2
         },
         "median": [
          1.646749602487208
         ],
         "name": "A",
         "offsetgroup": "1",
         "opacity": 1,
         "q1": [
          0.5915506002294821
         ],
         "q3": [
          1.8069305019487065
         ],
         "type": "box",
         "upperfence": [
          3.0510429535002266
         ],
         "whiskerwidth": 0.2,
         "x": [
          "AAAA71@PM1<br>20201002<sub>111</sub>"
         ]
        },
        {
         "boxpoints": "all",
         "fillcolor": "rgba(255, 144, 14, 0.5)",
         "jitter": 1,
         "line": {
          "color": "rgba(255, 144, 14, 0.5)",
          "width": 1
         },
         "lowerfence": [
          0
         ],
         "marker": {
          "size": 2
         },
         "median": [
          1.1989335890835746
         ],
         "name": "A",
         "offsetgroup": "1",
         "opacity": 1,
         "q1": [
          0.24855045447924995
         ],
         "q3": [
          0.8806680320377179
         ],
         "type": "box",
         "upperfence": [
          0.3415610405232501
         ],
         "whiskerwidth": 0.2,
         "x": [
          "AAAA72@PM1<br>20201002<sub>111</sub>"
         ]
        },
        {
         "boxpoints": "all",
         "fillcolor": "rgba(255, 144, 14, 0.5)",
         "jitter": 1,
         "line": {
          "color": "rgba(255, 144, 14, 0.5)",
          "width": 1
         },
         "lowerfence": [
          0
         ],
         "marker": {
          "size": 2
         },
         "median": [
          0.8981472717164773
         ],
         "name": "A",
         "offsetgroup": "1",
         "opacity": 1,
         "q1": [
          0.9261558534313835
         ],
         "q3": [
          2.250150896943318
         ],
         "type": "box",
         "upperfence": [
          1.6571585853911257
         ],
         "whiskerwidth": 0.2,
         "x": [
          "AAAA73@PM1<br>20201002<sub>111</sub>"
         ]
        },
        {
         "boxpoints": "all",
         "fillcolor": "rgba(255, 144, 14, 0.5)",
         "jitter": 1,
         "line": {
          "color": "rgba(255, 144, 14, 0.5)",
          "width": 1
         },
         "lowerfence": [
          0
         ],
         "marker": {
          "size": 2
         },
         "median": [
          1.4674462878594883
         ],
         "name": "A",
         "offsetgroup": "1",
         "opacity": 1,
         "q1": [
          0.6145957132685506
         ],
         "q3": [
          0.8323007050940664
         ],
         "type": "box",
         "upperfence": [
          1.7032939475403919
         ],
         "whiskerwidth": 0.2,
         "x": [
          "AAAA74@PM1<br>20201002<sub>111</sub>"
         ]
        },
        {
         "boxpoints": "all",
         "fillcolor": "rgba(255, 144, 14, 0.5)",
         "jitter": 1,
         "line": {
          "color": "rgba(255, 144, 14, 0.5)",
          "width": 1
         },
         "lowerfence": [
          0
         ],
         "marker": {
          "size": 2
         },
         "median": [
          0.22809007919887558
         ],
         "name": "A",
         "offsetgroup": "1",
         "opacity": 1,
         "q1": [
          0.5686461974211102
         ],
         "q3": [
          2.72643201310102
         ],
         "type": "box",
         "upperfence": [
          2.606008734585182
         ],
         "whiskerwidth": 0.2,
         "x": [
          "AAAA75@PM1<br>20201002<sub>111</sub>"
         ]
        },
        {
         "boxpoints": "all",
         "fillcolor": "rgba(255, 144, 14, 0.5)",
         "jitter": 1,
         "line": {
          "color": "rgba(255, 144, 14, 0.5)",
          "width": 1
         },
         "lowerfence": [
          0
         ],
         "marker": {
          "size": 2
         },
         "median": [
          0.410011848383669
         ],
         "name": "A",
         "offsetgroup": "1",
         "opacity": 1,
         "q1": [
          0.7197555915263997
         ],
         "q3": [
          1.5222191347135765
         ],
         "type": "box",
         "upperfence": [
          1.0539223904139918
         ],
         "whiskerwidth": 0.2,
         "x": [
          "AAAA76@PM1<br>20201002<sub>111</sub>"
         ]
        },
        {
         "boxpoints": "all",
         "fillcolor": "rgba(255, 144, 14, 0.5)",
         "jitter": 1,
         "line": {
          "color": "rgba(255, 144, 14, 0.5)",
          "width": 1
         },
         "lowerfence": [
          0
         ],
         "marker": {
          "size": 2
         },
         "median": [
          1.9580251789707221
         ],
         "name": "A",
         "offsetgroup": "1",
         "opacity": 1,
         "q1": [
          0.4378987109683824
         ],
         "q3": [
          1.6318386353374648
         ],
         "type": "box",
         "upperfence": [
          2.282435139231445
         ],
         "whiskerwidth": 0.2,
         "x": [
          "AAAA77@PM1<br>20201002<sub>111</sub>"
         ]
        },
        {
         "boxpoints": "all",
         "fillcolor": "rgba(255, 144, 14, 0.5)",
         "jitter": 1,
         "line": {
          "color": "rgba(255, 144, 14, 0.5)",
          "width": 1
         },
         "lowerfence": [
          0
         ],
         "marker": {
          "size": 2
         },
         "median": [
          0.714909292227965
         ],
         "name": "A",
         "offsetgroup": "1",
         "opacity": 1,
         "q1": [
          0.6690792489694178
         ],
         "q3": [
          1.9011506780465817
         ],
         "type": "box",
         "upperfence": [
          2.6584543499452815
         ],
         "whiskerwidth": 0.2,
         "x": [
          "AAAA78@PM1<br>20201002<sub>111</sub>"
         ]
        },
        {
         "boxpoints": "all",
         "fillcolor": "rgba(255, 144, 14, 0.5)",
         "jitter": 1,
         "line": {
          "color": "rgba(255, 144, 14, 0.5)",
          "width": 1
         },
         "lowerfence": [
          0
         ],
         "marker": {
          "size": 2
         },
         "median": [
          1.6593914247865242
         ],
         "name": "A",
         "offsetgroup": "1",
         "opacity": 1,
         "q1": [
          0.9097576101066185
         ],
         "q3": [
          2.488535985101124
         ],
         "type": "box",
         "upperfence": [
          1.5297120032254137
         ],
         "whiskerwidth": 0.2,
         "x": [
          "AAAA79@PM1<br>20201002<sub>111</sub>"
         ]
        },
        {
         "boxpoints": "all",
         "fillcolor": "rgba(44, 160, 101, 0.5)",
         "jitter": 1,
         "line": {
          "color": "rgba(44, 160, 101, 0.5)",
          "width": 1
         },
         "lowerfence": [
          0
         ],
         "marker": {
          "size": 2
         },
         "median": [
          0.2871564401602349
         ],
         "name": "A",
         "offsetgroup": "1",
         "opacity": 1,
         "q1": [
          0.5439760758283019
         ],
         "q3": [
          2.666699451570996
         ],
         "type": "box",
         "upperfence": [
          2.424560314616133
         ],
         "whiskerwidth": 0.2,
         "x": [
          "AAAA80@PM1<br>20201002<sub>111</sub>"
         ]
        },
        {
         "boxpoints": "all",
         "fillcolor": "rgba(44, 160, 101, 0.5)",
         "jitter": 1,
         "line": {
          "color": "rgba(44, 160, 101, 0.5)",
          "width": 1
         },
         "lowerfence": [
          0
         ],
         "marker": {
          "size": 2
         },
         "median": [
          0.7146723829216819
         ],
         "name": "A",
         "offsetgroup": "1",
         "opacity": 1,
         "q1": [
          0.016781051350946097
         ],
         "q3": [
          0.5453984533390462
         ],
         "type": "box",
         "upperfence": [
          3.188212262102193
         ],
         "whiskerwidth": 0.2,
         "x": [
          "AAAA81@PM1<br>20201002<sub>111</sub>"
         ]
        },
        {
         "boxpoints": "all",
         "fillcolor": "rgba(44, 160, 101, 0.5)",
         "jitter": 1,
         "line": {
          "color": "rgba(44, 160, 101, 0.5)",
          "width": 1
         },
         "lowerfence": [
          0
         ],
         "marker": {
          "size": 2
         },
         "median": [
          0.47836950004626533
         ],
         "name": "A",
         "offsetgroup": "1",
         "opacity": 1,
         "q1": [
          0.2029063719911417
         ],
         "q3": [
          0.2998313858462386
         ],
         "type": "box",
         "upperfence": [
          1.0434786367480737
         ],
         "whiskerwidth": 0.2,
         "x": [
          "AAAA82@PM1<br>20201002<sub>111</sub>"
         ]
        },
        {
         "boxpoints": "all",
         "fillcolor": "rgba(44, 160, 101, 0.5)",
         "jitter": 1,
         "line": {
          "color": "rgba(44, 160, 101, 0.5)",
          "width": 1
         },
         "lowerfence": [
          0
         ],
         "marker": {
          "size": 2
         },
         "median": [
          1.6218258939235932
         ],
         "name": "A",
         "offsetgroup": "1",
         "opacity": 1,
         "q1": [
          0.7189933762895476
         ],
         "q3": [
          2.1936756350464264
         ],
         "type": "box",
         "upperfence": [
          3.747222718631766
         ],
         "whiskerwidth": 0.2,
         "x": [
          "AAAA83@PM1<br>20201002<sub>111</sub>"
         ]
        },
        {
         "boxpoints": "all",
         "fillcolor": "rgba(44, 160, 101, 0.5)",
         "jitter": 1,
         "line": {
          "color": "rgba(44, 160, 101, 0.5)",
          "width": 1
         },
         "lowerfence": [
          0
         ],
         "marker": {
          "size": 2
         },
         "median": [
          0.7883182172729624
         ],
         "name": "A",
         "offsetgroup": "1",
         "opacity": 1,
         "q1": [
          0.9250181327255678
         ],
         "q3": [
          2.084225157420634
         ],
         "type": "box",
         "upperfence": [
          3.866100086383565
         ],
         "whiskerwidth": 0.2,
         "x": [
          "AAAA84@PM1<br>20201002<sub>111</sub>"
         ]
        },
        {
         "boxpoints": "all",
         "fillcolor": "rgba(44, 160, 101, 0.5)",
         "jitter": 1,
         "line": {
          "color": "rgba(44, 160, 101, 0.5)",
          "width": 1
         },
         "lowerfence": [
          0
         ],
         "marker": {
          "size": 2
         },
         "median": [
          0.21105185838426221
         ],
         "name": "A",
         "offsetgroup": "1",
         "opacity": 1,
         "q1": [
          0.5767126726407504
         ],
         "q3": [
          1.7896059784663816
         ],
         "type": "box",
         "upperfence": [
          0.13733202754308005
         ],
         "whiskerwidth": 0.2,
         "x": [
          "AAAA85@PM1<br>20201002<sub>111</sub>"
         ]
        },
        {
         "boxpoints": "all",
         "fillcolor": "rgba(44, 160, 101, 0.5)",
         "jitter": 1,
         "line": {
          "color": "rgba(44, 160, 101, 0.5)",
          "width": 1
         },
         "lowerfence": [
          0
         ],
         "marker": {
          "size": 2
         },
         "median": [
          1.2971833027954027
         ],
         "name": "A",
         "offsetgroup": "1",
         "opacity": 1,
         "q1": [
          0.23766684801606486
         ],
         "q3": [
          1.8859982396266997
         ],
         "type": "box",
         "upperfence": [
          0.4303512103771645
         ],
         "whiskerwidth": 0.2,
         "x": [
          "AAAA86@PM1<br>20201002<sub>111</sub>"
         ]
        },
        {
         "boxpoints": "all",
         "fillcolor": "rgba(44, 160, 101, 0.5)",
         "jitter": 1,
         "line": {
          "color": "rgba(44, 160, 101, 0.5)",
          "width": 1
         },
         "lowerfence": [
          0
         ],
         "marker": {
          "size": 2
         },
         "median": [
          0.49317751384238595
         ],
         "name": "A",
         "offsetgroup": "1",
         "opacity": 1,
         "q1": [
          0.5227699413007814
         ],
         "q3": [
          2.5452651220319833
         ],
         "type": "box",
         "upperfence": [
          3.51371387826455
         ],
         "whiskerwidth": 0.2,
         "x": [
          "AAAA87@PM1<br>20201002<sub>111</sub>"
         ]
        },
        {
         "boxpoints": "all",
         "fillcolor": "rgba(44, 160, 101, 0.5)",
         "jitter": 1,
         "line": {
          "color": "rgba(44, 160, 101, 0.5)",
          "width": 1
         },
         "lowerfence": [
          0
         ],
         "marker": {
          "size": 2
         },
         "median": [
          1.2963609119750832
         ],
         "name": "A",
         "offsetgroup": "1",
         "opacity": 1,
         "q1": [
          0.7009663073981908
         ],
         "q3": [
          2.5708019546766363
         ],
         "type": "box",
         "upperfence": [
          1.7263708928078767
         ],
         "whiskerwidth": 0.2,
         "x": [
          "AAAA88@PM1<br>20201002<sub>111</sub>"
         ]
        },
        {
         "boxpoints": "all",
         "fillcolor": "rgba(44, 160, 101, 0.5)",
         "jitter": 1,
         "line": {
          "color": "rgba(44, 160, 101, 0.5)",
          "width": 1
         },
         "lowerfence": [
          0
         ],
         "marker": {
          "size": 2
         },
         "median": [
          1.1308088490372266
         ],
         "name": "A",
         "offsetgroup": "1",
         "opacity": 1,
         "q1": [
          0.7965987916325658
         ],
         "q3": [
          2.5673646016325513
         ],
         "type": "box",
         "upperfence": [
          1.4126441659393154
         ],
         "whiskerwidth": 0.2,
         "x": [
          "AAAA89@PM1<br>20201002<sub>111</sub>"
         ]
        },
        {
         "boxpoints": "all",
         "fillcolor": "rgba(255, 65, 54, 0.5)",
         "jitter": 1,
         "line": {
          "color": "rgba(255, 65, 54, 0.5)",
          "width": 1
         },
         "lowerfence": [
          0
         ],
         "marker": {
          "size": 2
         },
         "median": [
          1.6134589126282897
         ],
         "name": "A",
         "offsetgroup": "1",
         "opacity": 1,
         "q1": [
          0.48590611229003644
         ],
         "q3": [
          2.7373799498387004
         ],
         "type": "box",
         "upperfence": [
          1.7821460648479661
         ],
         "whiskerwidth": 0.2,
         "x": [
          "AAAA90@PM1<br>20201002<sub>111</sub>"
         ]
        },
        {
         "boxpoints": "all",
         "fillcolor": "rgba(255, 65, 54, 0.5)",
         "jitter": 1,
         "line": {
          "color": "rgba(255, 65, 54, 0.5)",
          "width": 1
         },
         "lowerfence": [
          0
         ],
         "marker": {
          "size": 2
         },
         "median": [
          0.6582726999047404
         ],
         "name": "A",
         "offsetgroup": "1",
         "opacity": 1,
         "q1": [
          0.3879876159314424
         ],
         "q3": [
          2.8260394582071227
         ],
         "type": "box",
         "upperfence": [
          1.651104227448883
         ],
         "whiskerwidth": 0.2,
         "x": [
          "AAAA91@PM1<br>20201002<sub>111</sub>"
         ]
        },
        {
         "boxpoints": "all",
         "fillcolor": "rgba(255, 65, 54, 0.5)",
         "jitter": 1,
         "line": {
          "color": "rgba(255, 65, 54, 0.5)",
          "width": 1
         },
         "lowerfence": [
          0
         ],
         "marker": {
          "size": 2
         },
         "median": [
          1.7673299412841987
         ],
         "name": "A",
         "offsetgroup": "1",
         "opacity": 1,
         "q1": [
          0.6757966485009936
         ],
         "q3": [
          0.9130403566790812
         ],
         "type": "box",
         "upperfence": [
          2.8038136780831637
         ],
         "whiskerwidth": 0.2,
         "x": [
          "AAAA92@PM1<br>20201002<sub>111</sub>"
         ]
        },
        {
         "boxpoints": "all",
         "fillcolor": "rgba(255, 65, 54, 0.5)",
         "jitter": 1,
         "line": {
          "color": "rgba(255, 65, 54, 0.5)",
          "width": 1
         },
         "lowerfence": [
          0
         ],
         "marker": {
          "size": 2
         },
         "median": [
          1.2995940602930305
         ],
         "name": "A",
         "offsetgroup": "1",
         "opacity": 1,
         "q1": [
          0.2623687728344932
         ],
         "q3": [
          1.7887988089182318
         ],
         "type": "box",
         "upperfence": [
          0.3660493251421464
         ],
         "whiskerwidth": 0.2,
         "x": [
          "AAAA93@PM1<br>20201002<sub>111</sub>"
         ]
        },
        {
         "boxpoints": "all",
         "fillcolor": "rgba(255, 65, 54, 0.5)",
         "jitter": 1,
         "line": {
          "color": "rgba(255, 65, 54, 0.5)",
          "width": 1
         },
         "lowerfence": [
          0
         ],
         "marker": {
          "size": 2
         },
         "median": [
          0.8289150732870507
         ],
         "name": "A",
         "offsetgroup": "1",
         "opacity": 1,
         "q1": [
          0.8098227227283582
         ],
         "q3": [
          1.1543203143601586
         ],
         "type": "box",
         "upperfence": [
          3.3960580677956167
         ],
         "whiskerwidth": 0.2,
         "x": [
          "AAAA94@PM1<br>20201002<sub>111</sub>"
         ]
        },
        {
         "boxpoints": "all",
         "fillcolor": "rgba(255, 65, 54, 0.5)",
         "jitter": 1,
         "line": {
          "color": "rgba(255, 65, 54, 0.5)",
          "width": 1
         },
         "lowerfence": [
          0
         ],
         "marker": {
          "size": 2
         },
         "median": [
          0.8715267337652775
         ],
         "name": "A",
         "offsetgroup": "1",
         "opacity": 1,
         "q1": [
          0.004888877903619915
         ],
         "q3": [
          0.3229978490310871
         ],
         "type": "box",
         "upperfence": [
          1.1916631311306474
         ],
         "whiskerwidth": 0.2,
         "x": [
          "AAAA95@PM1<br>20201002<sub>111</sub>"
         ]
        },
        {
         "boxpoints": "all",
         "fillcolor": "rgba(255, 65, 54, 0.5)",
         "jitter": 1,
         "line": {
          "color": "rgba(255, 65, 54, 0.5)",
          "width": 1
         },
         "lowerfence": [
          0
         ],
         "marker": {
          "size": 2
         },
         "median": [
          0.20672253298586019
         ],
         "name": "A",
         "offsetgroup": "1",
         "opacity": 1,
         "q1": [
          0.9569000907422736
         ],
         "q3": [
          1.2773932149757226
         ],
         "type": "box",
         "upperfence": [
          1.6364604740637754
         ],
         "whiskerwidth": 0.2,
         "x": [
          "AAAA96@PM1<br>20201002<sub>111</sub>"
         ]
        },
        {
         "boxpoints": "all",
         "fillcolor": "rgba(255, 65, 54, 0.5)",
         "jitter": 1,
         "line": {
          "color": "rgba(255, 65, 54, 0.5)",
          "width": 1
         },
         "lowerfence": [
          0
         ],
         "marker": {
          "size": 2
         },
         "median": [
          0.9865041615880283
         ],
         "name": "A",
         "offsetgroup": "1",
         "opacity": 1,
         "q1": [
          0.24437721813135926
         ],
         "q3": [
          0.519017274142743
         ],
         "type": "box",
         "upperfence": [
          1.0105226659642397
         ],
         "whiskerwidth": 0.2,
         "x": [
          "AAAA97@PM1<br>20201002<sub>111</sub>"
         ]
        },
        {
         "boxpoints": "all",
         "fillcolor": "rgba(255, 65, 54, 0.5)",
         "jitter": 1,
         "line": {
          "color": "rgba(255, 65, 54, 0.5)",
          "width": 1
         },
         "lowerfence": [
          0
         ],
         "marker": {
          "size": 2
         },
         "median": [
          0.4386188139841354
         ],
         "name": "A",
         "offsetgroup": "1",
         "opacity": 1,
         "q1": [
          0.36238390197300874
         ],
         "q3": [
          0.8810163956546015
         ],
         "type": "box",
         "upperfence": [
          1.9528723155570238
         ],
         "whiskerwidth": 0.2,
         "x": [
          "AAAA98@PM1<br>20201002<sub>111</sub>"
         ]
        },
        {
         "boxpoints": "all",
         "fillcolor": "rgba(255, 65, 54, 0.5)",
         "jitter": 1,
         "line": {
          "color": "rgba(255, 65, 54, 0.5)",
          "width": 1
         },
         "lowerfence": [
          0
         ],
         "marker": {
          "size": 2
         },
         "median": [
          1.1570106021624302
         ],
         "name": "A",
         "offsetgroup": "1",
         "opacity": 1,
         "q1": [
          0.30221658485340475
         ],
         "q3": [
          1.926203793744469
         ],
         "type": "box",
         "upperfence": [
          2.9353126141917634
         ],
         "whiskerwidth": 0.2,
         "x": [
          "AAAA99@PM1<br>20201002<sub>111</sub>"
         ]
        }
       ],
       "layout": {
        "height": 240,
        "hovermode": false,
        "margin": {
         "b": 40,
         "l": 40,
         "r": 5,
         "t": 5
        },
        "paper_bgcolor": "rgb(255, 255, 255)",
        "plot_bgcolor": "rgb(255, 255, 255)",
        "showlegend": false,
        "template": {
         "data": {
          "bar": [
           {
            "error_x": {
             "color": "#2a3f5f"
            },
            "error_y": {
             "color": "#2a3f5f"
            },
            "marker": {
             "line": {
              "color": "#E5ECF6",
              "width": 0.5
             }
            },
            "type": "bar"
           }
          ],
          "barpolar": [
           {
            "marker": {
             "line": {
              "color": "#E5ECF6",
              "width": 0.5
             }
            },
            "type": "barpolar"
           }
          ],
          "carpet": [
           {
            "aaxis": {
             "endlinecolor": "#2a3f5f",
             "gridcolor": "white",
             "linecolor": "white",
             "minorgridcolor": "white",
             "startlinecolor": "#2a3f5f"
            },
            "baxis": {
             "endlinecolor": "#2a3f5f",
             "gridcolor": "white",
             "linecolor": "white",
             "minorgridcolor": "white",
             "startlinecolor": "#2a3f5f"
            },
            "type": "carpet"
           }
          ],
          "choropleth": [
           {
            "colorbar": {
             "outlinewidth": 0,
             "ticks": ""
            },
            "type": "choropleth"
           }
          ],
          "contour": [
           {
            "colorbar": {
             "outlinewidth": 0,
             "ticks": ""
            },
            "colorscale": [
             [
              0,
              "#0d0887"
             ],
             [
              0.1111111111111111,
              "#46039f"
             ],
             [
              0.2222222222222222,
              "#7201a8"
             ],
             [
              0.3333333333333333,
              "#9c179e"
             ],
             [
              0.4444444444444444,
              "#bd3786"
             ],
             [
              0.5555555555555556,
              "#d8576b"
             ],
             [
              0.6666666666666666,
              "#ed7953"
             ],
             [
              0.7777777777777778,
              "#fb9f3a"
             ],
             [
              0.8888888888888888,
              "#fdca26"
             ],
             [
              1,
              "#f0f921"
             ]
            ],
            "type": "contour"
           }
          ],
          "contourcarpet": [
           {
            "colorbar": {
             "outlinewidth": 0,
             "ticks": ""
            },
            "type": "contourcarpet"
           }
          ],
          "heatmap": [
           {
            "colorbar": {
             "outlinewidth": 0,
             "ticks": ""
            },
            "colorscale": [
             [
              0,
              "#0d0887"
             ],
             [
              0.1111111111111111,
              "#46039f"
             ],
             [
              0.2222222222222222,
              "#7201a8"
             ],
             [
              0.3333333333333333,
              "#9c179e"
             ],
             [
              0.4444444444444444,
              "#bd3786"
             ],
             [
              0.5555555555555556,
              "#d8576b"
             ],
             [
              0.6666666666666666,
              "#ed7953"
             ],
             [
              0.7777777777777778,
              "#fb9f3a"
             ],
             [
              0.8888888888888888,
              "#fdca26"
             ],
             [
              1,
              "#f0f921"
             ]
            ],
            "type": "heatmap"
           }
          ],
          "heatmapgl": [
           {
            "colorbar": {
             "outlinewidth": 0,
             "ticks": ""
            },
            "colorscale": [
             [
              0,
              "#0d0887"
             ],
             [
              0.1111111111111111,
              "#46039f"
             ],
             [
              0.2222222222222222,
              "#7201a8"
             ],
             [
              0.3333333333333333,
              "#9c179e"
             ],
             [
              0.4444444444444444,
              "#bd3786"
             ],
             [
              0.5555555555555556,
              "#d8576b"
             ],
             [
              0.6666666666666666,
              "#ed7953"
             ],
             [
              0.7777777777777778,
              "#fb9f3a"
             ],
             [
              0.8888888888888888,
              "#fdca26"
             ],
             [
              1,
              "#f0f921"
             ]
            ],
            "type": "heatmapgl"
           }
          ],
          "histogram": [
           {
            "marker": {
             "colorbar": {
              "outlinewidth": 0,
              "ticks": ""
             }
            },
            "type": "histogram"
           }
          ],
          "histogram2d": [
           {
            "colorbar": {
             "outlinewidth": 0,
             "ticks": ""
            },
            "colorscale": [
             [
              0,
              "#0d0887"
             ],
             [
              0.1111111111111111,
              "#46039f"
             ],
             [
              0.2222222222222222,
              "#7201a8"
             ],
             [
              0.3333333333333333,
              "#9c179e"
             ],
             [
              0.4444444444444444,
              "#bd3786"
             ],
             [
              0.5555555555555556,
              "#d8576b"
             ],
             [
              0.6666666666666666,
              "#ed7953"
             ],
             [
              0.7777777777777778,
              "#fb9f3a"
             ],
             [
              0.8888888888888888,
              "#fdca26"
             ],
             [
              1,
              "#f0f921"
             ]
            ],
            "type": "histogram2d"
           }
          ],
          "histogram2dcontour": [
           {
            "colorbar": {
             "outlinewidth": 0,
             "ticks": ""
            },
            "colorscale": [
             [
              0,
              "#0d0887"
             ],
             [
              0.1111111111111111,
              "#46039f"
             ],
             [
              0.2222222222222222,
              "#7201a8"
             ],
             [
              0.3333333333333333,
              "#9c179e"
             ],
             [
              0.4444444444444444,
              "#bd3786"
             ],
             [
              0.5555555555555556,
              "#d8576b"
             ],
             [
              0.6666666666666666,
              "#ed7953"
             ],
             [
              0.7777777777777778,
              "#fb9f3a"
             ],
             [
              0.8888888888888888,
              "#fdca26"
             ],
             [
              1,
              "#f0f921"
             ]
            ],
            "type": "histogram2dcontour"
           }
          ],
          "mesh3d": [
           {
            "colorbar": {
             "outlinewidth": 0,
             "ticks": ""
            },
            "type": "mesh3d"
           }
          ],
          "parcoords": [
           {
            "line": {
             "colorbar": {
              "outlinewidth": 0,
              "ticks": ""
             }
            },
            "type": "parcoords"
           }
          ],
          "pie": [
           {
            "automargin": true,
            "type": "pie"
           }
          ],
          "scatter": [
           {
            "marker": {
             "colorbar": {
              "outlinewidth": 0,
              "ticks": ""
             }
            },
            "type": "scatter"
           }
          ],
          "scatter3d": [
           {
            "line": {
             "colorbar": {
              "outlinewidth": 0,
              "ticks": ""
             }
            },
            "marker": {
             "colorbar": {
              "outlinewidth": 0,
              "ticks": ""
             }
            },
            "type": "scatter3d"
           }
          ],
          "scattercarpet": [
           {
            "marker": {
             "colorbar": {
              "outlinewidth": 0,
              "ticks": ""
             }
            },
            "type": "scattercarpet"
           }
          ],
          "scattergeo": [
           {
            "marker": {
             "colorbar": {
              "outlinewidth": 0,
              "ticks": ""
             }
            },
            "type": "scattergeo"
           }
          ],
          "scattergl": [
           {
            "marker": {
             "colorbar": {
              "outlinewidth": 0,
              "ticks": ""
             }
            },
            "type": "scattergl"
           }
          ],
          "scattermapbox": [
           {
            "marker": {
             "colorbar": {
              "outlinewidth": 0,
              "ticks": ""
             }
            },
            "type": "scattermapbox"
           }
          ],
          "scatterpolar": [
           {
            "marker": {
             "colorbar": {
              "outlinewidth": 0,
              "ticks": ""
             }
            },
            "type": "scatterpolar"
           }
          ],
          "scatterpolargl": [
           {
            "marker": {
             "colorbar": {
              "outlinewidth": 0,
              "ticks": ""
             }
            },
            "type": "scatterpolargl"
           }
          ],
          "scatterternary": [
           {
            "marker": {
             "colorbar": {
              "outlinewidth": 0,
              "ticks": ""
             }
            },
            "type": "scatterternary"
           }
          ],
          "surface": [
           {
            "colorbar": {
             "outlinewidth": 0,
             "ticks": ""
            },
            "colorscale": [
             [
              0,
              "#0d0887"
             ],
             [
              0.1111111111111111,
              "#46039f"
             ],
             [
              0.2222222222222222,
              "#7201a8"
             ],
             [
              0.3333333333333333,
              "#9c179e"
             ],
             [
              0.4444444444444444,
              "#bd3786"
             ],
             [
              0.5555555555555556,
              "#d8576b"
             ],
             [
              0.6666666666666666,
              "#ed7953"
             ],
             [
              0.7777777777777778,
              "#fb9f3a"
             ],
             [
              0.8888888888888888,
              "#fdca26"
             ],
             [
              1,
              "#f0f921"
             ]
            ],
            "type": "surface"
           }
          ],
          "table": [
           {
            "cells": {
             "fill": {
              "color": "#EBF0F8"
             },
             "line": {
              "color": "white"
             }
            },
            "header": {
             "fill": {
              "color": "#C8D4E3"
             },
             "line": {
              "color": "white"
             }
            },
            "type": "table"
           }
          ]
         },
         "layout": {
          "annotationdefaults": {
           "arrowcolor": "#2a3f5f",
           "arrowhead": 0,
           "arrowwidth": 1
          },
          "coloraxis": {
           "colorbar": {
            "outlinewidth": 0,
            "ticks": ""
           }
          },
          "colorscale": {
           "diverging": [
            [
             0,
             "#8e0152"
            ],
            [
             0.1,
             "#c51b7d"
            ],
            [
             0.2,
             "#de77ae"
            ],
            [
             0.3,
             "#f1b6da"
            ],
            [
             0.4,
             "#fde0ef"
            ],
            [
             0.5,
             "#f7f7f7"
            ],
            [
             0.6,
             "#e6f5d0"
            ],
            [
             0.7,
             "#b8e186"
            ],
            [
             0.8,
             "#7fbc41"
            ],
            [
             0.9,
             "#4d9221"
            ],
            [
             1,
             "#276419"
            ]
           ],
           "sequential": [
            [
             0,
             "#0d0887"
            ],
            [
             0.1111111111111111,
             "#46039f"
            ],
            [
             0.2222222222222222,
             "#7201a8"
            ],
            [
             0.3333333333333333,
             "#9c179e"
            ],
            [
             0.4444444444444444,
             "#bd3786"
            ],
            [
             0.5555555555555556,
             "#d8576b"
            ],
            [
             0.6666666666666666,
             "#ed7953"
            ],
            [
             0.7777777777777778,
             "#fb9f3a"
            ],
            [
             0.8888888888888888,
             "#fdca26"
            ],
            [
             1,
             "#f0f921"
            ]
           ],
           "sequentialminus": [
            [
             0,
             "#0d0887"
            ],
            [
             0.1111111111111111,
             "#46039f"
            ],
            [
             0.2222222222222222,
             "#7201a8"
            ],
            [
             0.3333333333333333,
             "#9c179e"
            ],
            [
             0.4444444444444444,
             "#bd3786"
            ],
            [
             0.5555555555555556,
             "#d8576b"
            ],
            [
             0.6666666666666666,
             "#ed7953"
            ],
            [
             0.7777777777777778,
             "#fb9f3a"
            ],
            [
             0.8888888888888888,
             "#fdca26"
            ],
            [
             1,
             "#f0f921"
            ]
           ]
          },
          "colorway": [
           "#636efa",
           "#EF553B",
           "#00cc96",
           "#ab63fa",
           "#FFA15A",
           "#19d3f3",
           "#FF6692",
           "#B6E880",
           "#FF97FF",
           "#FECB52"
          ],
          "font": {
           "color": "#2a3f5f"
          },
          "geo": {
           "bgcolor": "white",
           "lakecolor": "white",
           "landcolor": "#E5ECF6",
           "showlakes": true,
           "showland": true,
           "subunitcolor": "white"
          },
          "hoverlabel": {
           "align": "left"
          },
          "hovermode": "closest",
          "mapbox": {
           "style": "light"
          },
          "paper_bgcolor": "white",
          "plot_bgcolor": "#E5ECF6",
          "polar": {
           "angularaxis": {
            "gridcolor": "white",
            "linecolor": "white",
            "ticks": ""
           },
           "bgcolor": "#E5ECF6",
           "radialaxis": {
            "gridcolor": "white",
            "linecolor": "white",
            "ticks": ""
           }
          },
          "scene": {
           "xaxis": {
            "backgroundcolor": "#E5ECF6",
            "gridcolor": "white",
            "gridwidth": 2,
            "linecolor": "white",
            "showbackground": true,
            "ticks": "",
            "zerolinecolor": "white"
           },
           "yaxis": {
            "backgroundcolor": "#E5ECF6",
            "gridcolor": "white",
            "gridwidth": 2,
            "linecolor": "white",
            "showbackground": true,
            "ticks": "",
            "zerolinecolor": "white"
           },
           "zaxis": {
            "backgroundcolor": "#E5ECF6",
            "gridcolor": "white",
            "gridwidth": 2,
            "linecolor": "white",
            "showbackground": true,
            "ticks": "",
            "zerolinecolor": "white"
           }
          },
          "shapedefaults": {
           "line": {
            "color": "#2a3f5f"
           }
          },
          "ternary": {
           "aaxis": {
            "gridcolor": "white",
            "linecolor": "white",
            "ticks": ""
           },
           "baxis": {
            "gridcolor": "white",
            "linecolor": "white",
            "ticks": ""
           },
           "bgcolor": "#E5ECF6",
           "caxis": {
            "gridcolor": "white",
            "linecolor": "white",
            "ticks": ""
           }
          },
          "title": {
           "x": 0.05
          },
          "xaxis": {
           "automargin": true,
           "gridcolor": "white",
           "linecolor": "white",
           "ticks": "",
           "title": {
            "standoff": 15
           },
           "zerolinecolor": "white",
           "zerolinewidth": 2
          },
          "yaxis": {
           "automargin": true,
           "gridcolor": "white",
           "linecolor": "white",
           "ticks": "",
           "title": {
            "standoff": 15
           },
           "zerolinecolor": "white",
           "zerolinewidth": 2
          }
         }
        },
        "width": 940,
        "xaxis": {
         "linecolor": "black",
         "linewidth": 1,
         "mirror": true,
         "nticks": 30,
         "showline": true,
         "tickangle": -90,
         "tickfont": {
          "color": "#000",
          "family": "calibri",
          "size": 10
         },
         "ticklen": 5,
         "ticks": "inside",
         "tickson": "labels"
        },
        "yaxis": {
         "autorange": true,
         "gridcolor": "rgb(245, 245, 245)",
         "gridwidth": 1,
         "linecolor": "black",
         "linewidth": 1,
         "mirror": true,
         "showgrid": true,
         "showline": true,
         "tickfont": {
          "color": "#000",
          "family": "calibri",
          "size": 10
         },
         "zeroline": false,
         "zerolinecolor": "rgb(0, 0, 0)",
         "zerolinewidth": 1
        }
       }
      },
      "text/html": [
       "<div>\n",
       "        \n",
       "        \n",
       "            <div id=\"1c13e9dd-3f29-44d6-b301-1af37debb086\" class=\"plotly-graph-div\" style=\"height:240px; width:940px;\"></div>\n",
       "            <script type=\"text/javascript\">\n",
       "                require([\"plotly\"], function(Plotly) {\n",
       "                    window.PLOTLYENV=window.PLOTLYENV || {};\n",
       "                    \n",
       "                if (document.getElementById(\"1c13e9dd-3f29-44d6-b301-1af37debb086\")) {\n",
       "                    Plotly.newPlot(\n",
       "                        '1c13e9dd-3f29-44d6-b301-1af37debb086',\n",
       "                        [{\"boxpoints\": \"all\", \"fillcolor\": \"rgba(93, 164, 214, 0.5)\", \"jitter\": 1.0, \"line\": {\"color\": \"rgba(93, 164, 214, 0.5)\", \"width\": 1}, \"lowerfence\": [0.0], \"marker\": {\"size\": 2}, \"median\": [0.7946967239713891], \"name\": \"A\", \"offsetgroup\": \"1\", \"opacity\": 1.0, \"q1\": [0.41524300954431026], \"q3\": [1.004793046263342], \"type\": \"box\", \"upperfence\": [3.780129965026167], \"whiskerwidth\": 0.2, \"x\": [\"AAAA00@PM1<br>20201002<sub>111</sub>\"]}, {\"boxpoints\": \"all\", \"fillcolor\": \"rgba(93, 164, 214, 0.5)\", \"jitter\": 1.0, \"line\": {\"color\": \"rgba(93, 164, 214, 0.5)\", \"width\": 1}, \"lowerfence\": [0.0], \"marker\": {\"size\": 2}, \"median\": [1.6460072298805783], \"name\": \"A\", \"offsetgroup\": \"1\", \"opacity\": 1.0, \"q1\": [0.3734640658310392], \"q3\": [2.1103936963156107], \"type\": \"box\", \"upperfence\": [1.896028404001326], \"whiskerwidth\": 0.2, \"x\": [\"AAAA01@PM1<br>20201002<sub>111</sub>\"]}, {\"boxpoints\": \"all\", \"fillcolor\": \"rgba(93, 164, 214, 0.5)\", \"jitter\": 1.0, \"line\": {\"color\": \"rgba(93, 164, 214, 0.5)\", \"width\": 1}, \"lowerfence\": [0.0], \"marker\": {\"size\": 2}, \"median\": [0.0502085391364091], \"name\": \"A\", \"offsetgroup\": \"1\", \"opacity\": 1.0, \"q1\": [0.6532162151367018], \"q3\": [0.8948244056002091], \"type\": \"box\", \"upperfence\": [3.50860093773668], \"whiskerwidth\": 0.2, \"x\": [\"AAAA02@PM1<br>20201002<sub>111</sub>\"]}, {\"boxpoints\": \"all\", \"fillcolor\": \"rgba(93, 164, 214, 0.5)\", \"jitter\": 1.0, \"line\": {\"color\": \"rgba(93, 164, 214, 0.5)\", \"width\": 1}, \"lowerfence\": [0.0], \"marker\": {\"size\": 2}, \"median\": [0.1418357336752325], \"name\": \"A\", \"offsetgroup\": \"1\", \"opacity\": 1.0, \"q1\": [0.15232324967544641], \"q3\": [2.03405232445935], \"type\": \"box\", \"upperfence\": [1.2041906212443845], \"whiskerwidth\": 0.2, \"x\": [\"AAAA03@PM1<br>20201002<sub>111</sub>\"]}, {\"boxpoints\": \"all\", \"fillcolor\": \"rgba(93, 164, 214, 0.5)\", \"jitter\": 1.0, \"line\": {\"color\": \"rgba(93, 164, 214, 0.5)\", \"width\": 1}, \"lowerfence\": [0.0], \"marker\": {\"size\": 2}, \"median\": [0.6652534443241191], \"name\": \"A\", \"offsetgroup\": \"1\", \"opacity\": 1.0, \"q1\": [0.7657579959632608], \"q3\": [1.2290117984087114], \"type\": \"box\", \"upperfence\": [1.7881501074521249], \"whiskerwidth\": 0.2, \"x\": [\"AAAA04@PM1<br>20201002<sub>111</sub>\"]}, {\"boxpoints\": \"all\", \"fillcolor\": \"rgba(93, 164, 214, 0.5)\", \"jitter\": 1.0, \"line\": {\"color\": \"rgba(93, 164, 214, 0.5)\", \"width\": 1}, \"lowerfence\": [0.0], \"marker\": {\"size\": 2}, \"median\": [1.7334306733804155], \"name\": \"A\", \"offsetgroup\": \"1\", \"opacity\": 1.0, \"q1\": [0.6379102237699105], \"q3\": [2.509198227205726], \"type\": \"box\", \"upperfence\": [2.128377370898886], \"whiskerwidth\": 0.2, \"x\": [\"AAAA05@PM1<br>20201002<sub>111</sub>\"]}, {\"boxpoints\": \"all\", \"fillcolor\": \"rgba(93, 164, 214, 0.5)\", \"jitter\": 1.0, \"line\": {\"color\": \"rgba(93, 164, 214, 0.5)\", \"width\": 1}, \"lowerfence\": [0.0], \"marker\": {\"size\": 2}, \"median\": [0.5541352274833966], \"name\": \"A\", \"offsetgroup\": \"1\", \"opacity\": 1.0, \"q1\": [0.9873611135338484], \"q3\": [0.8618035484624132], \"type\": \"box\", \"upperfence\": [0.1670913285615434], \"whiskerwidth\": 0.2, \"x\": [\"AAAA06@PM1<br>20201002<sub>111</sub>\"]}, {\"boxpoints\": \"all\", \"fillcolor\": \"rgba(93, 164, 214, 0.5)\", \"jitter\": 1.0, \"line\": {\"color\": \"rgba(93, 164, 214, 0.5)\", \"width\": 1}, \"lowerfence\": [0.0], \"marker\": {\"size\": 2}, \"median\": [1.3402214064536029], \"name\": \"A\", \"offsetgroup\": \"1\", \"opacity\": 1.0, \"q1\": [0.06797537386652508], \"q3\": [1.2516426018488125], \"type\": \"box\", \"upperfence\": [2.8470216472395546], \"whiskerwidth\": 0.2, \"x\": [\"AAAA07@PM1<br>20201002<sub>111</sub>\"]}, {\"boxpoints\": \"all\", \"fillcolor\": \"rgba(93, 164, 214, 0.5)\", \"jitter\": 1.0, \"line\": {\"color\": \"rgba(93, 164, 214, 0.5)\", \"width\": 1}, \"lowerfence\": [0.0], \"marker\": {\"size\": 2}, \"median\": [0.882505034013191], \"name\": \"A\", \"offsetgroup\": \"1\", \"opacity\": 1.0, \"q1\": [0.972581149650164], \"q3\": [1.2413077725594261], \"type\": \"box\", \"upperfence\": [3.5151461034184615], \"whiskerwidth\": 0.2, \"x\": [\"AAAA08@PM1<br>20201002<sub>111</sub>\"]}, {\"boxpoints\": \"all\", \"fillcolor\": \"rgba(93, 164, 214, 0.5)\", \"jitter\": 1.0, \"line\": {\"color\": \"rgba(93, 164, 214, 0.5)\", \"width\": 1}, \"lowerfence\": [0.0], \"marker\": {\"size\": 2}, \"median\": [0.8088660162341295], \"name\": \"A\", \"offsetgroup\": \"1\", \"opacity\": 1.0, \"q1\": [0.3661009369748752], \"q3\": [2.04064122532965], \"type\": \"box\", \"upperfence\": [3.9534407930185775], \"whiskerwidth\": 0.2, \"x\": [\"AAAA09@PM1<br>20201002<sub>111</sub>\"]}, {\"boxpoints\": \"all\", \"fillcolor\": \"rgba(255, 144, 14, 0.5)\", \"jitter\": 1.0, \"line\": {\"color\": \"rgba(255, 144, 14, 0.5)\", \"width\": 1}, \"lowerfence\": [0.0], \"marker\": {\"size\": 2}, \"median\": [0.44417266281930634], \"name\": \"A\", \"offsetgroup\": \"1\", \"opacity\": 1.0, \"q1\": [0.6705708052224687], \"q3\": [0.16218171437554652], \"type\": \"box\", \"upperfence\": [0.12104217622032154], \"whiskerwidth\": 0.2, \"x\": [\"AAAA10@PM1<br>20201002<sub>111</sub>\"]}, {\"boxpoints\": \"all\", \"fillcolor\": \"rgba(255, 144, 14, 0.5)\", \"jitter\": 1.0, \"line\": {\"color\": \"rgba(255, 144, 14, 0.5)\", \"width\": 1}, \"lowerfence\": [0.0], \"marker\": {\"size\": 2}, \"median\": [1.5871324567154494], \"name\": \"A\", \"offsetgroup\": \"1\", \"opacity\": 1.0, \"q1\": [0.9181775434779798], \"q3\": [1.089899965754119], \"type\": \"box\", \"upperfence\": [2.939679843578274], \"whiskerwidth\": 0.2, \"x\": [\"AAAA11@PM1<br>20201002<sub>111</sub>\"]}, {\"boxpoints\": \"all\", \"fillcolor\": \"rgba(255, 144, 14, 0.5)\", \"jitter\": 1.0, \"line\": {\"color\": \"rgba(255, 144, 14, 0.5)\", \"width\": 1}, \"lowerfence\": [0.0], \"marker\": {\"size\": 2}, \"median\": [1.8614081933473106], \"name\": \"A\", \"offsetgroup\": \"1\", \"opacity\": 1.0, \"q1\": [0.26295074997032963], \"q3\": [1.1674058381150756], \"type\": \"box\", \"upperfence\": [2.9336345120881027], \"whiskerwidth\": 0.2, \"x\": [\"AAAA12@PM1<br>20201002<sub>111</sub>\"]}, {\"boxpoints\": \"all\", \"fillcolor\": \"rgba(255, 144, 14, 0.5)\", \"jitter\": 1.0, \"line\": {\"color\": \"rgba(255, 144, 14, 0.5)\", \"width\": 1}, \"lowerfence\": [0.0], \"marker\": {\"size\": 2}, \"median\": [0.7766281581396683], \"name\": \"A\", \"offsetgroup\": \"1\", \"opacity\": 1.0, \"q1\": [0.03604814954634594], \"q3\": [1.6272239908141644], \"type\": \"box\", \"upperfence\": [3.218492602783016], \"whiskerwidth\": 0.2, \"x\": [\"AAAA13@PM1<br>20201002<sub>111</sub>\"]}, {\"boxpoints\": \"all\", \"fillcolor\": \"rgba(255, 144, 14, 0.5)\", \"jitter\": 1.0, \"line\": {\"color\": \"rgba(255, 144, 14, 0.5)\", \"width\": 1}, \"lowerfence\": [0.0], \"marker\": {\"size\": 2}, \"median\": [1.1953191175001443], \"name\": \"A\", \"offsetgroup\": \"1\", \"opacity\": 1.0, \"q1\": [0.2277084696324515], \"q3\": [0.2087623637073419], \"type\": \"box\", \"upperfence\": [1.4996527352917814], \"whiskerwidth\": 0.2, \"x\": [\"AAAA14@PM1<br>20201002<sub>111</sub>\"]}, {\"boxpoints\": \"all\", \"fillcolor\": \"rgba(255, 144, 14, 0.5)\", \"jitter\": 1.0, \"line\": {\"color\": \"rgba(255, 144, 14, 0.5)\", \"width\": 1}, \"lowerfence\": [0.0], \"marker\": {\"size\": 2}, \"median\": [1.4558359113201733], \"name\": \"A\", \"offsetgroup\": \"1\", \"opacity\": 1.0, \"q1\": [0.7370426515582389], \"q3\": [0.045420452536656275], \"type\": \"box\", \"upperfence\": [1.6150663607651161], \"whiskerwidth\": 0.2, \"x\": [\"AAAA15@PM1<br>20201002<sub>111</sub>\"]}, {\"boxpoints\": \"all\", \"fillcolor\": \"rgba(255, 144, 14, 0.5)\", \"jitter\": 1.0, \"line\": {\"color\": \"rgba(255, 144, 14, 0.5)\", \"width\": 1}, \"lowerfence\": [0.0], \"marker\": {\"size\": 2}, \"median\": [0.1742571565840978], \"name\": \"A\", \"offsetgroup\": \"1\", \"opacity\": 1.0, \"q1\": [0.5387056538398602], \"q3\": [2.8681201997479056], \"type\": \"box\", \"upperfence\": [1.7420047694481915], \"whiskerwidth\": 0.2, \"x\": [\"AAAA16@PM1<br>20201002<sub>111</sub>\"]}, {\"boxpoints\": \"all\", \"fillcolor\": \"rgba(255, 144, 14, 0.5)\", \"jitter\": 1.0, \"line\": {\"color\": \"rgba(255, 144, 14, 0.5)\", \"width\": 1}, \"lowerfence\": [0.0], \"marker\": {\"size\": 2}, \"median\": [1.8602263165670774], \"name\": \"A\", \"offsetgroup\": \"1\", \"opacity\": 1.0, \"q1\": [0.45103727462586884], \"q3\": [2.6595359273019215], \"type\": \"box\", \"upperfence\": [3.0685840507113826], \"whiskerwidth\": 0.2, \"x\": [\"AAAA17@PM1<br>20201002<sub>111</sub>\"]}, {\"boxpoints\": \"all\", \"fillcolor\": \"rgba(255, 144, 14, 0.5)\", \"jitter\": 1.0, \"line\": {\"color\": \"rgba(255, 144, 14, 0.5)\", \"width\": 1}, \"lowerfence\": [0.0], \"marker\": {\"size\": 2}, \"median\": [1.5687597764358165], \"name\": \"A\", \"offsetgroup\": \"1\", \"opacity\": 1.0, \"q1\": [0.1302354866901112], \"q3\": [1.7873510729532551], \"type\": \"box\", \"upperfence\": [2.4857595780316086], \"whiskerwidth\": 0.2, \"x\": [\"AAAA18@PM1<br>20201002<sub>111</sub>\"]}, {\"boxpoints\": \"all\", \"fillcolor\": \"rgba(255, 144, 14, 0.5)\", \"jitter\": 1.0, \"line\": {\"color\": \"rgba(255, 144, 14, 0.5)\", \"width\": 1}, \"lowerfence\": [0.0], \"marker\": {\"size\": 2}, \"median\": [1.1152105473336444], \"name\": \"A\", \"offsetgroup\": \"1\", \"opacity\": 1.0, \"q1\": [0.9737587295713099], \"q3\": [2.195490000251556], \"type\": \"box\", \"upperfence\": [3.2302991319371013], \"whiskerwidth\": 0.2, \"x\": [\"AAAA19@PM1<br>20201002<sub>111</sub>\"]}, {\"boxpoints\": \"all\", \"fillcolor\": \"rgba(44, 160, 101, 0.5)\", \"jitter\": 1.0, \"line\": {\"color\": \"rgba(44, 160, 101, 0.5)\", \"width\": 1}, \"lowerfence\": [0.0], \"marker\": {\"size\": 2}, \"median\": [0.5215807194224651], \"name\": \"A\", \"offsetgroup\": \"1\", \"opacity\": 1.0, \"q1\": [0.036243020206899956], \"q3\": [2.7823743294475296], \"type\": \"box\", \"upperfence\": [3.999015601309496], \"whiskerwidth\": 0.2, \"x\": [\"AAAA20@PM1<br>20201002<sub>111</sub>\"]}, {\"boxpoints\": \"all\", \"fillcolor\": \"rgba(44, 160, 101, 0.5)\", \"jitter\": 1.0, \"line\": {\"color\": \"rgba(44, 160, 101, 0.5)\", \"width\": 1}, \"lowerfence\": [0.0], \"marker\": {\"size\": 2}, \"median\": [1.9608727457797857], \"name\": \"A\", \"offsetgroup\": \"1\", \"opacity\": 1.0, \"q1\": [0.744191759797664], \"q3\": [0.20894981966426662], \"type\": \"box\", \"upperfence\": [0.5510104011444361], \"whiskerwidth\": 0.2, \"x\": [\"AAAA21@PM1<br>20201002<sub>111</sub>\"]}, {\"boxpoints\": \"all\", \"fillcolor\": \"rgba(44, 160, 101, 0.5)\", \"jitter\": 1.0, \"line\": {\"color\": \"rgba(44, 160, 101, 0.5)\", \"width\": 1}, \"lowerfence\": [0.0], \"marker\": {\"size\": 2}, \"median\": [1.2608019552463228], \"name\": \"A\", \"offsetgroup\": \"1\", \"opacity\": 1.0, \"q1\": [0.9491170936864445], \"q3\": [2.313292988779328], \"type\": \"box\", \"upperfence\": [3.3130756715913257], \"whiskerwidth\": 0.2, \"x\": [\"AAAA22@PM1<br>20201002<sub>111</sub>\"]}, {\"boxpoints\": \"all\", \"fillcolor\": \"rgba(44, 160, 101, 0.5)\", \"jitter\": 1.0, \"line\": {\"color\": \"rgba(44, 160, 101, 0.5)\", \"width\": 1}, \"lowerfence\": [0.0], \"marker\": {\"size\": 2}, \"median\": [1.6220222866024732], \"name\": \"A\", \"offsetgroup\": \"1\", \"opacity\": 1.0, \"q1\": [0.6430269758928184], \"q3\": [1.6376175412894205], \"type\": \"box\", \"upperfence\": [1.7370062100845285], \"whiskerwidth\": 0.2, \"x\": [\"AAAA23@PM1<br>20201002<sub>111</sub>\"]}, {\"boxpoints\": \"all\", \"fillcolor\": \"rgba(44, 160, 101, 0.5)\", \"jitter\": 1.0, \"line\": {\"color\": \"rgba(44, 160, 101, 0.5)\", \"width\": 1}, \"lowerfence\": [0.0], \"marker\": {\"size\": 2}, \"median\": [0.6618673580061574], \"name\": \"A\", \"offsetgroup\": \"1\", \"opacity\": 1.0, \"q1\": [0.9957601116094821], \"q3\": [2.915832919306236], \"type\": \"box\", \"upperfence\": [1.4221691401728629], \"whiskerwidth\": 0.2, \"x\": [\"AAAA24@PM1<br>20201002<sub>111</sub>\"]}, {\"boxpoints\": \"all\", \"fillcolor\": \"rgba(44, 160, 101, 0.5)\", \"jitter\": 1.0, \"line\": {\"color\": \"rgba(44, 160, 101, 0.5)\", \"width\": 1}, \"lowerfence\": [0.0], \"marker\": {\"size\": 2}, \"median\": [0.5820877686828057], \"name\": \"A\", \"offsetgroup\": \"1\", \"opacity\": 1.0, \"q1\": [0.6868090996539206], \"q3\": [0.31688917539066486], \"type\": \"box\", \"upperfence\": [0.3358238690463149], \"whiskerwidth\": 0.2, \"x\": [\"AAAA25@PM1<br>20201002<sub>111</sub>\"]}, {\"boxpoints\": \"all\", \"fillcolor\": \"rgba(44, 160, 101, 0.5)\", \"jitter\": 1.0, \"line\": {\"color\": \"rgba(44, 160, 101, 0.5)\", \"width\": 1}, \"lowerfence\": [0.0], \"marker\": {\"size\": 2}, \"median\": [1.2115320004604442], \"name\": \"A\", \"offsetgroup\": \"1\", \"opacity\": 1.0, \"q1\": [0.19744350315722803], \"q3\": [1.307418506076623], \"type\": \"box\", \"upperfence\": [3.4968070310257175], \"whiskerwidth\": 0.2, \"x\": [\"AAAA26@PM1<br>20201002<sub>111</sub>\"]}, {\"boxpoints\": \"all\", \"fillcolor\": \"rgba(44, 160, 101, 0.5)\", \"jitter\": 1.0, \"line\": {\"color\": \"rgba(44, 160, 101, 0.5)\", \"width\": 1}, \"lowerfence\": [0.0], \"marker\": {\"size\": 2}, \"median\": [0.499947688764115], \"name\": \"A\", \"offsetgroup\": \"1\", \"opacity\": 1.0, \"q1\": [0.8864839730006744], \"q3\": [1.3047786025205272], \"type\": \"box\", \"upperfence\": [2.619665243729447], \"whiskerwidth\": 0.2, \"x\": [\"AAAA27@PM1<br>20201002<sub>111</sub>\"]}, {\"boxpoints\": \"all\", \"fillcolor\": \"rgba(44, 160, 101, 0.5)\", \"jitter\": 1.0, \"line\": {\"color\": \"rgba(44, 160, 101, 0.5)\", \"width\": 1}, \"lowerfence\": [0.0], \"marker\": {\"size\": 2}, \"median\": [1.1317980491435489], \"name\": \"A\", \"offsetgroup\": \"1\", \"opacity\": 1.0, \"q1\": [0.4261391729188866], \"q3\": [2.90583718568565], \"type\": \"box\", \"upperfence\": [1.8176444172821187], \"whiskerwidth\": 0.2, \"x\": [\"AAAA28@PM1<br>20201002<sub>111</sub>\"]}, {\"boxpoints\": \"all\", \"fillcolor\": \"rgba(44, 160, 101, 0.5)\", \"jitter\": 1.0, \"line\": {\"color\": \"rgba(44, 160, 101, 0.5)\", \"width\": 1}, \"lowerfence\": [0.0], \"marker\": {\"size\": 2}, \"median\": [1.476596615436848], \"name\": \"A\", \"offsetgroup\": \"1\", \"opacity\": 1.0, \"q1\": [0.653850037181855], \"q3\": [0.7699268751115507], \"type\": \"box\", \"upperfence\": [1.539138514587394], \"whiskerwidth\": 0.2, \"x\": [\"AAAA29@PM1<br>20201002<sub>111</sub>\"]}, {\"boxpoints\": \"all\", \"fillcolor\": \"rgba(255, 65, 54, 0.5)\", \"jitter\": 1.0, \"line\": {\"color\": \"rgba(255, 65, 54, 0.5)\", \"width\": 1}, \"lowerfence\": [0.0], \"marker\": {\"size\": 2}, \"median\": [1.0145033261863765], \"name\": \"A\", \"offsetgroup\": \"1\", \"opacity\": 1.0, \"q1\": [0.28080275546513644], \"q3\": [0.5509352945895852], \"type\": \"box\", \"upperfence\": [3.3256570136595935], \"whiskerwidth\": 0.2, \"x\": [\"AAAA30@PM1<br>20201002<sub>111</sub>\"]}, {\"boxpoints\": \"all\", \"fillcolor\": \"rgba(255, 65, 54, 0.5)\", \"jitter\": 1.0, \"line\": {\"color\": \"rgba(255, 65, 54, 0.5)\", \"width\": 1}, \"lowerfence\": [0.0], \"marker\": {\"size\": 2}, \"median\": [1.4560808306175017], \"name\": \"A\", \"offsetgroup\": \"1\", \"opacity\": 1.0, \"q1\": [0.612619797002112], \"q3\": [2.9986123377577476], \"type\": \"box\", \"upperfence\": [1.2455673041686053], \"whiskerwidth\": 0.2, \"x\": [\"AAAA31@PM1<br>20201002<sub>111</sub>\"]}, {\"boxpoints\": \"all\", \"fillcolor\": \"rgba(255, 65, 54, 0.5)\", \"jitter\": 1.0, \"line\": {\"color\": \"rgba(255, 65, 54, 0.5)\", \"width\": 1}, \"lowerfence\": [0.0], \"marker\": {\"size\": 2}, \"median\": [1.3163073476740152], \"name\": \"A\", \"offsetgroup\": \"1\", \"opacity\": 1.0, \"q1\": [0.18610986626367554], \"q3\": [1.0457103182262095], \"type\": \"box\", \"upperfence\": [1.6644833437891648], \"whiskerwidth\": 0.2, \"x\": [\"AAAA32@PM1<br>20201002<sub>111</sub>\"]}, {\"boxpoints\": \"all\", \"fillcolor\": \"rgba(255, 65, 54, 0.5)\", \"jitter\": 1.0, \"line\": {\"color\": \"rgba(255, 65, 54, 0.5)\", \"width\": 1}, \"lowerfence\": [0.0], \"marker\": {\"size\": 2}, \"median\": [0.8701925755745488], \"name\": \"A\", \"offsetgroup\": \"1\", \"opacity\": 1.0, \"q1\": [0.12304781850641144], \"q3\": [0.6475282709748065], \"type\": \"box\", \"upperfence\": [3.8760088174810643], \"whiskerwidth\": 0.2, \"x\": [\"AAAA33@PM1<br>20201002<sub>111</sub>\"]}, {\"boxpoints\": \"all\", \"fillcolor\": \"rgba(255, 65, 54, 0.5)\", \"jitter\": 1.0, \"line\": {\"color\": \"rgba(255, 65, 54, 0.5)\", \"width\": 1}, \"lowerfence\": [0.0], \"marker\": {\"size\": 2}, \"median\": [1.4796245940960595], \"name\": \"A\", \"offsetgroup\": \"1\", \"opacity\": 1.0, \"q1\": [0.8121880930255817], \"q3\": [1.9369392702223165], \"type\": \"box\", \"upperfence\": [3.5294205628083013], \"whiskerwidth\": 0.2, \"x\": [\"AAAA34@PM1<br>20201002<sub>111</sub>\"]}, {\"boxpoints\": \"all\", \"fillcolor\": \"rgba(255, 65, 54, 0.5)\", \"jitter\": 1.0, \"line\": {\"color\": \"rgba(255, 65, 54, 0.5)\", \"width\": 1}, \"lowerfence\": [0.0], \"marker\": {\"size\": 2}, \"median\": [1.240948266659348], \"name\": \"A\", \"offsetgroup\": \"1\", \"opacity\": 1.0, \"q1\": [0.01935681824991564], \"q3\": [1.0448919614342134], \"type\": \"box\", \"upperfence\": [1.928448538191042], \"whiskerwidth\": 0.2, \"x\": [\"AAAA35@PM1<br>20201002<sub>111</sub>\"]}, {\"boxpoints\": \"all\", \"fillcolor\": \"rgba(255, 65, 54, 0.5)\", \"jitter\": 1.0, \"line\": {\"color\": \"rgba(255, 65, 54, 0.5)\", \"width\": 1}, \"lowerfence\": [0.0], \"marker\": {\"size\": 2}, \"median\": [0.07713453083483213], \"name\": \"A\", \"offsetgroup\": \"1\", \"opacity\": 1.0, \"q1\": [0.23920157390747165], \"q3\": [1.7613442898650107], \"type\": \"box\", \"upperfence\": [0.10914413792872635], \"whiskerwidth\": 0.2, \"x\": [\"AAAA36@PM1<br>20201002<sub>111</sub>\"]}, {\"boxpoints\": \"all\", \"fillcolor\": \"rgba(255, 65, 54, 0.5)\", \"jitter\": 1.0, \"line\": {\"color\": \"rgba(255, 65, 54, 0.5)\", \"width\": 1}, \"lowerfence\": [0.0], \"marker\": {\"size\": 2}, \"median\": [0.6753900635292474], \"name\": \"A\", \"offsetgroup\": \"1\", \"opacity\": 1.0, \"q1\": [0.3068794958865766], \"q3\": [1.3866741134436351], \"type\": \"box\", \"upperfence\": [2.691800540382199], \"whiskerwidth\": 0.2, \"x\": [\"AAAA37@PM1<br>20201002<sub>111</sub>\"]}, {\"boxpoints\": \"all\", \"fillcolor\": \"rgba(255, 65, 54, 0.5)\", \"jitter\": 1.0, \"line\": {\"color\": \"rgba(255, 65, 54, 0.5)\", \"width\": 1}, \"lowerfence\": [0.0], \"marker\": {\"size\": 2}, \"median\": [0.46627637663049115], \"name\": \"A\", \"offsetgroup\": \"1\", \"opacity\": 1.0, \"q1\": [0.9348471624761409], \"q3\": [0.14638684069985164], \"type\": \"box\", \"upperfence\": [3.6988685661853804], \"whiskerwidth\": 0.2, \"x\": [\"AAAA38@PM1<br>20201002<sub>111</sub>\"]}, {\"boxpoints\": \"all\", \"fillcolor\": \"rgba(255, 65, 54, 0.5)\", \"jitter\": 1.0, \"line\": {\"color\": \"rgba(255, 65, 54, 0.5)\", \"width\": 1}, \"lowerfence\": [0.0], \"marker\": {\"size\": 2}, \"median\": [0.5356253501163457], \"name\": \"A\", \"offsetgroup\": \"1\", \"opacity\": 1.0, \"q1\": [0.188909564756212], \"q3\": [1.231846362395074], \"type\": \"box\", \"upperfence\": [0.9433532406397895], \"whiskerwidth\": 0.2, \"x\": [\"AAAA39@PM1<br>20201002<sub>111</sub>\"]}, {\"boxpoints\": \"all\", \"fillcolor\": \"rgba(207, 114, 255, 0.5)\", \"jitter\": 1.0, \"line\": {\"color\": \"rgba(207, 114, 255, 0.5)\", \"width\": 1}, \"lowerfence\": [0.0], \"marker\": {\"size\": 2}, \"median\": [0.2586848606923653], \"name\": \"A\", \"offsetgroup\": \"1\", \"opacity\": 1.0, \"q1\": [0.9712935490056311], \"q3\": [0.2253199427214867], \"type\": \"box\", \"upperfence\": [0.8562013489924394], \"whiskerwidth\": 0.2, \"x\": [\"AAAA40@PM1<br>20201002<sub>111</sub>\"]}, {\"boxpoints\": \"all\", \"fillcolor\": \"rgba(207, 114, 255, 0.5)\", \"jitter\": 1.0, \"line\": {\"color\": \"rgba(207, 114, 255, 0.5)\", \"width\": 1}, \"lowerfence\": [0.0], \"marker\": {\"size\": 2}, \"median\": [0.1958405516831263], \"name\": \"A\", \"offsetgroup\": \"1\", \"opacity\": 1.0, \"q1\": [0.4998954217485506], \"q3\": [1.2081315839904847], \"type\": \"box\", \"upperfence\": [0.5928418093457735], \"whiskerwidth\": 0.2, \"x\": [\"AAAA41@PM1<br>20201002<sub>111</sub>\"]}, {\"boxpoints\": \"all\", \"fillcolor\": \"rgba(207, 114, 255, 0.5)\", \"jitter\": 1.0, \"line\": {\"color\": \"rgba(207, 114, 255, 0.5)\", \"width\": 1}, \"lowerfence\": [0.0], \"marker\": {\"size\": 2}, \"median\": [1.0314889439719024], \"name\": \"A\", \"offsetgroup\": \"1\", \"opacity\": 1.0, \"q1\": [0.8146990006551009], \"q3\": [0.5903261337625633], \"type\": \"box\", \"upperfence\": [2.7084303525495423], \"whiskerwidth\": 0.2, \"x\": [\"AAAA42@PM1<br>20201002<sub>111</sub>\"]}, {\"boxpoints\": \"all\", \"fillcolor\": \"rgba(207, 114, 255, 0.5)\", \"jitter\": 1.0, \"line\": {\"color\": \"rgba(207, 114, 255, 0.5)\", \"width\": 1}, \"lowerfence\": [0.0], \"marker\": {\"size\": 2}, \"median\": [1.3422973082197127], \"name\": \"A\", \"offsetgroup\": \"1\", \"opacity\": 1.0, \"q1\": [0.7296464542458381], \"q3\": [2.6010115278215498], \"type\": \"box\", \"upperfence\": [3.4266791737771625], \"whiskerwidth\": 0.2, \"x\": [\"AAAA43@PM1<br>20201002<sub>111</sub>\"]}, {\"boxpoints\": \"all\", \"fillcolor\": \"rgba(207, 114, 255, 0.5)\", \"jitter\": 1.0, \"line\": {\"color\": \"rgba(207, 114, 255, 0.5)\", \"width\": 1}, \"lowerfence\": [0.0], \"marker\": {\"size\": 2}, \"median\": [0.3208252527406832], \"name\": \"A\", \"offsetgroup\": \"1\", \"opacity\": 1.0, \"q1\": [0.02176524067660357], \"q3\": [0.937108305254737], \"type\": \"box\", \"upperfence\": [3.5576851155750817], \"whiskerwidth\": 0.2, \"x\": [\"AAAA44@PM1<br>20201002<sub>111</sub>\"]}, {\"boxpoints\": \"all\", \"fillcolor\": \"rgba(207, 114, 255, 0.5)\", \"jitter\": 1.0, \"line\": {\"color\": \"rgba(207, 114, 255, 0.5)\", \"width\": 1}, \"lowerfence\": [0.0], \"marker\": {\"size\": 2}, \"median\": [0.36839117066920934], \"name\": \"A\", \"offsetgroup\": \"1\", \"opacity\": 1.0, \"q1\": [0.9729854255069584], \"q3\": [2.197519113434172], \"type\": \"box\", \"upperfence\": [0.2951614565992937], \"whiskerwidth\": 0.2, \"x\": [\"AAAA45@PM1<br>20201002<sub>111</sub>\"]}, {\"boxpoints\": \"all\", \"fillcolor\": \"rgba(207, 114, 255, 0.5)\", \"jitter\": 1.0, \"line\": {\"color\": \"rgba(207, 114, 255, 0.5)\", \"width\": 1}, \"lowerfence\": [0.0], \"marker\": {\"size\": 2}, \"median\": [0.9266857463381353], \"name\": \"A\", \"offsetgroup\": \"1\", \"opacity\": 1.0, \"q1\": [0.10536953358791268], \"q3\": [1.0478305200147089], \"type\": \"box\", \"upperfence\": [2.871727743642368], \"whiskerwidth\": 0.2, \"x\": [\"AAAA46@PM1<br>20201002<sub>111</sub>\"]}, {\"boxpoints\": \"all\", \"fillcolor\": \"rgba(207, 114, 255, 0.5)\", \"jitter\": 1.0, \"line\": {\"color\": \"rgba(207, 114, 255, 0.5)\", \"width\": 1}, \"lowerfence\": [0.0], \"marker\": {\"size\": 2}, \"median\": [0.6510305137223371], \"name\": \"A\", \"offsetgroup\": \"1\", \"opacity\": 1.0, \"q1\": [0.6258976650160457], \"q3\": [1.5815929409210596], \"type\": \"box\", \"upperfence\": [1.5783415369023843], \"whiskerwidth\": 0.2, \"x\": [\"AAAA47@PM1<br>20201002<sub>111</sub>\"]}, {\"boxpoints\": \"all\", \"fillcolor\": \"rgba(207, 114, 255, 0.5)\", \"jitter\": 1.0, \"line\": {\"color\": \"rgba(207, 114, 255, 0.5)\", \"width\": 1}, \"lowerfence\": [0.0], \"marker\": {\"size\": 2}, \"median\": [0.3993993705667833], \"name\": \"A\", \"offsetgroup\": \"1\", \"opacity\": 1.0, \"q1\": [0.9015827892117336], \"q3\": [0.7256947416475306], \"type\": \"box\", \"upperfence\": [0.43226394576618077], \"whiskerwidth\": 0.2, \"x\": [\"AAAA48@PM1<br>20201002<sub>111</sub>\"]}, {\"boxpoints\": \"all\", \"fillcolor\": \"rgba(207, 114, 255, 0.5)\", \"jitter\": 1.0, \"line\": {\"color\": \"rgba(207, 114, 255, 0.5)\", \"width\": 1}, \"lowerfence\": [0.0], \"marker\": {\"size\": 2}, \"median\": [1.1449651860753414], \"name\": \"A\", \"offsetgroup\": \"1\", \"opacity\": 1.0, \"q1\": [0.7625644656343185], \"q3\": [1.3599094093780835], \"type\": \"box\", \"upperfence\": [2.0898756387047155], \"whiskerwidth\": 0.2, \"x\": [\"AAAA49@PM1<br>20201002<sub>111</sub>\"]}, {\"boxpoints\": \"all\", \"fillcolor\": \"rgba(127, 96, 0, 0.5)\", \"jitter\": 1.0, \"line\": {\"color\": \"rgba(127, 96, 0, 0.5)\", \"width\": 1}, \"lowerfence\": [0.0], \"marker\": {\"size\": 2}, \"median\": [1.0503761291367701], \"name\": \"A\", \"offsetgroup\": \"1\", \"opacity\": 1.0, \"q1\": [0.546464436380667], \"q3\": [0.21352655841195478], \"type\": \"box\", \"upperfence\": [3.018968425326826], \"whiskerwidth\": 0.2, \"x\": [\"AAAA50@PM1<br>20201002<sub>111</sub>\"]}, {\"boxpoints\": \"all\", \"fillcolor\": \"rgba(127, 96, 0, 0.5)\", \"jitter\": 1.0, \"line\": {\"color\": \"rgba(127, 96, 0, 0.5)\", \"width\": 1}, \"lowerfence\": [0.0], \"marker\": {\"size\": 2}, \"median\": [1.656920983375916], \"name\": \"A\", \"offsetgroup\": \"1\", \"opacity\": 1.0, \"q1\": [0.659707307867808], \"q3\": [0.2841855222192474], \"type\": \"box\", \"upperfence\": [0.407384868263176], \"whiskerwidth\": 0.2, \"x\": [\"AAAA51@PM1<br>20201002<sub>111</sub>\"]}, {\"boxpoints\": \"all\", \"fillcolor\": \"rgba(127, 96, 0, 0.5)\", \"jitter\": 1.0, \"line\": {\"color\": \"rgba(127, 96, 0, 0.5)\", \"width\": 1}, \"lowerfence\": [0.0], \"marker\": {\"size\": 2}, \"median\": [1.7987552625873542], \"name\": \"A\", \"offsetgroup\": \"1\", \"opacity\": 1.0, \"q1\": [0.36580738727369533], \"q3\": [0.9997264806953656], \"type\": \"box\", \"upperfence\": [2.34256280557291], \"whiskerwidth\": 0.2, \"x\": [\"AAAA52@PM1<br>20201002<sub>111</sub>\"]}, {\"boxpoints\": \"all\", \"fillcolor\": \"rgba(127, 96, 0, 0.5)\", \"jitter\": 1.0, \"line\": {\"color\": \"rgba(127, 96, 0, 0.5)\", \"width\": 1}, \"lowerfence\": [0.0], \"marker\": {\"size\": 2}, \"median\": [1.8939043188658773], \"name\": \"A\", \"offsetgroup\": \"1\", \"opacity\": 1.0, \"q1\": [0.6597253983727749], \"q3\": [2.9712077164600177], \"type\": \"box\", \"upperfence\": [2.861617506722314], \"whiskerwidth\": 0.2, \"x\": [\"AAAA53@PM1<br>20201002<sub>111</sub>\"]}, {\"boxpoints\": \"all\", \"fillcolor\": \"rgba(127, 96, 0, 0.5)\", \"jitter\": 1.0, \"line\": {\"color\": \"rgba(127, 96, 0, 0.5)\", \"width\": 1}, \"lowerfence\": [0.0], \"marker\": {\"size\": 2}, \"median\": [1.763077554112984], \"name\": \"A\", \"offsetgroup\": \"1\", \"opacity\": 1.0, \"q1\": [0.09425438801465724], \"q3\": [2.75101365439878], \"type\": \"box\", \"upperfence\": [3.701928628930809], \"whiskerwidth\": 0.2, \"x\": [\"AAAA54@PM1<br>20201002<sub>111</sub>\"]}, {\"boxpoints\": \"all\", \"fillcolor\": \"rgba(127, 96, 0, 0.5)\", \"jitter\": 1.0, \"line\": {\"color\": \"rgba(127, 96, 0, 0.5)\", \"width\": 1}, \"lowerfence\": [0.0], \"marker\": {\"size\": 2}, \"median\": [0.3029334244319948], \"name\": \"A\", \"offsetgroup\": \"1\", \"opacity\": 1.0, \"q1\": [0.09364787191568802], \"q3\": [2.552797953800167], \"type\": \"box\", \"upperfence\": [2.755157175555334], \"whiskerwidth\": 0.2, \"x\": [\"AAAA55@PM1<br>20201002<sub>111</sub>\"]}, {\"boxpoints\": \"all\", \"fillcolor\": \"rgba(127, 96, 0, 0.5)\", \"jitter\": 1.0, \"line\": {\"color\": \"rgba(127, 96, 0, 0.5)\", \"width\": 1}, \"lowerfence\": [0.0], \"marker\": {\"size\": 2}, \"median\": [1.4963526156066187], \"name\": \"A\", \"offsetgroup\": \"1\", \"opacity\": 1.0, \"q1\": [0.6634952302281545], \"q3\": [0.44183496188242377], \"type\": \"box\", \"upperfence\": [0.6832929875868357], \"whiskerwidth\": 0.2, \"x\": [\"AAAA56@PM1<br>20201002<sub>111</sub>\"]}, {\"boxpoints\": \"all\", \"fillcolor\": \"rgba(127, 96, 0, 0.5)\", \"jitter\": 1.0, \"line\": {\"color\": \"rgba(127, 96, 0, 0.5)\", \"width\": 1}, \"lowerfence\": [0.0], \"marker\": {\"size\": 2}, \"median\": [1.3091772706141316], \"name\": \"A\", \"offsetgroup\": \"1\", \"opacity\": 1.0, \"q1\": [0.46263319655553725], \"q3\": [2.686109673664209], \"type\": \"box\", \"upperfence\": [0.9967998402835803], \"whiskerwidth\": 0.2, \"x\": [\"AAAA57@PM1<br>20201002<sub>111</sub>\"]}, {\"boxpoints\": \"all\", \"fillcolor\": \"rgba(127, 96, 0, 0.5)\", \"jitter\": 1.0, \"line\": {\"color\": \"rgba(127, 96, 0, 0.5)\", \"width\": 1}, \"lowerfence\": [0.0], \"marker\": {\"size\": 2}, \"median\": [0.1299952888117557], \"name\": \"A\", \"offsetgroup\": \"1\", \"opacity\": 1.0, \"q1\": [0.4939589764657877], \"q3\": [0.6260330066206083], \"type\": \"box\", \"upperfence\": [2.194125380116288], \"whiskerwidth\": 0.2, \"x\": [\"AAAA58@PM1<br>20201002<sub>111</sub>\"]}, {\"boxpoints\": \"all\", \"fillcolor\": \"rgba(127, 96, 0, 0.5)\", \"jitter\": 1.0, \"line\": {\"color\": \"rgba(127, 96, 0, 0.5)\", \"width\": 1}, \"lowerfence\": [0.0], \"marker\": {\"size\": 2}, \"median\": [1.0400333684054401], \"name\": \"A\", \"offsetgroup\": \"1\", \"opacity\": 1.0, \"q1\": [0.023779511855476887], \"q3\": [2.2335253945543156], \"type\": \"box\", \"upperfence\": [0.7519996245890632], \"whiskerwidth\": 0.2, \"x\": [\"AAAA59@PM1<br>20201002<sub>111</sub>\"]}, {\"boxpoints\": \"all\", \"fillcolor\": \"rgba(93, 164, 214, 0.5)\", \"jitter\": 1.0, \"line\": {\"color\": \"rgba(93, 164, 214, 0.5)\", \"width\": 1}, \"lowerfence\": [0.0], \"marker\": {\"size\": 2}, \"median\": [0.08306523275191102], \"name\": \"A\", \"offsetgroup\": \"1\", \"opacity\": 1.0, \"q1\": [0.7484407836467545], \"q3\": [1.5185267724894085], \"type\": \"box\", \"upperfence\": [0.5816662014890865], \"whiskerwidth\": 0.2, \"x\": [\"AAAA60@PM1<br>20201002<sub>111</sub>\"]}, {\"boxpoints\": \"all\", \"fillcolor\": \"rgba(93, 164, 214, 0.5)\", \"jitter\": 1.0, \"line\": {\"color\": \"rgba(93, 164, 214, 0.5)\", \"width\": 1}, \"lowerfence\": [0.0], \"marker\": {\"size\": 2}, \"median\": [0.9013971376198484], \"name\": \"A\", \"offsetgroup\": \"1\", \"opacity\": 1.0, \"q1\": [0.7390243940809315], \"q3\": [1.6070099402786584], \"type\": \"box\", \"upperfence\": [0.5499054418305649], \"whiskerwidth\": 0.2, \"x\": [\"AAAA61@PM1<br>20201002<sub>111</sub>\"]}, {\"boxpoints\": \"all\", \"fillcolor\": \"rgba(93, 164, 214, 0.5)\", \"jitter\": 1.0, \"line\": {\"color\": \"rgba(93, 164, 214, 0.5)\", \"width\": 1}, \"lowerfence\": [0.0], \"marker\": {\"size\": 2}, \"median\": [1.543225745408071], \"name\": \"A\", \"offsetgroup\": \"1\", \"opacity\": 1.0, \"q1\": [0.9165504001311552], \"q3\": [0.9911152955069711], \"type\": \"box\", \"upperfence\": [3.7672883378935227], \"whiskerwidth\": 0.2, \"x\": [\"AAAA62@PM1<br>20201002<sub>111</sub>\"]}, {\"boxpoints\": \"all\", \"fillcolor\": \"rgba(93, 164, 214, 0.5)\", \"jitter\": 1.0, \"line\": {\"color\": \"rgba(93, 164, 214, 0.5)\", \"width\": 1}, \"lowerfence\": [0.0], \"marker\": {\"size\": 2}, \"median\": [1.7122259994641291], \"name\": \"A\", \"offsetgroup\": \"1\", \"opacity\": 1.0, \"q1\": [0.4318515021494659], \"q3\": [2.495073476912882], \"type\": \"box\", \"upperfence\": [1.4397218873125612], \"whiskerwidth\": 0.2, \"x\": [\"AAAA63@PM1<br>20201002<sub>111</sub>\"]}, {\"boxpoints\": \"all\", \"fillcolor\": \"rgba(93, 164, 214, 0.5)\", \"jitter\": 1.0, \"line\": {\"color\": \"rgba(93, 164, 214, 0.5)\", \"width\": 1}, \"lowerfence\": [0.0], \"marker\": {\"size\": 2}, \"median\": [0.5686844268841911], \"name\": \"A\", \"offsetgroup\": \"1\", \"opacity\": 1.0, \"q1\": [0.5005603696770178], \"q3\": [0.29630644150688923], \"type\": \"box\", \"upperfence\": [1.7159627234680248], \"whiskerwidth\": 0.2, \"x\": [\"AAAA64@PM1<br>20201002<sub>111</sub>\"]}, {\"boxpoints\": \"all\", \"fillcolor\": \"rgba(93, 164, 214, 0.5)\", \"jitter\": 1.0, \"line\": {\"color\": \"rgba(93, 164, 214, 0.5)\", \"width\": 1}, \"lowerfence\": [0.0], \"marker\": {\"size\": 2}, \"median\": [0.38539678979190484], \"name\": \"A\", \"offsetgroup\": \"1\", \"opacity\": 1.0, \"q1\": [0.4189199063414045], \"q3\": [2.277321192108813], \"type\": \"box\", \"upperfence\": [1.4043957514649996], \"whiskerwidth\": 0.2, \"x\": [\"AAAA65@PM1<br>20201002<sub>111</sub>\"]}, {\"boxpoints\": \"all\", \"fillcolor\": \"rgba(93, 164, 214, 0.5)\", \"jitter\": 1.0, \"line\": {\"color\": \"rgba(93, 164, 214, 0.5)\", \"width\": 1}, \"lowerfence\": [0.0], \"marker\": {\"size\": 2}, \"median\": [1.6053179305784329], \"name\": \"A\", \"offsetgroup\": \"1\", \"opacity\": 1.0, \"q1\": [0.9927589556322672], \"q3\": [2.9919272925652756], \"type\": \"box\", \"upperfence\": [0.3244323414551826], \"whiskerwidth\": 0.2, \"x\": [\"AAAA66@PM1<br>20201002<sub>111</sub>\"]}, {\"boxpoints\": \"all\", \"fillcolor\": \"rgba(93, 164, 214, 0.5)\", \"jitter\": 1.0, \"line\": {\"color\": \"rgba(93, 164, 214, 0.5)\", \"width\": 1}, \"lowerfence\": [0.0], \"marker\": {\"size\": 2}, \"median\": [1.5815383155329792], \"name\": \"A\", \"offsetgroup\": \"1\", \"opacity\": 1.0, \"q1\": [0.7992792414074412], \"q3\": [1.5513948228263743], \"type\": \"box\", \"upperfence\": [1.422309799395085], \"whiskerwidth\": 0.2, \"x\": [\"AAAA67@PM1<br>20201002<sub>111</sub>\"]}, {\"boxpoints\": \"all\", \"fillcolor\": \"rgba(93, 164, 214, 0.5)\", \"jitter\": 1.0, \"line\": {\"color\": \"rgba(93, 164, 214, 0.5)\", \"width\": 1}, \"lowerfence\": [0.0], \"marker\": {\"size\": 2}, \"median\": [1.9302144984548013], \"name\": \"A\", \"offsetgroup\": \"1\", \"opacity\": 1.0, \"q1\": [0.11066148294439593], \"q3\": [0.16114619188337154], \"type\": \"box\", \"upperfence\": [0.5272506074345951], \"whiskerwidth\": 0.2, \"x\": [\"AAAA68@PM1<br>20201002<sub>111</sub>\"]}, {\"boxpoints\": \"all\", \"fillcolor\": \"rgba(93, 164, 214, 0.5)\", \"jitter\": 1.0, \"line\": {\"color\": \"rgba(93, 164, 214, 0.5)\", \"width\": 1}, \"lowerfence\": [0.0], \"marker\": {\"size\": 2}, \"median\": [0.09809339788161497], \"name\": \"A\", \"offsetgroup\": \"1\", \"opacity\": 1.0, \"q1\": [0.38115700362805005], \"q3\": [1.3649838919455508], \"type\": \"box\", \"upperfence\": [0.518824807266959], \"whiskerwidth\": 0.2, \"x\": [\"AAAA69@PM1<br>20201002<sub>111</sub>\"]}, {\"boxpoints\": \"all\", \"fillcolor\": \"rgba(255, 144, 14, 0.5)\", \"jitter\": 1.0, \"line\": {\"color\": \"rgba(255, 144, 14, 0.5)\", \"width\": 1}, \"lowerfence\": [0.0], \"marker\": {\"size\": 2}, \"median\": [1.4126179359227993], \"name\": \"A\", \"offsetgroup\": \"1\", \"opacity\": 1.0, \"q1\": [0.74769746444974], \"q3\": [0.9397111896900959], \"type\": \"box\", \"upperfence\": [1.2854047039997845], \"whiskerwidth\": 0.2, \"x\": [\"AAAA70@PM1<br>20201002<sub>111</sub>\"]}, {\"boxpoints\": \"all\", \"fillcolor\": \"rgba(255, 144, 14, 0.5)\", \"jitter\": 1.0, \"line\": {\"color\": \"rgba(255, 144, 14, 0.5)\", \"width\": 1}, \"lowerfence\": [0.0], \"marker\": {\"size\": 2}, \"median\": [1.646749602487208], \"name\": \"A\", \"offsetgroup\": \"1\", \"opacity\": 1.0, \"q1\": [0.5915506002294821], \"q3\": [1.8069305019487065], \"type\": \"box\", \"upperfence\": [3.0510429535002266], \"whiskerwidth\": 0.2, \"x\": [\"AAAA71@PM1<br>20201002<sub>111</sub>\"]}, {\"boxpoints\": \"all\", \"fillcolor\": \"rgba(255, 144, 14, 0.5)\", \"jitter\": 1.0, \"line\": {\"color\": \"rgba(255, 144, 14, 0.5)\", \"width\": 1}, \"lowerfence\": [0.0], \"marker\": {\"size\": 2}, \"median\": [1.1989335890835746], \"name\": \"A\", \"offsetgroup\": \"1\", \"opacity\": 1.0, \"q1\": [0.24855045447924995], \"q3\": [0.8806680320377179], \"type\": \"box\", \"upperfence\": [0.3415610405232501], \"whiskerwidth\": 0.2, \"x\": [\"AAAA72@PM1<br>20201002<sub>111</sub>\"]}, {\"boxpoints\": \"all\", \"fillcolor\": \"rgba(255, 144, 14, 0.5)\", \"jitter\": 1.0, \"line\": {\"color\": \"rgba(255, 144, 14, 0.5)\", \"width\": 1}, \"lowerfence\": [0.0], \"marker\": {\"size\": 2}, \"median\": [0.8981472717164773], \"name\": \"A\", \"offsetgroup\": \"1\", \"opacity\": 1.0, \"q1\": [0.9261558534313835], \"q3\": [2.250150896943318], \"type\": \"box\", \"upperfence\": [1.6571585853911257], \"whiskerwidth\": 0.2, \"x\": [\"AAAA73@PM1<br>20201002<sub>111</sub>\"]}, {\"boxpoints\": \"all\", \"fillcolor\": \"rgba(255, 144, 14, 0.5)\", \"jitter\": 1.0, \"line\": {\"color\": \"rgba(255, 144, 14, 0.5)\", \"width\": 1}, \"lowerfence\": [0.0], \"marker\": {\"size\": 2}, \"median\": [1.4674462878594883], \"name\": \"A\", \"offsetgroup\": \"1\", \"opacity\": 1.0, \"q1\": [0.6145957132685506], \"q3\": [0.8323007050940664], \"type\": \"box\", \"upperfence\": [1.7032939475403919], \"whiskerwidth\": 0.2, \"x\": [\"AAAA74@PM1<br>20201002<sub>111</sub>\"]}, {\"boxpoints\": \"all\", \"fillcolor\": \"rgba(255, 144, 14, 0.5)\", \"jitter\": 1.0, \"line\": {\"color\": \"rgba(255, 144, 14, 0.5)\", \"width\": 1}, \"lowerfence\": [0.0], \"marker\": {\"size\": 2}, \"median\": [0.22809007919887558], \"name\": \"A\", \"offsetgroup\": \"1\", \"opacity\": 1.0, \"q1\": [0.5686461974211102], \"q3\": [2.72643201310102], \"type\": \"box\", \"upperfence\": [2.606008734585182], \"whiskerwidth\": 0.2, \"x\": [\"AAAA75@PM1<br>20201002<sub>111</sub>\"]}, {\"boxpoints\": \"all\", \"fillcolor\": \"rgba(255, 144, 14, 0.5)\", \"jitter\": 1.0, \"line\": {\"color\": \"rgba(255, 144, 14, 0.5)\", \"width\": 1}, \"lowerfence\": [0.0], \"marker\": {\"size\": 2}, \"median\": [0.410011848383669], \"name\": \"A\", \"offsetgroup\": \"1\", \"opacity\": 1.0, \"q1\": [0.7197555915263997], \"q3\": [1.5222191347135765], \"type\": \"box\", \"upperfence\": [1.0539223904139918], \"whiskerwidth\": 0.2, \"x\": [\"AAAA76@PM1<br>20201002<sub>111</sub>\"]}, {\"boxpoints\": \"all\", \"fillcolor\": \"rgba(255, 144, 14, 0.5)\", \"jitter\": 1.0, \"line\": {\"color\": \"rgba(255, 144, 14, 0.5)\", \"width\": 1}, \"lowerfence\": [0.0], \"marker\": {\"size\": 2}, \"median\": [1.9580251789707221], \"name\": \"A\", \"offsetgroup\": \"1\", \"opacity\": 1.0, \"q1\": [0.4378987109683824], \"q3\": [1.6318386353374648], \"type\": \"box\", \"upperfence\": [2.282435139231445], \"whiskerwidth\": 0.2, \"x\": [\"AAAA77@PM1<br>20201002<sub>111</sub>\"]}, {\"boxpoints\": \"all\", \"fillcolor\": \"rgba(255, 144, 14, 0.5)\", \"jitter\": 1.0, \"line\": {\"color\": \"rgba(255, 144, 14, 0.5)\", \"width\": 1}, \"lowerfence\": [0.0], \"marker\": {\"size\": 2}, \"median\": [0.714909292227965], \"name\": \"A\", \"offsetgroup\": \"1\", \"opacity\": 1.0, \"q1\": [0.6690792489694178], \"q3\": [1.9011506780465817], \"type\": \"box\", \"upperfence\": [2.6584543499452815], \"whiskerwidth\": 0.2, \"x\": [\"AAAA78@PM1<br>20201002<sub>111</sub>\"]}, {\"boxpoints\": \"all\", \"fillcolor\": \"rgba(255, 144, 14, 0.5)\", \"jitter\": 1.0, \"line\": {\"color\": \"rgba(255, 144, 14, 0.5)\", \"width\": 1}, \"lowerfence\": [0.0], \"marker\": {\"size\": 2}, \"median\": [1.6593914247865242], \"name\": \"A\", \"offsetgroup\": \"1\", \"opacity\": 1.0, \"q1\": [0.9097576101066185], \"q3\": [2.488535985101124], \"type\": \"box\", \"upperfence\": [1.5297120032254137], \"whiskerwidth\": 0.2, \"x\": [\"AAAA79@PM1<br>20201002<sub>111</sub>\"]}, {\"boxpoints\": \"all\", \"fillcolor\": \"rgba(44, 160, 101, 0.5)\", \"jitter\": 1.0, \"line\": {\"color\": \"rgba(44, 160, 101, 0.5)\", \"width\": 1}, \"lowerfence\": [0.0], \"marker\": {\"size\": 2}, \"median\": [0.2871564401602349], \"name\": \"A\", \"offsetgroup\": \"1\", \"opacity\": 1.0, \"q1\": [0.5439760758283019], \"q3\": [2.666699451570996], \"type\": \"box\", \"upperfence\": [2.424560314616133], \"whiskerwidth\": 0.2, \"x\": [\"AAAA80@PM1<br>20201002<sub>111</sub>\"]}, {\"boxpoints\": \"all\", \"fillcolor\": \"rgba(44, 160, 101, 0.5)\", \"jitter\": 1.0, \"line\": {\"color\": \"rgba(44, 160, 101, 0.5)\", \"width\": 1}, \"lowerfence\": [0.0], \"marker\": {\"size\": 2}, \"median\": [0.7146723829216819], \"name\": \"A\", \"offsetgroup\": \"1\", \"opacity\": 1.0, \"q1\": [0.016781051350946097], \"q3\": [0.5453984533390462], \"type\": \"box\", \"upperfence\": [3.188212262102193], \"whiskerwidth\": 0.2, \"x\": [\"AAAA81@PM1<br>20201002<sub>111</sub>\"]}, {\"boxpoints\": \"all\", \"fillcolor\": \"rgba(44, 160, 101, 0.5)\", \"jitter\": 1.0, \"line\": {\"color\": \"rgba(44, 160, 101, 0.5)\", \"width\": 1}, \"lowerfence\": [0.0], \"marker\": {\"size\": 2}, \"median\": [0.47836950004626533], \"name\": \"A\", \"offsetgroup\": \"1\", \"opacity\": 1.0, \"q1\": [0.2029063719911417], \"q3\": [0.2998313858462386], \"type\": \"box\", \"upperfence\": [1.0434786367480737], \"whiskerwidth\": 0.2, \"x\": [\"AAAA82@PM1<br>20201002<sub>111</sub>\"]}, {\"boxpoints\": \"all\", \"fillcolor\": \"rgba(44, 160, 101, 0.5)\", \"jitter\": 1.0, \"line\": {\"color\": \"rgba(44, 160, 101, 0.5)\", \"width\": 1}, \"lowerfence\": [0.0], \"marker\": {\"size\": 2}, \"median\": [1.6218258939235932], \"name\": \"A\", \"offsetgroup\": \"1\", \"opacity\": 1.0, \"q1\": [0.7189933762895476], \"q3\": [2.1936756350464264], \"type\": \"box\", \"upperfence\": [3.747222718631766], \"whiskerwidth\": 0.2, \"x\": [\"AAAA83@PM1<br>20201002<sub>111</sub>\"]}, {\"boxpoints\": \"all\", \"fillcolor\": \"rgba(44, 160, 101, 0.5)\", \"jitter\": 1.0, \"line\": {\"color\": \"rgba(44, 160, 101, 0.5)\", \"width\": 1}, \"lowerfence\": [0.0], \"marker\": {\"size\": 2}, \"median\": [0.7883182172729624], \"name\": \"A\", \"offsetgroup\": \"1\", \"opacity\": 1.0, \"q1\": [0.9250181327255678], \"q3\": [2.084225157420634], \"type\": \"box\", \"upperfence\": [3.866100086383565], \"whiskerwidth\": 0.2, \"x\": [\"AAAA84@PM1<br>20201002<sub>111</sub>\"]}, {\"boxpoints\": \"all\", \"fillcolor\": \"rgba(44, 160, 101, 0.5)\", \"jitter\": 1.0, \"line\": {\"color\": \"rgba(44, 160, 101, 0.5)\", \"width\": 1}, \"lowerfence\": [0.0], \"marker\": {\"size\": 2}, \"median\": [0.21105185838426221], \"name\": \"A\", \"offsetgroup\": \"1\", \"opacity\": 1.0, \"q1\": [0.5767126726407504], \"q3\": [1.7896059784663816], \"type\": \"box\", \"upperfence\": [0.13733202754308005], \"whiskerwidth\": 0.2, \"x\": [\"AAAA85@PM1<br>20201002<sub>111</sub>\"]}, {\"boxpoints\": \"all\", \"fillcolor\": \"rgba(44, 160, 101, 0.5)\", \"jitter\": 1.0, \"line\": {\"color\": \"rgba(44, 160, 101, 0.5)\", \"width\": 1}, \"lowerfence\": [0.0], \"marker\": {\"size\": 2}, \"median\": [1.2971833027954027], \"name\": \"A\", \"offsetgroup\": \"1\", \"opacity\": 1.0, \"q1\": [0.23766684801606486], \"q3\": [1.8859982396266997], \"type\": \"box\", \"upperfence\": [0.4303512103771645], \"whiskerwidth\": 0.2, \"x\": [\"AAAA86@PM1<br>20201002<sub>111</sub>\"]}, {\"boxpoints\": \"all\", \"fillcolor\": \"rgba(44, 160, 101, 0.5)\", \"jitter\": 1.0, \"line\": {\"color\": \"rgba(44, 160, 101, 0.5)\", \"width\": 1}, \"lowerfence\": [0.0], \"marker\": {\"size\": 2}, \"median\": [0.49317751384238595], \"name\": \"A\", \"offsetgroup\": \"1\", \"opacity\": 1.0, \"q1\": [0.5227699413007814], \"q3\": [2.5452651220319833], \"type\": \"box\", \"upperfence\": [3.51371387826455], \"whiskerwidth\": 0.2, \"x\": [\"AAAA87@PM1<br>20201002<sub>111</sub>\"]}, {\"boxpoints\": \"all\", \"fillcolor\": \"rgba(44, 160, 101, 0.5)\", \"jitter\": 1.0, \"line\": {\"color\": \"rgba(44, 160, 101, 0.5)\", \"width\": 1}, \"lowerfence\": [0.0], \"marker\": {\"size\": 2}, \"median\": [1.2963609119750832], \"name\": \"A\", \"offsetgroup\": \"1\", \"opacity\": 1.0, \"q1\": [0.7009663073981908], \"q3\": [2.5708019546766363], \"type\": \"box\", \"upperfence\": [1.7263708928078767], \"whiskerwidth\": 0.2, \"x\": [\"AAAA88@PM1<br>20201002<sub>111</sub>\"]}, {\"boxpoints\": \"all\", \"fillcolor\": \"rgba(44, 160, 101, 0.5)\", \"jitter\": 1.0, \"line\": {\"color\": \"rgba(44, 160, 101, 0.5)\", \"width\": 1}, \"lowerfence\": [0.0], \"marker\": {\"size\": 2}, \"median\": [1.1308088490372266], \"name\": \"A\", \"offsetgroup\": \"1\", \"opacity\": 1.0, \"q1\": [0.7965987916325658], \"q3\": [2.5673646016325513], \"type\": \"box\", \"upperfence\": [1.4126441659393154], \"whiskerwidth\": 0.2, \"x\": [\"AAAA89@PM1<br>20201002<sub>111</sub>\"]}, {\"boxpoints\": \"all\", \"fillcolor\": \"rgba(255, 65, 54, 0.5)\", \"jitter\": 1.0, \"line\": {\"color\": \"rgba(255, 65, 54, 0.5)\", \"width\": 1}, \"lowerfence\": [0.0], \"marker\": {\"size\": 2}, \"median\": [1.6134589126282897], \"name\": \"A\", \"offsetgroup\": \"1\", \"opacity\": 1.0, \"q1\": [0.48590611229003644], \"q3\": [2.7373799498387004], \"type\": \"box\", \"upperfence\": [1.7821460648479661], \"whiskerwidth\": 0.2, \"x\": [\"AAAA90@PM1<br>20201002<sub>111</sub>\"]}, {\"boxpoints\": \"all\", \"fillcolor\": \"rgba(255, 65, 54, 0.5)\", \"jitter\": 1.0, \"line\": {\"color\": \"rgba(255, 65, 54, 0.5)\", \"width\": 1}, \"lowerfence\": [0.0], \"marker\": {\"size\": 2}, \"median\": [0.6582726999047404], \"name\": \"A\", \"offsetgroup\": \"1\", \"opacity\": 1.0, \"q1\": [0.3879876159314424], \"q3\": [2.8260394582071227], \"type\": \"box\", \"upperfence\": [1.651104227448883], \"whiskerwidth\": 0.2, \"x\": [\"AAAA91@PM1<br>20201002<sub>111</sub>\"]}, {\"boxpoints\": \"all\", \"fillcolor\": \"rgba(255, 65, 54, 0.5)\", \"jitter\": 1.0, \"line\": {\"color\": \"rgba(255, 65, 54, 0.5)\", \"width\": 1}, \"lowerfence\": [0.0], \"marker\": {\"size\": 2}, \"median\": [1.7673299412841987], \"name\": \"A\", \"offsetgroup\": \"1\", \"opacity\": 1.0, \"q1\": [0.6757966485009936], \"q3\": [0.9130403566790812], \"type\": \"box\", \"upperfence\": [2.8038136780831637], \"whiskerwidth\": 0.2, \"x\": [\"AAAA92@PM1<br>20201002<sub>111</sub>\"]}, {\"boxpoints\": \"all\", \"fillcolor\": \"rgba(255, 65, 54, 0.5)\", \"jitter\": 1.0, \"line\": {\"color\": \"rgba(255, 65, 54, 0.5)\", \"width\": 1}, \"lowerfence\": [0.0], \"marker\": {\"size\": 2}, \"median\": [1.2995940602930305], \"name\": \"A\", \"offsetgroup\": \"1\", \"opacity\": 1.0, \"q1\": [0.2623687728344932], \"q3\": [1.7887988089182318], \"type\": \"box\", \"upperfence\": [0.3660493251421464], \"whiskerwidth\": 0.2, \"x\": [\"AAAA93@PM1<br>20201002<sub>111</sub>\"]}, {\"boxpoints\": \"all\", \"fillcolor\": \"rgba(255, 65, 54, 0.5)\", \"jitter\": 1.0, \"line\": {\"color\": \"rgba(255, 65, 54, 0.5)\", \"width\": 1}, \"lowerfence\": [0.0], \"marker\": {\"size\": 2}, \"median\": [0.8289150732870507], \"name\": \"A\", \"offsetgroup\": \"1\", \"opacity\": 1.0, \"q1\": [0.8098227227283582], \"q3\": [1.1543203143601586], \"type\": \"box\", \"upperfence\": [3.3960580677956167], \"whiskerwidth\": 0.2, \"x\": [\"AAAA94@PM1<br>20201002<sub>111</sub>\"]}, {\"boxpoints\": \"all\", \"fillcolor\": \"rgba(255, 65, 54, 0.5)\", \"jitter\": 1.0, \"line\": {\"color\": \"rgba(255, 65, 54, 0.5)\", \"width\": 1}, \"lowerfence\": [0.0], \"marker\": {\"size\": 2}, \"median\": [0.8715267337652775], \"name\": \"A\", \"offsetgroup\": \"1\", \"opacity\": 1.0, \"q1\": [0.004888877903619915], \"q3\": [0.3229978490310871], \"type\": \"box\", \"upperfence\": [1.1916631311306474], \"whiskerwidth\": 0.2, \"x\": [\"AAAA95@PM1<br>20201002<sub>111</sub>\"]}, {\"boxpoints\": \"all\", \"fillcolor\": \"rgba(255, 65, 54, 0.5)\", \"jitter\": 1.0, \"line\": {\"color\": \"rgba(255, 65, 54, 0.5)\", \"width\": 1}, \"lowerfence\": [0.0], \"marker\": {\"size\": 2}, \"median\": [0.20672253298586019], \"name\": \"A\", \"offsetgroup\": \"1\", \"opacity\": 1.0, \"q1\": [0.9569000907422736], \"q3\": [1.2773932149757226], \"type\": \"box\", \"upperfence\": [1.6364604740637754], \"whiskerwidth\": 0.2, \"x\": [\"AAAA96@PM1<br>20201002<sub>111</sub>\"]}, {\"boxpoints\": \"all\", \"fillcolor\": \"rgba(255, 65, 54, 0.5)\", \"jitter\": 1.0, \"line\": {\"color\": \"rgba(255, 65, 54, 0.5)\", \"width\": 1}, \"lowerfence\": [0.0], \"marker\": {\"size\": 2}, \"median\": [0.9865041615880283], \"name\": \"A\", \"offsetgroup\": \"1\", \"opacity\": 1.0, \"q1\": [0.24437721813135926], \"q3\": [0.519017274142743], \"type\": \"box\", \"upperfence\": [1.0105226659642397], \"whiskerwidth\": 0.2, \"x\": [\"AAAA97@PM1<br>20201002<sub>111</sub>\"]}, {\"boxpoints\": \"all\", \"fillcolor\": \"rgba(255, 65, 54, 0.5)\", \"jitter\": 1.0, \"line\": {\"color\": \"rgba(255, 65, 54, 0.5)\", \"width\": 1}, \"lowerfence\": [0.0], \"marker\": {\"size\": 2}, \"median\": [0.4386188139841354], \"name\": \"A\", \"offsetgroup\": \"1\", \"opacity\": 1.0, \"q1\": [0.36238390197300874], \"q3\": [0.8810163956546015], \"type\": \"box\", \"upperfence\": [1.9528723155570238], \"whiskerwidth\": 0.2, \"x\": [\"AAAA98@PM1<br>20201002<sub>111</sub>\"]}, {\"boxpoints\": \"all\", \"fillcolor\": \"rgba(255, 65, 54, 0.5)\", \"jitter\": 1.0, \"line\": {\"color\": \"rgba(255, 65, 54, 0.5)\", \"width\": 1}, \"lowerfence\": [0.0], \"marker\": {\"size\": 2}, \"median\": [1.1570106021624302], \"name\": \"A\", \"offsetgroup\": \"1\", \"opacity\": 1.0, \"q1\": [0.30221658485340475], \"q3\": [1.926203793744469], \"type\": \"box\", \"upperfence\": [2.9353126141917634], \"whiskerwidth\": 0.2, \"x\": [\"AAAA99@PM1<br>20201002<sub>111</sub>\"]}],\n",
       "                        {\"height\": 240, \"hovermode\": false, \"margin\": {\"b\": 40, \"l\": 40, \"r\": 5, \"t\": 5}, \"paper_bgcolor\": \"rgb(255, 255, 255)\", \"plot_bgcolor\": \"rgb(255, 255, 255)\", \"showlegend\": false, \"template\": {\"data\": {\"bar\": [{\"error_x\": {\"color\": \"#2a3f5f\"}, \"error_y\": {\"color\": \"#2a3f5f\"}, \"marker\": {\"line\": {\"color\": \"#E5ECF6\", \"width\": 0.5}}, \"type\": \"bar\"}], \"barpolar\": [{\"marker\": {\"line\": {\"color\": \"#E5ECF6\", \"width\": 0.5}}, \"type\": \"barpolar\"}], \"carpet\": [{\"aaxis\": {\"endlinecolor\": \"#2a3f5f\", \"gridcolor\": \"white\", \"linecolor\": \"white\", \"minorgridcolor\": \"white\", \"startlinecolor\": \"#2a3f5f\"}, \"baxis\": {\"endlinecolor\": \"#2a3f5f\", \"gridcolor\": \"white\", \"linecolor\": \"white\", \"minorgridcolor\": \"white\", \"startlinecolor\": \"#2a3f5f\"}, \"type\": \"carpet\"}], \"choropleth\": [{\"colorbar\": {\"outlinewidth\": 0, \"ticks\": \"\"}, \"type\": \"choropleth\"}], \"contour\": [{\"colorbar\": {\"outlinewidth\": 0, \"ticks\": \"\"}, \"colorscale\": [[0.0, \"#0d0887\"], [0.1111111111111111, \"#46039f\"], [0.2222222222222222, \"#7201a8\"], [0.3333333333333333, \"#9c179e\"], [0.4444444444444444, \"#bd3786\"], [0.5555555555555556, \"#d8576b\"], [0.6666666666666666, \"#ed7953\"], [0.7777777777777778, \"#fb9f3a\"], [0.8888888888888888, \"#fdca26\"], [1.0, \"#f0f921\"]], \"type\": \"contour\"}], \"contourcarpet\": [{\"colorbar\": {\"outlinewidth\": 0, \"ticks\": \"\"}, \"type\": \"contourcarpet\"}], \"heatmap\": [{\"colorbar\": {\"outlinewidth\": 0, \"ticks\": \"\"}, \"colorscale\": [[0.0, \"#0d0887\"], [0.1111111111111111, \"#46039f\"], [0.2222222222222222, \"#7201a8\"], [0.3333333333333333, \"#9c179e\"], [0.4444444444444444, \"#bd3786\"], [0.5555555555555556, \"#d8576b\"], [0.6666666666666666, \"#ed7953\"], [0.7777777777777778, \"#fb9f3a\"], [0.8888888888888888, \"#fdca26\"], [1.0, \"#f0f921\"]], \"type\": \"heatmap\"}], \"heatmapgl\": [{\"colorbar\": {\"outlinewidth\": 0, \"ticks\": \"\"}, \"colorscale\": [[0.0, \"#0d0887\"], [0.1111111111111111, \"#46039f\"], [0.2222222222222222, \"#7201a8\"], [0.3333333333333333, \"#9c179e\"], [0.4444444444444444, \"#bd3786\"], [0.5555555555555556, \"#d8576b\"], [0.6666666666666666, \"#ed7953\"], [0.7777777777777778, \"#fb9f3a\"], [0.8888888888888888, \"#fdca26\"], [1.0, \"#f0f921\"]], \"type\": \"heatmapgl\"}], \"histogram\": [{\"marker\": {\"colorbar\": {\"outlinewidth\": 0, \"ticks\": \"\"}}, \"type\": \"histogram\"}], \"histogram2d\": [{\"colorbar\": {\"outlinewidth\": 0, \"ticks\": \"\"}, \"colorscale\": [[0.0, \"#0d0887\"], [0.1111111111111111, \"#46039f\"], [0.2222222222222222, \"#7201a8\"], [0.3333333333333333, \"#9c179e\"], [0.4444444444444444, \"#bd3786\"], [0.5555555555555556, \"#d8576b\"], [0.6666666666666666, \"#ed7953\"], [0.7777777777777778, \"#fb9f3a\"], [0.8888888888888888, \"#fdca26\"], [1.0, \"#f0f921\"]], \"type\": \"histogram2d\"}], \"histogram2dcontour\": [{\"colorbar\": {\"outlinewidth\": 0, \"ticks\": \"\"}, \"colorscale\": [[0.0, \"#0d0887\"], [0.1111111111111111, \"#46039f\"], [0.2222222222222222, \"#7201a8\"], [0.3333333333333333, \"#9c179e\"], [0.4444444444444444, \"#bd3786\"], [0.5555555555555556, \"#d8576b\"], [0.6666666666666666, \"#ed7953\"], [0.7777777777777778, \"#fb9f3a\"], [0.8888888888888888, \"#fdca26\"], [1.0, \"#f0f921\"]], \"type\": \"histogram2dcontour\"}], \"mesh3d\": [{\"colorbar\": {\"outlinewidth\": 0, \"ticks\": \"\"}, \"type\": \"mesh3d\"}], \"parcoords\": [{\"line\": {\"colorbar\": {\"outlinewidth\": 0, \"ticks\": \"\"}}, \"type\": \"parcoords\"}], \"pie\": [{\"automargin\": true, \"type\": \"pie\"}], \"scatter\": [{\"marker\": {\"colorbar\": {\"outlinewidth\": 0, \"ticks\": \"\"}}, \"type\": \"scatter\"}], \"scatter3d\": [{\"line\": {\"colorbar\": {\"outlinewidth\": 0, \"ticks\": \"\"}}, \"marker\": {\"colorbar\": {\"outlinewidth\": 0, \"ticks\": \"\"}}, \"type\": \"scatter3d\"}], \"scattercarpet\": [{\"marker\": {\"colorbar\": {\"outlinewidth\": 0, \"ticks\": \"\"}}, \"type\": \"scattercarpet\"}], \"scattergeo\": [{\"marker\": {\"colorbar\": {\"outlinewidth\": 0, \"ticks\": \"\"}}, \"type\": \"scattergeo\"}], \"scattergl\": [{\"marker\": {\"colorbar\": {\"outlinewidth\": 0, \"ticks\": \"\"}}, \"type\": \"scattergl\"}], \"scattermapbox\": [{\"marker\": {\"colorbar\": {\"outlinewidth\": 0, \"ticks\": \"\"}}, \"type\": \"scattermapbox\"}], \"scatterpolar\": [{\"marker\": {\"colorbar\": {\"outlinewidth\": 0, \"ticks\": \"\"}}, \"type\": \"scatterpolar\"}], \"scatterpolargl\": [{\"marker\": {\"colorbar\": {\"outlinewidth\": 0, \"ticks\": \"\"}}, \"type\": \"scatterpolargl\"}], \"scatterternary\": [{\"marker\": {\"colorbar\": {\"outlinewidth\": 0, \"ticks\": \"\"}}, \"type\": \"scatterternary\"}], \"surface\": [{\"colorbar\": {\"outlinewidth\": 0, \"ticks\": \"\"}, \"colorscale\": [[0.0, \"#0d0887\"], [0.1111111111111111, \"#46039f\"], [0.2222222222222222, \"#7201a8\"], [0.3333333333333333, \"#9c179e\"], [0.4444444444444444, \"#bd3786\"], [0.5555555555555556, \"#d8576b\"], [0.6666666666666666, \"#ed7953\"], [0.7777777777777778, \"#fb9f3a\"], [0.8888888888888888, \"#fdca26\"], [1.0, \"#f0f921\"]], \"type\": \"surface\"}], \"table\": [{\"cells\": {\"fill\": {\"color\": \"#EBF0F8\"}, \"line\": {\"color\": \"white\"}}, \"header\": {\"fill\": {\"color\": \"#C8D4E3\"}, \"line\": {\"color\": \"white\"}}, \"type\": \"table\"}]}, \"layout\": {\"annotationdefaults\": {\"arrowcolor\": \"#2a3f5f\", \"arrowhead\": 0, \"arrowwidth\": 1}, \"coloraxis\": {\"colorbar\": {\"outlinewidth\": 0, \"ticks\": \"\"}}, \"colorscale\": {\"diverging\": [[0, \"#8e0152\"], [0.1, \"#c51b7d\"], [0.2, \"#de77ae\"], [0.3, \"#f1b6da\"], [0.4, \"#fde0ef\"], [0.5, \"#f7f7f7\"], [0.6, \"#e6f5d0\"], [0.7, \"#b8e186\"], [0.8, \"#7fbc41\"], [0.9, \"#4d9221\"], [1, \"#276419\"]], \"sequential\": [[0.0, \"#0d0887\"], [0.1111111111111111, \"#46039f\"], [0.2222222222222222, \"#7201a8\"], [0.3333333333333333, \"#9c179e\"], [0.4444444444444444, \"#bd3786\"], [0.5555555555555556, \"#d8576b\"], [0.6666666666666666, \"#ed7953\"], [0.7777777777777778, \"#fb9f3a\"], [0.8888888888888888, \"#fdca26\"], [1.0, \"#f0f921\"]], \"sequentialminus\": [[0.0, \"#0d0887\"], [0.1111111111111111, \"#46039f\"], [0.2222222222222222, \"#7201a8\"], [0.3333333333333333, \"#9c179e\"], [0.4444444444444444, \"#bd3786\"], [0.5555555555555556, \"#d8576b\"], [0.6666666666666666, \"#ed7953\"], [0.7777777777777778, \"#fb9f3a\"], [0.8888888888888888, \"#fdca26\"], [1.0, \"#f0f921\"]]}, \"colorway\": [\"#636efa\", \"#EF553B\", \"#00cc96\", \"#ab63fa\", \"#FFA15A\", \"#19d3f3\", \"#FF6692\", \"#B6E880\", \"#FF97FF\", \"#FECB52\"], \"font\": {\"color\": \"#2a3f5f\"}, \"geo\": {\"bgcolor\": \"white\", \"lakecolor\": \"white\", \"landcolor\": \"#E5ECF6\", \"showlakes\": true, \"showland\": true, \"subunitcolor\": \"white\"}, \"hoverlabel\": {\"align\": \"left\"}, \"hovermode\": \"closest\", \"mapbox\": {\"style\": \"light\"}, \"paper_bgcolor\": \"white\", \"plot_bgcolor\": \"#E5ECF6\", \"polar\": {\"angularaxis\": {\"gridcolor\": \"white\", \"linecolor\": \"white\", \"ticks\": \"\"}, \"bgcolor\": \"#E5ECF6\", \"radialaxis\": {\"gridcolor\": \"white\", \"linecolor\": \"white\", \"ticks\": \"\"}}, \"scene\": {\"xaxis\": {\"backgroundcolor\": \"#E5ECF6\", \"gridcolor\": \"white\", \"gridwidth\": 2, \"linecolor\": \"white\", \"showbackground\": true, \"ticks\": \"\", \"zerolinecolor\": \"white\"}, \"yaxis\": {\"backgroundcolor\": \"#E5ECF6\", \"gridcolor\": \"white\", \"gridwidth\": 2, \"linecolor\": \"white\", \"showbackground\": true, \"ticks\": \"\", \"zerolinecolor\": \"white\"}, \"zaxis\": {\"backgroundcolor\": \"#E5ECF6\", \"gridcolor\": \"white\", \"gridwidth\": 2, \"linecolor\": \"white\", \"showbackground\": true, \"ticks\": \"\", \"zerolinecolor\": \"white\"}}, \"shapedefaults\": {\"line\": {\"color\": \"#2a3f5f\"}}, \"ternary\": {\"aaxis\": {\"gridcolor\": \"white\", \"linecolor\": \"white\", \"ticks\": \"\"}, \"baxis\": {\"gridcolor\": \"white\", \"linecolor\": \"white\", \"ticks\": \"\"}, \"bgcolor\": \"#E5ECF6\", \"caxis\": {\"gridcolor\": \"white\", \"linecolor\": \"white\", \"ticks\": \"\"}}, \"title\": {\"x\": 0.05}, \"xaxis\": {\"automargin\": true, \"gridcolor\": \"white\", \"linecolor\": \"white\", \"ticks\": \"\", \"title\": {\"standoff\": 15}, \"zerolinecolor\": \"white\", \"zerolinewidth\": 2}, \"yaxis\": {\"automargin\": true, \"gridcolor\": \"white\", \"linecolor\": \"white\", \"ticks\": \"\", \"title\": {\"standoff\": 15}, \"zerolinecolor\": \"white\", \"zerolinewidth\": 2}}}, \"width\": 940, \"xaxis\": {\"linecolor\": \"black\", \"linewidth\": 1, \"mirror\": true, \"nticks\": 30, \"showline\": true, \"tickangle\": -90, \"tickfont\": {\"color\": \"#000\", \"family\": \"calibri\", \"size\": 10}, \"ticklen\": 5, \"ticks\": \"inside\", \"tickson\": \"labels\"}, \"yaxis\": {\"autorange\": true, \"gridcolor\": \"rgb(245, 245, 245)\", \"gridwidth\": 1, \"linecolor\": \"black\", \"linewidth\": 1, \"mirror\": true, \"showgrid\": true, \"showline\": true, \"tickfont\": {\"color\": \"#000\", \"family\": \"calibri\", \"size\": 10}, \"zeroline\": false, \"zerolinecolor\": \"rgb(0, 0, 0)\", \"zerolinewidth\": 1}},\n",
       "                        {\"responsive\": true}\n",
       "                    ).then(function(){\n",
       "                            \n",
       "var gd = document.getElementById('1c13e9dd-3f29-44d6-b301-1af37debb086');\n",
       "var x = new MutationObserver(function (mutations, observer) {{\n",
       "        var display = window.getComputedStyle(gd).display;\n",
       "        if (!display || display === 'none') {{\n",
       "            console.log([gd, 'removed!']);\n",
       "            Plotly.purge(gd);\n",
       "            observer.disconnect();\n",
       "        }}\n",
       "}});\n",
       "\n",
       "// Listen for the removal of the full notebook cells\n",
       "var notebookContainer = gd.closest('#notebook-container');\n",
       "if (notebookContainer) {{\n",
       "    x.observe(notebookContainer, {childList: true});\n",
       "}}\n",
       "\n",
       "// Listen for the clearing of the current output cell\n",
       "var outputEl = gd.closest('.output');\n",
       "if (outputEl) {{\n",
       "    x.observe(outputEl, {childList: true});\n",
       "}}\n",
       "\n",
       "                        })\n",
       "                };\n",
       "                });\n",
       "            </script>\n",
       "        </div>"
      ]
     },
     "metadata": {},
     "output_type": "display_data"
    }
   ],
   "source": [
    "import random\n",
    "import plotly.graph_objects as go\n",
    "\n",
    "x_data = ['Carmelo Anthony', 'Dwyane Wade',\n",
    "          'Deron Williams', 'Brook Lopez',\n",
    "          'Damian Lillard', 'David West',]\n",
    "\n",
    "N = 100\n",
    "\n",
    "colors = ['rgba(93, 164, 214, 0.5)', 'rgba(255, 144, 14, 0.5)', 'rgba(44, 160, 101, 0.5)',\n",
    "          'rgba(255, 65, 54, 0.5)', 'rgba(207, 114, 255, 0.5)', 'rgba(127, 96, 0, 0.5)',\n",
    "          'rgba(93, 164, 214, 0.5)', 'rgba(255, 144, 14, 0.5)', 'rgba(44, 160, 101, 0.5)',\n",
    "          'rgba(255, 65, 54, 0.5)']\n",
    "\n",
    "fig = go.Figure()\n",
    "\n",
    "for i in range(N):\n",
    "\n",
    "    fig.add_trace(\n",
    "        go.Box(x=['AAAA{:02d}@PM1<br>20201002<sub>111</sub>'.format(i)],\n",
    "               q1=[1 * random.random()],\n",
    "               median=[2 * random.random()],\n",
    "               q3=[3 * random.random()],\n",
    "               lowerfence=[0 * random.random()],\n",
    "               upperfence=[4 * random.random()],\n",
    "               name='A',\n",
    "               offsetgroup='1',\n",
    "               boxpoints='all',\n",
    "               opacity=1.0,\n",
    "               jitter=1.0,\n",
    "               whiskerwidth=0.2,\n",
    "               fillcolor=colors[int(i/10)],\n",
    "               marker_size=2,\n",
    "               line_width=1,\n",
    "               line_color=colors[int(i/10)]\n",
    "              )\n",
    "    )\n",
    "    \n",
    "fig.update_layout(\n",
    "    xaxis=dict(\n",
    "        tickangle=-90,\n",
    "        ticks=\"inside\",\n",
    "        tickson=\"labels\",\n",
    "        ticklen=5,\n",
    "        nticks=30,\n",
    "        tickfont=dict(\n",
    "            family='calibri', \n",
    "            color='#000', \n",
    "            size=10\n",
    "        ),\n",
    "        showline=True, \n",
    "        linewidth=1, \n",
    "        linecolor='black', \n",
    "        mirror=True\n",
    "    ),\n",
    "    yaxis=dict(\n",
    "        tickfont=dict(\n",
    "            family='calibri', \n",
    "            color='#000', \n",
    "            size=10\n",
    "        ),\n",
    "        autorange=True,\n",
    "        showgrid=True,\n",
    "        zeroline=False,\n",
    "        gridcolor='rgb(245, 245, 245)',\n",
    "        gridwidth=1,\n",
    "        zerolinecolor='rgb(0, 0, 0)',\n",
    "        zerolinewidth=1,\n",
    "        showline=True, \n",
    "        linewidth=1, \n",
    "        linecolor='black', \n",
    "        mirror=True\n",
    "    ),\n",
    "    margin=dict(\n",
    "        l=40,\n",
    "        r=5,\n",
    "        b=40,\n",
    "        t=5,\n",
    "    ),\n",
    "    #boxmode='group',\n",
    "    paper_bgcolor='rgb(255, 255, 255)',\n",
    "    plot_bgcolor='rgb(255, 255, 255)',\n",
    "    showlegend=False,\n",
    "    hovermode=False,\n",
    "    width=940, \n",
    "    height=240\n",
    ")\n",
    "\n",
    "fig.show()"
   ]
  }
 ],
 "metadata": {
  "kernelspec": {
   "display_name": "Python 3",
   "language": "python",
   "name": "python3"
  },
  "language_info": {
   "codemirror_mode": {
    "name": "ipython",
    "version": 3
   },
   "file_extension": ".py",
   "mimetype": "text/x-python",
   "name": "python",
   "nbconvert_exporter": "python",
   "pygments_lexer": "ipython3",
   "version": "3.7.6"
  },
  "toc": {
   "base_numbering": 1,
   "nav_menu": {},
   "number_sections": true,
   "sideBar": true,
   "skip_h1_title": false,
   "title_cell": "Table of Contents",
   "title_sidebar": "Contents",
   "toc_cell": false,
   "toc_position": {},
   "toc_section_display": true,
   "toc_window_display": false
  },
  "varInspector": {
   "cols": {
    "lenName": 16,
    "lenType": 16,
    "lenVar": 40
   },
   "kernels_config": {
    "python": {
     "delete_cmd_postfix": "",
     "delete_cmd_prefix": "del ",
     "library": "var_list.py",
     "varRefreshCmd": "print(var_dic_list())"
    },
    "r": {
     "delete_cmd_postfix": ") ",
     "delete_cmd_prefix": "rm(",
     "library": "var_list.r",
     "varRefreshCmd": "cat(var_dic_list()) "
    }
   },
   "types_to_exclude": [
    "module",
    "function",
    "builtin_function_or_method",
    "instance",
    "_Feature"
   ],
   "window_display": false
  }
 },
 "nbformat": 4,
 "nbformat_minor": 4
}
