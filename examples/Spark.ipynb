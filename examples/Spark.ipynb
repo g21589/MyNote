{
 "cells": [
  {
   "cell_type": "markdown",
   "metadata": {},
   "source": [
    "# Init Spark"
   ]
  },
  {
   "cell_type": "code",
   "execution_count": 107,
   "metadata": {
    "ExecuteTime": {
     "end_time": "2020-02-16T15:13:46.658407Z",
     "start_time": "2020-02-16T15:13:46.654430Z"
    }
   },
   "outputs": [],
   "source": [
    "# import findspark\n",
    "findspark.init()\n",
    "findspark.find()\n",
    "import pyspark"
   ]
  },
  {
   "cell_type": "code",
   "execution_count": 6,
   "metadata": {
    "ExecuteTime": {
     "end_time": "2020-02-16T14:05:20.261015Z",
     "start_time": "2020-02-16T14:05:17.587457Z"
    }
   },
   "outputs": [],
   "source": [
    "from pyspark import SparkContext, SparkConf\n",
    "from pyspark.sql import SparkSession\n",
    "conf = pyspark.SparkConf().setAppName('appName').setMaster('local')\n",
    "sc = pyspark.SparkContext(conf=conf)\n",
    "spark = SparkSession(sc)"
   ]
  },
  {
   "cell_type": "code",
   "execution_count": 7,
   "metadata": {
    "ExecuteTime": {
     "end_time": "2020-02-16T14:05:26.473857Z",
     "start_time": "2020-02-16T14:05:26.466876Z"
    }
   },
   "outputs": [
    {
     "data": {
      "text/html": [
       "\n",
       "        <div>\n",
       "            <p><b>SparkContext</b></p>\n",
       "\n",
       "            <p><a href=\"http://DESKTOP-5DPSB4L:4040\">Spark UI</a></p>\n",
       "\n",
       "            <dl>\n",
       "              <dt>Version</dt>\n",
       "                <dd><code>v2.4.5</code></dd>\n",
       "              <dt>Master</dt>\n",
       "                <dd><code>local</code></dd>\n",
       "              <dt>AppName</dt>\n",
       "                <dd><code>appName</code></dd>\n",
       "            </dl>\n",
       "        </div>\n",
       "        "
      ],
      "text/plain": [
       "<SparkContext master=local appName=appName>"
      ]
     },
     "execution_count": 7,
     "metadata": {},
     "output_type": "execute_result"
    }
   ],
   "source": [
    "sc"
   ]
  },
  {
   "cell_type": "markdown",
   "metadata": {},
   "source": [
    "# Init Python"
   ]
  },
  {
   "cell_type": "code",
   "execution_count": 91,
   "metadata": {
    "ExecuteTime": {
     "end_time": "2020-02-16T15:00:52.450464Z",
     "start_time": "2020-02-16T15:00:52.447471Z"
    }
   },
   "outputs": [],
   "source": [
    "from IPython.display import display, HTML"
   ]
  },
  {
   "cell_type": "code",
   "execution_count": 11,
   "metadata": {
    "ExecuteTime": {
     "end_time": "2020-02-16T14:08:36.126562Z",
     "start_time": "2020-02-16T14:08:36.122599Z"
    }
   },
   "outputs": [],
   "source": [
    "import numpy as np\n",
    "import pandas as pd"
   ]
  },
  {
   "cell_type": "code",
   "execution_count": 108,
   "metadata": {
    "ExecuteTime": {
     "end_time": "2020-02-16T15:14:46.421457Z",
     "start_time": "2020-02-16T15:14:46.417467Z"
    }
   },
   "outputs": [],
   "source": [
    "from pyspark.sql.types import Row, StructField, StringType, IntegerType, StructType"
   ]
  },
  {
   "cell_type": "code",
   "execution_count": 110,
   "metadata": {
    "ExecuteTime": {
     "end_time": "2020-02-16T15:16:17.194079Z",
     "start_time": "2020-02-16T15:16:17.190117Z"
    }
   },
   "outputs": [],
   "source": [
    "from multiprocessing import Pool as ProcessPool\n",
    "from multiprocessing.dummy import Pool as ThreadPool"
   ]
  },
  {
   "cell_type": "markdown",
   "metadata": {},
   "source": [
    "# Code"
   ]
  },
  {
   "cell_type": "code",
   "execution_count": 12,
   "metadata": {
    "ExecuteTime": {
     "end_time": "2020-02-16T14:09:47.322245Z",
     "start_time": "2020-02-16T14:09:46.539075Z"
    }
   },
   "outputs": [
    {
     "data": {
      "text/plain": [
       "[[{'A': {0: 1, 1: 2}, 'B': {0: 2, 1: 3}}],\n",
       " [{'A': {0: 1, 1: 2}, 'B': {0: 2, 1: 3}}],\n",
       " [{'A': {0: 1, 1: 2}, 'B': {0: 2, 1: 3}}]]"
      ]
     },
     "execution_count": 12,
     "metadata": {},
     "output_type": "execute_result"
    }
   ],
   "source": [
    "def func(data):\n",
    "    df = pd.DataFrame({'A': [1,2], 'B': [2,3]})\n",
    "    return [df.to_dict(orient='records')]\n",
    "    \n",
    "rdd.map(func).collect()"
   ]
  },
  {
   "cell_type": "code",
   "execution_count": 46,
   "metadata": {
    "ExecuteTime": {
     "end_time": "2020-02-16T14:34:28.945377Z",
     "start_time": "2020-02-16T14:34:28.201283Z"
    }
   },
   "outputs": [
    {
     "data": {
      "text/plain": [
       "[{'A': 1, 'B': '2', 'key': 'A'},\n",
       " {'A': 2, 'B': '3', 'key': 'A'},\n",
       " {'B': '2', 'C': 'XXX', 'D': 'ZZZ', 'key': 'B'},\n",
       " {'B': '3', 'C': 'YYY', 'D': 'ZZZ', 'key': 'B'}]"
      ]
     },
     "execution_count": 46,
     "metadata": {},
     "output_type": "execute_result"
    }
   ],
   "source": [
    "def func(data):\n",
    "    key, value = data[0], data[1]\n",
    "    if key == 'A':\n",
    "        df = pd.DataFrame({'A': [1,2], 'B': ['2','3']})\n",
    "    else:\n",
    "        df = pd.DataFrame({'B': ['2','3'], 'C': ['XXX', 'YYY'], 'D': ['ZZZ', 'ZZZ']})\n",
    "    df['key'] = key\n",
    "    return df.to_dict(orient='records')\n",
    "    \n",
    "schema = StructType([\n",
    "    StructField('key', StringType(), nullable=True),\n",
    "    StructField('A', IntegerType(), nullable=True),\n",
    "    StructField('B', StringType(), nullable=True),\n",
    "    StructField('C', StringType(), nullable=True)\n",
    "])\n",
    "sc.parallelize([('A', 1), ('B', 3)]).flatMap(func).collect()#.toDF(schema).toPandas()"
   ]
  },
  {
   "cell_type": "code",
   "execution_count": 51,
   "metadata": {
    "ExecuteTime": {
     "end_time": "2020-02-16T14:36:09.100517Z",
     "start_time": "2020-02-16T14:36:07.649245Z"
    }
   },
   "outputs": [
    {
     "name": "stderr",
     "output_type": "stream",
     "text": [
      "D:\\3rd_party\\spark-2.4.5-bin-hadoop2.7\\python\\pyspark\\sql\\session.py:366: UserWarning: Using RDD of dict to inferSchema is deprecated. Use pyspark.sql.Row instead\n",
      "  warnings.warn(\"Using RDD of dict to inferSchema is deprecated. \"\n"
     ]
    },
    {
     "data": {
      "text/html": [
       "<div>\n",
       "<style scoped>\n",
       "    .dataframe tbody tr th:only-of-type {\n",
       "        vertical-align: middle;\n",
       "    }\n",
       "\n",
       "    .dataframe tbody tr th {\n",
       "        vertical-align: top;\n",
       "    }\n",
       "\n",
       "    .dataframe thead th {\n",
       "        text-align: right;\n",
       "    }\n",
       "</style>\n",
       "<table border=\"1\" class=\"dataframe\">\n",
       "  <thead>\n",
       "    <tr style=\"text-align: right;\">\n",
       "      <th></th>\n",
       "      <th>A</th>\n",
       "      <th>B</th>\n",
       "      <th>key</th>\n",
       "    </tr>\n",
       "  </thead>\n",
       "  <tbody>\n",
       "    <tr>\n",
       "      <td>0</td>\n",
       "      <td>1</td>\n",
       "      <td>2</td>\n",
       "      <td>A</td>\n",
       "    </tr>\n",
       "    <tr>\n",
       "      <td>1</td>\n",
       "      <td>2</td>\n",
       "      <td>3</td>\n",
       "      <td>A</td>\n",
       "    </tr>\n",
       "  </tbody>\n",
       "</table>\n",
       "</div>"
      ],
      "text/plain": [
       "   A  B key\n",
       "0  1  2   A\n",
       "1  2  3   A"
      ]
     },
     "execution_count": 51,
     "metadata": {},
     "output_type": "execute_result"
    }
   ],
   "source": [
    "sc.parallelize([('A', 1), ('B', 3)]).flatMap(func).filter(lambda x: x['key'] == 'A').toDF().toPandas()"
   ]
  },
  {
   "cell_type": "code",
   "execution_count": 116,
   "metadata": {
    "ExecuteTime": {
     "end_time": "2020-02-16T15:24:55.731682Z",
     "start_time": "2020-02-16T15:24:55.693631Z"
    }
   },
   "outputs": [],
   "source": [
    "def func(data):\n",
    "    key, value = data[0], data[1]\n",
    "    if key == 'A':\n",
    "        df = pd.DataFrame({'A': [1,2], 'B': ['2','3']})\n",
    "    elif key == 'B':\n",
    "        df = pd.DataFrame({'A': [1,2], 'B': ['2','3'], 'C': ['A', 'V']})\n",
    "    elif key == 'C':\n",
    "        df = pd.DataFrame({'A': [1,2], 'B': ['2','3'], 'F': ['E', 'V']})\n",
    "    elif key == 'D':\n",
    "        df = pd.DataFrame({'A': [1,2], 'B': ['2','3'], 'G': ['P', 'U']})\n",
    "    else:\n",
    "        df = pd.DataFrame({'B': ['2','3'], 'C': ['XXX', 'YYY'], 'D': ['ZZZ', 'ZZZ']})\n",
    "    df['key'] = key\n",
    "    return [(key, df.to_dict(orient='records'))]\n",
    "\n",
    "result_rdd = sc.parallelize([\n",
    "    ('A', 1), \n",
    "    ('B', 3),\n",
    "    ('C', 5),\n",
    "    ('D', 7),\n",
    "    ('E', 9),\n",
    "]).flatMap(func).cache()\n",
    "it = result_rdd.toLocalIterator()"
   ]
  },
  {
   "cell_type": "code",
   "execution_count": 117,
   "metadata": {
    "ExecuteTime": {
     "end_time": "2020-02-16T15:25:03.762951Z",
     "start_time": "2020-02-16T15:24:58.557700Z"
    }
   },
   "outputs": [],
   "source": [
    "keys = result_rdd.keys().collect()\n",
    "for k in keys:\n",
    "    sdf = result_rdd.filter(lambda x: x[0] == k).flatMap(lambda x: x[1]).toDF()\n",
    "    sdf.write.csv('{}.csv'.format(k), header=\"true\", mode=\"overwrite\")\n",
    "    #display(sdf.toPandas())"
   ]
  },
  {
   "cell_type": "code",
   "execution_count": 118,
   "metadata": {
    "ExecuteTime": {
     "end_time": "2020-02-16T15:25:12.282591Z",
     "start_time": "2020-02-16T15:25:07.085979Z"
    }
   },
   "outputs": [],
   "source": [
    "for k in result_rdd.keys().toLocalIterator():\n",
    "    sdf = result_rdd.filter(lambda x: x[0] == k).flatMap(lambda x: x[1]).toDF()\n",
    "    sdf.write.csv('{}.csv'.format(k), header=\"true\", mode=\"overwrite\")"
   ]
  },
  {
   "cell_type": "code",
   "execution_count": null,
   "metadata": {
    "ExecuteTime": {
     "start_time": "2020-02-16T15:47:46.095Z"
    }
   },
   "outputs": [],
   "source": [
    "def par_func(k):\n",
    "    print('{} Start'.format(k))\n",
    "    sdf = result_rdd.filter(lambda x: x[0] == k).flatMap(lambda x: x[1]).toDF()\n",
    "    sdf.write.csv('{}.csv'.format(k), header=\"true\", mode=\"overwrite\")\n",
    "    print('{} End'.format(k))\n",
    "    \n",
    "pool = ThreadPool()\n",
    "pool.map(par_func, keys)"
   ]
  },
  {
   "cell_type": "code",
   "execution_count": 70,
   "metadata": {
    "ExecuteTime": {
     "end_time": "2020-02-16T14:49:30.995615Z",
     "start_time": "2020-02-16T14:49:30.991604Z"
    }
   },
   "outputs": [
    {
     "name": "stdout",
     "output_type": "stream",
     "text": [
      "('A', [{'A': 1, 'B': '2', 'key': 'A'}, {'A': 2, 'B': '3', 'key': 'A'}])\n",
      "('B', [{'B': '2', 'C': 'XXX', 'D': 'ZZZ', 'key': 'B'}, {'B': '3', 'C': 'YYY', 'D': 'ZZZ', 'key': 'B'}])\n"
     ]
    }
   ],
   "source": [
    "for row in it:\n",
    "    print(row)"
   ]
  }
 ],
 "metadata": {
  "kernelspec": {
   "display_name": "Python 3",
   "language": "python",
   "name": "python3"
  },
  "language_info": {
   "codemirror_mode": {
    "name": "ipython",
    "version": 3
   },
   "file_extension": ".py",
   "mimetype": "text/x-python",
   "name": "python",
   "nbconvert_exporter": "python",
   "pygments_lexer": "ipython3",
   "version": "3.7.4"
  },
  "toc": {
   "base_numbering": 1,
   "nav_menu": {},
   "number_sections": true,
   "sideBar": true,
   "skip_h1_title": false,
   "title_cell": "Table of Contents",
   "title_sidebar": "Contents",
   "toc_cell": false,
   "toc_position": {},
   "toc_section_display": true,
   "toc_window_display": true
  },
  "varInspector": {
   "cols": {
    "lenName": 16,
    "lenType": 16,
    "lenVar": 40
   },
   "kernels_config": {
    "python": {
     "delete_cmd_postfix": "",
     "delete_cmd_prefix": "del ",
     "library": "var_list.py",
     "varRefreshCmd": "print(var_dic_list())"
    },
    "r": {
     "delete_cmd_postfix": ") ",
     "delete_cmd_prefix": "rm(",
     "library": "var_list.r",
     "varRefreshCmd": "cat(var_dic_list()) "
    }
   },
   "types_to_exclude": [
    "module",
    "function",
    "builtin_function_or_method",
    "instance",
    "_Feature"
   ],
   "window_display": false
  }
 },
 "nbformat": 4,
 "nbformat_minor": 2
}
