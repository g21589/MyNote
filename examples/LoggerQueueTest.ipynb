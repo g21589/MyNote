{
 "cells": [
  {
   "cell_type": "code",
   "execution_count": 1,
   "metadata": {
    "ExecuteTime": {
     "end_time": "2020-07-05T16:33:52.073701Z",
     "start_time": "2020-07-05T16:33:52.058702Z"
    }
   },
   "outputs": [],
   "source": [
    "from io import StringIO\n",
    "import logging\n",
    "import multiprocessing\n",
    "from util.mt_logger2 import LoggerQueue, worker, create_buffer_logger"
   ]
  },
  {
   "cell_type": "code",
   "execution_count": 2,
   "metadata": {
    "ExecuteTime": {
     "end_time": "2020-07-05T16:33:52.450484Z",
     "start_time": "2020-07-05T16:33:52.075701Z"
    }
   },
   "outputs": [
    {
     "name": "stderr",
     "output_type": "stream",
     "text": [
      "[2020-07-06 00:33:52,295][mt_logger2][mt_logger2.py][42][worker][util.mt_logger2][12][SpawnPoolWorker-2][MainThread][INFO] 0 0\n",
      "[2020-07-06 00:33:52,304][mt_logger2][mt_logger2.py][42][worker][util.mt_logger2][22][SpawnPoolWorker-2][MainThread][INFO] 7 49\n",
      "[2020-07-06 00:33:52,304][mt_logger2][mt_logger2.py][42][worker][util.mt_logger2][22][SpawnPoolWorker-2][MainThread][INFO] 7 49\n",
      "[2020-07-06 00:33:52,307][mt_logger2][mt_logger2.py][42][worker][util.mt_logger2][24][SpawnPoolWorker-2][MainThread][INFO] 8 64\n",
      "[2020-07-06 00:33:52,307][mt_logger2][mt_logger2.py][42][worker][util.mt_logger2][24][SpawnPoolWorker-2][MainThread][INFO] 8 64\n",
      "[2020-07-06 00:33:52,305][mt_logger2][mt_logger2.py][42][worker][util.mt_logger2][15][SpawnPoolWorker-7][MainThread][INFO] 3 9\n",
      "[2020-07-06 00:33:52,307][mt_logger2][mt_logger2.py][42][worker][util.mt_logger2][24][SpawnPoolWorker-2][MainThread][INFO] 8 64\n",
      "[2020-07-06 00:33:52,309][mt_logger2][mt_logger2.py][42][worker][util.mt_logger2][15][SpawnPoolWorker-4][MainThread][INFO] 4 16\n",
      "[2020-07-06 00:33:52,307][mt_logger2][mt_logger2.py][42][worker][util.mt_logger2][15][SpawnPoolWorker-3][MainThread][INFO] 2 4\n",
      "[2020-07-06 00:33:52,310][mt_logger2][mt_logger2.py][42][worker][util.mt_logger2][15][SpawnPoolWorker-8][MainThread][INFO] 5 25\n",
      "[2020-07-06 00:33:52,313][mt_logger2][mt_logger2.py][42][worker][util.mt_logger2][22][SpawnPoolWorker-7][MainThread][INFO] 9 81\n",
      "[2020-07-06 00:33:52,310][mt_logger2][mt_logger2.py][42][worker][util.mt_logger2][20][SpawnPoolWorker-5][MainThread][INFO] 1 1\n",
      "[2020-07-06 00:33:52,313][mt_logger2][mt_logger2.py][42][worker][util.mt_logger2][22][SpawnPoolWorker-7][MainThread][INFO] 9 81\n",
      "[2020-07-06 00:33:52,314][mt_logger2][mt_logger2.py][42][worker][util.mt_logger2][18][SpawnPoolWorker-6][MainThread][INFO] 6 36\n"
     ]
    },
    {
     "name": "stdout",
     "output_type": "stream",
     "text": [
      "[0, 2, 6, 12, 20, 30, 42, 56, 72, 90]\n",
      "[2020-07-06 00:33:52,295][mt_logger2][mt_logger2.py][42][worker][util.mt_logger2][12][SpawnPoolWorker-2][MainThread][INFO] 0 0\n",
      "[2020-07-06 00:33:52,304][mt_logger2][mt_logger2.py][42][worker][util.mt_logger2][22][SpawnPoolWorker-2][MainThread][INFO] 7 49\n",
      "[2020-07-06 00:33:52,304][mt_logger2][mt_logger2.py][42][worker][util.mt_logger2][22][SpawnPoolWorker-2][MainThread][INFO] 7 49\n",
      "[2020-07-06 00:33:52,307][mt_logger2][mt_logger2.py][42][worker][util.mt_logger2][24][SpawnPoolWorker-2][MainThread][INFO] 8 64\n",
      "[2020-07-06 00:33:52,307][mt_logger2][mt_logger2.py][42][worker][util.mt_logger2][24][SpawnPoolWorker-2][MainThread][INFO] 8 64\n",
      "[2020-07-06 00:33:52,305][mt_logger2][mt_logger2.py][42][worker][util.mt_logger2][15][SpawnPoolWorker-7][MainThread][INFO] 3 9\n",
      "[2020-07-06 00:33:52,307][mt_logger2][mt_logger2.py][42][worker][util.mt_logger2][24][SpawnPoolWorker-2][MainThread][INFO] 8 64\n",
      "[2020-07-06 00:33:52,309][mt_logger2][mt_logger2.py][42][worker][util.mt_logger2][15][SpawnPoolWorker-4][MainThread][INFO] 4 16\n",
      "[2020-07-06 00:33:52,307][mt_logger2][mt_logger2.py][42][worker][util.mt_logger2][15][SpawnPoolWorker-3][MainThread][INFO] 2 4\n",
      "[2020-07-06 00:33:52,310][mt_logger2][mt_logger2.py][42][worker][util.mt_logger2][15][SpawnPoolWorker-8][MainThread][INFO] 5 25\n",
      "[2020-07-06 00:33:52,313][mt_logger2][mt_logger2.py][42][worker][util.mt_logger2][22][SpawnPoolWorker-7][MainThread][INFO] 9 81\n",
      "[2020-07-06 00:33:52,310][mt_logger2][mt_logger2.py][42][worker][util.mt_logger2][20][SpawnPoolWorker-5][MainThread][INFO] 1 1\n",
      "[2020-07-06 00:33:52,313][mt_logger2][mt_logger2.py][42][worker][util.mt_logger2][22][SpawnPoolWorker-7][MainThread][INFO] 9 81\n",
      "[2020-07-06 00:33:52,314][mt_logger2][mt_logger2.py][42][worker][util.mt_logger2][18][SpawnPoolWorker-6][MainThread][INFO] 6 36\n",
      "\n"
     ]
    }
   ],
   "source": [
    "buf = StringIO()\n",
    "logger = create_buffer_logger(buf)\n",
    "\n",
    "handler = logging.StreamHandler()\n",
    "handler.setLevel(logging.DEBUG)\n",
    "file_formatter = logging.Formatter(\n",
    "        '[%(asctime)s][%(module)s][%(filename)s][%(lineno)d][%(funcName)s][%(name)s][%(relativeCreated)d][%(processName)s][%(threadName)s][%(levelname)s] %(message)s')\n",
    "handler.setFormatter(file_formatter)\n",
    "logger.addHandler(handler)\n",
    "\n",
    "with LoggerQueue(logger) as q:\n",
    "    args = [(i, i*i, q) for i in range(10)]\n",
    "    with multiprocessing.Pool() as p:\n",
    "        pool_return_rs = p.starmap(worker, args)\n",
    "\n",
    "print(pool_return_rs)\n",
    "print(buf.getvalue())"
   ]
  }
 ],
 "metadata": {
  "kernelspec": {
   "display_name": "Python 3",
   "language": "python",
   "name": "python3"
  },
  "language_info": {
   "codemirror_mode": {
    "name": "ipython",
    "version": 3
   },
   "file_extension": ".py",
   "mimetype": "text/x-python",
   "name": "python",
   "nbconvert_exporter": "python",
   "pygments_lexer": "ipython3",
   "version": "3.7.6"
  },
  "toc": {
   "base_numbering": 1,
   "nav_menu": {},
   "number_sections": true,
   "sideBar": true,
   "skip_h1_title": false,
   "title_cell": "Table of Contents",
   "title_sidebar": "Contents",
   "toc_cell": false,
   "toc_position": {},
   "toc_section_display": true,
   "toc_window_display": false
  },
  "varInspector": {
   "cols": {
    "lenName": 16,
    "lenType": 16,
    "lenVar": 40
   },
   "kernels_config": {
    "python": {
     "delete_cmd_postfix": "",
     "delete_cmd_prefix": "del ",
     "library": "var_list.py",
     "varRefreshCmd": "print(var_dic_list())"
    },
    "r": {
     "delete_cmd_postfix": ") ",
     "delete_cmd_prefix": "rm(",
     "library": "var_list.r",
     "varRefreshCmd": "cat(var_dic_list()) "
    }
   },
   "types_to_exclude": [
    "module",
    "function",
    "builtin_function_or_method",
    "instance",
    "_Feature"
   ],
   "window_display": false
  }
 },
 "nbformat": 4,
 "nbformat_minor": 4
}
