{
 "cells": [
  {
   "cell_type": "markdown",
   "metadata": {},
   "source": [
    "# JS customization"
   ]
  },
  {
   "cell_type": "markdown",
   "metadata": {},
   "source": [
    "Table Of Contents :\n",
    "\n",
    "+ [Custom Buttons](#Building-custom-buttons)\n",
    "+ [Custom JS](#Completely-custom-js)\n",
    "+ [Linking Widgets](#Linking-widgets-together)\n",
    "    - [Watching updates from outside the grid](#Updating-information-in-the-grid-via-outside-widgets)\n",
    "    - [Watching the data of the grid for interactive plotting](#Using-the-interactivity-of-the-grid-outputs-for-interactive-plotings)"
   ]
  },
  {
   "cell_type": "code",
   "execution_count": 1,
   "metadata": {
    "ExecuteTime": {
     "end_time": "2019-04-01T16:43:19.088876Z",
     "start_time": "2019-04-01T16:43:18.853501Z"
    }
   },
   "outputs": [],
   "source": [
    "import os\n",
    "import json\n",
    "import numpy as np\n",
    "import pandas as pd\n",
    "import urllib.request as ur\n",
    "import ipywidgets as widgets\n",
    "from ipyaggrid import Grid\n",
    "from IPython.display import display"
   ]
  },
  {
   "cell_type": "code",
   "execution_count": 2,
   "metadata": {
    "ExecuteTime": {
     "end_time": "2019-04-01T16:43:19.122287Z",
     "start_time": "2019-04-01T16:43:19.090285Z"
    }
   },
   "outputs": [],
   "source": [
    "url = './data/olympicWinners.json'\n",
    "with open(url, encoding='utf-8') as f:\n",
    "    data = json.loads(f.read())"
   ]
  },
  {
   "cell_type": "code",
   "execution_count": 3,
   "metadata": {
    "ExecuteTime": {
     "end_time": "2019-04-01T16:43:19.130261Z",
     "start_time": "2019-04-01T16:43:19.123279Z"
    },
    "scrolled": true
   },
   "outputs": [],
   "source": [
    "# import sys\n",
    "# import json\n",
    "# from pygments import highlight, lexers, formatters\n",
    "\n",
    "# formatted_json = json.dumps(data, indent=4)\n",
    "# colorful_json = highlight(formatted_json, lexers.JsonLexer(), formatters.TerminalFormatter())\n",
    "# print(formatted_json)"
   ]
  },
  {
   "cell_type": "code",
   "execution_count": 4,
   "metadata": {
    "ExecuteTime": {
     "end_time": "2019-04-01T16:43:19.169909Z",
     "start_time": "2019-04-01T16:43:19.132256Z"
    }
   },
   "outputs": [
    {
     "data": {
      "text/html": [
       "<div>\n",
       "<style scoped>\n",
       "    .dataframe tbody tr th:only-of-type {\n",
       "        vertical-align: middle;\n",
       "    }\n",
       "\n",
       "    .dataframe tbody tr th {\n",
       "        vertical-align: top;\n",
       "    }\n",
       "\n",
       "    .dataframe thead th {\n",
       "        text-align: right;\n",
       "    }\n",
       "</style>\n",
       "<table border=\"1\" class=\"dataframe\">\n",
       "  <thead>\n",
       "    <tr style=\"text-align: right;\">\n",
       "      <th></th>\n",
       "      <th>age</th>\n",
       "      <th>athlete</th>\n",
       "      <th>bronze</th>\n",
       "      <th>country</th>\n",
       "      <th>date</th>\n",
       "      <th>gold</th>\n",
       "      <th>silver</th>\n",
       "      <th>sport</th>\n",
       "      <th>total</th>\n",
       "      <th>year</th>\n",
       "    </tr>\n",
       "  </thead>\n",
       "  <tbody>\n",
       "    <tr>\n",
       "      <th>0</th>\n",
       "      <td>23.0</td>\n",
       "      <td>Michael Phelps</td>\n",
       "      <td>0</td>\n",
       "      <td>United States</td>\n",
       "      <td>24/08/2008</td>\n",
       "      <td>8</td>\n",
       "      <td>0</td>\n",
       "      <td>Swimming</td>\n",
       "      <td>8</td>\n",
       "      <td>2008</td>\n",
       "    </tr>\n",
       "    <tr>\n",
       "      <th>1</th>\n",
       "      <td>19.0</td>\n",
       "      <td>Michael Phelps</td>\n",
       "      <td>2</td>\n",
       "      <td>United States</td>\n",
       "      <td>29/08/2004</td>\n",
       "      <td>6</td>\n",
       "      <td>0</td>\n",
       "      <td>Swimming</td>\n",
       "      <td>8</td>\n",
       "      <td>2004</td>\n",
       "    </tr>\n",
       "    <tr>\n",
       "      <th>2</th>\n",
       "      <td>27.0</td>\n",
       "      <td>Michael Phelps</td>\n",
       "      <td>0</td>\n",
       "      <td>United States</td>\n",
       "      <td>12/08/2012</td>\n",
       "      <td>4</td>\n",
       "      <td>2</td>\n",
       "      <td>Swimming</td>\n",
       "      <td>6</td>\n",
       "      <td>2012</td>\n",
       "    </tr>\n",
       "    <tr>\n",
       "      <th>3</th>\n",
       "      <td>25.0</td>\n",
       "      <td>Natalie Coughlin</td>\n",
       "      <td>3</td>\n",
       "      <td>United States</td>\n",
       "      <td>24/08/2008</td>\n",
       "      <td>1</td>\n",
       "      <td>2</td>\n",
       "      <td>Swimming</td>\n",
       "      <td>6</td>\n",
       "      <td>2008</td>\n",
       "    </tr>\n",
       "    <tr>\n",
       "      <th>4</th>\n",
       "      <td>24.0</td>\n",
       "      <td>Aleksey Nemov</td>\n",
       "      <td>3</td>\n",
       "      <td>Russia</td>\n",
       "      <td>01/10/2000</td>\n",
       "      <td>2</td>\n",
       "      <td>1</td>\n",
       "      <td>Gymnastics</td>\n",
       "      <td>6</td>\n",
       "      <td>2000</td>\n",
       "    </tr>\n",
       "  </tbody>\n",
       "</table>\n",
       "</div>"
      ],
      "text/plain": [
       "    age           athlete  bronze        country        date  gold  silver  \\\n",
       "0  23.0    Michael Phelps       0  United States  24/08/2008     8       0   \n",
       "1  19.0    Michael Phelps       2  United States  29/08/2004     6       0   \n",
       "2  27.0    Michael Phelps       0  United States  12/08/2012     4       2   \n",
       "3  25.0  Natalie Coughlin       3  United States  24/08/2008     1       2   \n",
       "4  24.0     Aleksey Nemov       3         Russia  01/10/2000     2       1   \n",
       "\n",
       "        sport  total  year  \n",
       "0    Swimming      8  2008  \n",
       "1    Swimming      8  2004  \n",
       "2    Swimming      6  2012  \n",
       "3    Swimming      6  2008  \n",
       "4  Gymnastics      6  2000  "
      ]
     },
     "execution_count": 4,
     "metadata": {},
     "output_type": "execute_result"
    }
   ],
   "source": [
    "pd.DataFrame(data).head(5)"
   ]
  },
  {
   "cell_type": "markdown",
   "metadata": {},
   "source": [
    "## Building custom buttons"
   ]
  },
  {
   "cell_type": "markdown",
   "metadata": {},
   "source": [
    "Buttons are an easy way to interact with the grid. They can perform many actions on the gridOptions, and many examples of them are already given in [ag-Grid documentation](https://www.ag-grid.com/documentation-main/documentation.php), so that you can test anyfeature you want using their Plunckers (in browsers test environments)."
   ]
  },
  {
   "cell_type": "markdown",
   "metadata": {},
   "source": [
    "This custom button is built using two parameters : the name of the button and the action of the button. The first one will be used to be displayed on the button, and the second one is the body of the function called on click.\n",
    "The code **can use the `gridOptions`** as if they were defined before, and thus access to the `api` and the `columnApi` of ag-Grid.\n",
    "\n",
    "With this custom button, two cells are highlighted if their difference is higher than 50."
   ]
  },
  {
   "cell_type": "code",
   "execution_count": 5,
   "metadata": {
    "ExecuteTime": {
     "end_time": "2019-04-01T16:43:19.376327Z",
     "start_time": "2019-04-01T16:43:19.171874Z"
    }
   },
   "outputs": [
    {
     "data": {
      "application/vnd.jupyter.widget-view+json": {
       "model_id": "5ca6ad7352e349fca6178f0e5b2ace06",
       "version_major": 2,
       "version_minor": 0
      },
      "text/plain": [
       "Grid(columns_fit='auto', compress_data=True, export_mode='disabled', height='350px', menu={'buttons': [{'name'…"
      ]
     },
     "metadata": {},
     "output_type": "display_data"
    }
   ],
   "source": [
    "columnDefs = [\n",
    "    {'headerName': \"Country\", 'field': \"country\", 'width': 120, 'rowGroup': 'true'},\n",
    "    {'headerName': \"Year\", 'field': \"year\", 'width': 90, 'pivot': 'true', 'enablePivot':True},\n",
    "    {'headerName': \"Sport\", 'field': \"sport\", 'width': 110, 'rowGroup': 'true'},\n",
    "    {'headerName': \"Athlete\", 'field': \"athlete\"},\n",
    "    {'headerName': \"Gold\", 'field': \"gold\", 'width': 100, 'aggFunc': 'sum'},\n",
    "];\n",
    "\n",
    "gridOptions = {\n",
    "    'pivotMode': 'true',\n",
    "    'enableColResize': 'true',\n",
    "    'columnDefs': columnDefs,\n",
    "    'enableFilter':'true',\n",
    "    'enableSorting':'true',\n",
    "    'animateRows':'true',\n",
    "};\n",
    "\n",
    "buttons=[{'name':'Highlight', 'action':\"\"\"\n",
    "        var count = gridOptions.api.getDisplayedRowCount();\n",
    "        for (var i = 0; i<count; i++) {\n",
    "          var rowNode = gridOptions.api.getDisplayedRowAtIndex(i);\n",
    "          if(rowNode.aggData != null && Object.keys(rowNode.aggData).length > 0){\n",
    "        var keys = Object.keys(rowNode.aggData);\n",
    "        var gold = [];\n",
    "        for (var k = 0; k<keys.length; k++){\n",
    "          var j = 2*k + 1;\n",
    "          var prop = \"pivot_\" + j;\n",
    "          if(rowNode.aggData[prop] == null){\n",
    "            rowNode.aggData[prop] = 0;\n",
    "          }\n",
    "          gold[k] = rowNode.aggData[prop];\n",
    "        }\n",
    "        for(var j=0;j<gold.length - 1;j++){\n",
    "          if(Math.abs(gold[j] - gold[j+1]) >= 50){\n",
    "            var column1 = \"pivot_\" + (2*j+1);\n",
    "            var column2 = \"pivot_\" + (2*(j+1)+1);\n",
    "            gridOptions.api.flashCells({rowNodes: [rowNode], columns: [column1, column2] });\n",
    "          }\n",
    "        }}}\"\"\"}]\n",
    "\n",
    "\n",
    "grid1 = Grid(quick_filter=True,\n",
    "             theme='ag-theme-balham',\n",
    "             compress_data=True,\n",
    "             menu={'buttons':buttons},\n",
    "             grid_options=gridOptions,\n",
    "             grid_data=data,\n",
    "             columns_fit=\"auto\")\n",
    "grid1"
   ]
  },
  {
   "cell_type": "markdown",
   "metadata": {},
   "source": [
    "## Completely custom js - Pay attention: <span style=\"color:red\">A lot of tips here</span>"
   ]
  },
  {
   "cell_type": "markdown",
   "metadata": {},
   "source": [
    "The example below shows how to:\n",
    "+ Insert a column computed from the input data\n",
    "+ Set [cell style](https://www.ag-grid.com/javascript-grid-cell-styling/):\n",
    "    + **Age** 30 and above is ahow in red\n",
    "+ Set [cell renderers](https://www.ag-grid.com/javascript-grid-cell-rendering/):\n",
    "    + **Sport** is displayed with a button: Open console to see the data collected upon click\n",
    "    + **Score** is displayed with bar in the background \n",
    "+ Use the [**ag-Grid** context object](https://www.ag-grid.com/javascript-grid-context/) to carry precalculated and grid (as opposed to row) level info\n",
    "+ Use the various JS injection points:\n",
    "    + `js_helpers_custom`: Define a new helper function\n",
    "    + `js_pre_grid`: Enrich ColumnDefs before grid instantiation\n",
    "    + `js_post_grid`: Determine values (`max_score`) and functions (`scale`) from all data\n",
    "    \n",
    "    \n",
    "+ A **score** is calculated from several columns:\n",
    "    + $\\sqrt{\\displaystyle(\\text{3 gold}^2+\\text{2 silver}^2+\\text{1 bronze}^2)}$. \n",
    "    + **Note**: It does not represent any real world value, just a pretext for the background bars. \n"
   ]
  },
  {
   "cell_type": "code",
   "execution_count": 6,
   "metadata": {
    "ExecuteTime": {
     "end_time": "2019-04-01T16:43:19.382330Z",
     "start_time": "2019-04-01T16:43:19.378321Z"
    }
   },
   "outputs": [
    {
     "data": {
      "application/javascript": [
       "\n",
       "require.config({\n",
       "    paths: {\n",
       "        'plotly'  : 'https://cdn.plot.ly/plotly-latest.min',\n",
       "        'echarts' : 'https://cdnjs.cloudflare.com/ajax/libs/echarts/4.2.1/echarts.min',\n",
       "        'moment'  : 'https://cdnjs.cloudflare.com/ajax/libs/moment.js/2.24.0/moment.min'\n",
       "    }\n",
       "});\n",
       "\n",
       "require(['plotly', 'echarts', 'moment'], function(plotly, echarts, moment) {\n",
       "    window.echarts = echarts;\n",
       "});"
      ],
      "text/plain": [
       "<IPython.core.display.Javascript object>"
      ]
     },
     "metadata": {},
     "output_type": "display_data"
    }
   ],
   "source": [
    "%%javascript\n",
    "\n",
    "require.config({\n",
    "    paths: {\n",
    "        'plotly'  : 'https://cdn.plot.ly/plotly-latest.min',\n",
    "        'echarts' : 'https://cdnjs.cloudflare.com/ajax/libs/echarts/4.2.1/echarts.min',\n",
    "        'moment'  : 'https://cdnjs.cloudflare.com/ajax/libs/moment.js/2.24.0/moment.min'\n",
    "    }\n",
    "});\n",
    "\n",
    "require(['plotly', 'echarts', 'moment'], function(plotly, echarts, moment) {\n",
    "    window.echarts = echarts;\n",
    "});"
   ]
  },
  {
   "cell_type": "code",
   "execution_count": 7,
   "metadata": {
    "ExecuteTime": {
     "end_time": "2019-04-01T16:43:19.630646Z",
     "start_time": "2019-04-01T16:43:19.384306Z"
    },
    "scrolled": false
   },
   "outputs": [
    {
     "data": {
      "application/vnd.jupyter.widget-view+json": {
       "model_id": "de70279b1f67440e92664f09f4e6e5e0",
       "version_major": 2,
       "version_minor": 0
      },
      "text/plain": [
       "Grid(columns_fit='size_to_fit', compress_data=True, css_rules_down=['.ag-theme-balham {font-size: 10px;}', '.a…"
      ]
     },
     "metadata": {},
     "output_type": "display_data"
    }
   ],
   "source": [
    "age_cell_style = \"\"\"\n",
    "function(params) { if (params.value >= 30) { return {color: 'red'}; } }\n",
    "\"\"\"\n",
    "\n",
    "sport_cell_renderer = \"\"\"\n",
    "function (params) {\n",
    "    try {\n",
    "        let v = params.value;\n",
    "\n",
    "        function clicked() {\n",
    "            //window.params = params;\n",
    "            let scale = params.api.context.data_info['score'].scale;\n",
    "\n",
    "            console.log('row data:');\n",
    "            console.log(params.data);\n",
    "            console.log('row index:');\n",
    "            console.log(params.rowIndex);\n",
    "            console.log('score:');\n",
    "            console.log(params.data.score);\n",
    "            console.log('max_score (from context):');\n",
    "            console.log(params.api.context.data_info['score'].max_v);\n",
    "        }\n",
    "\n",
    "        let b = document.createElement('select');\n",
    "        b.innerHTML = '<option>AAA</option><option>BBB</option><option>CCC</option>';\n",
    "        b.className = 'btn btn-success btn-xs';\n",
    "        b.style = \"margin: 1px 10px 1px 2px;\";\n",
    "        //b.title = \"Open console after click\";\n",
    "        //b.addEventListener(\"click\", function (){clicked()}, false);\n",
    "\n",
    "        let d = document.createElement('div');\n",
    "        d.style = 'display: flex';\n",
    "        let d2 = document.createElement('div');\n",
    "        d2.innerHTML = v;\n",
    "        d.appendChild(b);\n",
    "        d.appendChild(d2);\n",
    "\n",
    "        return d;\n",
    "    } catch(e) {\n",
    "        return params.value;\n",
    "    }\n",
    "}\n",
    "\"\"\"\n",
    "\n",
    "columnDefs = [\n",
    "    {\n",
    "        'headerName': \"Athlete\", 'field': \"athlete\", 'width': 150, 'enableRowGroup': True, \n",
    "        'enablePivot': True, 'rowDrag': True, 'checkboxSelection': True\n",
    "    },\n",
    "    {\n",
    "        'headerName': \"Age\", 'field': \"age\", 'width': 90, 'enableRowGroup': True, \n",
    "        'enablePivot': True, 'cellRenderer': 'helpers.ageRendering', 'pinnedRowCellRenderer': 'customPinnedRowRenderer'\n",
    "    },\n",
    "#     {'headerName': \"Country\", 'field': \"country\", 'width': 120},\n",
    "    {\n",
    "        'headerName': \"Year\", 'field': \"year\", 'width': 90, 'enableRowGroup': True, 'enablePivot': True\n",
    "    },\n",
    "#     {'headerName': \"Date\", 'field': \"date\", 'width': 145},\n",
    "    {\n",
    "        'headerName': \"Sport\", 'field': \"sport\", 'width': 180, 'enableRowGroup': True, 'enablePivot': True, 'cellRenderer': sport_cell_renderer\n",
    "    },\n",
    "    {\n",
    "        'headerName': \"Gold\", 'field': \"gold\", 'width': 70, 'cellRenderer': 'helpers.myCellRenderer'\n",
    "    },\n",
    "    {\n",
    "        'headerName': \"Silver\", 'field': \"silver\", 'width': 75, 'enableRowGroup': True, \n",
    "        'enablePivot': True, 'enableValue' : True, 'allowedAggFuncs': ['sum','min','max'], 'pinnedRowCellRenderer': 'customPinnedRowRenderer'\n",
    "    },\n",
    "    {\n",
    "        'headerName': \"Bronze\", 'field': \"bronze\", 'width': 85, 'enableRowGroup': True, \n",
    "        'enablePivot': True, 'enableValue' : True, 'allowedAggFuncs': ['sum','min','max'], 'pinnedRowCellRenderer': 'customPinnedRowRenderer'\n",
    "    }\n",
    "]\n",
    "\n",
    "# JS injection\n",
    "# Ref: https://gitlab.com/DGothrek/ipyaggrid/blob/master/js/src/widget_builder.js#L61\n",
    "js_helpers_custom=\"\"\"\n",
    "helpersCustom.ageRendering = function(params) {    \n",
    "    let dom = document.createElement('input');\n",
    "    dom.type     = 'range';\n",
    "    dom.min      = 10;\n",
    "    dom.max      = 50;\n",
    "    dom.step     = 1;\n",
    "    dom.value    = params.value;\n",
    "    dom.onchange = function() {\n",
    "        params.setValue(this.value);\n",
    "    };\n",
    "    return dom;\n",
    "};\n",
    "\n",
    "helpersCustom.goldCellRenderer = function(params) {\n",
    "    \n",
    "    var wrap_dom = document.createElement('div');\n",
    "    wrap_dom.style = 'width:100%;height:100%;';\n",
    "    \n",
    "    setTimeout(function() {\n",
    "    \n",
    "        require(['plotly', 'echarts', 'moment'], function(Plotly, echarts, moment) {\n",
    "\n",
    "            var myChart = echarts.init(wrap_dom);\n",
    "\n",
    "            var option = {\n",
    "                title: {\n",
    "                    text: 'ECharts 入门示例'\n",
    "                },\n",
    "                tooltip: {},\n",
    "                legend: {\n",
    "                    data:['销量']\n",
    "                },\n",
    "                xAxis: {\n",
    "                    data: [\"衬衫\",\"羊毛衫\",\"雪纺衫\",\"裤子\",\"高跟鞋\",\"袜子\"]\n",
    "                },\n",
    "                yAxis: {},\n",
    "                series: [{\n",
    "                    name: '销量',\n",
    "                    type: 'bar',\n",
    "                    data: [5, 20, 36, 10, 10, 20]\n",
    "                }]\n",
    "            };\n",
    "\n",
    "            myChart.setOption(option);\n",
    "\n",
    "        });\n",
    "        \n",
    "    }, 0);\n",
    "    \n",
    "    return wrap_dom;\n",
    "}\n",
    "\n",
    "class MyCellRenderer {\n",
    "    \n",
    "    constructor() {\n",
    "    \n",
    "    }\n",
    "    \n",
    "    init(params) {        \n",
    "        this.eGui = document.createElement('div');\n",
    "        this.eGui.style = 'width:100%;height:100%;';\n",
    "        \n",
    "        //setTimeout(() => {\n",
    "            \n",
    "            this.myChart = echarts.init(this.eGui);\n",
    "\n",
    "            let option = {\n",
    "                title: {\n",
    "                    text: 'ECharts 入门示例'\n",
    "                },\n",
    "                tooltip: {},\n",
    "                legend: {\n",
    "                    data:['销量']\n",
    "                },\n",
    "                xAxis: {\n",
    "                    data: [\"衬衫\",\"羊毛衫\",\"雪纺衫\",\"裤子\",\"高跟鞋\",\"袜子\"]\n",
    "                },\n",
    "                yAxis: {},\n",
    "                series: [{\n",
    "                    name: '销量',\n",
    "                    type: 'bar',\n",
    "                    data: [5, 20, 36, 10, 10, 20]\n",
    "                }]\n",
    "            };\n",
    "\n",
    "            this.myChart.setOption(option);\n",
    "\n",
    "        //}, 0);\n",
    "    }\n",
    "    \n",
    "    getGui() {\n",
    "        return this.eGui;\n",
    "    }\n",
    "    \n",
    "    refresh(params) {\n",
    "        this.eValue.innerHTML = params.valueFormatted ? params.valueFormatted : params.value;\n",
    "        return true;\n",
    "    }\n",
    "    \n",
    "    destroy() {\n",
    "        if (this.myChart && !this.myChart.isDisposed()) {\n",
    "            this.myChart.clear();\n",
    "            this.myChart.dispose();\n",
    "        }\n",
    "    }\n",
    "}\n",
    "\n",
    "helpersCustom.myCellRenderer = MyCellRenderer;\n",
    "\"\"\"\n",
    "\n",
    "# JS injection\n",
    "# Ref: https://gitlab.com/DGothrek/ipyaggrid/blob/master/js/src/widget_builder.js#L103\n",
    "js_pre_grid = [\"\"\"\n",
    "\n",
    "function scoreCellRenderer(params) {\n",
    "    try {\n",
    "        let v = params.value;\n",
    "        let scale = params.api.context.data_info['score'].scale;\n",
    "        let f = scale(v);\n",
    "        let css = `\n",
    "            background: linear-gradient(to right, #e0a800 ${f}%, transparent ${f}%); \n",
    "            flex-grow: 2\n",
    "        `;\n",
    "        html = `<div style=\"${css}\">${v.toFixed(2)}</div>`\n",
    "    } catch (e) {\n",
    "        html = ''\n",
    "    }\n",
    "    return html;\n",
    "}\n",
    "\n",
    "function CustomPinnedRowRenderer () {}\n",
    "CustomPinnedRowRenderer.prototype.init = function(params) {\n",
    "        \n",
    "    var eGui = document.createElement('div');\n",
    "    eGui.id = 'header_sum_' + params.column.getId();\n",
    "    this.eGui = eGui;\n",
    "    \n",
    "    setTimeout(function() {\n",
    "        /*\n",
    "        $(eGui).sparkline(params.value, {\n",
    "            type: 'box',\n",
    "            width: 60,\n",
    "            height: 20,\n",
    "            tooltipClassname: 'myjqstooltip'\n",
    "        });\n",
    "        */\n",
    "    }, 0);\n",
    "    \n",
    "};\n",
    "CustomPinnedRowRenderer.prototype.getGui = function() {\n",
    "    return this.eGui;\n",
    "};\n",
    "\n",
    "\n",
    "gridData.forEach(dat => {\n",
    "    dat.score = Math.sqrt(Math.pow(3*dat.gold,2) + Math.pow(2*dat.silver,2) + Math.pow(1*dat.bronze,2))\n",
    "})\n",
    "\n",
    "function gen_array(col_name) {\n",
    "    let arr = [];\n",
    "    gridData.forEach(dat => {arr.push(dat[col_name])});\n",
    "    return arr;\n",
    "}\n",
    "\n",
    "//gridOptions.columnDefs.push({'headerName': \"Gold\", 'field': \"gold\", 'width': 70, cellRenderer: helpersCustom.goldCellRenderer, pinnedRowCellRenderer: 'customPinnedRowRenderer'});\n",
    "gridOptions.columnDefs.push({'headerName':'Score', field:'score', cellRenderer: scoreCellRenderer, pinnedRowCellRenderer: 'customPinnedRowRenderer'});\n",
    "gridOptions.pinnedTopRowData = [{\n",
    "    age: gen_array('age'),\n",
    "    year: gen_array('year'),\n",
    "    sport: gen_array('sport'),\n",
    "    gold: gen_array('gold'),\n",
    "    silver: gen_array('silver'),\n",
    "    bronze: gen_array('bronze'),\n",
    "    score: gen_array('score')\n",
    "}];\n",
    "\n",
    "gridOptions['components'] = {\n",
    "    customPinnedRowRenderer: CustomPinnedRowRenderer\n",
    "}\n",
    "/*\n",
    "gridOptions.getRowHeight = function(params) {\n",
    "    if (params.node.rowPinned) {\n",
    "        return 26;\n",
    "    } else {\n",
    "        return 20;\n",
    "    }\n",
    "}\n",
    "*/\n",
    "gridOptions['getMainMenuItems'] = function(params) {\n",
    "    switch (params.column.getId()) {\n",
    "        case 'athlete':\n",
    "            var athleteMenuItems = params.defaultItems.slice(0);\n",
    "            athleteMenuItems.push({\n",
    "                name: '[Custom] ag-Grid Is Great',\n",
    "                icon: '<i class=\"fa fa-check\"></i>',\n",
    "                action: function() {\n",
    "                    $('#header_sum_age').html('321');\n",
    "                }\n",
    "            });\n",
    "            athleteMenuItems.push({\n",
    "                name: '[Custom] Casio Watch',\n",
    "                icon: '<i class=\"fa fa-id-card\"></i>',\n",
    "                action: function() {\n",
    "                    console.log('People who wear casio watches are cool');\n",
    "                }\n",
    "            });\n",
    "            athleteMenuItems.push({\n",
    "                name: '[Custom] Custom Sub Menu',\n",
    "                subMenu: [\n",
    "                    {name: 'Black', action: function() {console.log('Black was pressed');} },\n",
    "                    {name: 'White', action: function() {console.log('White was pressed');} },\n",
    "                    {name: 'Grey', action: function() {console.log('Grey was pressed');} }\n",
    "                ]\n",
    "            });\n",
    "            return athleteMenuItems;\n",
    "        default:\n",
    "            return params.defaultItems;\n",
    "    }\n",
    "}\n",
    "\"\"\"]\n",
    "\n",
    "# JS injection\n",
    "# Ref: https://gitlab.com/DGothrek/ipyaggrid/blob/master/js/src/widget_builder.js#L121\n",
    "js_post_grid = [\"\"\"\n",
    "window.go = gridOptions;\n",
    "\n",
    "function getDataInfo(col_name) {\n",
    "    let arr_score = [], min_v = 0, max_v = 0, scale = 0;\n",
    "\n",
    "    gridOptions.api.forEachNode(node => {arr_score.push(node.data[col_name])});\n",
    "    [min_v, max_v] = d3.extent(arr_score);\n",
    "    scale = d3.scaleLinear().domain([min_v, max_v]).range([0, 100]);\n",
    "    \n",
    "    return {scale: scale, min_v: min_v, max_v: max_v};\n",
    "}\n",
    "\n",
    "gridOptions.api.context.data_info = {\n",
    "    'gold'  : getDataInfo('gold'),\n",
    "    'score' : getDataInfo('score')\n",
    "};\n",
    "\n",
    "console.info(gridOptions.api.context.data_info);\n",
    "\"\"\"]\n",
    "\n",
    "custom_css = \"\"\"\n",
    ".ag-theme-balham {\n",
    "    font-size: 10px;\n",
    "}\n",
    ".ag-theme-balham .ag-header-cell, .ag-theme-balham .ag-header-group-cell {\n",
    "    line-height: 24px;\n",
    "}\n",
    ".ag-theme-balham .ag-cell {\n",
    "    line-height: 20px;\n",
    "    padding-left: 4px;\n",
    "    padding-right: 4px;\n",
    "}\n",
    ".ag-theme-balham .ag-icon-checkbox-unchecked, .ag-theme-balham .ag-icon-checkbox-checked {\n",
    "    background-size: 12px 12px;\n",
    "}\n",
    ".ag-theme-balham .ag-cell-wrapper {\n",
    "    position: relative;\n",
    "    top: -2px;\n",
    "}\n",
    ".ag-theme-balham .ag-header-cell,\n",
    ".ag-theme-balham .ag-header-group-cell {\n",
    "    padding-left: 4px;\n",
    "    padding-right: 4px;\n",
    "}\n",
    ".ag-theme-balham .ag-selection-checkbox span,\n",
    ".ag-theme-balham .ag-group-expanded span,\n",
    ".ag-theme-balham .ag-group-contracted span {\n",
    "    margin-right: 6px;\n",
    "}\n",
    ".ag-theme-balham .ag-row-drag {\n",
    "    width: 20px;\n",
    "    background-size: 14px 14px;\n",
    "}\n",
    ".ag-theme-balham .ag-name-value {\n",
    "    padding-top: 2px;\n",
    "    padding-bottom: 2px;\n",
    "}\n",
    ".ag-theme-balham .ag-header-cell::after,\n",
    ".ag-theme-balham .ag-header-group-cell::after {\n",
    "    margin-top: 4px;\n",
    "}\n",
    ".ag-theme-balham .ag-header-cell-menu-button .ag-icon-menu {\n",
    "    height: 24px;\n",
    "}\n",
    "\"\"\"\n",
    "\n",
    "grid_options = {\n",
    "    'defaultColDef'        : {\n",
    "        #'editable': True,\n",
    "        'resizable': True\n",
    "    },\n",
    "    'columnDefs'           : columnDefs,\n",
    "    'headerHeight'         : 24,\n",
    "    'rowHeight'            : 50,\n",
    "    'rowDragManaged'       : True,\n",
    "    'enableSorting'        : True,\n",
    "    'enableFilter'         : True,\n",
    "    'enableColResize'      : True,\n",
    "    'enableRangeSelection' : True,\n",
    "    'animateRows'          : True,\n",
    "    'rowGroupPanelShow'    : 'always',\n",
    "    'sideBar'              : ['columns', 'filters'],\n",
    "    'statusBar'            : {\n",
    "        'statusPanels': [\n",
    "            { 'statusPanel': 'agTotalRowCountComponent', 'align': 'left' },\n",
    "            { 'statusPanel': 'agFilteredRowCountComponent' },\n",
    "            { 'statusPanel': 'agSelectedRowCountComponent' },\n",
    "            { 'statusPanel': 'agAggregationComponent' }\n",
    "        ]\n",
    "    }\n",
    "}\n",
    "\n",
    "grid2 = Grid(\n",
    "    grid_data         = data,\n",
    "    grid_options      = grid_options,\n",
    "    js_helpers_custom = js_helpers_custom,\n",
    "    js_pre_grid       = js_pre_grid,\n",
    "    js_post_grid      = js_post_grid,\n",
    "    #export_mode       = 'disabled',\n",
    "    #show_toggle_edit  = True,\n",
    "    theme             = 'ag-theme-balham',\n",
    "    css_rules         = custom_css\n",
    ")\n",
    "\n",
    "grid2"
   ]
  },
  {
   "cell_type": "code",
   "execution_count": 8,
   "metadata": {
    "ExecuteTime": {
     "end_time": "2019-04-01T16:43:19.636630Z",
     "start_time": "2019-04-01T16:43:19.632642Z"
    }
   },
   "outputs": [],
   "source": [
    "grid2.get_selected_rows()"
   ]
  },
  {
   "cell_type": "code",
   "execution_count": 9,
   "metadata": {
    "ExecuteTime": {
     "end_time": "2019-04-01T16:43:19.738358Z",
     "start_time": "2019-04-01T16:43:19.637628Z"
    }
   },
   "outputs": [
    {
     "ename": "KeyError",
     "evalue": "'rows'",
     "output_type": "error",
     "traceback": [
      "\u001b[1;31m---------------------------------------------------------------------------\u001b[0m",
      "\u001b[1;31mKeyError\u001b[0m                                  Traceback (most recent call last)",
      "\u001b[1;32m<ipython-input-9-54eda566edf7>\u001b[0m in \u001b[0;36m<module>\u001b[1;34m()\u001b[0m\n\u001b[1;32m----> 1\u001b[1;33m \u001b[0mgrid2\u001b[0m\u001b[1;33m.\u001b[0m\u001b[0mgrid_data_out\u001b[0m\u001b[1;33m[\u001b[0m\u001b[1;34m'rows'\u001b[0m\u001b[1;33m]\u001b[0m\u001b[1;33m\u001b[0m\u001b[0m\n\u001b[0m",
      "\u001b[1;31mKeyError\u001b[0m: 'rows'"
     ]
    }
   ],
   "source": [
    "grid2.grid_data_out['rows']"
   ]
  },
  {
   "cell_type": "code",
   "execution_count": null,
   "metadata": {
    "ExecuteTime": {
     "end_time": "2019-04-01T16:43:19.738358Z",
     "start_time": "2019-04-01T16:43:18.875Z"
    },
    "scrolled": true
   },
   "outputs": [],
   "source": [
    "out = widgets.Output(layout={'border': '1px solid black'})"
   ]
  },
  {
   "cell_type": "code",
   "execution_count": null,
   "metadata": {
    "ExecuteTime": {
     "end_time": "2019-04-01T16:43:19.739355Z",
     "start_time": "2019-04-01T16:43:18.878Z"
    }
   },
   "outputs": [],
   "source": [
    "%%css\n",
    "\n",
    ".myjqstooltip {\n",
    "    position: absolute;\n",
    "    left: 0px;\n",
    "    top: 0px;\n",
    "    visibility: hidden;\n",
    "    background-color: rgba(0,0,0,0.5);\n",
    "    color: white;\n",
    "    font: 8px calibri;\n",
    "    text-align: left;\n",
    "    white-space: nowrap;\n",
    "    padding: 2px;\n",
    "    border: 1px solid white;\n",
    "    border-radius: 3px;\n",
    "    z-index: 10000;\n",
    "    box-shadow: 1px 1px 3px #333;\n",
    "}\n",
    ".jqsfield {\n",
    "    color: white;\n",
    "    font: 10px arial, san serif;\n",
    "    text-align: left;\n",
    "}\n",
    "\n",
    "input[type=range] {\n",
    "  height: 19px;\n",
    "  -webkit-appearance: none;\n",
    "  margin: 0;\n",
    "  width: 100%;\n",
    "}\n",
    "input[type=range]:focus {\n",
    "  outline: none;\n",
    "}\n",
    "input[type=range]::-webkit-slider-runnable-track {\n",
    "  width: 100%;\n",
    "  height: 4px;\n",
    "  cursor: pointer;\n",
    "  animate: 0.2s;\n",
    "  box-shadow: 0px 0px 0px #000000;\n",
    "  background: #2497E3;\n",
    "  border-radius: 49px;\n",
    "  border: 0px solid #000000;\n",
    "}\n",
    "input[type=range]::-webkit-slider-thumb {\n",
    "  box-shadow: 0px 0px 0px #000000;\n",
    "  border: 1px solid #2497E3;\n",
    "  height: 12px;\n",
    "  width: 12px;\n",
    "  border-radius: 50px;\n",
    "  background: #A1D0FF;\n",
    "  cursor: pointer;\n",
    "  -webkit-appearance: none;\n",
    "  margin-top: -4.5px;\n",
    "}\n",
    "input[type=range]:focus::-webkit-slider-runnable-track {\n",
    "  background: #2497E3;\n",
    "}\n",
    "input[type=range]::-moz-range-track {\n",
    "  width: 100%;\n",
    "  height: 4px;\n",
    "  cursor: pointer;\n",
    "  animate: 0.2s;\n",
    "  box-shadow: 0px 0px 0px #000000;\n",
    "  background: #2497E3;\n",
    "  border-radius: 49px;\n",
    "  border: 0px solid #000000;\n",
    "}\n",
    "input[type=range]::-moz-range-thumb {\n",
    "  box-shadow: 0px 0px 0px #000000;\n",
    "  border: 1px solid #2497E3;\n",
    "  height: 12px;\n",
    "  width: 12px;\n",
    "  border-radius: 50px;\n",
    "  background: #A1D0FF;\n",
    "  cursor: pointer;\n",
    "}\n",
    "input[type=range]::-ms-track {\n",
    "  width: 100%;\n",
    "  height: 4px;\n",
    "  cursor: pointer;\n",
    "  animate: 0.2s;\n",
    "  background: transparent;\n",
    "  border-color: transparent;\n",
    "  color: transparent;\n",
    "}\n",
    "input[type=range]::-ms-fill-lower {\n",
    "  background: #2497E3;\n",
    "  border: 0px solid #000000;\n",
    "  border-radius: 98px;\n",
    "  box-shadow: 0px 0px 0px #000000;\n",
    "}\n",
    "input[type=range]::-ms-fill-upper {\n",
    "  background: #2497E3;\n",
    "  border: 0px solid #000000;\n",
    "  border-radius: 98px;\n",
    "  box-shadow: 0px 0px 0px #000000;\n",
    "}\n",
    "input[type=range]::-ms-thumb {\n",
    "  margin-top: 1px;\n",
    "  box-shadow: 0px 0px 0px #000000;\n",
    "  border: 1px solid #2497E3;\n",
    "  height: 12px;\n",
    "  width: 12px;\n",
    "  border-radius: 50px;\n",
    "  background: #A1D0FF;\n",
    "  cursor: pointer;\n",
    "}\n",
    "input[type=range]:focus::-ms-fill-lower {\n",
    "  background: #2497E3;\n",
    "}\n",
    "input[type=range]:focus::-ms-fill-upper {\n",
    "  background: #2497E3;\n",
    "}"
   ]
  },
  {
   "cell_type": "code",
   "execution_count": null,
   "metadata": {
    "ExecuteTime": {
     "end_time": "2019-04-01T16:43:19.741350Z",
     "start_time": "2019-04-01T16:43:18.881Z"
    }
   },
   "outputs": [],
   "source": [
    "from ipywidgets import Button, GridBox, Layout, ButtonStyle\n",
    "\n",
    "header  = Button(description='Header',\n",
    "                 layout=Layout(width='auto', grid_area='header'),\n",
    "                 style=ButtonStyle(button_color='lightblue'))\n",
    "main    = Button(description='Main',\n",
    "                 layout=Layout(width='auto', grid_area='main'),\n",
    "                 style=ButtonStyle(button_color='moccasin'))\n",
    "sidebar = Button(description='Sidebar',\n",
    "                 layout=Layout(width='auto', grid_area='sidebar'),\n",
    "                 style=ButtonStyle(button_color='salmon'))\n",
    "footer  = Button(description='Footer',\n",
    "                 layout=Layout(width='auto', grid_area='footer'),\n",
    "                 style=ButtonStyle(button_color='olive'))\n",
    "\n",
    "left_box = GridBox(children=[header, main, sidebar, footer],\n",
    "        layout=Layout(\n",
    "            width='50%',\n",
    "            grid_template_rows='auto auto auto',\n",
    "            grid_template_columns='25% 25% 25% 25%',\n",
    "            grid_template_areas='''\n",
    "                \"header header header header\"\n",
    "                \"main main . sidebar \"\n",
    "                \"footer footer footer footer\"\n",
    "            ''')\n",
    "       )\n",
    "\n",
    "right_box = GridBox(children=[Button(layout=Layout(width='auto', height='auto'),\n",
    "                         style=ButtonStyle(button_color='darkseagreen')) for i in range(9)\n",
    "                 ],\n",
    "        layout=Layout(\n",
    "            width='50%',\n",
    "            grid_template_columns='100px 50px 100px',\n",
    "            grid_template_rows='80px auto 80px',\n",
    "            grid_gap='5px 10px')\n",
    "       )\n",
    "\n",
    "p3 = widgets.HBox([left_box, right_box, right_box])"
   ]
  },
  {
   "cell_type": "code",
   "execution_count": null,
   "metadata": {
    "ExecuteTime": {
     "end_time": "2019-04-01T16:43:19.742348Z",
     "start_time": "2019-04-01T16:43:18.884Z"
    }
   },
   "outputs": [],
   "source": [
    "tab = widgets.Tab(icons=['check'] * 3)\n",
    "tab.children = [grid2, out, p3]\n",
    "tab.set_title(0, 'DataViewer')\n",
    "tab.set_title(1, 'Log')\n",
    "tab.set_title(2, 'Layout')\n",
    "\n",
    "tab"
   ]
  },
  {
   "cell_type": "code",
   "execution_count": null,
   "metadata": {
    "ExecuteTime": {
     "end_time": "2019-04-01T16:43:19.743345Z",
     "start_time": "2019-04-01T16:43:18.886Z"
    }
   },
   "outputs": [],
   "source": [
    "#out.clear_output()"
   ]
  },
  {
   "cell_type": "code",
   "execution_count": null,
   "metadata": {
    "ExecuteTime": {
     "end_time": "2019-04-01T16:43:19.744342Z",
     "start_time": "2019-04-01T16:43:18.889Z"
    }
   },
   "outputs": [],
   "source": [
    "@out.capture()\n",
    "def on_change_data_out_grid2(change):\n",
    "    print('on_change_data_out')\n",
    "    #print(change)\n",
    "    try:\n",
    "        #change_df = change['new']['grid']\n",
    "        change_df = change['new']['rows']\n",
    "        display(change_df.head(5))\n",
    "    except:\n",
    "        pass\n",
    "    \n",
    "grid2.observe(on_change_data_out_grid2, names='grid_data_out')"
   ]
  },
  {
   "cell_type": "code",
   "execution_count": null,
   "metadata": {
    "ExecuteTime": {
     "end_time": "2019-04-01T16:43:19.745339Z",
     "start_time": "2019-04-01T16:43:18.891Z"
    }
   },
   "outputs": [],
   "source": [
    "grid2.get_selected_rows()"
   ]
  },
  {
   "cell_type": "code",
   "execution_count": null,
   "metadata": {
    "ExecuteTime": {
     "end_time": "2019-04-01T16:43:19.746343Z",
     "start_time": "2019-04-01T16:43:18.893Z"
    }
   },
   "outputs": [],
   "source": [
    "widgets.HTML('<i class=\"fa fa-check\"></i>')"
   ]
  },
  {
   "cell_type": "markdown",
   "metadata": {},
   "source": [
    "## Linking widgets together"
   ]
  },
  {
   "cell_type": "markdown",
   "metadata": {},
   "source": [
    "### Updating information in the grid via outside widgets"
   ]
  },
  {
   "cell_type": "markdown",
   "metadata": {},
   "source": [
    "This example explains how to use `user_params` with other widget changes to update the effect of some action on the grid. \n",
    "Here we have a JS function highlight that flashes some cells of the grid when clicking one button on certain conditions depending on a parameter. We would like to choose this parameter via a slider.\n",
    "\n",
    "We could of course build this slider directly inside the JS of the grid using the `to_eval` input parameter. However building such JS components can sometimes be very tedious. We would prefer to ***use an ipywidget*** to build it, like the IntSlider.\n",
    "\n"
   ]
  },
  {
   "cell_type": "code",
   "execution_count": null,
   "metadata": {
    "ExecuteTime": {
     "end_time": "2019-04-01T16:43:19.747335Z",
     "start_time": "2019-04-01T16:43:18.896Z"
    }
   },
   "outputs": [],
   "source": [
    "columnDefs = [\n",
    "    {'headerName': \"Country\", 'field': \"country\", 'width': 120, 'rowGroup': 'true'},\n",
    "    {'headerName': \"Year\", 'field': \"year\", 'width': 90, 'pivot': 'true'},\n",
    "    {'headerName': \"Sport\", 'field': \"sport\", 'width': 110, 'rowGroup': 'true'},\n",
    "    {'headerName': \"Athlete\", 'field': \"athlete\"},\n",
    "    {'headerName': \"Gold\", 'field': \"gold\", 'width': 100, 'aggFunc': 'sum'},\n",
    "];\n",
    "\n",
    "gridOptions = {\n",
    "    'pivotMode': 'true',\n",
    "    'enableColResize': 'true',\n",
    "    'columnDefs': columnDefs,\n",
    "    'enableFilter':'true',\n",
    "    'enableSorting':'true',\n",
    "    'animateRows':'true',\n",
    "};\n",
    "\n",
    "buttons=[{'name':'Highlight', 'action':\"\"\"\n",
    "        var count = view.gridOptions.api.getDisplayedRowCount();\n",
    "        for (var i = 0; i<count; i++) {\n",
    "          var rowNode = view.gridOptions.api.getDisplayedRowAtIndex(i);\n",
    "          if(rowNode.aggData != null && Object.keys(rowNode.aggData).length > 0){\n",
    "        var keys = Object.keys(rowNode.aggData);\n",
    "        var gold = [];\n",
    "        for (var k = 0; k<keys.length; k++){\n",
    "          var j = 2*k + 1;\n",
    "          var prop = \"pivot_\" + j;\n",
    "          if(rowNode.aggData[prop] == null){\n",
    "            rowNode.aggData[prop] = 0;\n",
    "          }\n",
    "          gold[k] = rowNode.aggData[prop];\n",
    "        }\n",
    "        for(var j=0;j<gold.length - 1;j++){\n",
    "          // test positive if absolute value of difference of sum of gold medals\n",
    "          // from one olympiad to the next is greater than or equal to sider_value\n",
    "          if(Math.abs(gold[j] - gold[j+1]) >= view.model.get('user_params').slider_value){\n",
    "            var column1 = \"pivot_\" + (2*j+1);\n",
    "            var column2 = \"pivot_\" + (2*(j+1)+1);\n",
    "            view.gridOptions.api.flashCells({rowNodes: [rowNode], columns: [column1, column2] });\n",
    "          }\n",
    "        }}}\"\"\"}]\n",
    "\n",
    "\n",
    "pivot = Grid(quick_filter=True,\n",
    "             theme='ag-theme-balham',\n",
    "             compress_data=True,\n",
    "             menu = {'buttons':buttons},\n",
    "             grid_options=gridOptions,\n",
    "             grid_data=data,\n",
    "             columns_fit=\"auto\",\n",
    "             user_params={'slider_value':50})\n",
    "pivot"
   ]
  },
  {
   "cell_type": "markdown",
   "metadata": {},
   "source": [
    "With this function in `buttons`, two adjacent cells are highlighted if their difference in absolute value is higher than `user_parameter.slider_value`."
   ]
  },
  {
   "cell_type": "code",
   "execution_count": null,
   "metadata": {
    "ExecuteTime": {
     "end_time": "2019-04-01T16:43:19.749335Z",
     "start_time": "2019-04-01T16:43:18.898Z"
    }
   },
   "outputs": [],
   "source": [
    "# Setting a simple slider to coordinate its value with the highlight button\n",
    "slider = widgets.IntSlider(\n",
    "    value=50,\n",
    "    min=0,\n",
    "    max=100,\n",
    "    step=1,\n",
    "    description='Highlight Value:',\n",
    "    style={'description_width': 'initial'},\n",
    "    disabled=False,\n",
    "    continuous_update=False,\n",
    "    orientation='horizontal',\n",
    "    readout=True,\n",
    "    readout_format='d'\n",
    ")\n",
    "\n",
    "def on_slider_change(change):\n",
    "    pivot.user_params = {'slider_value': change.new}\n",
    "\n",
    "slider.observe(on_slider_change, names='value')"
   ]
  },
  {
   "cell_type": "markdown",
   "metadata": {},
   "source": [
    "The custom JS function we built uses `view.model.get('user_params')['slider_value']` instead of the regular hardcoded value. As the value of the slider changes, so does the `user_params`, using a simple observe."
   ]
  },
  {
   "cell_type": "code",
   "execution_count": null,
   "metadata": {
    "ExecuteTime": {
     "end_time": "2019-04-01T16:43:19.750330Z",
     "start_time": "2019-04-01T16:43:18.900Z"
    }
   },
   "outputs": [],
   "source": [
    "slider"
   ]
  },
  {
   "cell_type": "code",
   "execution_count": null,
   "metadata": {
    "ExecuteTime": {
     "end_time": "2019-04-01T16:43:19.751324Z",
     "start_time": "2019-04-01T16:43:18.902Z"
    }
   },
   "outputs": [],
   "source": [
    "# pivot"
   ]
  },
  {
   "cell_type": "markdown",
   "metadata": {},
   "source": [
    "### Using the interactivity of the grid outputs for interactive plotings"
   ]
  },
  {
   "cell_type": "markdown",
   "metadata": {},
   "source": [
    "Let's try to do some kind of opposite situation. We are going to link a dataset displayed by a [bqplot](https://github.com/bloomberg/bqplot) widget, with the output of a grid."
   ]
  },
  {
   "cell_type": "code",
   "execution_count": null,
   "metadata": {
    "ExecuteTime": {
     "end_time": "2019-04-01T16:43:19.753318Z",
     "start_time": "2019-04-01T16:43:18.904Z"
    }
   },
   "outputs": [],
   "source": [
    "from bqplot import pyplot as plt\n",
    "from bqplot import (\n",
    "    Axis, ColorAxis, LinearScale, DateScale, DateColorScale, OrdinalScale,\n",
    "    OrdinalColorScale, ColorScale, Scatter, Lines, Figure, Tooltip\n",
    ")"
   ]
  },
  {
   "cell_type": "code",
   "execution_count": null,
   "metadata": {
    "ExecuteTime": {
     "end_time": "2019-04-01T16:43:19.754316Z",
     "start_time": "2019-04-01T16:43:18.906Z"
    }
   },
   "outputs": [],
   "source": [
    "# Copy pasted from bqplot scatter documentation\n",
    "price_data = pd.DataFrame(np.cumsum(np.random.randn(150, 2).dot([[1.0, -0.8], [-0.8, 1.0]]), axis=0) + 100,\n",
    "                          columns=['Security 1', 'Security 2'], index=pd.date_range(start='01-01-2007', periods=150))\n",
    "size = 100\n",
    "np.random.seed(0)\n",
    "x_data = range(size)\n",
    "y_data = np.cumsum(np.random.randn(size) * 100.0)\n",
    "ord_keys = np.array(['A', 'B', 'C', 'D', 'E', 'F'])\n",
    "ordinal_data = np.random.randint(5, size=size)\n",
    "symbols = ['Security 1', 'Security 2']\n",
    "\n",
    "dates_all = price_data.index.values\n",
    "dates_all_t = dates_all[1:]\n",
    "sec1_levels = np.array(price_data[symbols[0]].values.flatten())\n",
    "log_sec1 = np.log(sec1_levels)\n",
    "sec1_returns = log_sec1[1:] - log_sec1[:-1]\n",
    "\n",
    "sec2_levels = np.array(price_data[symbols[1]].values.flatten())"
   ]
  },
  {
   "cell_type": "code",
   "execution_count": null,
   "metadata": {
    "ExecuteTime": {
     "end_time": "2019-04-01T16:43:19.755313Z",
     "start_time": "2019-04-01T16:43:18.908Z"
    }
   },
   "outputs": [],
   "source": [
    "df = pd.DataFrame({'date':dates_all,'sec_level':sec2_levels})"
   ]
  },
  {
   "cell_type": "markdown",
   "metadata": {},
   "source": [
    "For the grid, we choose button-export to be able to export the entire grid at will, as soon as the data changes because of filtering."
   ]
  },
  {
   "cell_type": "code",
   "execution_count": null,
   "metadata": {
    "ExecuteTime": {
     "end_time": "2019-04-01T16:43:19.756318Z",
     "start_time": "2019-04-01T16:43:18.910Z"
    }
   },
   "outputs": [],
   "source": [
    "column_defs = [\n",
    "    {'field':'date', 'headerName':'Date', 'rowDrag': True, 'checkboxSelection': True},\n",
    "    {'field':'sec_level', 'headerName':'Value'}\n",
    "]\n",
    "\n",
    "gridOptions={\n",
    "    'columnDefs'           : column_defs,\n",
    "    'rowDragManaged'       : True,\n",
    "    'enableSorting'        : True,\n",
    "    'enableFilter'         : True,\n",
    "    'enableColResize'      : True,\n",
    "    'enableRangeSelection' : True,\n",
    "    'animateRows'          : True,\n",
    "    'sideBar'              : 'columns'\n",
    "};\n",
    "\n",
    "process_data_grid = Grid(width=600,\n",
    "             quick_filter=True,\n",
    "             export_mode=\"buttons\",\n",
    "             show_toggle_edit=True,\n",
    "             sync_on_edit=True,\n",
    "             theme='ag-theme-balham',\n",
    "             menu={'input_div_css':{'flex-direction':'column', 'flex-wrap':'nowrap'}},\n",
    "             grid_options=gridOptions,\n",
    "             grid_data=df)"
   ]
  },
  {
   "cell_type": "code",
   "execution_count": null,
   "metadata": {
    "ExecuteTime": {
     "end_time": "2019-04-01T16:43:19.756318Z",
     "start_time": "2019-04-01T16:43:18.912Z"
    }
   },
   "outputs": [],
   "source": [
    "sc_x = DateScale()\n",
    "sc_y = LinearScale()\n",
    "\n",
    "scatt = Scatter(x=dates_all, y=sec2_levels, scales={'x': sc_x, 'y': sc_y})\n",
    "ax_x = Axis(scale=sc_x, label='Date')\n",
    "ax_y = Axis(scale=sc_y, orientation='vertical', tick_format='0.0f', label='Security 2')"
   ]
  },
  {
   "cell_type": "markdown",
   "metadata": {},
   "source": [
    "Here is the output of the figure :"
   ]
  },
  {
   "cell_type": "code",
   "execution_count": null,
   "metadata": {
    "ExecuteTime": {
     "end_time": "2019-04-01T16:43:19.757307Z",
     "start_time": "2019-04-01T16:43:18.914Z"
    }
   },
   "outputs": [],
   "source": [
    "Figure(marks=[scatt], axes=[ax_x, ax_y])"
   ]
  },
  {
   "cell_type": "code",
   "execution_count": null,
   "metadata": {
    "ExecuteTime": {
     "end_time": "2019-04-01T16:43:19.758313Z",
     "start_time": "2019-04-01T16:43:18.916Z"
    },
    "scrolled": false
   },
   "outputs": [],
   "source": [
    "process_data_grid"
   ]
  },
  {
   "cell_type": "markdown",
   "metadata": {},
   "source": [
    "Now let's observe the `grid_data_out` and update the data in the figure as soon as we get the data out. You can try to filter on any value, especially on the second value to eliminate the records that are lower than a certain value for example."
   ]
  },
  {
   "cell_type": "code",
   "execution_count": null,
   "metadata": {
    "ExecuteTime": {
     "end_time": "2019-04-01T16:43:19.759302Z",
     "start_time": "2019-04-01T16:43:18.918Z"
    }
   },
   "outputs": [],
   "source": [
    "def on_change_data_out(change):\n",
    "    print('on_change_data_out')\n",
    "    print(change)\n",
    "    print('XXX')\n",
    "    try:\n",
    "        #change_df = change['new']['grid']\n",
    "        change_df = change['new']['rows']\n",
    "        display(change_df.head(5))\n",
    "        x = change_df['date'].tolist()\n",
    "        y = change_df['sec_level'].tolist()\n",
    "        x = np.array(x, dtype='datetime64[ns]')\n",
    "        scatt.x = x\n",
    "        scatt.y = y\n",
    "    except:\n",
    "        pass\n",
    "    \n",
    "process_data_grid.observe(on_change_data_out, names='grid_data_out')\n",
    "#process_data_grid.observe(on_change_data_out)"
   ]
  },
  {
   "cell_type": "code",
   "execution_count": null,
   "metadata": {
    "ExecuteTime": {
     "end_time": "2019-04-01T16:43:19.760299Z",
     "start_time": "2019-04-01T16:43:18.920Z"
    }
   },
   "outputs": [],
   "source": [
    "process_data_grid.get_selected_rows()"
   ]
  },
  {
   "cell_type": "code",
   "execution_count": null,
   "metadata": {
    "ExecuteTime": {
     "end_time": "2019-04-01T16:43:19.761297Z",
     "start_time": "2019-04-01T16:43:18.922Z"
    }
   },
   "outputs": [],
   "source": [
    "from string import Template\n",
    "from IPython.display import HTML, Javascript, display\n",
    "from IPython.core.magic import register_line_magic, register_cell_magic, register_line_cell_magic\n",
    "\n",
    "@register_cell_magic\n",
    "def jsx(line, cell):\n",
    "    display(Javascript((Template('''\n",
    "        require(['babel', 'react', 'react-dom'], (Babel, React, ReactDOM) => {\n",
    "            eval(Babel.transform($quoted_script, {presets: ['react']}).code)\n",
    "        })\n",
    "    ''').substitute(quoted_script=json.dumps(cell)))))\n",
    "    \n",
    "@register_cell_magic\n",
    "def css(line, cell):\n",
    "    display(HTML((Template(\"<style>$quoted_script</style>\").substitute(quoted_script=cell))))\n",
    "\n",
    "@register_cell_magic\n",
    "def load_js(line, cell):\n",
    "    for idx, js_file in enumerate(filter(None, line.split() + cell.split())):\n",
    "        with open(js_file, encoding='utf-8') as f:\n",
    "            print('Load[%d]: %s' % (idx, js_file))\n",
    "            display(Javascript(f.read()))\n",
    "            \n",
    "@register_cell_magic\n",
    "def load_css(line, cell):\n",
    "    for idx, css_file in enumerate(filter(None, line.split() + cell.split())):\n",
    "        with open(css_file, encoding='utf-8') as f:\n",
    "            print('Load[%d]: %s' % (idx, css_file))\n",
    "            display(HTML((Template(\"<style>$quoted_script</style>\").substitute(quoted_script=f.read()))))\n",
    "            \n",
    "@register_line_cell_magic\n",
    "def load_html(line, cell=\"\"):\n",
    "    for idx, html_file in enumerate(filter(None, line.split() + cell.split())):\n",
    "        with open(html_file, encoding='utf-8') as f:\n",
    "            print('Load[%d]: %s' % (idx, html_file))\n",
    "            display(HTML(f.read()))"
   ]
  },
  {
   "cell_type": "code",
   "execution_count": null,
   "metadata": {
    "ExecuteTime": {
     "end_time": "2019-04-01T16:43:19.762294Z",
     "start_time": "2019-04-01T16:43:18.924Z"
    }
   },
   "outputs": [],
   "source": [
    "%%load_js\n",
    "\n",
    "./js/jquery.sparkline@2.1.2.js"
   ]
  }
 ],
 "metadata": {
  "kernelspec": {
   "display_name": "Python 3",
   "language": "python",
   "name": "python3"
  },
  "language_info": {
   "codemirror_mode": {
    "name": "ipython",
    "version": 3
   },
   "file_extension": ".py",
   "mimetype": "text/x-python",
   "name": "python",
   "nbconvert_exporter": "python",
   "pygments_lexer": "ipython3",
   "version": "3.6.5"
  },
  "toc": {
   "base_numbering": 1,
   "nav_menu": {
    "height": "92px",
    "width": "187px"
   },
   "number_sections": true,
   "sideBar": true,
   "skip_h1_title": false,
   "title_cell": "Table of Contents",
   "title_sidebar": "Contents",
   "toc_cell": false,
   "toc_position": {},
   "toc_section_display": true,
   "toc_window_display": false
  },
  "varInspector": {
   "cols": {
    "lenName": 16,
    "lenType": 16,
    "lenVar": 40
   },
   "kernels_config": {
    "python": {
     "delete_cmd_postfix": "",
     "delete_cmd_prefix": "del ",
     "library": "var_list.py",
     "varRefreshCmd": "print(var_dic_list())"
    },
    "r": {
     "delete_cmd_postfix": ") ",
     "delete_cmd_prefix": "rm(",
     "library": "var_list.r",
     "varRefreshCmd": "cat(var_dic_list()) "
    }
   },
   "types_to_exclude": [
    "module",
    "function",
    "builtin_function_or_method",
    "instance",
    "_Feature"
   ],
   "window_display": false
  }
 },
 "nbformat": 4,
 "nbformat_minor": 2
}
