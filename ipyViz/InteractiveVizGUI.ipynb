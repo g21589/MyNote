{
 "cells": [
  {
   "cell_type": "code",
   "execution_count": null,
   "metadata": {
    "ExecuteTime": {
     "end_time": "2019-01-06T13:57:21.808288Z",
     "start_time": "2019-01-06T13:57:21.799311Z"
    }
   },
   "outputs": [],
   "source": [
    "%%html\n",
    "<script>\n",
    "code_show=true; \n",
    "function code_toggle() {\n",
    "    if (code_show) {\n",
    "        $('div.input').hide(300);\n",
    "    } else {\n",
    "        $('div.input').show(300);\n",
    "    }\n",
    "    code_show = !code_show\n",
    "} \n",
    "$(document).ready(code_toggle);\n",
    "</script>\n",
    "<form action=\"javascript:code_toggle()\">\n",
    "    <input type=\"submit\" value=\"Hide/Show raw code\">\n",
    "</form>"
   ]
  },
  {
   "cell_type": "markdown",
   "metadata": {},
   "source": [
    "# Init"
   ]
  },
  {
   "cell_type": "code",
   "execution_count": null,
   "metadata": {
    "ExecuteTime": {
     "end_time": "2019-01-06T13:57:22.296012Z",
     "start_time": "2019-01-06T13:57:21.809285Z"
    }
   },
   "outputs": [],
   "source": [
    "import numpy as np\n",
    "import pandas as pd\n",
    "from sklearn.datasets import load_iris\n",
    "\n",
    "from IPython.display import display"
   ]
  },
  {
   "cell_type": "markdown",
   "metadata": {},
   "source": [
    "# Test"
   ]
  },
  {
   "cell_type": "code",
   "execution_count": null,
   "metadata": {
    "ExecuteTime": {
     "end_time": "2019-01-06T13:57:22.316986Z",
     "start_time": "2019-01-06T13:57:22.297012Z"
    }
   },
   "outputs": [],
   "source": [
    "data = load_iris()\n",
    "df = pd.DataFrame(data.data, columns=data.feature_names)\n",
    "df.head()"
   ]
  },
  {
   "cell_type": "code",
   "execution_count": null,
   "metadata": {
    "ExecuteTime": {
     "end_time": "2019-01-06T14:02:42.688897Z",
     "start_time": "2019-01-06T14:02:42.671923Z"
    },
    "scrolled": true
   },
   "outputs": [],
   "source": [
    "import lineup_widget\n",
    "\n",
    "lineup_options = {\n",
    "    'rowHeight' : 12\n",
    "}\n",
    "\n",
    "w = lineup_widget.LineUpWidget(df, options=lineup_options)\n",
    "w.on_selection_changed(lambda selection: print(selection))\n",
    "w"
   ]
  },
  {
   "cell_type": "code",
   "execution_count": null,
   "metadata": {
    "ExecuteTime": {
     "end_time": "2019-01-06T14:07:48.097803Z",
     "start_time": "2019-01-06T14:07:48.092845Z"
    }
   },
   "outputs": [],
   "source": [
    "%%html\n",
    "<style>\n",
    ".lu {\n",
    "    font-size: 10px;\n",
    "}\n",
    ".lu-header {\n",
    "    font-size: 11px;\n",
    "}\n",
    ".lu-row {\n",
    "    font-size: 10px;\n",
    "}\n",
    ".lu-toolbar {\n",
    "    font-size: 10px;\n",
    "    padding: 0px;\n",
    "}\n",
    ".lu-summary {\n",
    "    font-size: 9px;\n",
    "}\n",
    ".lu-summary label, .lu-label {\n",
    "    font-size: 10px;\n",
    "}\n",
    ".lu-filter-missing {\n",
    "    font-size: 9px;\n",
    "}\n",
    ".lu-more-options {\n",
    "    font-size: 10px;\n",
    "}\n",
    "</style>"
   ]
  },
  {
   "cell_type": "code",
   "execution_count": null,
   "metadata": {
    "ExecuteTime": {
     "end_time": "2019-01-06T13:57:22.370835Z",
     "start_time": "2019-01-06T13:57:22.348873Z"
    },
    "code_folding": []
   },
   "outputs": [],
   "source": [
    "import ipyaggrid\n",
    "\n",
    "cars = [\n",
    "    {'carName': 'Chevelle', 'origin': 'US', 'make': 'Chevrolet', 'price': 30415},\n",
    "    {'carName': 'Skylark 320', 'origin': 'US', 'make': 'Buick', 'price': 21042},\n",
    "    {'carName': 'PL411', 'origin': 'Asia', 'make': 'Datsun', 'price': 27676}\n",
    "]\n",
    "\n",
    "column_defs = [\n",
    "    {'headerName':'sepal length (cm)', 'field':'sepal length (cm)', 'rowDrag': True, 'checkboxSelection': True},\n",
    "    {'headerName':'sepal width (cm)', 'field':'sepal width (cm)'},\n",
    "    {'headerName':'petal length (cm)', 'field':'petal length (cm)'},\n",
    "    {'headerName':'petal width (cm)', 'field':'petal width (cm)'}\n",
    "]\n",
    "\n",
    "grid_options = {\n",
    "    'columnDefs'           : column_defs,\n",
    "    'headerHeight'         : 24,\n",
    "    'rowHeight'            : 20,\n",
    "    'rowDragManaged'       : True,\n",
    "    'enableSorting'        : True,\n",
    "    'enableFilter'         : True,\n",
    "    'enableColResize'      : True,\n",
    "    'enableRangeSelection' : True,\n",
    "    'animateRows'          : True,\n",
    "    'sideBar'              : 'columns'\n",
    "}\n",
    "\n",
    "custom_css = \"\"\"\n",
    ".ag-theme-balham {\n",
    "    font-size: 10px;\n",
    "}\n",
    ".ag-theme-balham .ag-header-cell, .ag-theme-balham .ag-header-group-cell {\n",
    "    line-height: 24px;\n",
    "}\n",
    ".ag-theme-balham .ag-cell {\n",
    "    line-height: 20px;\n",
    "}\n",
    ".ag-theme-balham .ag-icon-checkbox-unchecked, .ag-theme-balham .ag-icon-checkbox-checked {\n",
    "    background-size: 14px 14px;\n",
    "}\n",
    "\"\"\"\n",
    "\n",
    "g = ipyaggrid.Grid(grid_data=df,\n",
    "         grid_options=grid_options,\n",
    "         show_toggle_edit=False,\n",
    "         sync_on_edit=False,\n",
    "#         export_mode=\"buttons\",\n",
    "         export_csv=False,\n",
    "         export_excel=False,\n",
    "         theme='ag-theme-balham',  #['ag-theme-balham', 'ag-theme-balham-dark', 'ag-theme-material', 'ag-theme-fresh', 'ag-theme-dark', 'ag-theme-blue', 'ag-theme-bootstrap', 'ag-theme-excel']\n",
    "         show_toggle_delete=False,\n",
    "         columns_fit='auto',\n",
    "         index=False,\n",
    "         keep_multiindex=False,\n",
    "         css_rules=custom_css)"
   ]
  },
  {
   "cell_type": "code",
   "execution_count": null,
   "metadata": {
    "ExecuteTime": {
     "end_time": "2019-01-06T13:57:22.376798Z",
     "start_time": "2019-01-06T13:57:22.371812Z"
    }
   },
   "outputs": [],
   "source": [
    "display(g)"
   ]
  },
  {
   "cell_type": "code",
   "execution_count": null,
   "metadata": {
    "ExecuteTime": {
     "end_time": "2019-01-06T13:57:22.386779Z",
     "start_time": "2019-01-06T13:57:22.378793Z"
    }
   },
   "outputs": [],
   "source": [
    "g.get_selected_rows()\n",
    "g.grid_data_out"
   ]
  },
  {
   "cell_type": "markdown",
   "metadata": {
    "ExecuteTime": {
     "end_time": "2018-12-28T15:58:59.833889Z",
     "start_time": "2018-12-28T15:58:59.827906Z"
    }
   },
   "source": [
    "# Simple Widgets"
   ]
  },
  {
   "cell_type": "code",
   "execution_count": null,
   "metadata": {
    "ExecuteTime": {
     "end_time": "2019-01-06T13:57:22.401732Z",
     "start_time": "2019-01-06T13:57:22.388766Z"
    },
    "code_folding": []
   },
   "outputs": [],
   "source": [
    "import ipywidgets as widgets\n",
    "\n",
    "def on_button_clicked(b):\n",
    "    print(\"Button clicked.\")\n",
    "    print(b)\n",
    "\n",
    "button = widgets.Button(description=\"Click Me!\")\n",
    "button.on_click(on_button_clicked)\n",
    "\n",
    "display(button)"
   ]
  },
  {
   "cell_type": "code",
   "execution_count": null,
   "metadata": {
    "ExecuteTime": {
     "end_time": "2019-01-06T13:57:22.434677Z",
     "start_time": "2019-01-06T13:57:22.403727Z"
    }
   },
   "outputs": [],
   "source": [
    "a = widgets.IntSlider(description=\"Delayed\", continuous_update=False)\n",
    "b = widgets.IntText(description=\"Delayed\", continuous_update=False)\n",
    "c = widgets.IntSlider(description=\"Continuous\", continuous_update=True)\n",
    "d = widgets.IntText(description=\"Continuous\", continuous_update=True)\n",
    "\n",
    "widgets.link((a, 'value'), (b, 'value'))\n",
    "widgets.link((a, 'value'), (c, 'value'))\n",
    "widgets.link((a, 'value'), (d, 'value'))\n",
    "aa = widgets.VBox([a,b])\n",
    "bb = widgets.VBox([c,d])\n",
    "html = widgets.HBox([aa, bb])"
   ]
  },
  {
   "cell_type": "code",
   "execution_count": null,
   "metadata": {
    "ExecuteTime": {
     "end_time": "2019-01-06T13:57:22.443628Z",
     "start_time": "2019-01-06T13:57:22.436638Z"
    }
   },
   "outputs": [],
   "source": [
    "display(html)"
   ]
  },
  {
   "cell_type": "code",
   "execution_count": null,
   "metadata": {
    "ExecuteTime": {
     "end_time": "2019-01-06T13:57:22.450601Z",
     "start_time": "2019-01-06T13:57:22.445616Z"
    }
   },
   "outputs": [],
   "source": [
    "#from IPython.core.display import display, HTML\n",
    "#display(HTML(\"<style>.container { width:100% !important; }</style>\"))"
   ]
  },
  {
   "cell_type": "markdown",
   "metadata": {},
   "source": [
    "# Creating custom Jupyter Notebook widgets in Python, HTML, and JavaScript"
   ]
  },
  {
   "cell_type": "code",
   "execution_count": null,
   "metadata": {
    "ExecuteTime": {
     "end_time": "2019-01-06T13:57:22.458580Z",
     "start_time": "2019-01-06T13:57:22.452598Z"
    }
   },
   "outputs": [],
   "source": [
    "import ipywidgets as widgets\n",
    "from traitlets import Unicode, Int, validate"
   ]
  },
  {
   "cell_type": "code",
   "execution_count": null,
   "metadata": {
    "ExecuteTime": {
     "end_time": "2019-01-06T13:57:22.465591Z",
     "start_time": "2019-01-06T13:57:22.460574Z"
    }
   },
   "outputs": [],
   "source": [
    "class CounterWidget(widgets.DOMWidget):\n",
    "    _view_name = Unicode('CounterView').tag(sync=True)\n",
    "    _view_module = Unicode('counter').tag(sync=True)\n",
    "    value = Int(0).tag(sync=True)"
   ]
  },
  {
   "cell_type": "code",
   "execution_count": null,
   "metadata": {
    "ExecuteTime": {
     "end_time": "2019-01-06T13:57:22.475560Z",
     "start_time": "2019-01-06T13:57:22.466559Z"
    }
   },
   "outputs": [],
   "source": [
    "%%javascript\n",
    "// We make sure the `counter` module is defined only once.\n",
    "require.undef('counter');\n",
    "\n",
    "// We define the `counter` module depending on the\n",
    "// Jupyter widgets framework.\n",
    "define('counter', [\"@jupyter-widgets/base\"],\n",
    "       function(widgets) {\n",
    "\n",
    "    // We create the CounterView frontend class,\n",
    "    // deriving from DOMWidgetView.\n",
    "    var CounterView = widgets.DOMWidgetView.extend({\n",
    "\n",
    "        // This method creates the HTML widget.\n",
    "        render: function() {\n",
    "            // The value_changed() method should be\n",
    "            // called when the model's value changes\n",
    "            // on the kernel side.\n",
    "            this.value_changed();\n",
    "            this.model.on('change:value',\n",
    "                          this.value_changed, this);\n",
    "\n",
    "            var model = this.model;\n",
    "            var that = this;\n",
    "\n",
    "            // We create the plus and minus buttons.\n",
    "            this.bm = $('<button/>')\n",
    "            .text('-')\n",
    "            .click(function() {\n",
    "                // When the button is clicked,\n",
    "                // the model's value is updated.\n",
    "                var x = model.get('value');\n",
    "                model.set('value', x - 1);\n",
    "                that.touch();\n",
    "            });\n",
    "\n",
    "            this.bp = $('<button/>')\n",
    "            .text('+')\n",
    "            .click(function() {\n",
    "                var x = model.get('value');\n",
    "                model.set('value', x + 1);\n",
    "                that.touch();\n",
    "            });\n",
    "\n",
    "            // This element displays the current\n",
    "            // value of the counter.\n",
    "            this.span = $('<span />')\n",
    "            .text('0')\n",
    "            .css({marginLeft: '10px',\n",
    "                  marginRight: '10px'});\n",
    "\n",
    "            // this.el represents the widget's DOM\n",
    "            // element. We add the minus button,\n",
    "            // the span element, and the plus button.\n",
    "            $(this.el)\n",
    "            .append(this.bm)\n",
    "            .append(this.span)\n",
    "            .append(this.bp);\n",
    "        },\n",
    "\n",
    "        value_changed: function() {\n",
    "            // Update the displayed number when the\n",
    "            // counter's value changes.\n",
    "            var x = this.model.get('value');\n",
    "            $($(this.el).children()[1]).text(x);\n",
    "        },\n",
    "    });\n",
    "\n",
    "    return {\n",
    "        CounterView : CounterView\n",
    "    };\n",
    "});"
   ]
  },
  {
   "cell_type": "code",
   "execution_count": null,
   "metadata": {
    "ExecuteTime": {
     "end_time": "2019-01-06T13:57:22.489497Z",
     "start_time": "2019-01-06T13:57:22.477529Z"
    }
   },
   "outputs": [],
   "source": [
    "w = CounterWidget()\n",
    "w"
   ]
  },
  {
   "cell_type": "code",
   "execution_count": null,
   "metadata": {
    "ExecuteTime": {
     "end_time": "2019-01-06T13:57:22.496478Z",
     "start_time": "2019-01-06T13:57:22.491492Z"
    }
   },
   "outputs": [],
   "source": [
    "print(w.value)"
   ]
  },
  {
   "cell_type": "markdown",
   "metadata": {},
   "source": [
    "# Plotly"
   ]
  },
  {
   "cell_type": "code",
   "execution_count": null,
   "metadata": {
    "ExecuteTime": {
     "end_time": "2019-01-06T13:57:23.686915Z",
     "start_time": "2019-01-06T13:57:22.498473Z"
    }
   },
   "outputs": [],
   "source": [
    "from plotly.offline import iplot, init_notebook_mode\n",
    "import plotly.graph_objs as go\n",
    "init_notebook_mode()\n",
    "\n",
    "import numpy as np\n",
    "\n",
    "y0 = np.random.randn(50)-1\n",
    "y1 = np.random.randn(50)+1\n",
    "\n",
    "trace0 = go.Box(\n",
    "    y=y0\n",
    ")\n",
    "trace1 = go.Box(\n",
    "    y=y1\n",
    ")\n",
    "data = [trace0, trace1]\n",
    "f2 = go.FigureWidget(data)"
   ]
  },
  {
   "cell_type": "code",
   "execution_count": null,
   "metadata": {
    "ExecuteTime": {
     "end_time": "2019-01-06T13:57:23.701875Z",
     "start_time": "2019-01-06T13:57:23.687912Z"
    }
   },
   "outputs": [],
   "source": [
    "html = widgets.HBox([aa, f2])\n",
    "display(html)"
   ]
  },
  {
   "cell_type": "markdown",
   "metadata": {},
   "source": [
    "# ECharts"
   ]
  },
  {
   "cell_type": "code",
   "execution_count": null,
   "metadata": {
    "ExecuteTime": {
     "end_time": "2019-01-06T13:57:23.871421Z",
     "start_time": "2019-01-06T13:57:23.702872Z"
    },
    "scrolled": false
   },
   "outputs": [],
   "source": [
    "from pyecharts import Bar\n",
    "\n",
    "attr = [\"Jan\", \"Feb\", \"Mar\", \"Apr\", \"May\", \"Jun\", \"Jul\", \"Aug\", \"Sep\", \"Oct\", \"Nov\", \"Dec\"]\n",
    "v1 = [2.0, 4.9, 7.0, 23.2, 25.6, 76.7, 135.6, 162.2, 32.6, 20.0, 6.4, 3.3]\n",
    "v2 = [2.6, 5.9, 9.0, 26.4, 28.7, 70.7, 175.6, 182.2, 48.7, 18.8, 6.0, 2.3]\n",
    "bar = Bar(\"Bar chart\", \"precipitation and evaporation one year\")\n",
    "bar.add(\"precipitation\", attr, v1, mark_line=[\"average\"], mark_point=[\"max\", \"min\"])\n",
    "bar.add(\"evaporation\", attr, v2, mark_line=[\"average\"], mark_point=[\"max\", \"min\"])\n",
    "r"
   ]
  },
  {
   "cell_type": "markdown",
   "metadata": {},
   "source": [
    "<a href=\"123\">123</a>  \n",
    "\n",
    "<button type=\"button\" class=\"btn btn-primary\">Primary</button>\n",
    "<button type=\"button\" class=\"btn btn-secondary\">Secondary</button>\n",
    "<button type=\"button\" class=\"btn btn-success\">Success</button>\n",
    "<button type=\"button\" class=\"btn btn-danger\">Danger</button>\n",
    "<button type=\"button\" class=\"btn btn-warning\">Warning</button>\n",
    "<button type=\"button\" class=\"btn btn-info\">Info</button>\n",
    "<button type=\"button\" class=\"btn btn-light\">Light</button>\n",
    "<button type=\"button\" class=\"btn btn-dark\">Dark</button>\n",
    "<button type=\"button\" class=\"btn btn-link\">Link</button>\n",
    "\n",
    "<form>\n",
    "  <div class=\"form-group\">\n",
    "    <label for=\"exampleInputEmail1\">Email address</label>\n",
    "    <input type=\"email\" class=\"form-control\" id=\"exampleInputEmail1\" aria-describedby=\"emailHelp\" placeholder=\"Enter email\">\n",
    "    <small id=\"emailHelp\" class=\"form-text text-muted\">We'll never share your email with anyone else.</small>\n",
    "  </div>\n",
    "  <div class=\"form-group\">\n",
    "    <label for=\"exampleInputPassword1\">Password</label>\n",
    "    <input type=\"password\" class=\"form-control\" id=\"exampleInputPassword1\" placeholder=\"Password\">\n",
    "  </div>\n",
    "  <div class=\"form-group form-check\">\n",
    "    <input type=\"checkbox\" class=\"form-check-input\" id=\"exampleCheck1\">\n",
    "    <label class=\"form-check-label\" for=\"exampleCheck1\">Check me out</label>\n",
    "  </div>\n",
    "  <button type=\"submit\" class=\"btn btn-primary\">Submit</button>\n",
    "</form>"
   ]
  },
  {
   "cell_type": "markdown",
   "metadata": {
    "ExecuteTime": {
     "end_time": "2019-01-10T15:29:18.341445Z",
     "start_time": "2019-01-10T15:29:18.335461Z"
    }
   },
   "source": [
    "<div id=\"carouselExampleControls\" class=\"carousel slide\" data-ride=\"carousel\">\n",
    "  <div class=\"carousel-inner\">\n",
    "    <div class=\"carousel-item active\">\n",
    "      <img src=\"...\" class=\"d-block w-100\" alt=\"...\">\n",
    "    </div>\n",
    "    <div class=\"carousel-item\">\n",
    "      <img src=\"...\" class=\"d-block w-100\" alt=\"...\">\n",
    "    </div>\n",
    "    <div class=\"carousel-item\">\n",
    "      <img src=\"...\" class=\"d-block w-100\" alt=\"...\">\n",
    "    </div>\n",
    "  </div>\n",
    "  <a class=\"carousel-control-prev\" href=\"#carouselExampleControls\" role=\"button\" data-slide=\"prev\">\n",
    "    <span class=\"carousel-control-prev-icon\" aria-hidden=\"true\"></span>\n",
    "    <span class=\"sr-only\">Previous</span>\n",
    "  </a>\n",
    "  <a class=\"carousel-control-next\" href=\"#carouselExampleControls\" role=\"button\" data-slide=\"next\">\n",
    "    <span class=\"carousel-control-next-icon\" aria-hidden=\"true\"></span>\n",
    "    <span class=\"sr-only\">Next</span>\n",
    "  </a>\n",
    "</div>"
   ]
  }
 ],
 "metadata": {
  "kernelspec": {
   "display_name": "Python 3",
   "language": "python",
   "name": "python3"
  },
  "language_info": {
   "codemirror_mode": {
    "name": "ipython",
    "version": 3
   },
   "file_extension": ".py",
   "mimetype": "text/x-python",
   "name": "python",
   "nbconvert_exporter": "python",
   "pygments_lexer": "ipython3",
   "version": "3.6.5"
  },
  "toc": {
   "base_numbering": 1,
   "nav_menu": {},
   "number_sections": true,
   "sideBar": true,
   "skip_h1_title": false,
   "title_cell": "Table of Contents",
   "title_sidebar": "Contents",
   "toc_cell": false,
   "toc_position": {
    "height": "calc(100% - 180px)",
    "left": "10px",
    "top": "150px",
    "width": "222px"
   },
   "toc_section_display": true,
   "toc_window_display": true
  },
  "varInspector": {
   "cols": {
    "lenName": 16,
    "lenType": 16,
    "lenVar": 40
   },
   "kernels_config": {
    "python": {
     "delete_cmd_postfix": "",
     "delete_cmd_prefix": "del ",
     "library": "var_list.py",
     "varRefreshCmd": "print(var_dic_list())"
    },
    "r": {
     "delete_cmd_postfix": ") ",
     "delete_cmd_prefix": "rm(",
     "library": "var_list.r",
     "varRefreshCmd": "cat(var_dic_list()) "
    }
   },
   "position": {
    "height": "552px",
    "left": "933px",
    "right": "20px",
    "top": "115px",
    "width": "547px"
   },
   "types_to_exclude": [
    "module",
    "function",
    "builtin_function_or_method",
    "instance",
    "_Feature"
   ],
   "window_display": false
  }
 },
 "nbformat": 4,
 "nbformat_minor": 2
}
