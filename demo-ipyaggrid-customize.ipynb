{
 "cells": [
  {
   "cell_type": "markdown",
   "metadata": {},
   "source": [
    "# JS customization"
   ]
  },
  {
   "cell_type": "markdown",
   "metadata": {},
   "source": [
    "Table Of Contents :\n",
    "\n",
    "+ [Custom Buttons](#Building-custom-buttons)\n",
    "+ [Custom JS](#Completely-custom-js)\n",
    "+ [Linking Widgets](#Linking-widgets-together)\n",
    "    - [Watching updates from outside the grid](#Updating-information-in-the-grid-via-outside-widgets)\n",
    "    - [Watching the data of the grid for interactive plotting](#Using-the-interactivity-of-the-grid-outputs-for-interactive-plotings)"
   ]
  },
  {
   "cell_type": "code",
   "execution_count": 1,
   "metadata": {
    "ExecuteTime": {
     "end_time": "2019-01-09T17:41:42.647383Z",
     "start_time": "2019-01-09T17:41:42.355728Z"
    }
   },
   "outputs": [],
   "source": [
    "import os\n",
    "import json\n",
    "import numpy as np\n",
    "import pandas as pd\n",
    "import urllib.request as ur\n",
    "import ipywidgets as widgets\n",
    "from ipyaggrid import Grid\n",
    "from IPython.display import display"
   ]
  },
  {
   "cell_type": "code",
   "execution_count": 2,
   "metadata": {
    "ExecuteTime": {
     "end_time": "2019-01-09T17:41:43.750007Z",
     "start_time": "2019-01-09T17:41:42.647383Z"
    }
   },
   "outputs": [],
   "source": [
    "url = 'https://raw.githubusercontent.com/ag-grid/ag-grid-docs/master/src/olympicWinners.json'\n",
    "with ur.urlopen(url) as res:\n",
    "    data = json.loads(res.read().decode('utf-8'))\n"
   ]
  },
  {
   "cell_type": "markdown",
   "metadata": {},
   "source": [
    "## Building custom buttons"
   ]
  },
  {
   "cell_type": "markdown",
   "metadata": {},
   "source": [
    "Buttons are an easy way to interact with the grid. They can perform many actions on the gridOptions, and many examples of them are already given in [ag-Grid documentation](https://www.ag-grid.com/documentation-main/documentation.php), so that you can test anyfeature you want using their Plunckers (in browsers test environments)."
   ]
  },
  {
   "cell_type": "markdown",
   "metadata": {},
   "source": [
    "This custom button is built using two parameters : the name of the button and the action of the button. The first one will be used to be displayed on the button, and the second one is the body of the function called on click.\n",
    "The code **can use the `gridOptions`** as if they were defined before, and thus access to the `api` and the `columnApi` of ag-Grid.\n",
    "\n",
    "With this custom button, two cells are highlighted if their difference is higher than 50."
   ]
  },
  {
   "cell_type": "code",
   "execution_count": 3,
   "metadata": {
    "ExecuteTime": {
     "end_time": "2019-01-09T17:41:43.954517Z",
     "start_time": "2019-01-09T17:41:43.750991Z"
    }
   },
   "outputs": [
    {
     "data": {
      "application/vnd.jupyter.widget-view+json": {
       "model_id": "f52a86bf1f344d40894ea0854b4944c7",
       "version_major": 2,
       "version_minor": 0
      },
      "text/plain": [
       "Grid(columns_fit='auto', compress_data=True, export_mode='disabled', height='350px', menu={'buttons': [{'name'…"
      ]
     },
     "metadata": {},
     "output_type": "display_data"
    }
   ],
   "source": [
    "columnDefs = [\n",
    "    {'headerName': \"Country\", 'field': \"country\", 'width': 120, 'rowGroup': 'true'},\n",
    "    {'headerName': \"Year\", 'field': \"year\", 'width': 90, 'pivot': 'true', 'enablePivot':True},\n",
    "    {'headerName': \"Sport\", 'field': \"sport\", 'width': 110, 'rowGroup': 'true'},\n",
    "    {'headerName': \"Athlete\", 'field': \"athlete\"},\n",
    "    {'headerName': \"Gold\", 'field': \"gold\", 'width': 100, 'aggFunc': 'sum'},\n",
    "];\n",
    "\n",
    "gridOptions = {\n",
    "    'pivotMode': 'true',\n",
    "    'enableColResize': 'true',\n",
    "    'columnDefs': columnDefs,\n",
    "    'enableFilter':'true',\n",
    "    'enableSorting':'true',\n",
    "    'animateRows':'true',\n",
    "};\n",
    "\n",
    "buttons=[{'name':'Highlight', 'action':\"\"\"\n",
    "        var count = gridOptions.api.getDisplayedRowCount();\n",
    "        for (var i = 0; i<count; i++) {\n",
    "          var rowNode = gridOptions.api.getDisplayedRowAtIndex(i);\n",
    "          if(rowNode.aggData != null && Object.keys(rowNode.aggData).length > 0){\n",
    "        var keys = Object.keys(rowNode.aggData);\n",
    "        var gold = [];\n",
    "        for (var k = 0; k<keys.length; k++){\n",
    "          var j = 2*k + 1;\n",
    "          var prop = \"pivot_\" + j;\n",
    "          if(rowNode.aggData[prop] == null){\n",
    "            rowNode.aggData[prop] = 0;\n",
    "          }\n",
    "          gold[k] = rowNode.aggData[prop];\n",
    "        }\n",
    "        for(var j=0;j<gold.length - 1;j++){\n",
    "          if(Math.abs(gold[j] - gold[j+1]) >= 50){\n",
    "            var column1 = \"pivot_\" + (2*j+1);\n",
    "            var column2 = \"pivot_\" + (2*(j+1)+1);\n",
    "            gridOptions.api.flashCells({rowNodes: [rowNode], columns: [column1, column2] });\n",
    "          }\n",
    "        }}}\"\"\"}]\n",
    "\n",
    "\n",
    "grid1 = Grid(quick_filter=True,\n",
    "             theme='ag-theme-balham',\n",
    "             compress_data=True,\n",
    "             menu={'buttons':buttons},\n",
    "             grid_options=gridOptions,\n",
    "             grid_data=data,\n",
    "             columns_fit=\"auto\")\n",
    "grid1"
   ]
  },
  {
   "cell_type": "markdown",
   "metadata": {},
   "source": [
    "## Completely custom js - Pay attention: <span style=\"color:red\">A lot of tips here</span>"
   ]
  },
  {
   "cell_type": "markdown",
   "metadata": {},
   "source": [
    "The example below shows how to:\n",
    "+ Insert a column computed from the input data\n",
    "+ Set [cell style](https://www.ag-grid.com/javascript-grid-cell-styling/):\n",
    "    + **Age** 30 and above is ahow in red\n",
    "+ Set [cell renderers](https://www.ag-grid.com/javascript-grid-cell-rendering/):\n",
    "    + **Sport** is displayed with a button: Open console to see the data collected upon click\n",
    "    + **Score** is displayed with bar in the background \n",
    "+ Use the [**ag-Grid** context object](https://www.ag-grid.com/javascript-grid-context/) to carry precalculated and grid (as opposed to row) level info\n",
    "+ Use the various JS injection points:\n",
    "    + `js_helpers_custom`: Define a new helper function\n",
    "    + `js_pre_grid`: Enrich ColumnDefs before grid instantiation\n",
    "    + `js_post_grid`: Determine values (`max_score`) and functions (`scale`) from all data\n",
    "    \n",
    "    \n",
    "+ A **score** is calculated from several columns:\n",
    "    + $\\sqrt{\\displaystyle(\\text{3 gold}^2+\\text{2 silver}^2+\\text{1 bronze}^2)}$. \n",
    "    + **Note**: It does not represent any real world value, just a pretext for the background bars. \n"
   ]
  },
  {
   "cell_type": "code",
   "execution_count": 4,
   "metadata": {
    "ExecuteTime": {
     "end_time": "2019-01-09T17:41:44.164934Z",
     "start_time": "2019-01-09T17:41:43.956523Z"
    }
   },
   "outputs": [
    {
     "data": {
      "application/vnd.jupyter.widget-view+json": {
       "model_id": "1be3bb00d0d34e05a83b71991975c68d",
       "version_major": 2,
       "version_minor": 0
      },
      "text/plain": [
       "Grid(columns_fit='size_to_fit', compress_data=True, export_mode='disabled', height='350px', js_helpers_custom=…"
      ]
     },
     "metadata": {},
     "output_type": "display_data"
    }
   ],
   "source": [
    "age_cell_style = \"\"\"\n",
    "function(params) { if (params.value >= 30) { return {color: 'red'}; } }\n",
    "\"\"\"\n",
    "\n",
    "sport_cell_renderer = \"\"\"\n",
    "function (params){\n",
    "    let v = params.value;\n",
    "\n",
    "    function clicked(){\n",
    "        //window.params = params;\n",
    "        let scale = params.api.context.my_data.my_scale;\n",
    "        \n",
    "        console.log('row data:');\n",
    "        console.log(params.data);\n",
    "        console.log('row index:');\n",
    "        console.log(params.rowIndex);\n",
    "        console.log('score:');\n",
    "        console.log(params.data.score);\n",
    "        console.log('max_score (from context):');\n",
    "        console.log(params.api.context.my_data.max_score);\n",
    "    }\n",
    "\n",
    "    let b = document.createElement('button');\n",
    "    b.innerHTML = 'Click';\n",
    "    b.style = \"background-color:bisque; margin:1px 10px 1px 2px;\";\n",
    "    b.title = \"Open console after click\";\n",
    "    b.addEventListener(\"click\", function (){clicked()}, false);\n",
    "    \n",
    "    let d = document.createElement('div');\n",
    "    d.style = 'display: flex';\n",
    "    let d2 = document.createElement('div');\n",
    "    d2.innerHTML = v;\n",
    "    d.appendChild(b);\n",
    "    d.appendChild(d2);\n",
    "\n",
    "    return d;\n",
    "}\n",
    "\"\"\"\n",
    "\n",
    "columnDefs = [\n",
    "    {'headerName': \"Athlete\", 'field': \"athlete\", 'width': 150},\n",
    "    {'headerName': \"Age\", 'field': \"age\", 'width': 90, 'cellStyle': age_cell_style},\n",
    "#     {'headerName': \"Country\", 'field': \"country\", 'width': 120},\n",
    "    {'headerName': \"Year\", 'field': \"year\", 'width': 90},\n",
    "#     {'headerName': \"Date\", 'field': \"date\", 'width': 145},\n",
    "    {'headerName': \"Sport\", 'field': \"sport\", 'width': 180, 'cellRenderer': sport_cell_renderer},\n",
    "    {'headerName': \"Gold\", 'field': \"gold\", 'width': 70},\n",
    "    {'headerName': \"Silver\", 'field': \"silver\", 'width': 75},\n",
    "    {'headerName': \"Bronze\", 'field': \"bronze\", 'width': 85}\n",
    "]\n",
    "\n",
    "js_helpers_custom=\"\"\"\n",
    "helpersCustom = {\n",
    "    formatFloat3: d3.format(',.3f')\n",
    "}\n",
    "\"\"\"\n",
    "\n",
    "js_pre_grid = [\"\"\"\n",
    "window.go = gridOptions;\n",
    "function scoreCellRenderer(params){\n",
    "    window.toto = params;\n",
    "    let v = params.value;\n",
    "    let scale = params.api.context.my_data.my_scale;\n",
    "    window.scale = scale;\n",
    "    let f = scale(v);\n",
    "    let css = `background: linear-gradient(to right, #bcbddc ${f}%, transparent ${f}%); ; flex-grow:2`;\n",
    "    html = `<div style=\"${css}\">${helpers.formatFloat3(v)}</div>`    \n",
    "    return html;\n",
    "}\n",
    "gridOptions.columnDefs.push({'headerName':'Score', field:'score', cellRenderer: scoreCellRenderer});\n",
    "gridData.forEach(dat => {\n",
    "    dat.score = Math.sqrt(Math.pow(3*dat.gold,2)+\n",
    "                          Math.pow(2*dat.silver,2)+\n",
    "                          Math.pow(1*dat.bronze,2))\n",
    "})\n",
    "\"\"\"]\n",
    "\n",
    "js_post_grid = [\"\"\"\n",
    "let arr_score = [];\n",
    "gridOptions.api.forEachNode(node => {arr_score.push(node.data.score)});\n",
    "let max_score = Math.max(...arr_score);\n",
    "let scale = d3.scaleLinear().domain([0, max_score]).range([0, 100])\n",
    "gridOptions.api.context.my_data = {my_scale: scale, max_score: max_score};\n",
    "\"\"\"]\n",
    "\n",
    "grid_options = {\n",
    "    'columnDefs': columnDefs,\n",
    "    'enableFilter': False,\n",
    "    'enableSorting': True,\n",
    "}\n",
    "\n",
    "grid2 = Grid(grid_data = data,\n",
    "            grid_options=grid_options,\n",
    "            js_helpers_custom=js_helpers_custom,\n",
    "            js_pre_grid=js_pre_grid,\n",
    "            js_post_grid=js_post_grid,\n",
    "            export_mode='disabled',\n",
    "            theme='ag-theme-balham')\n",
    "grid2"
   ]
  },
  {
   "cell_type": "markdown",
   "metadata": {},
   "source": [
    "## Linking widgets together"
   ]
  },
  {
   "cell_type": "markdown",
   "metadata": {},
   "source": [
    "### Updating information in the grid via outside widgets"
   ]
  },
  {
   "cell_type": "markdown",
   "metadata": {},
   "source": [
    "This example explains how to use `user_params` with other widget changes to update the effect of some action on the grid. \n",
    "Here we have a JS function highlight that flashes some cells of the grid when clicking one button on certain conditions depending on a parameter. We would like to choose this parameter via a slider.\n",
    "\n",
    "We could of course build this slider directly inside the JS of the grid using the `to_eval` input parameter. However building such JS components can sometimes be very tedious. We would prefer to ***use an ipywidget*** to build it, like the IntSlider.\n",
    "\n"
   ]
  },
  {
   "cell_type": "code",
   "execution_count": 5,
   "metadata": {
    "ExecuteTime": {
     "end_time": "2019-01-09T17:41:44.423263Z",
     "start_time": "2019-01-09T17:41:44.166929Z"
    }
   },
   "outputs": [
    {
     "data": {
      "application/vnd.jupyter.widget-view+json": {
       "model_id": "fd7eccc5947640f9ac7d2b266508b8ba",
       "version_major": 2,
       "version_minor": 0
      },
      "text/plain": [
       "Grid(columns_fit='auto', compress_data=True, export_mode='disabled', height='350px', menu={'buttons': [{'name'…"
      ]
     },
     "metadata": {},
     "output_type": "display_data"
    }
   ],
   "source": [
    "columnDefs = [\n",
    "    {'headerName': \"Country\", 'field': \"country\", 'width': 120, 'rowGroup': 'true'},\n",
    "    {'headerName': \"Year\", 'field': \"year\", 'width': 90, 'pivot': 'true'},\n",
    "    {'headerName': \"Sport\", 'field': \"sport\", 'width': 110, 'rowGroup': 'true'},\n",
    "    {'headerName': \"Athlete\", 'field': \"athlete\"},\n",
    "    {'headerName': \"Gold\", 'field': \"gold\", 'width': 100, 'aggFunc': 'sum'},\n",
    "];\n",
    "\n",
    "gridOptions = {\n",
    "    'pivotMode': 'true',\n",
    "    'enableColResize': 'true',\n",
    "    'columnDefs': columnDefs,\n",
    "    'enableFilter':'true',\n",
    "    'enableSorting':'true',\n",
    "    'animateRows':'true',\n",
    "};\n",
    "\n",
    "buttons=[{'name':'Highlight', 'action':\"\"\"\n",
    "        var count = view.gridOptions.api.getDisplayedRowCount();\n",
    "        for (var i = 0; i<count; i++) {\n",
    "          var rowNode = view.gridOptions.api.getDisplayedRowAtIndex(i);\n",
    "          if(rowNode.aggData != null && Object.keys(rowNode.aggData).length > 0){\n",
    "        var keys = Object.keys(rowNode.aggData);\n",
    "        var gold = [];\n",
    "        for (var k = 0; k<keys.length; k++){\n",
    "          var j = 2*k + 1;\n",
    "          var prop = \"pivot_\" + j;\n",
    "          if(rowNode.aggData[prop] == null){\n",
    "            rowNode.aggData[prop] = 0;\n",
    "          }\n",
    "          gold[k] = rowNode.aggData[prop];\n",
    "        }\n",
    "        for(var j=0;j<gold.length - 1;j++){\n",
    "          // test positive if absolute value of difference of sum of gold medals\n",
    "          // from one olympiad to the next is greater than or equal to sider_value\n",
    "          if(Math.abs(gold[j] - gold[j+1]) >= view.model.get('user_params').slider_value){\n",
    "            var column1 = \"pivot_\" + (2*j+1);\n",
    "            var column2 = \"pivot_\" + (2*(j+1)+1);\n",
    "            view.gridOptions.api.flashCells({rowNodes: [rowNode], columns: [column1, column2] });\n",
    "          }\n",
    "        }}}\"\"\"}]\n",
    "\n",
    "\n",
    "pivot = Grid(quick_filter=True,\n",
    "             theme='ag-theme-balham',\n",
    "             compress_data=True,\n",
    "             menu = {'buttons':buttons},\n",
    "             grid_options=gridOptions,\n",
    "             grid_data=data,\n",
    "             columns_fit=\"auto\",\n",
    "             user_params={'slider_value':50})\n",
    "pivot"
   ]
  },
  {
   "cell_type": "markdown",
   "metadata": {},
   "source": [
    "With this function in `buttons`, two adjacent cells are highlighted if their difference in absolute value is higher than `user_parameter.slider_value`."
   ]
  },
  {
   "cell_type": "code",
   "execution_count": 6,
   "metadata": {
    "ExecuteTime": {
     "end_time": "2019-01-09T17:41:44.433245Z",
     "start_time": "2019-01-09T17:41:44.424240Z"
    }
   },
   "outputs": [],
   "source": [
    "# Setting a simple slider to coordinate its value with the highlight button\n",
    "slider = widgets.IntSlider(\n",
    "    value=50,\n",
    "    min=0,\n",
    "    max=100,\n",
    "    step=1,\n",
    "    description='Highlight Value:',\n",
    "    style={'description_width': 'initial'},\n",
    "    disabled=False,\n",
    "    continuous_update=False,\n",
    "    orientation='horizontal',\n",
    "    readout=True,\n",
    "    readout_format='d'\n",
    ")\n",
    "\n",
    "def on_slider_change(change):\n",
    "    pivot.user_params = {'slider_value': change.new}\n",
    "\n",
    "slider.observe(on_slider_change, names='value')"
   ]
  },
  {
   "cell_type": "markdown",
   "metadata": {},
   "source": [
    "The custom JS function we built uses `view.model.get('user_params')['slider_value']` instead of the regular hardcoded value. As the value of the slider changes, so does the `user_params`, using a simple observe."
   ]
  },
  {
   "cell_type": "code",
   "execution_count": 7,
   "metadata": {
    "ExecuteTime": {
     "end_time": "2019-01-09T17:41:44.445201Z",
     "start_time": "2019-01-09T17:41:44.435212Z"
    }
   },
   "outputs": [
    {
     "data": {
      "application/vnd.jupyter.widget-view+json": {
       "model_id": "48b82efcfcac41599f6cbbaa0183aa03",
       "version_major": 2,
       "version_minor": 0
      },
      "text/plain": [
       "IntSlider(value=50, continuous_update=False, description='Highlight Value:', style=SliderStyle(description_wid…"
      ]
     },
     "metadata": {},
     "output_type": "display_data"
    }
   ],
   "source": [
    "slider"
   ]
  },
  {
   "cell_type": "code",
   "execution_count": 8,
   "metadata": {
    "ExecuteTime": {
     "end_time": "2019-01-09T17:41:44.450189Z",
     "start_time": "2019-01-09T17:41:44.446182Z"
    }
   },
   "outputs": [],
   "source": [
    "# pivot"
   ]
  },
  {
   "cell_type": "markdown",
   "metadata": {},
   "source": [
    "### Using the interactivity of the grid outputs for interactive plotings"
   ]
  },
  {
   "cell_type": "markdown",
   "metadata": {},
   "source": [
    "Let's try to do some kind of opposite situation. We are going to link a dataset displayed by a [bqplot](https://github.com/bloomberg/bqplot) widget, with the output of a grid."
   ]
  },
  {
   "cell_type": "code",
   "execution_count": 9,
   "metadata": {
    "ExecuteTime": {
     "end_time": "2019-01-09T17:41:44.473138Z",
     "start_time": "2019-01-09T17:41:44.452166Z"
    }
   },
   "outputs": [],
   "source": [
    "from bqplot import pyplot as plt\n",
    "from bqplot import (\n",
    "    Axis, ColorAxis, LinearScale, DateScale, DateColorScale, OrdinalScale,\n",
    "    OrdinalColorScale, ColorScale, Scatter, Lines, Figure, Tooltip\n",
    ")"
   ]
  },
  {
   "cell_type": "code",
   "execution_count": 10,
   "metadata": {
    "ExecuteTime": {
     "end_time": "2019-01-09T17:41:44.495080Z",
     "start_time": "2019-01-09T17:41:44.475104Z"
    }
   },
   "outputs": [],
   "source": [
    "# Copy pasted from bqplot scatter documentation\n",
    "price_data = pd.DataFrame(np.cumsum(np.random.randn(150, 2).dot([[1.0, -0.8], [-0.8, 1.0]]), axis=0) + 100,\n",
    "                          columns=['Security 1', 'Security 2'], index=pd.date_range(start='01-01-2007', periods=150))\n",
    "size = 100\n",
    "np.random.seed(0)\n",
    "x_data = range(size)\n",
    "y_data = np.cumsum(np.random.randn(size) * 100.0)\n",
    "ord_keys = np.array(['A', 'B', 'C', 'D', 'E', 'F'])\n",
    "ordinal_data = np.random.randint(5, size=size)\n",
    "symbols = ['Security 1', 'Security 2']\n",
    "\n",
    "dates_all = price_data.index.values\n",
    "dates_all_t = dates_all[1:]\n",
    "sec1_levels = np.array(price_data[symbols[0]].values.flatten())\n",
    "log_sec1 = np.log(sec1_levels)\n",
    "sec1_returns = log_sec1[1:] - log_sec1[:-1]\n",
    "\n",
    "sec2_levels = np.array(price_data[symbols[1]].values.flatten())"
   ]
  },
  {
   "cell_type": "code",
   "execution_count": 11,
   "metadata": {
    "ExecuteTime": {
     "end_time": "2019-01-09T17:41:44.500066Z",
     "start_time": "2019-01-09T17:41:44.496048Z"
    }
   },
   "outputs": [],
   "source": [
    "df = pd.DataFrame({'date':dates_all,'sec_level':sec2_levels})"
   ]
  },
  {
   "cell_type": "markdown",
   "metadata": {},
   "source": [
    "For the grid, we choose button-export to be able to export the entire grid at will, as soon as the data changes because of filtering."
   ]
  },
  {
   "cell_type": "code",
   "execution_count": 12,
   "metadata": {
    "ExecuteTime": {
     "end_time": "2019-01-09T17:41:44.517990Z",
     "start_time": "2019-01-09T17:41:44.502055Z"
    }
   },
   "outputs": [],
   "source": [
    "column_defs = [\n",
    "    {'field':'date', 'headerName':'Date', 'rowDrag': True, 'checkboxSelection': True},\n",
    "    {'field':'sec_level', 'headerName':'Value'}\n",
    "]\n",
    "\n",
    "gridOptions={\n",
    "    'columnDefs'           : column_defs,\n",
    "    'rowDragManaged'       : True,\n",
    "    'enableSorting'        : True,\n",
    "    'enableFilter'         : True,\n",
    "    'enableColResize'      : True,\n",
    "    'enableRangeSelection' : True,\n",
    "    'animateRows'          : True,\n",
    "    'sideBar'              : 'columns'\n",
    "};\n",
    "\n",
    "process_data_grid = Grid(width=600,\n",
    "             quick_filter=True,\n",
    "             export_mode=\"buttons\",\n",
    "             show_toggle_edit=True,\n",
    "             sync_on_edit=True,\n",
    "             theme='ag-theme-balham',\n",
    "             menu={'input_div_css':{'flex-direction':'column', 'flex-wrap':'nowrap'}},\n",
    "             grid_options=gridOptions,\n",
    "             grid_data=df)"
   ]
  },
  {
   "cell_type": "code",
   "execution_count": 13,
   "metadata": {
    "ExecuteTime": {
     "end_time": "2019-01-09T17:41:44.543922Z",
     "start_time": "2019-01-09T17:41:44.519986Z"
    }
   },
   "outputs": [],
   "source": [
    "sc_x = DateScale()\n",
    "sc_y = LinearScale()\n",
    "\n",
    "scatt = Scatter(x=dates_all, y=sec2_levels, scales={'x': sc_x, 'y': sc_y})\n",
    "ax_x = Axis(scale=sc_x, label='Date')\n",
    "ax_y = Axis(scale=sc_y, orientation='vertical', tick_format='0.0f', label='Security 2')"
   ]
  },
  {
   "cell_type": "markdown",
   "metadata": {},
   "source": [
    "Here is the output of the figure :"
   ]
  },
  {
   "cell_type": "code",
   "execution_count": 14,
   "metadata": {
    "ExecuteTime": {
     "end_time": "2019-01-09T17:41:44.558901Z",
     "start_time": "2019-01-09T17:41:44.545915Z"
    }
   },
   "outputs": [
    {
     "data": {
      "application/vnd.jupyter.widget-view+json": {
       "model_id": "bed50dea884549e9899974955dd0d223",
       "version_major": 2,
       "version_minor": 0
      },
      "text/plain": [
       "Figure(axes=[Axis(label='Date', scale=DateScale()), Axis(label='Security 2', orientation='vertical', scale=Lin…"
      ]
     },
     "metadata": {},
     "output_type": "display_data"
    }
   ],
   "source": [
    "Figure(marks=[scatt], axes=[ax_x, ax_y])"
   ]
  },
  {
   "cell_type": "code",
   "execution_count": 15,
   "metadata": {
    "ExecuteTime": {
     "end_time": "2019-01-09T17:41:44.567857Z",
     "start_time": "2019-01-09T17:41:44.559879Z"
    },
    "scrolled": false
   },
   "outputs": [
    {
     "data": {
      "application/vnd.jupyter.widget-view+json": {
       "model_id": "9d2e58aac5b74a108a22fb06cb5796a2",
       "version_major": 2,
       "version_minor": 0
      },
      "text/plain": [
       "Grid(columns_fit='size_to_fit', compress_data=True, export_mode='buttons', height='350px', menu={'buttons': [{…"
      ]
     },
     "metadata": {},
     "output_type": "display_data"
    },
    {
     "name": "stdout",
     "output_type": "stream",
     "text": [
      "on_change_data_out\n",
      "{'name': '_property_lock', 'old': {}, 'new': {'_grid_data_up': <memory at 0x000002646BE117C8>}, 'owner': Grid(columns_fit='size_to_fit', compress_data=True, export_mode='buttons', height='350px', menu={'buttons': [{'name': 'Export Grid', 'action': 'exportFunc.exportGrid(gridOptions, view, parseInt(inputAggregationLevel.value, 10))', 'container_css': '.flex-child-container-export-grid-664742939 {\\norder: 0;\\nalign-self: auto;\\nwidth: 150px;\\nmargin: 5px;\\nflex: 0.00 1.00 auto;\\n}\\n', 'css': '.flex-child-export-grid-664742939 {\\norder: 0;\\nalign-self: auto;\\nflex: 0.00 1.00 auto;\\nfont-size: 12px;\\n}\\n'}, {'name': 'Export Range Data', 'action': 'exportFunc.exportRangeData(gridOptions, view)', 'css': '.flex-child-export-range-data-664742939 {\\norder: 0;\\nalign-self: auto;\\nwidth: 150px;\\nmargin: 5px;\\nflex: 0.00 1.00 auto;\\nfont-size: 12px;\\n}\\n'}, {'name': 'Export Columns', 'action': 'exportFunc.exportColumns(gridOptions, view)', 'css': '.flex-child-export-columns-664742939 {\\norder: 0;\\nalign-self: auto;\\nwidth: 150px;\\nmargin: 5px;\\nflex: 0.00 1.00 auto;\\nfont-size: 12px;\\n}\\n'}, {'name': 'Export Rows', 'action': 'exportFunc.exportRowsOfRange(gridOptions, view)', 'css': '.flex-child-export-rows-664742939 {\\norder: 0;\\nalign-self: auto;\\nwidth: 150px;\\nmargin: 5px;\\nflex: 0.00 1.00 auto;\\nfont-size: 12px;\\n}\\n'}], 'inputs': [{'name': 'Quick Filter', 'css': '.flex-child-quick-filter-664742939 {\\norder: 0;\\nalign-self: auto;\\nmargin: 5px;\\nflex: 0.00 1.00 auto;\\nwidth: 150px;\\n}\\n'}, {'name': 'Toggle Edit', 'css': '.flex-child-toggle-edit-664742939 {\\norder: 0;\\nalign-self: auto;\\nmargin: 5px;\\nflex: 0.00 1.00 auto;\\n}\\n'}], 'button_div_css': '.flex-button-div-664742939 {\\ndisplay: flex;\\njustify-content: flex-start;\\nalign-items: flex-start;\\nalign-content: flex-start;\\nflex-flow: row wrap;\\n}\\n', 'input_div_css': '.flex-input-div-664742939 {\\ndisplay: flex;\\njustify-content: flex-start;\\nalign-items: flex-start;\\nalign-content: flex-start;\\nflex-flow: column nowrap;\\n}\\n', 'menu_div_css': '.flex-menu-div-664742939 {\\ndisplay: flex;\\njustify-content: flex-start;\\nalign-items: flex-start;\\nalign-content: flex-start;\\nflex-flow: row wrap;\\n}\\n'}, show_toggle_edit=True, sync_on_edit=True, theme='ag-theme-balham', width='600px'), 'type': 'change'}\n",
      "on_change_data_out\n",
      "{'name': 'grid_data_out', 'old': {'rows':                       date   sec_level\n",
      "Index                                 \n",
      "30     2007-01-31T00:00:00  103.221575}, 'new': {'counter': 1, 'rows':                       date   sec_level\n",
      "Index                                 \n",
      "30     2007-01-31T00:00:00  103.221575}, 'owner': Grid(columns_fit='size_to_fit', compress_data=True, export_mode='buttons', height='350px', menu={'buttons': [{'name': 'Export Grid', 'action': 'exportFunc.exportGrid(gridOptions, view, parseInt(inputAggregationLevel.value, 10))', 'container_css': '.flex-child-container-export-grid-664742939 {\\norder: 0;\\nalign-self: auto;\\nwidth: 150px;\\nmargin: 5px;\\nflex: 0.00 1.00 auto;\\n}\\n', 'css': '.flex-child-export-grid-664742939 {\\norder: 0;\\nalign-self: auto;\\nflex: 0.00 1.00 auto;\\nfont-size: 12px;\\n}\\n'}, {'name': 'Export Range Data', 'action': 'exportFunc.exportRangeData(gridOptions, view)', 'css': '.flex-child-export-range-data-664742939 {\\norder: 0;\\nalign-self: auto;\\nwidth: 150px;\\nmargin: 5px;\\nflex: 0.00 1.00 auto;\\nfont-size: 12px;\\n}\\n'}, {'name': 'Export Columns', 'action': 'exportFunc.exportColumns(gridOptions, view)', 'css': '.flex-child-export-columns-664742939 {\\norder: 0;\\nalign-self: auto;\\nwidth: 150px;\\nmargin: 5px;\\nflex: 0.00 1.00 auto;\\nfont-size: 12px;\\n}\\n'}, {'name': 'Export Rows', 'action': 'exportFunc.exportRowsOfRange(gridOptions, view)', 'css': '.flex-child-export-rows-664742939 {\\norder: 0;\\nalign-self: auto;\\nwidth: 150px;\\nmargin: 5px;\\nflex: 0.00 1.00 auto;\\nfont-size: 12px;\\n}\\n'}], 'inputs': [{'name': 'Quick Filter', 'css': '.flex-child-quick-filter-664742939 {\\norder: 0;\\nalign-self: auto;\\nmargin: 5px;\\nflex: 0.00 1.00 auto;\\nwidth: 150px;\\n}\\n'}, {'name': 'Toggle Edit', 'css': '.flex-child-toggle-edit-664742939 {\\norder: 0;\\nalign-self: auto;\\nmargin: 5px;\\nflex: 0.00 1.00 auto;\\n}\\n'}], 'button_div_css': '.flex-button-div-664742939 {\\ndisplay: flex;\\njustify-content: flex-start;\\nalign-items: flex-start;\\nalign-content: flex-start;\\nflex-flow: row wrap;\\n}\\n', 'input_div_css': '.flex-input-div-664742939 {\\ndisplay: flex;\\njustify-content: flex-start;\\nalign-items: flex-start;\\nalign-content: flex-start;\\nflex-flow: column nowrap;\\n}\\n', 'menu_div_css': '.flex-menu-div-664742939 {\\ndisplay: flex;\\njustify-content: flex-start;\\nalign-items: flex-start;\\nalign-content: flex-start;\\nflex-flow: row wrap;\\n}\\n'}, show_toggle_edit=True, sync_on_edit=True, theme='ag-theme-balham', width='600px'), 'type': 'change'}\n"
     ]
    },
    {
     "data": {
      "text/html": [
       "<div>\n",
       "<style scoped>\n",
       "    .dataframe tbody tr th:only-of-type {\n",
       "        vertical-align: middle;\n",
       "    }\n",
       "\n",
       "    .dataframe tbody tr th {\n",
       "        vertical-align: top;\n",
       "    }\n",
       "\n",
       "    .dataframe thead th {\n",
       "        text-align: right;\n",
       "    }\n",
       "</style>\n",
       "<table border=\"1\" class=\"dataframe\">\n",
       "  <thead>\n",
       "    <tr style=\"text-align: right;\">\n",
       "      <th></th>\n",
       "      <th>date</th>\n",
       "      <th>sec_level</th>\n",
       "    </tr>\n",
       "    <tr>\n",
       "      <th>Index</th>\n",
       "      <th></th>\n",
       "      <th></th>\n",
       "    </tr>\n",
       "  </thead>\n",
       "  <tbody>\n",
       "    <tr>\n",
       "      <th>30</th>\n",
       "      <td>2007-01-31T00:00:00</td>\n",
       "      <td>103.221575</td>\n",
       "    </tr>\n",
       "  </tbody>\n",
       "</table>\n",
       "</div>"
      ],
      "text/plain": [
       "                      date   sec_level\n",
       "Index                                 \n",
       "30     2007-01-31T00:00:00  103.221575"
      ]
     },
     "metadata": {},
     "output_type": "display_data"
    },
    {
     "name": "stdout",
     "output_type": "stream",
     "text": [
      "on_change_data_out\n",
      "{'name': '_grid_data_up', 'old': {}, 'new': {'rows': {'data': [['2007-01-31T00:00:00', 103.22157504901976]], 'index_rows': {'names': ['Index'], 'values': [[30]]}, 'index_columns': [['date'], ['sec_level']]}}, 'owner': Grid(columns_fit='size_to_fit', compress_data=True, export_mode='buttons', height='350px', menu={'buttons': [{'name': 'Export Grid', 'action': 'exportFunc.exportGrid(gridOptions, view, parseInt(inputAggregationLevel.value, 10))', 'container_css': '.flex-child-container-export-grid-664742939 {\\norder: 0;\\nalign-self: auto;\\nwidth: 150px;\\nmargin: 5px;\\nflex: 0.00 1.00 auto;\\n}\\n', 'css': '.flex-child-export-grid-664742939 {\\norder: 0;\\nalign-self: auto;\\nflex: 0.00 1.00 auto;\\nfont-size: 12px;\\n}\\n'}, {'name': 'Export Range Data', 'action': 'exportFunc.exportRangeData(gridOptions, view)', 'css': '.flex-child-export-range-data-664742939 {\\norder: 0;\\nalign-self: auto;\\nwidth: 150px;\\nmargin: 5px;\\nflex: 0.00 1.00 auto;\\nfont-size: 12px;\\n}\\n'}, {'name': 'Export Columns', 'action': 'exportFunc.exportColumns(gridOptions, view)', 'css': '.flex-child-export-columns-664742939 {\\norder: 0;\\nalign-self: auto;\\nwidth: 150px;\\nmargin: 5px;\\nflex: 0.00 1.00 auto;\\nfont-size: 12px;\\n}\\n'}, {'name': 'Export Rows', 'action': 'exportFunc.exportRowsOfRange(gridOptions, view)', 'css': '.flex-child-export-rows-664742939 {\\norder: 0;\\nalign-self: auto;\\nwidth: 150px;\\nmargin: 5px;\\nflex: 0.00 1.00 auto;\\nfont-size: 12px;\\n}\\n'}], 'inputs': [{'name': 'Quick Filter', 'css': '.flex-child-quick-filter-664742939 {\\norder: 0;\\nalign-self: auto;\\nmargin: 5px;\\nflex: 0.00 1.00 auto;\\nwidth: 150px;\\n}\\n'}, {'name': 'Toggle Edit', 'css': '.flex-child-toggle-edit-664742939 {\\norder: 0;\\nalign-self: auto;\\nmargin: 5px;\\nflex: 0.00 1.00 auto;\\n}\\n'}], 'button_div_css': '.flex-button-div-664742939 {\\ndisplay: flex;\\njustify-content: flex-start;\\nalign-items: flex-start;\\nalign-content: flex-start;\\nflex-flow: row wrap;\\n}\\n', 'input_div_css': '.flex-input-div-664742939 {\\ndisplay: flex;\\njustify-content: flex-start;\\nalign-items: flex-start;\\nalign-content: flex-start;\\nflex-flow: column nowrap;\\n}\\n', 'menu_div_css': '.flex-menu-div-664742939 {\\ndisplay: flex;\\njustify-content: flex-start;\\nalign-items: flex-start;\\nalign-content: flex-start;\\nflex-flow: row wrap;\\n}\\n'}, show_toggle_edit=True, sync_on_edit=True, theme='ag-theme-balham', width='600px'), 'type': 'change'}\n",
      "on_change_data_out\n",
      "{'name': '_property_lock', 'old': {'_grid_data_up': <memory at 0x000002646BE117C8>}, 'new': {}, 'owner': Grid(columns_fit='size_to_fit', compress_data=True, export_mode='buttons', height='350px', menu={'buttons': [{'name': 'Export Grid', 'action': 'exportFunc.exportGrid(gridOptions, view, parseInt(inputAggregationLevel.value, 10))', 'container_css': '.flex-child-container-export-grid-664742939 {\\norder: 0;\\nalign-self: auto;\\nwidth: 150px;\\nmargin: 5px;\\nflex: 0.00 1.00 auto;\\n}\\n', 'css': '.flex-child-export-grid-664742939 {\\norder: 0;\\nalign-self: auto;\\nflex: 0.00 1.00 auto;\\nfont-size: 12px;\\n}\\n'}, {'name': 'Export Range Data', 'action': 'exportFunc.exportRangeData(gridOptions, view)', 'css': '.flex-child-export-range-data-664742939 {\\norder: 0;\\nalign-self: auto;\\nwidth: 150px;\\nmargin: 5px;\\nflex: 0.00 1.00 auto;\\nfont-size: 12px;\\n}\\n'}, {'name': 'Export Columns', 'action': 'exportFunc.exportColumns(gridOptions, view)', 'css': '.flex-child-export-columns-664742939 {\\norder: 0;\\nalign-self: auto;\\nwidth: 150px;\\nmargin: 5px;\\nflex: 0.00 1.00 auto;\\nfont-size: 12px;\\n}\\n'}, {'name': 'Export Rows', 'action': 'exportFunc.exportRowsOfRange(gridOptions, view)', 'css': '.flex-child-export-rows-664742939 {\\norder: 0;\\nalign-self: auto;\\nwidth: 150px;\\nmargin: 5px;\\nflex: 0.00 1.00 auto;\\nfont-size: 12px;\\n}\\n'}], 'inputs': [{'name': 'Quick Filter', 'css': '.flex-child-quick-filter-664742939 {\\norder: 0;\\nalign-self: auto;\\nmargin: 5px;\\nflex: 0.00 1.00 auto;\\nwidth: 150px;\\n}\\n'}, {'name': 'Toggle Edit', 'css': '.flex-child-toggle-edit-664742939 {\\norder: 0;\\nalign-self: auto;\\nmargin: 5px;\\nflex: 0.00 1.00 auto;\\n}\\n'}], 'button_div_css': '.flex-button-div-664742939 {\\ndisplay: flex;\\njustify-content: flex-start;\\nalign-items: flex-start;\\nalign-content: flex-start;\\nflex-flow: row wrap;\\n}\\n', 'input_div_css': '.flex-input-div-664742939 {\\ndisplay: flex;\\njustify-content: flex-start;\\nalign-items: flex-start;\\nalign-content: flex-start;\\nflex-flow: column nowrap;\\n}\\n', 'menu_div_css': '.flex-menu-div-664742939 {\\ndisplay: flex;\\njustify-content: flex-start;\\nalign-items: flex-start;\\nalign-content: flex-start;\\nflex-flow: row wrap;\\n}\\n'}, show_toggle_edit=True, sync_on_edit=True, theme='ag-theme-balham', width='600px'), 'type': 'change'}\n"
     ]
    }
   ],
   "source": [
    "process_data_grid"
   ]
  },
  {
   "cell_type": "markdown",
   "metadata": {},
   "source": [
    "Now let's observe the `grid_data_out` and update the data in the figure as soon as we get the data out. You can try to filter on any value, especially on the second value to eliminate the records that are lower than a certain value for example."
   ]
  },
  {
   "cell_type": "code",
   "execution_count": 16,
   "metadata": {
    "ExecuteTime": {
     "end_time": "2019-01-09T17:41:44.575863Z",
     "start_time": "2019-01-09T17:41:44.569853Z"
    }
   },
   "outputs": [],
   "source": [
    "def on_change_data_out(change):\n",
    "    print('on_change_data_out')\n",
    "    print(change)\n",
    "    try:\n",
    "        #change_df = change['new']['grid']\n",
    "        change_df = change['new']['rows']\n",
    "        display(change_df.head(5))\n",
    "        x = change_df['date'].tolist()\n",
    "        y = change_df['sec_level'].tolist()\n",
    "        x = np.array(x, dtype='datetime64[ns]')\n",
    "        scatt.x = x\n",
    "        scatt.y = y\n",
    "    except:\n",
    "        pass\n",
    "    \n",
    "process_data_grid.observe(on_change_data_out, names='grid_data_out')\n",
    "#process_data_grid.observe(on_change_data_out)"
   ]
  },
  {
   "cell_type": "code",
   "execution_count": 18,
   "metadata": {
    "ExecuteTime": {
     "end_time": "2019-01-09T17:42:22.996975Z",
     "start_time": "2019-01-09T17:42:22.992986Z"
    }
   },
   "outputs": [
    {
     "name": "stdout",
     "output_type": "stream",
     "text": [
      "on_change_data_out\n",
      "{'name': '_counter_update_data', 'old': 1, 'new': 2, 'owner': Grid(columns_fit='size_to_fit', compress_data=True, export_mode='buttons', height='350px', menu={'buttons': [{'name': 'Export Grid', 'action': 'exportFunc.exportGrid(gridOptions, view, parseInt(inputAggregationLevel.value, 10))', 'container_css': '.flex-child-container-export-grid-664742939 {\\norder: 0;\\nalign-self: auto;\\nwidth: 150px;\\nmargin: 5px;\\nflex: 0.00 1.00 auto;\\n}\\n', 'css': '.flex-child-export-grid-664742939 {\\norder: 0;\\nalign-self: auto;\\nflex: 0.00 1.00 auto;\\nfont-size: 12px;\\n}\\n'}, {'name': 'Export Range Data', 'action': 'exportFunc.exportRangeData(gridOptions, view)', 'css': '.flex-child-export-range-data-664742939 {\\norder: 0;\\nalign-self: auto;\\nwidth: 150px;\\nmargin: 5px;\\nflex: 0.00 1.00 auto;\\nfont-size: 12px;\\n}\\n'}, {'name': 'Export Columns', 'action': 'exportFunc.exportColumns(gridOptions, view)', 'css': '.flex-child-export-columns-664742939 {\\norder: 0;\\nalign-self: auto;\\nwidth: 150px;\\nmargin: 5px;\\nflex: 0.00 1.00 auto;\\nfont-size: 12px;\\n}\\n'}, {'name': 'Export Rows', 'action': 'exportFunc.exportRowsOfRange(gridOptions, view)', 'css': '.flex-child-export-rows-664742939 {\\norder: 0;\\nalign-self: auto;\\nwidth: 150px;\\nmargin: 5px;\\nflex: 0.00 1.00 auto;\\nfont-size: 12px;\\n}\\n'}], 'inputs': [{'name': 'Quick Filter', 'css': '.flex-child-quick-filter-664742939 {\\norder: 0;\\nalign-self: auto;\\nmargin: 5px;\\nflex: 0.00 1.00 auto;\\nwidth: 150px;\\n}\\n'}, {'name': 'Toggle Edit', 'css': '.flex-child-toggle-edit-664742939 {\\norder: 0;\\nalign-self: auto;\\nmargin: 5px;\\nflex: 0.00 1.00 auto;\\n}\\n'}], 'button_div_css': '.flex-button-div-664742939 {\\ndisplay: flex;\\njustify-content: flex-start;\\nalign-items: flex-start;\\nalign-content: flex-start;\\nflex-flow: row wrap;\\n}\\n', 'input_div_css': '.flex-input-div-664742939 {\\ndisplay: flex;\\njustify-content: flex-start;\\nalign-items: flex-start;\\nalign-content: flex-start;\\nflex-flow: column nowrap;\\n}\\n', 'menu_div_css': '.flex-menu-div-664742939 {\\ndisplay: flex;\\njustify-content: flex-start;\\nalign-items: flex-start;\\nalign-content: flex-start;\\nflex-flow: row wrap;\\n}\\n'}, show_toggle_edit=True, sync_on_edit=True, theme='ag-theme-balham', width='600px'), 'type': 'change'}\n"
     ]
    }
   ],
   "source": [
    "process_data_grid.get_selected_rows()"
   ]
  }
 ],
 "metadata": {
  "kernelspec": {
   "display_name": "Python 3",
   "language": "python",
   "name": "python3"
  },
  "language_info": {
   "codemirror_mode": {
    "name": "ipython",
    "version": 3
   },
   "file_extension": ".py",
   "mimetype": "text/x-python",
   "name": "python",
   "nbconvert_exporter": "python",
   "pygments_lexer": "ipython3",
   "version": "3.6.5"
  },
  "varInspector": {
   "cols": {
    "lenName": 16,
    "lenType": 16,
    "lenVar": 40
   },
   "kernels_config": {
    "python": {
     "delete_cmd_postfix": "",
     "delete_cmd_prefix": "del ",
     "library": "var_list.py",
     "varRefreshCmd": "print(var_dic_list())"
    },
    "r": {
     "delete_cmd_postfix": ") ",
     "delete_cmd_prefix": "rm(",
     "library": "var_list.r",
     "varRefreshCmd": "cat(var_dic_list()) "
    }
   },
   "types_to_exclude": [
    "module",
    "function",
    "builtin_function_or_method",
    "instance",
    "_Feature"
   ],
   "window_display": false
  }
 },
 "nbformat": 4,
 "nbformat_minor": 2
}
