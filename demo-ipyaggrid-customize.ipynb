{
 "cells": [
  {
   "cell_type": "markdown",
   "metadata": {},
   "source": [
    "# JS customization"
   ]
  },
  {
   "cell_type": "markdown",
   "metadata": {},
   "source": [
    "Table Of Contents :\n",
    "\n",
    "+ [Custom Buttons](#Building-custom-buttons)\n",
    "+ [Custom JS](#Completely-custom-js)\n",
    "+ [Linking Widgets](#Linking-widgets-together)\n",
    "    - [Watching updates from outside the grid](#Updating-information-in-the-grid-via-outside-widgets)\n",
    "    - [Watching the data of the grid for interactive plotting](#Using-the-interactivity-of-the-grid-outputs-for-interactive-plotings)"
   ]
  },
  {
   "cell_type": "code",
   "execution_count": 1,
   "metadata": {
    "ExecuteTime": {
     "end_time": "2019-01-14T16:57:26.745184Z",
     "start_time": "2019-01-14T16:57:26.456128Z"
    }
   },
   "outputs": [],
   "source": [
    "import os\n",
    "import json\n",
    "import numpy as np\n",
    "import pandas as pd\n",
    "import urllib.request as ur\n",
    "import ipywidgets as widgets\n",
    "from ipyaggrid import Grid\n",
    "from IPython.display import display"
   ]
  },
  {
   "cell_type": "code",
   "execution_count": 2,
   "metadata": {
    "ExecuteTime": {
     "end_time": "2019-01-14T16:57:26.776508Z",
     "start_time": "2019-01-14T16:57:26.745184Z"
    }
   },
   "outputs": [],
   "source": [
    "url = 'olympicWinners.json'\n",
    "with open(url, encoding='utf-8') as f:\n",
    "    data = json.loads(f.read())"
   ]
  },
  {
   "cell_type": "code",
   "execution_count": 29,
   "metadata": {
    "ExecuteTime": {
     "end_time": "2019-01-14T17:02:47.421915Z",
     "start_time": "2019-01-14T17:02:47.417900Z"
    },
    "scrolled": true
   },
   "outputs": [],
   "source": [
    "# import sys\n",
    "# import json\n",
    "# from pygments import highlight, lexers, formatters\n",
    "\n",
    "# formatted_json = json.dumps(data, indent=4)\n",
    "# colorful_json = highlight(formatted_json, lexers.JsonLexer(), formatters.TerminalFormatter())\n",
    "# print(formatted_json)"
   ]
  },
  {
   "cell_type": "code",
   "execution_count": 3,
   "metadata": {
    "ExecuteTime": {
     "end_time": "2019-01-14T16:57:26.818970Z",
     "start_time": "2019-01-14T16:57:26.778469Z"
    }
   },
   "outputs": [
    {
     "data": {
      "text/html": [
       "<div>\n",
       "<style scoped>\n",
       "    .dataframe tbody tr th:only-of-type {\n",
       "        vertical-align: middle;\n",
       "    }\n",
       "\n",
       "    .dataframe tbody tr th {\n",
       "        vertical-align: top;\n",
       "    }\n",
       "\n",
       "    .dataframe thead th {\n",
       "        text-align: right;\n",
       "    }\n",
       "</style>\n",
       "<table border=\"1\" class=\"dataframe\">\n",
       "  <thead>\n",
       "    <tr style=\"text-align: right;\">\n",
       "      <th></th>\n",
       "      <th>age</th>\n",
       "      <th>athlete</th>\n",
       "      <th>bronze</th>\n",
       "      <th>country</th>\n",
       "      <th>date</th>\n",
       "      <th>gold</th>\n",
       "      <th>silver</th>\n",
       "      <th>sport</th>\n",
       "      <th>total</th>\n",
       "      <th>year</th>\n",
       "    </tr>\n",
       "  </thead>\n",
       "  <tbody>\n",
       "    <tr>\n",
       "      <th>0</th>\n",
       "      <td>23.0</td>\n",
       "      <td>Michael Phelps</td>\n",
       "      <td>0</td>\n",
       "      <td>United States</td>\n",
       "      <td>24/08/2008</td>\n",
       "      <td>8</td>\n",
       "      <td>0</td>\n",
       "      <td>Swimming</td>\n",
       "      <td>8</td>\n",
       "      <td>2008</td>\n",
       "    </tr>\n",
       "    <tr>\n",
       "      <th>1</th>\n",
       "      <td>19.0</td>\n",
       "      <td>Michael Phelps</td>\n",
       "      <td>2</td>\n",
       "      <td>United States</td>\n",
       "      <td>29/08/2004</td>\n",
       "      <td>6</td>\n",
       "      <td>0</td>\n",
       "      <td>Swimming</td>\n",
       "      <td>8</td>\n",
       "      <td>2004</td>\n",
       "    </tr>\n",
       "    <tr>\n",
       "      <th>2</th>\n",
       "      <td>27.0</td>\n",
       "      <td>Michael Phelps</td>\n",
       "      <td>0</td>\n",
       "      <td>United States</td>\n",
       "      <td>12/08/2012</td>\n",
       "      <td>4</td>\n",
       "      <td>2</td>\n",
       "      <td>Swimming</td>\n",
       "      <td>6</td>\n",
       "      <td>2012</td>\n",
       "    </tr>\n",
       "    <tr>\n",
       "      <th>3</th>\n",
       "      <td>25.0</td>\n",
       "      <td>Natalie Coughlin</td>\n",
       "      <td>3</td>\n",
       "      <td>United States</td>\n",
       "      <td>24/08/2008</td>\n",
       "      <td>1</td>\n",
       "      <td>2</td>\n",
       "      <td>Swimming</td>\n",
       "      <td>6</td>\n",
       "      <td>2008</td>\n",
       "    </tr>\n",
       "    <tr>\n",
       "      <th>4</th>\n",
       "      <td>24.0</td>\n",
       "      <td>Aleksey Nemov</td>\n",
       "      <td>3</td>\n",
       "      <td>Russia</td>\n",
       "      <td>01/10/2000</td>\n",
       "      <td>2</td>\n",
       "      <td>1</td>\n",
       "      <td>Gymnastics</td>\n",
       "      <td>6</td>\n",
       "      <td>2000</td>\n",
       "    </tr>\n",
       "  </tbody>\n",
       "</table>\n",
       "</div>"
      ],
      "text/plain": [
       "    age           athlete  bronze        country        date  gold  silver  \\\n",
       "0  23.0    Michael Phelps       0  United States  24/08/2008     8       0   \n",
       "1  19.0    Michael Phelps       2  United States  29/08/2004     6       0   \n",
       "2  27.0    Michael Phelps       0  United States  12/08/2012     4       2   \n",
       "3  25.0  Natalie Coughlin       3  United States  24/08/2008     1       2   \n",
       "4  24.0     Aleksey Nemov       3         Russia  01/10/2000     2       1   \n",
       "\n",
       "        sport  total  year  \n",
       "0    Swimming      8  2008  \n",
       "1    Swimming      8  2004  \n",
       "2    Swimming      6  2012  \n",
       "3    Swimming      6  2008  \n",
       "4  Gymnastics      6  2000  "
      ]
     },
     "execution_count": 3,
     "metadata": {},
     "output_type": "execute_result"
    }
   ],
   "source": [
    "pd.DataFrame(data).head(5)"
   ]
  },
  {
   "cell_type": "markdown",
   "metadata": {},
   "source": [
    "## Building custom buttons"
   ]
  },
  {
   "cell_type": "markdown",
   "metadata": {},
   "source": [
    "Buttons are an easy way to interact with the grid. They can perform many actions on the gridOptions, and many examples of them are already given in [ag-Grid documentation](https://www.ag-grid.com/documentation-main/documentation.php), so that you can test anyfeature you want using their Plunckers (in browsers test environments)."
   ]
  },
  {
   "cell_type": "markdown",
   "metadata": {},
   "source": [
    "This custom button is built using two parameters : the name of the button and the action of the button. The first one will be used to be displayed on the button, and the second one is the body of the function called on click.\n",
    "The code **can use the `gridOptions`** as if they were defined before, and thus access to the `api` and the `columnApi` of ag-Grid.\n",
    "\n",
    "With this custom button, two cells are highlighted if their difference is higher than 50."
   ]
  },
  {
   "cell_type": "code",
   "execution_count": 4,
   "metadata": {
    "ExecuteTime": {
     "end_time": "2019-01-14T16:57:27.029394Z",
     "start_time": "2019-01-14T16:57:26.820939Z"
    }
   },
   "outputs": [
    {
     "data": {
      "application/vnd.jupyter.widget-view+json": {
       "model_id": "abad5a7fa9a74ab6ba8db396a3c25629",
       "version_major": 2,
       "version_minor": 0
      },
      "text/plain": [
       "Grid(columns_fit='auto', compress_data=True, export_mode='disabled', height='350px', menu={'buttons': [{'name'…"
      ]
     },
     "metadata": {},
     "output_type": "display_data"
    }
   ],
   "source": [
    "columnDefs = [\n",
    "    {'headerName': \"Country\", 'field': \"country\", 'width': 120, 'rowGroup': 'true'},\n",
    "    {'headerName': \"Year\", 'field': \"year\", 'width': 90, 'pivot': 'true', 'enablePivot':True},\n",
    "    {'headerName': \"Sport\", 'field': \"sport\", 'width': 110, 'rowGroup': 'true'},\n",
    "    {'headerName': \"Athlete\", 'field': \"athlete\"},\n",
    "    {'headerName': \"Gold\", 'field': \"gold\", 'width': 100, 'aggFunc': 'sum'},\n",
    "];\n",
    "\n",
    "gridOptions = {\n",
    "    'pivotMode': 'true',\n",
    "    'enableColResize': 'true',\n",
    "    'columnDefs': columnDefs,\n",
    "    'enableFilter':'true',\n",
    "    'enableSorting':'true',\n",
    "    'animateRows':'true',\n",
    "};\n",
    "\n",
    "buttons=[{'name':'Highlight', 'action':\"\"\"\n",
    "        var count = gridOptions.api.getDisplayedRowCount();\n",
    "        for (var i = 0; i<count; i++) {\n",
    "          var rowNode = gridOptions.api.getDisplayedRowAtIndex(i);\n",
    "          if(rowNode.aggData != null && Object.keys(rowNode.aggData).length > 0){\n",
    "        var keys = Object.keys(rowNode.aggData);\n",
    "        var gold = [];\n",
    "        for (var k = 0; k<keys.length; k++){\n",
    "          var j = 2*k + 1;\n",
    "          var prop = \"pivot_\" + j;\n",
    "          if(rowNode.aggData[prop] == null){\n",
    "            rowNode.aggData[prop] = 0;\n",
    "          }\n",
    "          gold[k] = rowNode.aggData[prop];\n",
    "        }\n",
    "        for(var j=0;j<gold.length - 1;j++){\n",
    "          if(Math.abs(gold[j] - gold[j+1]) >= 50){\n",
    "            var column1 = \"pivot_\" + (2*j+1);\n",
    "            var column2 = \"pivot_\" + (2*(j+1)+1);\n",
    "            gridOptions.api.flashCells({rowNodes: [rowNode], columns: [column1, column2] });\n",
    "          }\n",
    "        }}}\"\"\"}]\n",
    "\n",
    "\n",
    "grid1 = Grid(quick_filter=True,\n",
    "             theme='ag-theme-balham',\n",
    "             compress_data=True,\n",
    "             menu={'buttons':buttons},\n",
    "             grid_options=gridOptions,\n",
    "             grid_data=data,\n",
    "             columns_fit=\"auto\")\n",
    "grid1"
   ]
  },
  {
   "cell_type": "markdown",
   "metadata": {},
   "source": [
    "## Completely custom js - Pay attention: <span style=\"color:red\">A lot of tips here</span>"
   ]
  },
  {
   "cell_type": "markdown",
   "metadata": {},
   "source": [
    "The example below shows how to:\n",
    "+ Insert a column computed from the input data\n",
    "+ Set [cell style](https://www.ag-grid.com/javascript-grid-cell-styling/):\n",
    "    + **Age** 30 and above is ahow in red\n",
    "+ Set [cell renderers](https://www.ag-grid.com/javascript-grid-cell-rendering/):\n",
    "    + **Sport** is displayed with a button: Open console to see the data collected upon click\n",
    "    + **Score** is displayed with bar in the background \n",
    "+ Use the [**ag-Grid** context object](https://www.ag-grid.com/javascript-grid-context/) to carry precalculated and grid (as opposed to row) level info\n",
    "+ Use the various JS injection points:\n",
    "    + `js_helpers_custom`: Define a new helper function\n",
    "    + `js_pre_grid`: Enrich ColumnDefs before grid instantiation\n",
    "    + `js_post_grid`: Determine values (`max_score`) and functions (`scale`) from all data\n",
    "    \n",
    "    \n",
    "+ A **score** is calculated from several columns:\n",
    "    + $\\sqrt{\\displaystyle(\\text{3 gold}^2+\\text{2 silver}^2+\\text{1 bronze}^2)}$. \n",
    "    + **Note**: It does not represent any real world value, just a pretext for the background bars. \n"
   ]
  },
  {
   "cell_type": "code",
   "execution_count": 5,
   "metadata": {
    "ExecuteTime": {
     "end_time": "2019-01-14T16:57:27.036363Z",
     "start_time": "2019-01-14T16:57:27.031403Z"
    }
   },
   "outputs": [
    {
     "data": {
      "application/javascript": [
       "\n",
       "require.config({\n",
       "    paths: {\n",
       "        plotly: \"https://cdn.plot.ly/plotly-latest.min\"\n",
       "    }\n",
       "});"
      ],
      "text/plain": [
       "<IPython.core.display.Javascript object>"
      ]
     },
     "metadata": {},
     "output_type": "display_data"
    }
   ],
   "source": [
    "%%javascript\n",
    "\n",
    "require.config({\n",
    "    paths: {\n",
    "        plotly: \"https://cdn.plot.ly/plotly-latest.min\"\n",
    "    }\n",
    "});"
   ]
  },
  {
   "cell_type": "code",
   "execution_count": 98,
   "metadata": {
    "ExecuteTime": {
     "end_time": "2019-01-14T17:39:18.085188Z",
     "start_time": "2019-01-14T17:39:17.860893Z"
    },
    "scrolled": false
   },
   "outputs": [],
   "source": [
    "age_cell_style = \"\"\"\n",
    "function(params) { if (params.value >= 30) { return {color: 'red'}; } }\n",
    "\"\"\"\n",
    "\n",
    "sport_cell_renderer = \"\"\"\n",
    "function (params) {\n",
    "    try {\n",
    "        let v = params.value;\n",
    "\n",
    "        function clicked() {\n",
    "            //window.params = params;\n",
    "            let scale = params.api.context.data_info['score'].scale;\n",
    "\n",
    "            console.log('row data:');\n",
    "            console.log(params.data);\n",
    "            console.log('row index:');\n",
    "            console.log(params.rowIndex);\n",
    "            console.log('score:');\n",
    "            console.log(params.data.score);\n",
    "            console.log('max_score (from context):');\n",
    "            console.log(params.api.context.data_info['score'].max_v);\n",
    "        }\n",
    "\n",
    "        let b = document.createElement('button');\n",
    "        b.innerHTML = 'Click';\n",
    "        b.className = 'btn btn-success btn-xs';\n",
    "        b.style = \"margin: 1px 10px 1px 2px;\";\n",
    "        b.title = \"Open console after click\";\n",
    "        b.addEventListener(\"click\", function (){clicked()}, false);\n",
    "\n",
    "        let d = document.createElement('div');\n",
    "        d.style = 'display: flex';\n",
    "        let d2 = document.createElement('div');\n",
    "        d2.innerHTML = v;\n",
    "        d.appendChild(b);\n",
    "        d.appendChild(d2);\n",
    "\n",
    "        return d;\n",
    "    } catch(e) {\n",
    "        return params.value;\n",
    "    }\n",
    "}\n",
    "\"\"\"\n",
    "\n",
    "# gold_cell_renderer = \"\"\"\n",
    "# function (params) {\n",
    "#     let v = params.value;\n",
    "#     let scale = params.api.context.data_info['gold'].scale;\n",
    "#     let f = scale(v);\n",
    "#     let css = `\n",
    "#         background: linear-gradient(to right, #e0a800 ${f}%, transparent ${f}%); \n",
    "#         flex-grow: 2\n",
    "#     `;\n",
    "#     html = `<div style=\"${css}\">${v}</div>`;\n",
    "#     return html;\n",
    "# }\n",
    "# \"\"\"\n",
    "\n",
    "columnDefs = [\n",
    "    {\n",
    "        'headerName': \"Athlete\", 'field': \"athlete\", 'width': 150, 'enableRowGroup': True, \n",
    "        'enablePivot': True, 'rowDrag': True, 'checkboxSelection': True\n",
    "    },\n",
    "    {\n",
    "        'headerName': \"Age\", 'field': \"age\", 'width': 90, 'enableRowGroup': True, \n",
    "        'enablePivot': True, 'cellStyle': age_cell_style, 'pinnedRowCellRenderer': 'customPinnedRowRenderer'\n",
    "    },\n",
    "#     {'headerName': \"Country\", 'field': \"country\", 'width': 120},\n",
    "    {\n",
    "        'headerName': \"Year\", 'field': \"year\", 'width': 90, 'enableRowGroup': True, 'enablePivot': True\n",
    "    },\n",
    "#     {'headerName': \"Date\", 'field': \"date\", 'width': 145},\n",
    "    {\n",
    "        'headerName': \"Sport\", 'field': \"sport\", 'width': 180, 'enableRowGroup': True, 'enablePivot': True, 'cellRenderer': sport_cell_renderer\n",
    "    },\n",
    "#    {'headerName': \"Gold\", 'field': \"gold\", 'width': 70},\n",
    "    {\n",
    "        'headerName': \"Silver\", 'field': \"silver\", 'width': 75, 'enableRowGroup': True, \n",
    "        'enablePivot': True, 'enableValue' : True, 'allowedAggFuncs': ['sum','min','max'], 'pinnedRowCellRenderer': 'customPinnedRowRenderer'\n",
    "    },\n",
    "    {\n",
    "        'headerName': \"Bronze\", 'field': \"bronze\", 'width': 85, 'enableRowGroup': True, \n",
    "        'enablePivot': True, 'enableValue' : True, 'allowedAggFuncs': ['sum','min','max'], 'pinnedRowCellRenderer': 'customPinnedRowRenderer'\n",
    "    }\n",
    "]\n",
    "\n",
    "# JS injection\n",
    "# Ref: https://gitlab.com/DGothrek/ipyaggrid/blob/master/js/src/widget_builder.js#L61\n",
    "js_helpers_custom=\"\"\"\n",
    "helpersCustom = {\n",
    "    formatFloat3: d3.format(',.3f')\n",
    "}\n",
    "\"\"\"\n",
    "\n",
    "# JS injection\n",
    "# Ref: https://gitlab.com/DGothrek/ipyaggrid/blob/master/js/src/widget_builder.js#L103\n",
    "js_pre_grid = [\"\"\"\n",
    "function goldCellRenderer(params) {\n",
    "    try {\n",
    "        let v = params.value;\n",
    "        let scale = params.api.context.data_info['gold'].scale;\n",
    "        let f = scale(v);\n",
    "        let css = `\n",
    "            background: linear-gradient(to right, #e0a800 ${f}%, transparent ${f}%); \n",
    "            flex-grow: 2\n",
    "        `;\n",
    "        html = `<div style=\"${css}\">${v}</div>`;\n",
    "    } catch (e) {\n",
    "        html = ''\n",
    "    }\n",
    "    return html;\n",
    "}\n",
    "\n",
    "function scoreCellRenderer(params) {\n",
    "    try {\n",
    "        let v = params.value;\n",
    "        let scale = params.api.context.data_info['score'].scale;\n",
    "        let f = scale(v);\n",
    "        let css = `\n",
    "            background: linear-gradient(to right, #e0a800 ${f}%, transparent ${f}%); \n",
    "            flex-grow: 2\n",
    "        `;\n",
    "        html = `<div style=\"${css}\">${v.toFixed(2)}</div>`\n",
    "    } catch (e) {\n",
    "        html = ''\n",
    "    }\n",
    "    return html;\n",
    "}\n",
    "\n",
    "function CustomPinnedRowRenderer () {}\n",
    "CustomPinnedRowRenderer.prototype.init = function(params) {\n",
    "    \n",
    "    let div_wrap = document.createElement('div');\n",
    "    div_wrap.id = 'AAA'\n",
    "    div_wrap.style = 'width:80px; height:30px;'\n",
    "    \n",
    "    require(['plotly'], function(Plotly) {\n",
    "        \n",
    "        let trace1 = {\n",
    "            x: params.value,\n",
    "            type: 'box',\n",
    "            name: 'Data',\n",
    "            marker: {\n",
    "              size: 1\n",
    "            },\n",
    "            line: {\n",
    "              width: 1\n",
    "            }\n",
    "        };\n",
    "\n",
    "        let data = [trace1];\n",
    "\n",
    "        let layout = {\n",
    "            width: 60,\n",
    "            height: 30,\n",
    "            margin: {\n",
    "                l: 0, r: 0, b: 0, t: 0, pad: 0\n",
    "            },\n",
    "            xaxis: {\n",
    "                showgrid: false,\n",
    "                zeroline: false\n",
    "            },\n",
    "            hoverlabel: {\n",
    "                font: {\n",
    "                    size: 6\n",
    "                }\n",
    "            },\n",
    "            paper_bgcolor: 'rgba(0,0,0,0)',\n",
    "            plot_bgcolor: 'rgba(0,0,0,0)',\n",
    "            showlegend: false\n",
    "        };\n",
    "\n",
    "        Plotly.newPlot(div_wrap, data, layout, {showSendToCloud: false, displayModeBar: false});\n",
    "\n",
    "    });\n",
    "    \n",
    "    this.eGui = div_wrap;\n",
    "    this.eGui.style = params.style;\n",
    "    //this.eGui.innerHTML = params.value;\n",
    "    //console.log(params);\n",
    "};\n",
    "CustomPinnedRowRenderer.prototype.getGui = function() {\n",
    "    return this.eGui;\n",
    "};\n",
    "\n",
    "gridData.forEach(dat => {\n",
    "    dat.score = Math.sqrt(Math.pow(3*dat.gold,2) + Math.pow(2*dat.silver,2) + Math.pow(1*dat.bronze,2))\n",
    "})\n",
    "\n",
    "function gen_array(col_name) {\n",
    "    let arr = [];\n",
    "    gridData.forEach(dat => {arr.push(dat[col_name])});\n",
    "    return arr;\n",
    "}\n",
    "\n",
    "gridOptions.columnDefs.push({'headerName': \"Gold\", 'field': \"gold\", 'width': 70, cellRenderer: goldCellRenderer, pinnedRowCellRenderer: 'customPinnedRowRenderer'});\n",
    "gridOptions.columnDefs.push({'headerName':'Score', field:'score', cellRenderer: scoreCellRenderer, pinnedRowCellRenderer: 'customPinnedRowRenderer'});\n",
    "gridOptions.pinnedTopRowData = [{\n",
    "    age: gen_array('age'),\n",
    "    year: gen_array('year'),\n",
    "    sport: gen_array('sport'),\n",
    "    gold: gen_array('gold'),\n",
    "    silver: gen_array('silver'),\n",
    "    bronze: gen_array('bronze'),\n",
    "    score: gen_array('score')\n",
    "}];\n",
    "gridOptions['components'] = {\n",
    "    customPinnedRowRenderer: CustomPinnedRowRenderer\n",
    "}\n",
    "gridOptions.getRowHeight = function(params) {\n",
    "    if (params.node.rowPinned) {\n",
    "        return 32;\n",
    "    } else {\n",
    "        return 26;\n",
    "    }\n",
    "}\n",
    "\"\"\"]\n",
    "\n",
    "# JS injection\n",
    "# Ref: https://gitlab.com/DGothrek/ipyaggrid/blob/master/js/src/widget_builder.js#L121\n",
    "js_post_grid = [\"\"\"\n",
    "window.go = gridOptions;\n",
    "\n",
    "function getDataInfo(col_name) {\n",
    "    let arr_score = [], min_v = 0, max_v = 0, scale = 0;\n",
    "\n",
    "    gridOptions.api.forEachNode(node => {arr_score.push(node.data[col_name])});\n",
    "    [min_v, max_v] = d3.extent(arr_score);\n",
    "    scale = d3.scaleLinear().domain([min_v, max_v]).range([0, 100]);\n",
    "    \n",
    "    return {scale: scale, min_v: min_v, max_v: max_v};\n",
    "}\n",
    "\n",
    "gridOptions.api.context.data_info = {\n",
    "    'gold'  : getDataInfo('gold'),\n",
    "    'score' : getDataInfo('score')\n",
    "};\n",
    "\n",
    "console.info(gridOptions.api.context.data_info);\n",
    "\"\"\"]\n",
    "\n",
    "grid_options = {\n",
    "    'columnDefs'           : columnDefs,\n",
    "    'rowDragManaged'       : True,\n",
    "    'enableSorting'        : True,\n",
    "    'enableFilter'         : True,\n",
    "    'enableColResize'      : True,\n",
    "    'enableRangeSelection' : True,\n",
    "    'animateRows'          : True,\n",
    "    'rowGroupPanelShow'    : 'always',\n",
    "    'sideBar'              : ['columns', 'filters'],\n",
    "    'statusBar'            : {\n",
    "        'statusPanels': [\n",
    "            { 'statusPanel': 'agTotalRowCountComponent', 'align': 'left' },\n",
    "            { 'statusPanel': 'agFilteredRowCountComponent' },\n",
    "            { 'statusPanel': 'agSelectedRowCountComponent' },\n",
    "            { 'statusPanel': 'agAggregationComponent' }\n",
    "        ]\n",
    "    }\n",
    "}\n",
    "\n",
    "grid2 = Grid(grid_data = data,\n",
    "            grid_options=grid_options,\n",
    "            js_helpers_custom=js_helpers_custom,\n",
    "            js_pre_grid=js_pre_grid,\n",
    "            js_post_grid=js_post_grid,\n",
    "            export_mode='disabled',\n",
    "            theme='ag-theme-balham')"
   ]
  },
  {
   "cell_type": "code",
   "execution_count": 119,
   "metadata": {
    "ExecuteTime": {
     "end_time": "2019-01-14T17:51:52.225897Z",
     "start_time": "2019-01-14T17:51:52.219910Z"
    },
    "scrolled": true
   },
   "outputs": [],
   "source": [
    "out = widgets.Output(layout={'border': '1px solid black'})"
   ]
  },
  {
   "cell_type": "code",
   "execution_count": 117,
   "metadata": {
    "ExecuteTime": {
     "end_time": "2019-01-14T17:51:15.295607Z",
     "start_time": "2019-01-14T17:51:15.228797Z"
    }
   },
   "outputs": [],
   "source": [
    "from ipywidgets import Button, GridBox, Layout, ButtonStyle\n",
    "\n",
    "header  = Button(description='Header',\n",
    "                 layout=Layout(width='auto', grid_area='header'),\n",
    "                 style=ButtonStyle(button_color='lightblue'))\n",
    "main    = Button(description='Main',\n",
    "                 layout=Layout(width='auto', grid_area='main'),\n",
    "                 style=ButtonStyle(button_color='moccasin'))\n",
    "sidebar = Button(description='Sidebar',\n",
    "                 layout=Layout(width='auto', grid_area='sidebar'),\n",
    "                 style=ButtonStyle(button_color='salmon'))\n",
    "footer  = Button(description='Footer',\n",
    "                 layout=Layout(width='auto', grid_area='footer'),\n",
    "                 style=ButtonStyle(button_color='olive'))\n",
    "\n",
    "left_box = GridBox(children=[header, main, sidebar, footer],\n",
    "        layout=Layout(\n",
    "            width='50%',\n",
    "            grid_template_rows='auto auto auto',\n",
    "            grid_template_columns='25% 25% 25% 25%',\n",
    "            grid_template_areas='''\n",
    "                \"header header header header\"\n",
    "                \"main main . sidebar \"\n",
    "                \"footer footer footer footer\"\n",
    "            ''')\n",
    "       )\n",
    "\n",
    "right_box = GridBox(children=[Button(layout=Layout(width='auto', height='auto'),\n",
    "                         style=ButtonStyle(button_color='darkseagreen')) for i in range(9)\n",
    "                 ],\n",
    "        layout=Layout(\n",
    "            width='50%',\n",
    "            grid_template_columns='100px 50px 100px',\n",
    "            grid_template_rows='80px auto 80px',\n",
    "            grid_gap='5px 10px')\n",
    "       )\n",
    "\n",
    "p3 = widgets.HBox([left_box, right_box, right_box])"
   ]
  },
  {
   "cell_type": "code",
   "execution_count": 130,
   "metadata": {
    "ExecuteTime": {
     "end_time": "2019-01-14T18:02:14.353772Z",
     "start_time": "2019-01-14T18:02:14.329863Z"
    }
   },
   "outputs": [
    {
     "data": {
      "application/vnd.jupyter.widget-view+json": {
       "model_id": "987c166fd11140f48cdc95761425247d",
       "version_major": 2,
       "version_minor": 0
      },
      "text/plain": [
       "Tab(children=(Grid(columns_fit='size_to_fit', compress_data=True, export_mode='disabled', height='350px', js_h…"
      ]
     },
     "metadata": {},
     "output_type": "display_data"
    }
   ],
   "source": [
    "tab = widgets.Tab(icons=['check'] * 3)\n",
    "tab.children = [grid2, out, p3]\n",
    "tab.set_title(0, 'DataViewer')\n",
    "tab.set_title(1, 'Log')\n",
    "tab.set_title(2, 'Layout')\n",
    "\n",
    "tab"
   ]
  },
  {
   "cell_type": "code",
   "execution_count": 33,
   "metadata": {
    "ExecuteTime": {
     "end_time": "2019-01-14T17:08:46.057164Z",
     "start_time": "2019-01-14T17:08:46.051205Z"
    }
   },
   "outputs": [],
   "source": [
    "#out.clear_output()"
   ]
  },
  {
   "cell_type": "code",
   "execution_count": 101,
   "metadata": {
    "ExecuteTime": {
     "end_time": "2019-01-14T17:39:26.298343Z",
     "start_time": "2019-01-14T17:39:26.296174Z"
    }
   },
   "outputs": [],
   "source": [
    "@out.capture()\n",
    "def on_change_data_out_grid2(change):\n",
    "    print('on_change_data_out')\n",
    "    #print(change)\n",
    "    try:\n",
    "        #change_df = change['new']['grid']\n",
    "        change_df = change['new']['rows']\n",
    "        display(change_df.head(5))\n",
    "    except:\n",
    "        pass\n",
    "    \n",
    "grid2.observe(on_change_data_out_grid2, names='grid_data_out')"
   ]
  },
  {
   "cell_type": "code",
   "execution_count": 106,
   "metadata": {
    "ExecuteTime": {
     "end_time": "2019-01-14T17:39:46.832996Z",
     "start_time": "2019-01-14T17:39:46.829036Z"
    }
   },
   "outputs": [],
   "source": [
    "grid2.get_selected_rows()"
   ]
  },
  {
   "cell_type": "code",
   "execution_count": null,
   "metadata": {
    "ExecuteTime": {
     "end_time": "2019-01-14T17:49:46.906882Z",
     "start_time": "2019-01-14T17:49:46.812117Z"
    }
   },
   "outputs": [],
   "source": []
  },
  {
   "cell_type": "markdown",
   "metadata": {},
   "source": [
    "## Linking widgets together"
   ]
  },
  {
   "cell_type": "markdown",
   "metadata": {},
   "source": [
    "### Updating information in the grid via outside widgets"
   ]
  },
  {
   "cell_type": "markdown",
   "metadata": {},
   "source": [
    "This example explains how to use `user_params` with other widget changes to update the effect of some action on the grid. \n",
    "Here we have a JS function highlight that flashes some cells of the grid when clicking one button on certain conditions depending on a parameter. We would like to choose this parameter via a slider.\n",
    "\n",
    "We could of course build this slider directly inside the JS of the grid using the `to_eval` input parameter. However building such JS components can sometimes be very tedious. We would prefer to ***use an ipywidget*** to build it, like the IntSlider.\n",
    "\n"
   ]
  },
  {
   "cell_type": "code",
   "execution_count": 10,
   "metadata": {
    "ExecuteTime": {
     "end_time": "2019-01-14T16:57:27.542038Z",
     "start_time": "2019-01-14T16:57:27.328580Z"
    }
   },
   "outputs": [
    {
     "data": {
      "application/vnd.jupyter.widget-view+json": {
       "model_id": "5c6b6d3306c54b22a7e4f589ba709509",
       "version_major": 2,
       "version_minor": 0
      },
      "text/plain": [
       "Grid(columns_fit='auto', compress_data=True, export_mode='disabled', height='350px', menu={'buttons': [{'name'…"
      ]
     },
     "metadata": {},
     "output_type": "display_data"
    }
   ],
   "source": [
    "columnDefs = [\n",
    "    {'headerName': \"Country\", 'field': \"country\", 'width': 120, 'rowGroup': 'true'},\n",
    "    {'headerName': \"Year\", 'field': \"year\", 'width': 90, 'pivot': 'true'},\n",
    "    {'headerName': \"Sport\", 'field': \"sport\", 'width': 110, 'rowGroup': 'true'},\n",
    "    {'headerName': \"Athlete\", 'field': \"athlete\"},\n",
    "    {'headerName': \"Gold\", 'field': \"gold\", 'width': 100, 'aggFunc': 'sum'},\n",
    "];\n",
    "\n",
    "gridOptions = {\n",
    "    'pivotMode': 'true',\n",
    "    'enableColResize': 'true',\n",
    "    'columnDefs': columnDefs,\n",
    "    'enableFilter':'true',\n",
    "    'enableSorting':'true',\n",
    "    'animateRows':'true',\n",
    "};\n",
    "\n",
    "buttons=[{'name':'Highlight', 'action':\"\"\"\n",
    "        var count = view.gridOptions.api.getDisplayedRowCount();\n",
    "        for (var i = 0; i<count; i++) {\n",
    "          var rowNode = view.gridOptions.api.getDisplayedRowAtIndex(i);\n",
    "          if(rowNode.aggData != null && Object.keys(rowNode.aggData).length > 0){\n",
    "        var keys = Object.keys(rowNode.aggData);\n",
    "        var gold = [];\n",
    "        for (var k = 0; k<keys.length; k++){\n",
    "          var j = 2*k + 1;\n",
    "          var prop = \"pivot_\" + j;\n",
    "          if(rowNode.aggData[prop] == null){\n",
    "            rowNode.aggData[prop] = 0;\n",
    "          }\n",
    "          gold[k] = rowNode.aggData[prop];\n",
    "        }\n",
    "        for(var j=0;j<gold.length - 1;j++){\n",
    "          // test positive if absolute value of difference of sum of gold medals\n",
    "          // from one olympiad to the next is greater than or equal to sider_value\n",
    "          if(Math.abs(gold[j] - gold[j+1]) >= view.model.get('user_params').slider_value){\n",
    "            var column1 = \"pivot_\" + (2*j+1);\n",
    "            var column2 = \"pivot_\" + (2*(j+1)+1);\n",
    "            view.gridOptions.api.flashCells({rowNodes: [rowNode], columns: [column1, column2] });\n",
    "          }\n",
    "        }}}\"\"\"}]\n",
    "\n",
    "\n",
    "pivot = Grid(quick_filter=True,\n",
    "             theme='ag-theme-balham',\n",
    "             compress_data=True,\n",
    "             menu = {'buttons':buttons},\n",
    "             grid_options=gridOptions,\n",
    "             grid_data=data,\n",
    "             columns_fit=\"auto\",\n",
    "             user_params={'slider_value':50})\n",
    "pivot"
   ]
  },
  {
   "cell_type": "markdown",
   "metadata": {},
   "source": [
    "With this function in `buttons`, two adjacent cells are highlighted if their difference in absolute value is higher than `user_parameter.slider_value`."
   ]
  },
  {
   "cell_type": "code",
   "execution_count": 11,
   "metadata": {
    "ExecuteTime": {
     "end_time": "2019-01-14T16:57:27.556971Z",
     "start_time": "2019-01-14T16:57:27.544015Z"
    }
   },
   "outputs": [],
   "source": [
    "# Setting a simple slider to coordinate its value with the highlight button\n",
    "slider = widgets.IntSlider(\n",
    "    value=50,\n",
    "    min=0,\n",
    "    max=100,\n",
    "    step=1,\n",
    "    description='Highlight Value:',\n",
    "    style={'description_width': 'initial'},\n",
    "    disabled=False,\n",
    "    continuous_update=False,\n",
    "    orientation='horizontal',\n",
    "    readout=True,\n",
    "    readout_format='d'\n",
    ")\n",
    "\n",
    "def on_slider_change(change):\n",
    "    pivot.user_params = {'slider_value': change.new}\n",
    "\n",
    "slider.observe(on_slider_change, names='value')"
   ]
  },
  {
   "cell_type": "markdown",
   "metadata": {},
   "source": [
    "The custom JS function we built uses `view.model.get('user_params')['slider_value']` instead of the regular hardcoded value. As the value of the slider changes, so does the `user_params`, using a simple observe."
   ]
  },
  {
   "cell_type": "code",
   "execution_count": 12,
   "metadata": {
    "ExecuteTime": {
     "end_time": "2019-01-14T16:57:27.565970Z",
     "start_time": "2019-01-14T16:57:27.558967Z"
    }
   },
   "outputs": [
    {
     "data": {
      "application/vnd.jupyter.widget-view+json": {
       "model_id": "4f5f0975382144268f43037e82701590",
       "version_major": 2,
       "version_minor": 0
      },
      "text/plain": [
       "IntSlider(value=50, continuous_update=False, description='Highlight Value:', style=SliderStyle(description_wid…"
      ]
     },
     "metadata": {},
     "output_type": "display_data"
    }
   ],
   "source": [
    "slider"
   ]
  },
  {
   "cell_type": "code",
   "execution_count": 13,
   "metadata": {
    "ExecuteTime": {
     "end_time": "2019-01-14T16:57:27.574923Z",
     "start_time": "2019-01-14T16:57:27.567941Z"
    }
   },
   "outputs": [],
   "source": [
    "# pivot"
   ]
  },
  {
   "cell_type": "markdown",
   "metadata": {},
   "source": [
    "### Using the interactivity of the grid outputs for interactive plotings"
   ]
  },
  {
   "cell_type": "markdown",
   "metadata": {},
   "source": [
    "Let's try to do some kind of opposite situation. We are going to link a dataset displayed by a [bqplot](https://github.com/bloomberg/bqplot) widget, with the output of a grid."
   ]
  },
  {
   "cell_type": "code",
   "execution_count": 14,
   "metadata": {
    "ExecuteTime": {
     "end_time": "2019-01-14T16:57:27.598859Z",
     "start_time": "2019-01-14T16:57:27.575925Z"
    }
   },
   "outputs": [],
   "source": [
    "from bqplot import pyplot as plt\n",
    "from bqplot import (\n",
    "    Axis, ColorAxis, LinearScale, DateScale, DateColorScale, OrdinalScale,\n",
    "    OrdinalColorScale, ColorScale, Scatter, Lines, Figure, Tooltip\n",
    ")"
   ]
  },
  {
   "cell_type": "code",
   "execution_count": 15,
   "metadata": {
    "ExecuteTime": {
     "end_time": "2019-01-14T16:57:27.613820Z",
     "start_time": "2019-01-14T16:57:27.600854Z"
    }
   },
   "outputs": [],
   "source": [
    "# Copy pasted from bqplot scatter documentation\n",
    "price_data = pd.DataFrame(np.cumsum(np.random.randn(150, 2).dot([[1.0, -0.8], [-0.8, 1.0]]), axis=0) + 100,\n",
    "                          columns=['Security 1', 'Security 2'], index=pd.date_range(start='01-01-2007', periods=150))\n",
    "size = 100\n",
    "np.random.seed(0)\n",
    "x_data = range(size)\n",
    "y_data = np.cumsum(np.random.randn(size) * 100.0)\n",
    "ord_keys = np.array(['A', 'B', 'C', 'D', 'E', 'F'])\n",
    "ordinal_data = np.random.randint(5, size=size)\n",
    "symbols = ['Security 1', 'Security 2']\n",
    "\n",
    "dates_all = price_data.index.values\n",
    "dates_all_t = dates_all[1:]\n",
    "sec1_levels = np.array(price_data[symbols[0]].values.flatten())\n",
    "log_sec1 = np.log(sec1_levels)\n",
    "sec1_returns = log_sec1[1:] - log_sec1[:-1]\n",
    "\n",
    "sec2_levels = np.array(price_data[symbols[1]].values.flatten())"
   ]
  },
  {
   "cell_type": "code",
   "execution_count": 16,
   "metadata": {
    "ExecuteTime": {
     "end_time": "2019-01-14T16:57:27.619822Z",
     "start_time": "2019-01-14T16:57:27.615813Z"
    }
   },
   "outputs": [],
   "source": [
    "df = pd.DataFrame({'date':dates_all,'sec_level':sec2_levels})"
   ]
  },
  {
   "cell_type": "markdown",
   "metadata": {},
   "source": [
    "For the grid, we choose button-export to be able to export the entire grid at will, as soon as the data changes because of filtering."
   ]
  },
  {
   "cell_type": "code",
   "execution_count": 17,
   "metadata": {
    "ExecuteTime": {
     "end_time": "2019-01-14T16:57:27.637754Z",
     "start_time": "2019-01-14T16:57:27.621798Z"
    }
   },
   "outputs": [],
   "source": [
    "column_defs = [\n",
    "    {'field':'date', 'headerName':'Date', 'rowDrag': True, 'checkboxSelection': True},\n",
    "    {'field':'sec_level', 'headerName':'Value'}\n",
    "]\n",
    "\n",
    "gridOptions={\n",
    "    'columnDefs'           : column_defs,\n",
    "    'rowDragManaged'       : True,\n",
    "    'enableSorting'        : True,\n",
    "    'enableFilter'         : True,\n",
    "    'enableColResize'      : True,\n",
    "    'enableRangeSelection' : True,\n",
    "    'animateRows'          : True,\n",
    "    'sideBar'              : 'columns'\n",
    "};\n",
    "\n",
    "process_data_grid = Grid(width=600,\n",
    "             quick_filter=True,\n",
    "             export_mode=\"buttons\",\n",
    "             show_toggle_edit=True,\n",
    "             sync_on_edit=True,\n",
    "             theme='ag-theme-balham',\n",
    "             menu={'input_div_css':{'flex-direction':'column', 'flex-wrap':'nowrap'}},\n",
    "             grid_options=gridOptions,\n",
    "             grid_data=df)"
   ]
  },
  {
   "cell_type": "code",
   "execution_count": 18,
   "metadata": {
    "ExecuteTime": {
     "end_time": "2019-01-14T16:57:27.667673Z",
     "start_time": "2019-01-14T16:57:27.639749Z"
    }
   },
   "outputs": [],
   "source": [
    "sc_x = DateScale()\n",
    "sc_y = LinearScale()\n",
    "\n",
    "scatt = Scatter(x=dates_all, y=sec2_levels, scales={'x': sc_x, 'y': sc_y})\n",
    "ax_x = Axis(scale=sc_x, label='Date')\n",
    "ax_y = Axis(scale=sc_y, orientation='vertical', tick_format='0.0f', label='Security 2')"
   ]
  },
  {
   "cell_type": "markdown",
   "metadata": {},
   "source": [
    "Here is the output of the figure :"
   ]
  },
  {
   "cell_type": "code",
   "execution_count": 19,
   "metadata": {
    "ExecuteTime": {
     "end_time": "2019-01-14T16:57:27.682633Z",
     "start_time": "2019-01-14T16:57:27.668671Z"
    }
   },
   "outputs": [
    {
     "data": {
      "application/vnd.jupyter.widget-view+json": {
       "model_id": "590e3f669176478a8070c38c8841c34a",
       "version_major": 2,
       "version_minor": 0
      },
      "text/plain": [
       "Figure(axes=[Axis(label='Date', scale=DateScale()), Axis(label='Security 2', orientation='vertical', scale=Lin…"
      ]
     },
     "metadata": {},
     "output_type": "display_data"
    }
   ],
   "source": [
    "Figure(marks=[scatt], axes=[ax_x, ax_y])"
   ]
  },
  {
   "cell_type": "code",
   "execution_count": 20,
   "metadata": {
    "ExecuteTime": {
     "end_time": "2019-01-14T16:57:27.691610Z",
     "start_time": "2019-01-14T16:57:27.684629Z"
    },
    "scrolled": false
   },
   "outputs": [
    {
     "data": {
      "application/vnd.jupyter.widget-view+json": {
       "model_id": "cf7cc23806424f519056007aa1bf1dfc",
       "version_major": 2,
       "version_minor": 0
      },
      "text/plain": [
       "Grid(columns_fit='size_to_fit', compress_data=True, export_mode='buttons', height='350px', menu={'buttons': [{…"
      ]
     },
     "metadata": {},
     "output_type": "display_data"
    }
   ],
   "source": [
    "process_data_grid"
   ]
  },
  {
   "cell_type": "markdown",
   "metadata": {},
   "source": [
    "Now let's observe the `grid_data_out` and update the data in the figure as soon as we get the data out. You can try to filter on any value, especially on the second value to eliminate the records that are lower than a certain value for example."
   ]
  },
  {
   "cell_type": "code",
   "execution_count": 21,
   "metadata": {
    "ExecuteTime": {
     "end_time": "2019-01-14T16:57:27.699589Z",
     "start_time": "2019-01-14T16:57:27.692608Z"
    }
   },
   "outputs": [],
   "source": [
    "def on_change_data_out(change):\n",
    "    print('on_change_data_out')\n",
    "    print(change)\n",
    "    print('XXX')\n",
    "    try:\n",
    "        #change_df = change['new']['grid']\n",
    "        change_df = change['new']['rows']\n",
    "        display(change_df.head(5))\n",
    "        x = change_df['date'].tolist()\n",
    "        y = change_df['sec_level'].tolist()\n",
    "        x = np.array(x, dtype='datetime64[ns]')\n",
    "        scatt.x = x\n",
    "        scatt.y = y\n",
    "    except:\n",
    "        pass\n",
    "    \n",
    "process_data_grid.observe(on_change_data_out, names='grid_data_out')\n",
    "#process_data_grid.observe(on_change_data_out)"
   ]
  },
  {
   "cell_type": "code",
   "execution_count": 22,
   "metadata": {
    "ExecuteTime": {
     "end_time": "2019-01-14T16:57:27.708566Z",
     "start_time": "2019-01-14T16:57:27.700587Z"
    }
   },
   "outputs": [],
   "source": [
    "process_data_grid.get_selected_rows()"
   ]
  },
  {
   "cell_type": "code",
   "execution_count": null,
   "metadata": {},
   "outputs": [],
   "source": []
  },
  {
   "cell_type": "code",
   "execution_count": null,
   "metadata": {
    "ExecuteTime": {
     "end_time": "2019-01-13T11:03:33.676972Z",
     "start_time": "2019-01-13T11:03:33.671021Z"
    }
   },
   "outputs": [],
   "source": []
  }
 ],
 "metadata": {
  "kernelspec": {
   "display_name": "Python 3",
   "language": "python",
   "name": "python3"
  },
  "language_info": {
   "codemirror_mode": {
    "name": "ipython",
    "version": 3
   },
   "file_extension": ".py",
   "mimetype": "text/x-python",
   "name": "python",
   "nbconvert_exporter": "python",
   "pygments_lexer": "ipython3",
   "version": "3.6.5"
  },
  "toc": {
   "base_numbering": 1,
   "nav_menu": {
    "height": "92px",
    "width": "187px"
   },
   "number_sections": true,
   "sideBar": true,
   "skip_h1_title": false,
   "title_cell": "Table of Contents",
   "title_sidebar": "Contents",
   "toc_cell": false,
   "toc_position": {},
   "toc_section_display": true,
   "toc_window_display": true
  },
  "varInspector": {
   "cols": {
    "lenName": 16,
    "lenType": 16,
    "lenVar": 40
   },
   "kernels_config": {
    "python": {
     "delete_cmd_postfix": "",
     "delete_cmd_prefix": "del ",
     "library": "var_list.py",
     "varRefreshCmd": "print(var_dic_list())"
    },
    "r": {
     "delete_cmd_postfix": ") ",
     "delete_cmd_prefix": "rm(",
     "library": "var_list.r",
     "varRefreshCmd": "cat(var_dic_list()) "
    }
   },
   "types_to_exclude": [
    "module",
    "function",
    "builtin_function_or_method",
    "instance",
    "_Feature"
   ],
   "window_display": false
  }
 },
 "nbformat": 4,
 "nbformat_minor": 2
}
